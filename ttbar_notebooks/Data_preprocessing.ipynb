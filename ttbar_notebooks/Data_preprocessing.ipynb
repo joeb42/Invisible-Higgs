{
 "cells": [
  {
   "cell_type": "code",
   "execution_count": 1,
   "metadata": {},
   "outputs": [],
   "source": [
    "import pandas as pd\n",
    "import numpy as np\n",
    "from sklearn.preprocessing import StandardScaler\n",
    "from sklearn.model_selection import train_test_split\n",
    "\n",
    "def get_data(dataset):\n",
    "    \"\"\"Read hd5 data files to pandas df\"\"\"\n",
    "    path = f'/storage/bk17414/ForStudents/2021_CMS_ML/ml_postproc/{dataset}/df_ml_inputs.hd5'\n",
    "    return pd.read_hdf(path)\n",
    "\n",
    "def preprocess(signal, background, columns, train_size=0.8):\n",
    "    # Labels\n",
    "    background['signal'] = 0.0\n",
    "    signal['signal'] = 1.0\n",
    "    # Combine signal and background\n",
    "    data = pd.concat([background, signal], ignore_index=True)\n",
    "    # separate features from labels\n",
    "    X, y = data[columns], data['signal']\n",
    "    # Train test split\n",
    "    X_train, X_test, y_train, y_test = train_test_split(X, y, train_size=train_size, stratify=y, random_state=42)\n",
    "    # Feature scaling\n",
    "    scaler = StandardScaler()\n",
    "    X_train_scaled = scaler.fit_transform(X_train)\n",
    "    X_test_scaled = scaler.transform(X_test)\n",
    "    return np.array([X_train_scaled, X_test_scaled, y_train, y_test])\n"
   ]
  },
  {
   "cell_type": "code",
   "execution_count": 2,
   "metadata": {},
   "outputs": [
    {
     "data": {
      "text/plain": [
       "Index(['dataset', 'entry', 'BiasedDPhi', 'DiJet_mass', 'HT',\n",
       "       'InputMet_InputJet_mindPhi', 'InputMet_phi', 'InputMet_pt', 'MHT_phi',\n",
       "       'MHT_pt', 'MinChi', 'MinOmegaHat', 'MinOmegaTilde', 'cleanedJet_area',\n",
       "       'cleanedJet_btagDeepB', 'cleanedJet_chHEF', 'cleanedJet_eta',\n",
       "       'cleanedJet_mass', 'cleanedJet_neHEF', 'cleanedJet_phi',\n",
       "       'cleanedJet_pt', 'hashed_filename', 'ncleanedBJet', 'ncleanedJet',\n",
       "       'weight_nominal', 'xs_weight'],\n",
       "      dtype='object')"
      ]
     },
     "execution_count": 2,
     "metadata": {},
     "output_type": "execute_result"
    }
   ],
   "source": [
    "test = get_data('ttH125')\n",
    "test.columns"
   ]
  },
  {
   "cell_type": "code",
   "execution_count": 3,
   "metadata": {},
   "outputs": [
    {
     "data": {
      "text/plain": [
       "dataset                                                                 ttH125\n",
       "entry                                                                      103\n",
       "BiasedDPhi                                                           -3.033725\n",
       "DiJet_mass                                                          216.669163\n",
       "HT                                                                  483.973785\n",
       "InputMet_InputJet_mindPhi                                             0.987305\n",
       "InputMet_phi                                                         -2.919922\n",
       "InputMet_pt                                                             267.75\n",
       "MHT_phi                                                              -2.735934\n",
       "MHT_pt                                                              229.776886\n",
       "MinChi                                                                1.249071\n",
       "MinOmegaHat                                                           1.091516\n",
       "MinOmegaTilde                                                          1.05451\n",
       "cleanedJet_area              [0.4987793, 0.47875977, 0.48876953, 0.5288086,...\n",
       "cleanedJet_btagDeepB         [0.97802734, 0.33422852, 0.02458191, 0.0200500...\n",
       "cleanedJet_chHEF             [0.35546875, 0.796875, 0.8671875, 0.859375, 0....\n",
       "cleanedJet_eta               [-0.5136719, -1.28125, 0.26879883, -1.6660156,...\n",
       "cleanedJet_mass              [11.96875, 15.8828125, 11.5078125, 9.828125, 1...\n",
       "cleanedJet_neHEF             [0.028564453, 0.07128906, 0.0, 0.115234375, 0....\n",
       "cleanedJet_phi               [1.5625, -0.8076172, -0.095336914, -1.9335938,...\n",
       "cleanedJet_pt                [119.41433, 97.01097, 75.79268, 55.064026, 55....\n",
       "hashed_filename                                            4949183082763752099\n",
       "ncleanedBJet                                                                 3\n",
       "ncleanedJet                                                                  7\n",
       "weight_nominal                                                             0.0\n",
       "xs_weight                                                                  0.0\n",
       "Name: 0, dtype: object"
      ]
     },
     "execution_count": 3,
     "metadata": {},
     "output_type": "execute_result"
    }
   ],
   "source": [
    "import matplotlib.pyplot as plt\n",
    "\n",
    "event = test.iloc[0,:]\n",
    "event\n",
    "# jet_image = np.zero((30,30))\n"
   ]
  },
  {
   "cell_type": "code",
   "execution_count": 4,
   "metadata": {},
   "outputs": [
    {
     "name": "stderr",
     "output_type": "stream",
     "text": [
      "/software/ac18804/miniconda3/envs/ml_env/lib/python3.7/site-packages/ipykernel_launcher.py:25: VisibleDeprecationWarning: Creating an ndarray from ragged nested sequences (which is a list-or-tuple of lists-or-tuples-or ndarrays with different lengths or shapes) is deprecated. If you meant to do this, you must specify 'dtype=object' when creating the ndarray\n"
     ]
    }
   ],
   "source": [
    "columns = ['ncleanedBJet', 'ncleanedJet', 'DiJet_mass', 'HT', 'MHT_pt', 'InputMet_pt', \n",
    "'InputMet_InputJet_mindPhi', 'BiasedDPhi', 'MinChi', 'MinOmegaHat', 'MinOmegaTilde']\n",
    "data = preprocess(get_data('ttH125'), get_data('TTToSemiLeptonic'), columns)"
   ]
  },
  {
   "cell_type": "code",
   "execution_count": 5,
   "metadata": {},
   "outputs": [
    {
     "data": {
      "text/plain": [
       "'/usersc/ac18804/ttbar_notebooks'"
      ]
     },
     "execution_count": 5,
     "metadata": {},
     "output_type": "execute_result"
    }
   ],
   "source": [
    "import os\n",
    "\n",
    "os.getcwd()"
   ]
  },
  {
   "cell_type": "code",
   "execution_count": 6,
   "metadata": {},
   "outputs": [],
   "source": [
    "np.save('SL_Higgs_input_data', data)"
   ]
  }
 ],
 "metadata": {
  "interpreter": {
   "hash": "8a9bcf4578ca583988d8fd57bf5761e33ef08b8742bd2dbd7fdfe8318e87ce13"
  },
  "kernelspec": {
   "display_name": "Python 3.7.11 64-bit ('ml_env': conda)",
   "language": "python",
   "name": "python3"
  },
  "language_info": {
   "codemirror_mode": {
    "name": "ipython",
    "version": 3
   },
   "file_extension": ".py",
   "mimetype": "text/x-python",
   "name": "python",
   "nbconvert_exporter": "python",
   "pygments_lexer": "ipython3",
   "version": "3.7.11"
  },
  "orig_nbformat": 4
 },
 "nbformat": 4,
 "nbformat_minor": 2
}
