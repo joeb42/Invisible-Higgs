{
 "cells": [
  {
   "cell_type": "code",
   "execution_count": 1,
   "metadata": {},
   "outputs": [],
   "source": [
    "import pandas as pd\n",
    "import numpy as np\n",
    "from sklearn.preprocessing import StandardScaler, RobustScaler\n",
    "from sklearn.model_selection import train_test_split\n",
    "\n",
    "def get_data(dataset):\n",
    "    \"\"\"Read hd5 data files to pandas df\"\"\"\n",
    "    path = f'/storage/bk17414/ForStudents/2021_CMS_ML/ml_postproc/{dataset}/df_ml_inputs.hd5'\n",
    "    return pd.read_hdf(path)\n",
    "\n",
    "def get_obj_features(data):\n",
    "    # Feature engineering\n",
    "    object_cols = ['cleanedJet_eta', 'cleanedJet_mass', 'cleanedJet_neHEF', 'cleanedJet_phi', 'cleanedJet_pt', 'cleanedJet_chHEF', 'cleanedJet_area']\n",
    "    # dict of names\n",
    "    names = {0:'Leading', 1:'Secondary', 2:'Third', 3:'Fourth'}\n",
    "    for col in object_cols:\n",
    "        for jet in range(4):\n",
    "            name = f'{names[jet]} {col}'\n",
    "            data[name] = data.apply(lambda x:x[col][jet] if jet < x['ncleanedJet'] else None, axis=1)\n",
    "    return data\n",
    "\n",
    "def preprocess(train_size=0.8):\n",
    "    datasets = ['ttH125', 'TTToSemiLeptonic', 'TTToHadronic', 'TTTo2L2Nu']\n",
    "    # Combine datasets\n",
    "    data = pd.concat([get_data(dataset) for dataset in datasets], ignore_index=True)\n",
    "    # Labels (make individual columns of ones and zeros for each category)\n",
    "    labels = pd.get_dummies(data['dataset'])\n",
    "    # data = data.join(labels)\n",
    "    # separate features from labels\n",
    "    X, y = data.drop(['weight_nominal', 'entry', 'hashed_filename', 'MHT_phi', 'InputMet_phi', 'dataset'], axis=1), labels\n",
    "    # Fix BiasedDPhi\n",
    "    X['BiasedDPhi'] = X['BiasedDPhi'].map(lambda x: x+np.pi if x < 0 else x)\n",
    "    # Train test split\n",
    "    X_train, X_test, y_train, y_test = train_test_split(X, y, train_size=train_size, stratify=y, random_state=42)\n",
    "    weights = [X_train['xs_weight'], X_test['xs_weight']]\n",
    "    X_train, X_test = X_train.drop('xs_weight', axis=1), X_test.drop('xs_weight', axis=1)\n",
    "    # Save non scaled train and test for analysis\n",
    "    # X_train.to_hdf(\"./X_train_combined.hd5\", key=\"train\")\n",
    "    # X_test.to_hdf(\"./X_test_combined.hd5\", key=\"test\")\n",
    "    # Feature scaling for event level variables\n",
    "    X_train_event, X_test_event = X_train.select_dtypes(exclude=object), X_test.select_dtypes(exclude=object)\n",
    "    event_scaler = StandardScaler()\n",
    "    X_train_event_scaled = event_scaler.fit_transform(X_train_event)\n",
    "    X_test_event_scaled = event_scaler.transform(X_test_event)\n",
    "    # Get object level data\n",
    "    X_train_obj, X_test_obj = get_object_data(X_train.select_dtypes(object), 14), get_object_data(X_test.select_dtypes(object), 14)\n",
    "    object_scaler = StandardScaler()\n",
    "    nz_train, nz_test = np.any(X_train_obj, -1), np.any(X_test_obj, -1)\n",
    "    X_train_obj[nz_train] = object_scaler.fit_transform(X_train_obj[nz_train])\n",
    "    X_test_obj[nz_test] = object_scaler.transform(X_test_obj[nz_test])\n",
    "    np.nan_to_num(X_train_obj, copy=False, nan=0)\n",
    "    np.nan_to_num(X_test_obj, copy=False, nan=0)\n",
    "    return np.array([X_train_event_scaled, X_test_event_scaled, X_train_obj, X_test_obj, y_train, y_test]), weights\n",
    "\n",
    "\n",
    "def get_object_data(inp_data, max_jets):\n",
    "    num_samples = len(inp_data)\n",
    "    num_cols = len(inp_data.columns)\n",
    "    data = np.zeros((num_samples, max_jets, num_cols))\n",
    "    for i in range(max_jets):\n",
    "        for j in range(num_cols):\n",
    "            if j == 6 and i > 0:\n",
    "                data[:, i, j] = inp_data.iloc[:, j].map(lambda x: x[i] - x[0] if len(x) > i else np.nan)\n",
    "            else:\n",
    "                data[:, i, j] = inp_data.iloc[:, j].map(lambda x: x[i] if len(x) > i else np.nan)\n",
    "    data[:, :, 6][data[:,:,6] < 0] += np.pi \n",
    "    return data"
   ]
  },
  {
   "cell_type": "code",
   "execution_count": 3,
   "metadata": {},
   "outputs": [
    {
     "data": {
      "text/plain": [
       "Index(['dataset', 'cleanedJet_area', 'cleanedJet_btagDeepB',\n",
       "       'cleanedJet_chHEF', 'cleanedJet_eta', 'cleanedJet_mass',\n",
       "       'cleanedJet_neHEF', 'cleanedJet_phi', 'cleanedJet_pt'],\n",
       "      dtype='object')"
      ]
     },
     "execution_count": 3,
     "metadata": {},
     "output_type": "execute_result"
    }
   ],
   "source": [
    "s = get_data(\"ttH125\")\n",
    "s.select_dtypes(object).columns"
   ]
  },
  {
   "cell_type": "code",
   "execution_count": 31,
   "metadata": {},
   "outputs": [
    {
     "name": "stderr",
     "output_type": "stream",
     "text": [
      "/software/ac18804/miniconda3/envs/gpu_env/lib/python3.7/site-packages/ipykernel_launcher.py:53: VisibleDeprecationWarning: Creating an ndarray from ragged nested sequences (which is a list-or-tuple of lists-or-tuples-or ndarrays with different lengths or shapes) is deprecated. If you meant to do this, you must specify 'dtype=object' when creating the ndarray\n",
      "/software/ac18804/miniconda3/envs/gpu_env/lib/python3.7/site-packages/numpy/core/_asarray.py:136: VisibleDeprecationWarning: Creating an ndarray from ragged nested sequences (which is a list-or-tuple of lists-or-tuples-or ndarrays with different lengths or shapes) is deprecated. If you meant to do this, you must specify 'dtype=object' when creating the ndarray\n",
      "  return array(a, dtype, copy=False, order=order, subok=True)\n"
     ]
    }
   ],
   "source": [
    "full_data = preprocess()\n",
    "\n",
    "# y_train, y_test = full_data[0][-2], full_data[0][-1]\n",
    "# print(f\"\"\"Training ratios:  {len(y_train[y_train['ttH125']==1])/len(y_train)}, {len(y_train[y_train['TTToHadronic']==1])/len(y_train)}, \n",
    "# {len(y_train[y_train['TTToSemiLeptonic']==1])/len(y_train)}, {len(y_train[y_train['TTTo2L2Nu']==1])/len(y_train)}\"\"\")\n",
    "# print(f\"\"\"Test ratios:  {len(y_test[y_test['ttH125']==1])/len(y_test)}, {len(y_test[y_test['TTToHadronic']==1])/len(y_test)}, \n",
    "# {len(y_test[y_test['TTToSemiLeptonic']==1])/len(y_test)}, {len(y_test[y_test['TTTo2L2Nu']==1])/len(y_test)}\"\"\")\n",
    "np.save(\"./data/full_data.npy\", full_data[0])\n",
    "np.save(\"./data/weights.npy\", full_data[1])"
   ]
  },
  {
   "cell_type": "code",
   "execution_count": 6,
   "metadata": {},
   "outputs": [
    {
     "data": {
      "text/plain": [
       "array([[1, 2, 3],\n",
       "       [1, 2, 2],\n",
       "       [1, 2, 3],\n",
       "       [1, 2, 2]])"
      ]
     },
     "execution_count": 6,
     "metadata": {},
     "output_type": "execute_result"
    }
   ],
   "source": [
    "arr = np.array([[1,2,3], [1,2,2]])\n",
    "arr1 = np.array([[1,2,3], [1,2,2]])\n",
    "np.concatenate([arr, arr1])"
   ]
  },
  {
   "cell_type": "code",
   "execution_count": 9,
   "metadata": {},
   "outputs": [],
   "source": [
    "np.save(\"./full_data_feb15.npy\", full_data[0])\n",
    "# np.save(\"./weights.npy\", full_data[1])"
   ]
  },
  {
   "cell_type": "code",
   "execution_count": null,
   "metadata": {},
   "outputs": [],
   "source": []
  },
  {
   "cell_type": "code",
   "execution_count": 2,
   "metadata": {},
   "outputs": [],
   "source": [
    "datasets = ['ttH125', 'TTToSemiLeptonic', 'TTToHadronic', 'TTTo2L2Nu']\n",
    "data = pd.concat([get_data(dataset) for dataset in datasets], ignore_index=True)\n",
    "labels = pd.get_dummies(data['dataset'])\n",
    "data = data.join(labels)"
   ]
  },
  {
   "cell_type": "code",
   "execution_count": 3,
   "metadata": {},
   "outputs": [
    {
     "name": "stdout",
     "output_type": "stream",
     "text": [
      "ttH125: count = 99305\n",
      "TTToSemiLeptonic: count = 296226\n",
      "TTToHadronic: count = 205\n",
      "TTTo2L2Nu: count = 13236\n"
     ]
    }
   ],
   "source": [
    "for dataset in datasets:\n",
    "    print(f\"{dataset}: count = {data[dataset].sum()}\")"
   ]
  },
  {
   "cell_type": "code",
   "execution_count": 3,
   "metadata": {},
   "outputs": [
    {
     "data": {
      "text/plain": [
       "array([1, 2, 3, 1, 2, 3, 1, 2, 3, 1, 2, 3])"
      ]
     },
     "execution_count": 3,
     "metadata": {},
     "output_type": "execute_result"
    }
   ],
   "source": [
    "arr = np.array([1,2,3])\n",
    "np.tile(arr, 4)"
   ]
  },
  {
   "cell_type": "code",
   "execution_count": 5,
   "metadata": {},
   "outputs": [
    {
     "data": {
      "text/plain": [
       "<AxesSubplot:xlabel='BiasedDPhi', ylabel='Density'>"
      ]
     },
     "execution_count": 5,
     "metadata": {},
     "output_type": "execute_result"
    },
    {
     "data": {
      "image/png": "[encoded data removed]",
      "text/plain": [
       "<Figure size 432x288 with 1 Axes>"
      ]
     },
     "metadata": {
      "needs_background": "light"
     },
     "output_type": "display_data"
    }
   ],
   "source": [
    "import seaborn as sns\n",
    "\n",
    "data['BiasedDPhi'] = data[\"BiasedDPhi\"].map(lambda x: x+np.pi if x < 0 else x)\n",
    "sns.histplot(data, x=\"BiasedDPhi\", hue=\"dataset\", element=\"step\", stat=\"density\", common_norm=False, fill=False, bins=10)"
   ]
  },
  {
   "cell_type": "code",
   "execution_count": 29,
   "metadata": {},
   "outputs": [
    {
     "data": {
      "image/png": "[encoded data removed]",
      "text/plain": [
       "<Figure size 432x288 with 1 Axes>"
      ]
     },
     "metadata": {
      "needs_background": "light"
     },
     "output_type": "display_data"
    }
   ],
   "source": [
    "import matplotlib.pyplot as plt\n",
    "\n",
    "fig, ax = plt.subplots()\n",
    "sns.histplot(data, x=\"DiJet_mass\", hue=\"dataset\", element=\"step\", stat=\"density\", common_norm=False, fill=False, bins=10, log_scale=True, ax=ax)\n",
    "ax.set_ylabel(\"Frequency density (normed to 1)\")\n",
    "ax.set_xlabel(\"Dijet mass (GeV)\")\n",
    "plt.savefig(\"../../histograms/DiJet_mass_density.png\", dpi=200)\n",
    "plt.show()\n",
    "\n",
    "\n",
    "# sns.histplot(data, x=\"DiJet_mass\", hue=\"dataset\", element=\"step\", stat=\"count\", common_norm=False, fill=False)"
   ]
  },
  {
   "cell_type": "code",
   "execution_count": 14,
   "metadata": {},
   "outputs": [
    {
     "data": {
      "text/plain": [
       "count    408972.000000\n",
       "mean        213.928013\n",
       "std         199.403298\n",
       "min          27.644081\n",
       "25%          91.114721\n",
       "50%         133.625862\n",
       "75%         269.223494\n",
       "max        4355.463268\n",
       "Name: DiJet_mass, dtype: float64"
      ]
     },
     "execution_count": 14,
     "metadata": {},
     "output_type": "execute_result"
    }
   ],
   "source": [
    "data[\"DiJet_mass\"].describe()"
   ]
  },
  {
   "cell_type": "code",
   "execution_count": 12,
   "metadata": {},
   "outputs": [
    {
     "data": {
      "text/html": [
       "<div>\n",
       "<style scoped>\n",
       "    .dataframe tbody tr th:only-of-type {\n",
       "        vertical-align: middle;\n",
       "    }\n",
       "\n",
       "    .dataframe tbody tr th {\n",
       "        vertical-align: top;\n",
       "    }\n",
       "\n",
       "    .dataframe thead th {\n",
       "        text-align: right;\n",
       "    }\n",
       "</style>\n",
       "<table border=\"1\" class=\"dataframe\">\n",
       "  <thead>\n",
       "    <tr style=\"text-align: right;\">\n",
       "      <th></th>\n",
       "      <th>TTTo2L2Nu</th>\n",
       "      <th>TTToHadronic</th>\n",
       "      <th>TTToSemiLeptonic</th>\n",
       "      <th>ttH125</th>\n",
       "    </tr>\n",
       "  </thead>\n",
       "  <tbody>\n",
       "    <tr>\n",
       "      <th>130194</th>\n",
       "      <td>0</td>\n",
       "      <td>0</td>\n",
       "      <td>1</td>\n",
       "      <td>0</td>\n",
       "    </tr>\n",
       "    <tr>\n",
       "      <th>6136</th>\n",
       "      <td>0</td>\n",
       "      <td>0</td>\n",
       "      <td>0</td>\n",
       "      <td>1</td>\n",
       "    </tr>\n",
       "    <tr>\n",
       "      <th>168648</th>\n",
       "      <td>0</td>\n",
       "      <td>0</td>\n",
       "      <td>1</td>\n",
       "      <td>0</td>\n",
       "    </tr>\n",
       "    <tr>\n",
       "      <th>311994</th>\n",
       "      <td>0</td>\n",
       "      <td>0</td>\n",
       "      <td>1</td>\n",
       "      <td>0</td>\n",
       "    </tr>\n",
       "    <tr>\n",
       "      <th>29682</th>\n",
       "      <td>0</td>\n",
       "      <td>0</td>\n",
       "      <td>0</td>\n",
       "      <td>1</td>\n",
       "    </tr>\n",
       "    <tr>\n",
       "      <th>...</th>\n",
       "      <td>...</td>\n",
       "      <td>...</td>\n",
       "      <td>...</td>\n",
       "      <td>...</td>\n",
       "    </tr>\n",
       "    <tr>\n",
       "      <th>174931</th>\n",
       "      <td>0</td>\n",
       "      <td>0</td>\n",
       "      <td>1</td>\n",
       "      <td>0</td>\n",
       "    </tr>\n",
       "    <tr>\n",
       "      <th>175517</th>\n",
       "      <td>0</td>\n",
       "      <td>0</td>\n",
       "      <td>1</td>\n",
       "      <td>0</td>\n",
       "    </tr>\n",
       "    <tr>\n",
       "      <th>98871</th>\n",
       "      <td>0</td>\n",
       "      <td>0</td>\n",
       "      <td>0</td>\n",
       "      <td>1</td>\n",
       "    </tr>\n",
       "    <tr>\n",
       "      <th>122727</th>\n",
       "      <td>0</td>\n",
       "      <td>0</td>\n",
       "      <td>1</td>\n",
       "      <td>0</td>\n",
       "    </tr>\n",
       "    <tr>\n",
       "      <th>57415</th>\n",
       "      <td>0</td>\n",
       "      <td>0</td>\n",
       "      <td>0</td>\n",
       "      <td>1</td>\n",
       "    </tr>\n",
       "  </tbody>\n",
       "</table>\n",
       "<p>306729 rows × 4 columns</p>\n",
       "</div>"
      ],
      "text/plain": [
       "        TTTo2L2Nu  TTToHadronic  TTToSemiLeptonic  ttH125\n",
       "130194          0             0                 1       0\n",
       "6136            0             0                 0       1\n",
       "168648          0             0                 1       0\n",
       "311994          0             0                 1       0\n",
       "29682           0             0                 0       1\n",
       "...           ...           ...               ...     ...\n",
       "174931          0             0                 1       0\n",
       "175517          0             0                 1       0\n",
       "98871           0             0                 0       1\n",
       "122727          0             0                 1       0\n",
       "57415           0             0                 0       1\n",
       "\n",
       "[306729 rows x 4 columns]"
      ]
     },
     "execution_count": 12,
     "metadata": {},
     "output_type": "execute_result"
    }
   ],
   "source": [
    "train_labels, test_labels = train_test_split(labels, random_state=42, stratify=labels['ttH125'])\n",
    "train_labels"
   ]
  },
  {
   "cell_type": "code",
   "execution_count": 14,
   "metadata": {},
   "outputs": [
    {
     "data": {
      "text/plain": [
       "110193    0\n",
       "301732    0\n",
       "305801    0\n",
       "1769      1\n",
       "203489    0\n",
       "         ..\n",
       "174931    0\n",
       "175517    0\n",
       "24248     1\n",
       "122727    0\n",
       "78880     1\n",
       "Name: ttH125, Length: 327177, dtype: uint8"
      ]
     },
     "execution_count": 14,
     "metadata": {},
     "output_type": "execute_result"
    }
   ],
   "source": [
    "full_data[0][-2]"
   ]
  },
  {
   "cell_type": "code",
   "execution_count": 6,
   "metadata": {},
   "outputs": [
    {
     "data": {
      "text/plain": [
       "5.470653048352906"
      ]
     },
     "execution_count": 6,
     "metadata": {},
     "output_type": "execute_result"
    }
   ],
   "source": [
    "s/np.sqrt(b)"
   ]
  },
  {
   "cell_type": "code",
   "execution_count": 10,
   "metadata": {},
   "outputs": [
    {
     "name": "stderr",
     "output_type": "stream",
     "text": [
      "/software/ac18804/miniconda3/envs/gpu_env/lib/python3.7/site-packages/ipykernel_launcher.py:52: VisibleDeprecationWarning: Creating an ndarray from ragged nested sequences (which is a list-or-tuple of lists-or-tuples-or ndarrays with different lengths or shapes) is deprecated. If you meant to do this, you must specify 'dtype=object' when creating the ndarray\n"
     ]
    }
   ],
   "source": [
    "full_data = preprocess()"
   ]
  },
  {
   "cell_type": "code",
   "execution_count": 3,
   "metadata": {},
   "outputs": [
    {
     "name": "stdout",
     "output_type": "stream",
     "text": [
      "[0.30719006, 0.00022454452, 0.01506993]\n",
      "[296226, 205, 13236]\n"
     ]
    }
   ],
   "source": [
    "bg_datasets = ['TTToSemiLeptonic', 'TTToHadronic', 'TTTo2L2Nu']\n",
    "total_xs = []\n",
    "n_examples = []\n",
    "for bg in bg_datasets:\n",
    "    df = get_data(bg)\n",
    "    xs = df[\"xs_weight\"].sum()\n",
    "    total_xs.append(xs)\n",
    "    n_examples.append(len(df))\n",
    "print(total_xs)\n",
    "print(n_examples)\n"
   ]
  },
  {
   "cell_type": "code",
   "execution_count": 5,
   "metadata": {},
   "outputs": [
    {
     "name": "stdout",
     "output_type": "stream",
     "text": [
      "[0.9525729988784043, 0.0006962954709586545, 0.046730705650637]\n",
      "[0.9565953104463827, 0.000662001440256792, 0.04274268811336048]\n"
     ]
    }
   ],
   "source": [
    "xs_ratios = [total_xs[i]/sum(total_xs) for i in range(3)]\n",
    "n_ratios = [n_examples[i]/sum(n_examples) for i in range(3)]\n",
    "print(xs_ratios)\n",
    "print(n_ratios)\n"
   ]
  },
  {
   "cell_type": "code",
   "execution_count": null,
   "metadata": {},
   "outputs": [],
   "source": [
    "full_data[0]"
   ]
  },
  {
   "cell_type": "code",
   "execution_count": 7,
   "metadata": {},
   "outputs": [
    {
     "data": {
      "image/png": "[encoded data removed]",
      "text/plain": [
       "<Figure size 432x288 with 1 Axes>"
      ]
     },
     "metadata": {
      "needs_background": "light"
     },
     "output_type": "display_data"
    }
   ],
   "source": [
    "import matplotlib.pyplot as plt\n",
    "\n",
    "obj_data = full_data[0][2]\n",
    "\n",
    "#Leading Jet\n",
    "plt.hist(obj_data[:, 0, -1], log=True, label=\"Leading\")\n",
    "plt.hist(obj_data[:,1,-1], log=True, label=\"Second\")\n",
    "plt.legend()\n",
    "plt.show()"
   ]
  },
  {
   "cell_type": "code",
   "execution_count": 12,
   "metadata": {},
   "outputs": [
    {
     "data": {
      "image/png": "[encoded data removed]",
      "text/plain": [
       "<Figure size 432x288 with 1 Axes>"
      ]
     },
     "metadata": {
      "needs_background": "light"
     },
     "output_type": "display_data"
    }
   ],
   "source": [
    "import matplotlib.pyplot as plt\n",
    "\n",
    "obj_data = full_data[0][2]\n",
    "\n",
    "# Leading Jet\n",
    "plt.hist(obj_data[:, 0, -3], label=\"Leading\")\n",
    "plt.hist(obj_data[:,1,-3], label=\"Second\")\n",
    "plt.hist(obj_data[:, 2, -3], label=\"Third\")\n",
    "plt.legend()\n",
    "plt.show()"
   ]
  },
  {
   "cell_type": "code",
   "execution_count": 3,
   "metadata": {},
   "outputs": [],
   "source": [
    "from sklearn.linear_model import LogisticRegression\n",
    "\n",
    "X_train, X_test, y_train, y_test = full_data[0][0], full_data[0][1], full_data[0][-2], full_data[0][-1]\n",
    "clf = LogisticRegression(random_state=1).fit(X_train, y_train)\n"
   ]
  },
  {
   "cell_type": "code",
   "execution_count": 6,
   "metadata": {},
   "outputs": [
    {
     "data": {
      "text/plain": [
       "array([[0.91904858, 0.08095142],\n",
       "       [0.74095901, 0.25904099],\n",
       "       [0.81094039, 0.18905961],\n",
       "       ...,\n",
       "       [0.95004988, 0.04995012],\n",
       "       [0.69327869, 0.30672131],\n",
       "       [0.43327449, 0.56672551]])"
      ]
     },
     "execution_count": 6,
     "metadata": {},
     "output_type": "execute_result"
    }
   ],
   "source": [
    "scores = clf.predict_proba(X_test)\n",
    "scores"
   ]
  },
  {
   "cell_type": "code",
   "execution_count": 9,
   "metadata": {},
   "outputs": [],
   "source": [
    "from sklearn.metrics import roc_curve, roc_auc_score\n",
    "\n",
    "fpr, tpr, thresholds = roc_curve(y_test, scores[:,1])\n"
   ]
  },
  {
   "cell_type": "code",
   "execution_count": 11,
   "metadata": {},
   "outputs": [
    {
     "data": {
      "image/png": "[encoded data removed]",
      "text/plain": [
       "<Figure size 432x288 with 1 Axes>"
      ]
     },
     "metadata": {
      "needs_background": "light"
     },
     "output_type": "display_data"
    }
   ],
   "source": [
    "import matplotlib.pyplot as plt\n",
    "\n",
    "plt.plot(fpr, tpr)\n",
    "plt.plot(np.linspace(0,1,100), np.linspace(0, 1, 100), linestyle=\"dashed\", color=\"k\")\n",
    "plt.show()"
   ]
  },
  {
   "cell_type": "code",
   "execution_count": 13,
   "metadata": {},
   "outputs": [
    {
     "data": {
      "text/plain": [
       "0.7951071366216732"
      ]
     },
     "execution_count": 13,
     "metadata": {},
     "output_type": "execute_result"
    }
   ],
   "source": [
    "roc_auc_score(y_test, scores[:,1])"
   ]
  },
  {
   "cell_type": "code",
   "execution_count": null,
   "metadata": {},
   "outputs": [],
   "source": []
  },
  {
   "cell_type": "code",
   "execution_count": 3,
   "metadata": {},
   "outputs": [
    {
     "data": {
      "text/plain": [
       "Index(['dataset', 'entry', 'BiasedDPhi', 'DiJet_mass', 'HT',\n",
       "       'InputMet_InputJet_mindPhi', 'InputMet_phi', 'InputMet_pt', 'MHT_phi',\n",
       "       'MHT_pt', 'MinChi', 'MinOmegaHat', 'MinOmegaTilde', 'cleanedJet_area',\n",
       "       'cleanedJet_btagDeepB', 'cleanedJet_chHEF', 'cleanedJet_eta',\n",
       "       'cleanedJet_mass', 'cleanedJet_neHEF', 'cleanedJet_phi',\n",
       "       'cleanedJet_pt', 'hashed_filename', 'ncleanedBJet', 'ncleanedJet',\n",
       "       'weight_nominal', 'xs_weight'],\n",
       "      dtype='object')"
      ]
     },
     "execution_count": 3,
     "metadata": {},
     "output_type": "execute_result"
    }
   ],
   "source": [
    "datasets = ['ttH125', 'TTToSemiLeptonic', 'TTToHadronic', 'TTTo2L2Nu']\n",
    "data = pd.concat([get_data(dataset) for dataset in datasets], ignore_index=True)\n",
    "data.columns"
   ]
  },
  {
   "cell_type": "code",
   "execution_count": null,
   "metadata": {},
   "outputs": [],
   "source": [
    "np.save('full_data.npy', full_data[0])\n",
    "np.save('weights.npy', full_data[1])"
   ]
  },
  {
   "cell_type": "code",
   "execution_count": 1,
   "metadata": {},
   "outputs": [
    {
     "name": "stderr",
     "output_type": "stream",
     "text": [
      "2022-01-26 17:27:35.184367: I tensorflow/core/platform/cpu_feature_guard.cc:142] Your CPU supports instructions that this TensorFlow binary was not compiled to use: SSE4.1 SSE4.2 AVX AVX2 AVX512F FMA\n",
      "2022-01-26 17:27:35.231176: I tensorflow/core/platform/profile_utils/cpu_utils.cc:94] CPU Frequency: 2200000000 Hz\n",
      "2022-01-26 17:27:35.237870: I tensorflow/compiler/xla/service/service.cc:168] XLA service 0x560b0e1bf360 initialized for platform Host (this does not guarantee that XLA will be used). Devices:\n",
      "2022-01-26 17:27:35.237906: I tensorflow/compiler/xla/service/service.cc:176]   StreamExecutor device (0): Host, Default Version\n",
      "2022-01-26 17:27:35.240060: I tensorflow/core/common_runtime/process_util.cc:147] Creating new thread pool with default inter op setting: 2. Tune using inter_op_parallelism_threads for best performance.\n",
      "ERROR:root:Internal Python error in the inspect module.\n",
      "Below is the traceback from this internal error.\n",
      "\n",
      "ERROR:root:Internal Python error in the inspect module.\n",
      "Below is the traceback from this internal error.\n",
      "\n",
      "ERROR:root:Internal Python error in the inspect module.\n",
      "Below is the traceback from this internal error.\n",
      "\n"
     ]
    },
    {
     "name": "stdout",
     "output_type": "stream",
     "text": [
      "Traceback (most recent call last):\n",
      "  File \"/software/ac18804/miniconda3/envs/ml_env/lib/python3.7/site-packages/IPython/core/interactiveshell.py\", line 3444, in run_code\n",
      "    exec(code_obj, self.user_global_ns, self.user_ns)\n",
      "  File \"/tmp/ipykernel_103161/1877610519.py\", line 6, in <module>\n",
      "    layers.Dense(1, activation='sigmoid')\n",
      "  File \"/software/ac18804/miniconda3/envs/ml_env/lib/python3.7/site-packages/tensorflow_core/python/training/tracking/base.py\", line 457, in _method_wrapper\n",
      "    result = method(self, *args, **kwargs)\n",
      "  File \"/software/ac18804/miniconda3/envs/ml_env/lib/python3.7/site-packages/tensorflow_core/python/keras/engine/sequential.py\", line 116, in __init__\n",
      "    self.add(layer)\n",
      "  File \"/software/ac18804/miniconda3/envs/ml_env/lib/python3.7/site-packages/tensorflow_core/python/training/tracking/base.py\", line 457, in _method_wrapper\n",
      "    result = method(self, *args, **kwargs)\n",
      "  File \"/software/ac18804/miniconda3/envs/ml_env/lib/python3.7/site-packages/tensorflow_core/python/keras/engine/sequential.py\", line 185, in add\n",
      "    layer(x)\n",
      "  File \"/software/ac18804/miniconda3/envs/ml_env/lib/python3.7/site-packages/tensorflow_core/python/keras/layers/recurrent.py\", line 644, in __call__\n",
      "    return super(RNN, self).__call__(inputs, **kwargs)\n",
      "  File \"/software/ac18804/miniconda3/envs/ml_env/lib/python3.7/site-packages/tensorflow_core/python/keras/engine/base_layer.py\", line 773, in __call__\n",
      "    outputs = call_fn(cast_inputs, *args, **kwargs)\n",
      "  File \"/software/ac18804/miniconda3/envs/ml_env/lib/python3.7/site-packages/tensorflow_core/python/keras/layers/recurrent_v2.py\", line 1076, in call\n",
      "    inputs, initial_state, _ = self._process_inputs(inputs, initial_state, None)\n",
      "  File \"/software/ac18804/miniconda3/envs/ml_env/lib/python3.7/site-packages/tensorflow_core/python/keras/layers/recurrent.py\", line 836, in _process_inputs\n",
      "    initial_state = self.get_initial_state(inputs)\n",
      "  File \"/software/ac18804/miniconda3/envs/ml_env/lib/python3.7/site-packages/tensorflow_core/python/keras/layers/recurrent.py\", line 627, in get_initial_state\n",
      "    inputs=None, batch_size=batch_size, dtype=dtype)\n",
      "  File \"/software/ac18804/miniconda3/envs/ml_env/lib/python3.7/site-packages/tensorflow_core/python/keras/layers/recurrent.py\", line 2457, in get_initial_state\n",
      "    self, inputs, batch_size, dtype))\n",
      "  File \"/software/ac18804/miniconda3/envs/ml_env/lib/python3.7/site-packages/tensorflow_core/python/keras/layers/recurrent.py\", line 2895, in _generate_zero_filled_state_for_cell\n",
      "    return _generate_zero_filled_state(batch_size, cell.state_size, dtype)\n",
      "  File \"/software/ac18804/miniconda3/envs/ml_env/lib/python3.7/site-packages/tensorflow_core/python/keras/layers/recurrent.py\", line 2911, in _generate_zero_filled_state\n",
      "    return nest.map_structure(create_zeros, state_size)\n",
      "  File \"/software/ac18804/miniconda3/envs/ml_env/lib/python3.7/site-packages/tensorflow_core/python/util/nest.py\", line 568, in map_structure\n",
      "    structure[0], [func(*x) for x in entries],\n",
      "  File \"/software/ac18804/miniconda3/envs/ml_env/lib/python3.7/site-packages/tensorflow_core/python/util/nest.py\", line 568, in <listcomp>\n",
      "    structure[0], [func(*x) for x in entries],\n",
      "  File \"/software/ac18804/miniconda3/envs/ml_env/lib/python3.7/site-packages/tensorflow_core/python/keras/layers/recurrent.py\", line 2908, in create_zeros\n",
      "    return array_ops.zeros(init_state_size, dtype=dtype)\n",
      "  File \"/software/ac18804/miniconda3/envs/ml_env/lib/python3.7/site-packages/tensorflow_core/python/ops/array_ops.py\", line 2434, in zeros\n",
      "    output = _constant_if_small(zero, shape, dtype, name)\n",
      "  File \"/software/ac18804/miniconda3/envs/ml_env/lib/python3.7/site-packages/tensorflow_core/python/ops/array_ops.py\", line 2391, in _constant_if_small\n",
      "    if np.prod(shape) < 1000:\n",
      "  File \"<__array_function__ internals>\", line 6, in prod\n",
      "  File \"/software/ac18804/miniconda3/envs/ml_env/lib/python3.7/site-packages/numpy/core/fromnumeric.py\", line 3052, in prod\n",
      "    keepdims=keepdims, initial=initial, where=where)\n",
      "  File \"/software/ac18804/miniconda3/envs/ml_env/lib/python3.7/site-packages/numpy/core/fromnumeric.py\", line 86, in _wrapreduction\n",
      "    return ufunc.reduce(obj, axis, dtype, out, **passkwargs)\n",
      "  File \"/software/ac18804/miniconda3/envs/ml_env/lib/python3.7/site-packages/tensorflow_core/python/framework/ops.py\", line 728, in __array__\n",
      "    \" array.\".format(self.name))\n",
      "NotImplementedError: Cannot convert a symbolic Tensor (lstm/strided_slice:0) to a numpy array.\n",
      "\n",
      "During handling of the above exception, another exception occurred:\n",
      "\n",
      "Traceback (most recent call last):\n",
      "  File \"/software/ac18804/miniconda3/envs/ml_env/lib/python3.7/site-packages/IPython/core/interactiveshell.py\", line 2064, in showtraceback\n",
      "    stb = value._render_traceback_()\n",
      "AttributeError: 'NotImplementedError' object has no attribute '_render_traceback_'\n",
      "\n",
      "During handling of the above exception, another exception occurred:\n",
      "\n",
      "Traceback (most recent call last):\n",
      "  File \"/software/ac18804/miniconda3/envs/ml_env/lib/python3.7/site-packages/IPython/core/ultratb.py\", line 1101, in get_records\n",
      "    return _fixed_getinnerframes(etb, number_of_lines_of_context, tb_offset)\n",
      "  File \"/software/ac18804/miniconda3/envs/ml_env/lib/python3.7/site-packages/IPython/core/ultratb.py\", line 248, in wrapped\n",
      "    return f(*args, **kwargs)\n",
      "  File \"/software/ac18804/miniconda3/envs/ml_env/lib/python3.7/site-packages/IPython/core/ultratb.py\", line 281, in _fixed_getinnerframes\n",
      "    records = fix_frame_records_filenames(inspect.getinnerframes(etb, context))\n",
      "  File \"/software/ac18804/miniconda3/envs/ml_env/lib/python3.7/inspect.py\", line 1502, in getinnerframes\n",
      "    frameinfo = (tb.tb_frame,) + getframeinfo(tb, context)\n",
      "  File \"/software/ac18804/miniconda3/envs/ml_env/lib/python3.7/inspect.py\", line 1460, in getframeinfo\n",
      "    filename = getsourcefile(frame) or getfile(frame)\n",
      "  File \"/software/ac18804/miniconda3/envs/ml_env/lib/python3.7/inspect.py\", line 696, in getsourcefile\n",
      "    if getattr(getmodule(object, filename), '__loader__', None) is not None:\n",
      "  File \"/software/ac18804/miniconda3/envs/ml_env/lib/python3.7/inspect.py\", line 733, in getmodule\n",
      "    if ismodule(module) and hasattr(module, '__file__'):\n",
      "  File \"/software/ac18804/miniconda3/envs/ml_env/lib/python3.7/site-packages/tensorflow/__init__.py\", line 50, in __getattr__\n",
      "    module = self._load()\n",
      "  File \"/software/ac18804/miniconda3/envs/ml_env/lib/python3.7/site-packages/tensorflow/__init__.py\", line 44, in _load\n",
      "    module = _importlib.import_module(self.__name__)\n",
      "  File \"/software/ac18804/miniconda3/envs/ml_env/lib/python3.7/importlib/__init__.py\", line 127, in import_module\n",
      "    return _bootstrap._gcd_import(name[level:], package, level)\n",
      "  File \"<frozen importlib._bootstrap>\", line 1006, in _gcd_import\n",
      "  File \"<frozen importlib._bootstrap>\", line 983, in _find_and_load\n",
      "  File \"<frozen importlib._bootstrap>\", line 965, in _find_and_load_unlocked\n",
      "ModuleNotFoundError: No module named 'tensorflow_core.estimator'\n",
      "Traceback (most recent call last):\n",
      "  File \"/software/ac18804/miniconda3/envs/ml_env/lib/python3.7/site-packages/IPython/core/interactiveshell.py\", line 3444, in run_code\n",
      "    exec(code_obj, self.user_global_ns, self.user_ns)\n",
      "  File \"/tmp/ipykernel_103161/1877610519.py\", line 6, in <module>\n",
      "    layers.Dense(1, activation='sigmoid')\n",
      "  File \"/software/ac18804/miniconda3/envs/ml_env/lib/python3.7/site-packages/tensorflow_core/python/training/tracking/base.py\", line 457, in _method_wrapper\n",
      "    result = method(self, *args, **kwargs)\n",
      "  File \"/software/ac18804/miniconda3/envs/ml_env/lib/python3.7/site-packages/tensorflow_core/python/keras/engine/sequential.py\", line 116, in __init__\n",
      "    self.add(layer)\n",
      "  File \"/software/ac18804/miniconda3/envs/ml_env/lib/python3.7/site-packages/tensorflow_core/python/training/tracking/base.py\", line 457, in _method_wrapper\n",
      "    result = method(self, *args, **kwargs)\n",
      "  File \"/software/ac18804/miniconda3/envs/ml_env/lib/python3.7/site-packages/tensorflow_core/python/keras/engine/sequential.py\", line 185, in add\n",
      "    layer(x)\n",
      "  File \"/software/ac18804/miniconda3/envs/ml_env/lib/python3.7/site-packages/tensorflow_core/python/keras/layers/recurrent.py\", line 644, in __call__\n",
      "    return super(RNN, self).__call__(inputs, **kwargs)\n",
      "  File \"/software/ac18804/miniconda3/envs/ml_env/lib/python3.7/site-packages/tensorflow_core/python/keras/engine/base_layer.py\", line 773, in __call__\n",
      "    outputs = call_fn(cast_inputs, *args, **kwargs)\n",
      "  File \"/software/ac18804/miniconda3/envs/ml_env/lib/python3.7/site-packages/tensorflow_core/python/keras/layers/recurrent_v2.py\", line 1076, in call\n",
      "    inputs, initial_state, _ = self._process_inputs(inputs, initial_state, None)\n",
      "  File \"/software/ac18804/miniconda3/envs/ml_env/lib/python3.7/site-packages/tensorflow_core/python/keras/layers/recurrent.py\", line 836, in _process_inputs\n",
      "    initial_state = self.get_initial_state(inputs)\n",
      "  File \"/software/ac18804/miniconda3/envs/ml_env/lib/python3.7/site-packages/tensorflow_core/python/keras/layers/recurrent.py\", line 627, in get_initial_state\n",
      "    inputs=None, batch_size=batch_size, dtype=dtype)\n",
      "  File \"/software/ac18804/miniconda3/envs/ml_env/lib/python3.7/site-packages/tensorflow_core/python/keras/layers/recurrent.py\", line 2457, in get_initial_state\n",
      "    self, inputs, batch_size, dtype))\n",
      "  File \"/software/ac18804/miniconda3/envs/ml_env/lib/python3.7/site-packages/tensorflow_core/python/keras/layers/recurrent.py\", line 2895, in _generate_zero_filled_state_for_cell\n",
      "    return _generate_zero_filled_state(batch_size, cell.state_size, dtype)\n",
      "  File \"/software/ac18804/miniconda3/envs/ml_env/lib/python3.7/site-packages/tensorflow_core/python/keras/layers/recurrent.py\", line 2911, in _generate_zero_filled_state\n",
      "    return nest.map_structure(create_zeros, state_size)\n",
      "  File \"/software/ac18804/miniconda3/envs/ml_env/lib/python3.7/site-packages/tensorflow_core/python/util/nest.py\", line 568, in map_structure\n",
      "    structure[0], [func(*x) for x in entries],\n",
      "  File \"/software/ac18804/miniconda3/envs/ml_env/lib/python3.7/site-packages/tensorflow_core/python/util/nest.py\", line 568, in <listcomp>\n",
      "    structure[0], [func(*x) for x in entries],\n",
      "  File \"/software/ac18804/miniconda3/envs/ml_env/lib/python3.7/site-packages/tensorflow_core/python/keras/layers/recurrent.py\", line 2908, in create_zeros\n",
      "    return array_ops.zeros(init_state_size, dtype=dtype)\n",
      "  File \"/software/ac18804/miniconda3/envs/ml_env/lib/python3.7/site-packages/tensorflow_core/python/ops/array_ops.py\", line 2434, in zeros\n",
      "    output = _constant_if_small(zero, shape, dtype, name)\n",
      "  File \"/software/ac18804/miniconda3/envs/ml_env/lib/python3.7/site-packages/tensorflow_core/python/ops/array_ops.py\", line 2391, in _constant_if_small\n",
      "    if np.prod(shape) < 1000:\n",
      "  File \"<__array_function__ internals>\", line 6, in prod\n",
      "  File \"/software/ac18804/miniconda3/envs/ml_env/lib/python3.7/site-packages/numpy/core/fromnumeric.py\", line 3052, in prod\n",
      "    keepdims=keepdims, initial=initial, where=where)\n",
      "  File \"/software/ac18804/miniconda3/envs/ml_env/lib/python3.7/site-packages/numpy/core/fromnumeric.py\", line 86, in _wrapreduction\n",
      "    return ufunc.reduce(obj, axis, dtype, out, **passkwargs)\n",
      "  File \"/software/ac18804/miniconda3/envs/ml_env/lib/python3.7/site-packages/tensorflow_core/python/framework/ops.py\", line 728, in __array__\n",
      "    \" array.\".format(self.name))\n",
      "NotImplementedError: Cannot convert a symbolic Tensor (lstm/strided_slice:0) to a numpy array.\n",
      "\n",
      "During handling of the above exception, another exception occurred:\n",
      "\n",
      "Traceback (most recent call last):\n",
      "  File \"/software/ac18804/miniconda3/envs/ml_env/lib/python3.7/site-packages/IPython/core/interactiveshell.py\", line 2064, in showtraceback\n",
      "    stb = value._render_traceback_()\n",
      "AttributeError: 'NotImplementedError' object has no attribute '_render_traceback_'\n",
      "\n",
      "During handling of the above exception, another exception occurred:\n",
      "\n",
      "Traceback (most recent call last):\n",
      "  File \"/software/ac18804/miniconda3/envs/ml_env/lib/python3.7/site-packages/IPython/core/interactiveshell.py\", line 3364, in run_ast_nodes\n",
      "    if (await self.run_code(code, result,  async_=asy)):\n",
      "  File \"/software/ac18804/miniconda3/envs/ml_env/lib/python3.7/site-packages/IPython/core/interactiveshell.py\", line 3461, in run_code\n",
      "    self.showtraceback(running_compiled_code=True)\n",
      "  File \"/software/ac18804/miniconda3/envs/ml_env/lib/python3.7/site-packages/IPython/core/interactiveshell.py\", line 2067, in showtraceback\n",
      "    value, tb, tb_offset=tb_offset)\n",
      "  File \"/software/ac18804/miniconda3/envs/ml_env/lib/python3.7/site-packages/IPython/core/ultratb.py\", line 1368, in structured_traceback\n",
      "    self, etype, value, tb, tb_offset, number_of_lines_of_context)\n",
      "  File \"/software/ac18804/miniconda3/envs/ml_env/lib/python3.7/site-packages/IPython/core/ultratb.py\", line 1268, in structured_traceback\n",
      "    self, etype, value, tb, tb_offset, number_of_lines_of_context\n",
      "  File \"/software/ac18804/miniconda3/envs/ml_env/lib/python3.7/site-packages/IPython/core/ultratb.py\", line 1125, in structured_traceback\n",
      "    tb_offset)\n",
      "  File \"/software/ac18804/miniconda3/envs/ml_env/lib/python3.7/site-packages/IPython/core/ultratb.py\", line 1082, in format_exception_as_a_whole\n",
      "    last_unique, recursion_repeat = find_recursion(orig_etype, evalue, records)\n",
      "  File \"/software/ac18804/miniconda3/envs/ml_env/lib/python3.7/site-packages/IPython/core/ultratb.py\", line 382, in find_recursion\n",
      "    return len(records), 0\n",
      "TypeError: object of type 'NoneType' has no len()\n",
      "\n",
      "During handling of the above exception, another exception occurred:\n",
      "\n",
      "Traceback (most recent call last):\n",
      "  File \"/software/ac18804/miniconda3/envs/ml_env/lib/python3.7/site-packages/IPython/core/interactiveshell.py\", line 2064, in showtraceback\n",
      "    stb = value._render_traceback_()\n",
      "AttributeError: 'TypeError' object has no attribute '_render_traceback_'\n",
      "\n",
      "During handling of the above exception, another exception occurred:\n",
      "\n",
      "Traceback (most recent call last):\n",
      "  File \"/software/ac18804/miniconda3/envs/ml_env/lib/python3.7/site-packages/IPython/core/ultratb.py\", line 1101, in get_records\n",
      "    return _fixed_getinnerframes(etb, number_of_lines_of_context, tb_offset)\n",
      "  File \"/software/ac18804/miniconda3/envs/ml_env/lib/python3.7/site-packages/IPython/core/ultratb.py\", line 248, in wrapped\n",
      "    return f(*args, **kwargs)\n",
      "  File \"/software/ac18804/miniconda3/envs/ml_env/lib/python3.7/site-packages/IPython/core/ultratb.py\", line 281, in _fixed_getinnerframes\n",
      "    records = fix_frame_records_filenames(inspect.getinnerframes(etb, context))\n",
      "  File \"/software/ac18804/miniconda3/envs/ml_env/lib/python3.7/inspect.py\", line 1502, in getinnerframes\n",
      "    frameinfo = (tb.tb_frame,) + getframeinfo(tb, context)\n",
      "  File \"/software/ac18804/miniconda3/envs/ml_env/lib/python3.7/inspect.py\", line 1460, in getframeinfo\n",
      "    filename = getsourcefile(frame) or getfile(frame)\n",
      "  File \"/software/ac18804/miniconda3/envs/ml_env/lib/python3.7/inspect.py\", line 696, in getsourcefile\n",
      "    if getattr(getmodule(object, filename), '__loader__', None) is not None:\n",
      "  File \"/software/ac18804/miniconda3/envs/ml_env/lib/python3.7/inspect.py\", line 733, in getmodule\n",
      "    if ismodule(module) and hasattr(module, '__file__'):\n",
      "  File \"/software/ac18804/miniconda3/envs/ml_env/lib/python3.7/site-packages/tensorflow/__init__.py\", line 50, in __getattr__\n",
      "    module = self._load()\n",
      "  File \"/software/ac18804/miniconda3/envs/ml_env/lib/python3.7/site-packages/tensorflow/__init__.py\", line 44, in _load\n",
      "    module = _importlib.import_module(self.__name__)\n",
      "  File \"/software/ac18804/miniconda3/envs/ml_env/lib/python3.7/importlib/__init__.py\", line 127, in import_module\n",
      "    return _bootstrap._gcd_import(name[level:], package, level)\n",
      "  File \"<frozen importlib._bootstrap>\", line 1006, in _gcd_import\n",
      "  File \"<frozen importlib._bootstrap>\", line 983, in _find_and_load\n",
      "  File \"<frozen importlib._bootstrap>\", line 965, in _find_and_load_unlocked\n",
      "ModuleNotFoundError: No module named 'tensorflow_core.estimator'\n",
      "Traceback (most recent call last):\n",
      "  File \"/software/ac18804/miniconda3/envs/ml_env/lib/python3.7/site-packages/IPython/core/interactiveshell.py\", line 3444, in run_code\n",
      "    exec(code_obj, self.user_global_ns, self.user_ns)\n",
      "  File \"/tmp/ipykernel_103161/1877610519.py\", line 6, in <module>\n",
      "    layers.Dense(1, activation='sigmoid')\n",
      "  File \"/software/ac18804/miniconda3/envs/ml_env/lib/python3.7/site-packages/tensorflow_core/python/training/tracking/base.py\", line 457, in _method_wrapper\n",
      "    result = method(self, *args, **kwargs)\n",
      "  File \"/software/ac18804/miniconda3/envs/ml_env/lib/python3.7/site-packages/tensorflow_core/python/keras/engine/sequential.py\", line 116, in __init__\n",
      "    self.add(layer)\n",
      "  File \"/software/ac18804/miniconda3/envs/ml_env/lib/python3.7/site-packages/tensorflow_core/python/training/tracking/base.py\", line 457, in _method_wrapper\n",
      "    result = method(self, *args, **kwargs)\n",
      "  File \"/software/ac18804/miniconda3/envs/ml_env/lib/python3.7/site-packages/tensorflow_core/python/keras/engine/sequential.py\", line 185, in add\n",
      "    layer(x)\n",
      "  File \"/software/ac18804/miniconda3/envs/ml_env/lib/python3.7/site-packages/tensorflow_core/python/keras/layers/recurrent.py\", line 644, in __call__\n",
      "    return super(RNN, self).__call__(inputs, **kwargs)\n",
      "  File \"/software/ac18804/miniconda3/envs/ml_env/lib/python3.7/site-packages/tensorflow_core/python/keras/engine/base_layer.py\", line 773, in __call__\n",
      "    outputs = call_fn(cast_inputs, *args, **kwargs)\n",
      "  File \"/software/ac18804/miniconda3/envs/ml_env/lib/python3.7/site-packages/tensorflow_core/python/keras/layers/recurrent_v2.py\", line 1076, in call\n",
      "    inputs, initial_state, _ = self._process_inputs(inputs, initial_state, None)\n",
      "  File \"/software/ac18804/miniconda3/envs/ml_env/lib/python3.7/site-packages/tensorflow_core/python/keras/layers/recurrent.py\", line 836, in _process_inputs\n",
      "    initial_state = self.get_initial_state(inputs)\n",
      "  File \"/software/ac18804/miniconda3/envs/ml_env/lib/python3.7/site-packages/tensorflow_core/python/keras/layers/recurrent.py\", line 627, in get_initial_state\n",
      "    inputs=None, batch_size=batch_size, dtype=dtype)\n",
      "  File \"/software/ac18804/miniconda3/envs/ml_env/lib/python3.7/site-packages/tensorflow_core/python/keras/layers/recurrent.py\", line 2457, in get_initial_state\n",
      "    self, inputs, batch_size, dtype))\n",
      "  File \"/software/ac18804/miniconda3/envs/ml_env/lib/python3.7/site-packages/tensorflow_core/python/keras/layers/recurrent.py\", line 2895, in _generate_zero_filled_state_for_cell\n",
      "    return _generate_zero_filled_state(batch_size, cell.state_size, dtype)\n",
      "  File \"/software/ac18804/miniconda3/envs/ml_env/lib/python3.7/site-packages/tensorflow_core/python/keras/layers/recurrent.py\", line 2911, in _generate_zero_filled_state\n",
      "    return nest.map_structure(create_zeros, state_size)\n",
      "  File \"/software/ac18804/miniconda3/envs/ml_env/lib/python3.7/site-packages/tensorflow_core/python/util/nest.py\", line 568, in map_structure\n",
      "    structure[0], [func(*x) for x in entries],\n",
      "  File \"/software/ac18804/miniconda3/envs/ml_env/lib/python3.7/site-packages/tensorflow_core/python/util/nest.py\", line 568, in <listcomp>\n",
      "    structure[0], [func(*x) for x in entries],\n",
      "  File \"/software/ac18804/miniconda3/envs/ml_env/lib/python3.7/site-packages/tensorflow_core/python/keras/layers/recurrent.py\", line 2908, in create_zeros\n",
      "    return array_ops.zeros(init_state_size, dtype=dtype)\n",
      "  File \"/software/ac18804/miniconda3/envs/ml_env/lib/python3.7/site-packages/tensorflow_core/python/ops/array_ops.py\", line 2434, in zeros\n",
      "    output = _constant_if_small(zero, shape, dtype, name)\n",
      "  File \"/software/ac18804/miniconda3/envs/ml_env/lib/python3.7/site-packages/tensorflow_core/python/ops/array_ops.py\", line 2391, in _constant_if_small\n",
      "    if np.prod(shape) < 1000:\n",
      "  File \"<__array_function__ internals>\", line 6, in prod\n",
      "  File \"/software/ac18804/miniconda3/envs/ml_env/lib/python3.7/site-packages/numpy/core/fromnumeric.py\", line 3052, in prod\n",
      "    keepdims=keepdims, initial=initial, where=where)\n",
      "  File \"/software/ac18804/miniconda3/envs/ml_env/lib/python3.7/site-packages/numpy/core/fromnumeric.py\", line 86, in _wrapreduction\n",
      "    return ufunc.reduce(obj, axis, dtype, out, **passkwargs)\n",
      "  File \"/software/ac18804/miniconda3/envs/ml_env/lib/python3.7/site-packages/tensorflow_core/python/framework/ops.py\", line 728, in __array__\n",
      "    \" array.\".format(self.name))\n",
      "NotImplementedError: Cannot convert a symbolic Tensor (lstm/strided_slice:0) to a numpy array.\n",
      "\n",
      "During handling of the above exception, another exception occurred:\n",
      "\n",
      "Traceback (most recent call last):\n",
      "  File \"/software/ac18804/miniconda3/envs/ml_env/lib/python3.7/site-packages/IPython/core/interactiveshell.py\", line 2064, in showtraceback\n",
      "    stb = value._render_traceback_()\n",
      "AttributeError: 'NotImplementedError' object has no attribute '_render_traceback_'\n",
      "\n",
      "During handling of the above exception, another exception occurred:\n",
      "\n",
      "Traceback (most recent call last):\n",
      "  File \"/software/ac18804/miniconda3/envs/ml_env/lib/python3.7/site-packages/IPython/core/interactiveshell.py\", line 3364, in run_ast_nodes\n",
      "    if (await self.run_code(code, result,  async_=asy)):\n",
      "  File \"/software/ac18804/miniconda3/envs/ml_env/lib/python3.7/site-packages/IPython/core/interactiveshell.py\", line 3461, in run_code\n",
      "    self.showtraceback(running_compiled_code=True)\n",
      "  File \"/software/ac18804/miniconda3/envs/ml_env/lib/python3.7/site-packages/IPython/core/interactiveshell.py\", line 2067, in showtraceback\n",
      "    value, tb, tb_offset=tb_offset)\n",
      "  File \"/software/ac18804/miniconda3/envs/ml_env/lib/python3.7/site-packages/IPython/core/ultratb.py\", line 1368, in structured_traceback\n",
      "    self, etype, value, tb, tb_offset, number_of_lines_of_context)\n",
      "  File \"/software/ac18804/miniconda3/envs/ml_env/lib/python3.7/site-packages/IPython/core/ultratb.py\", line 1268, in structured_traceback\n",
      "    self, etype, value, tb, tb_offset, number_of_lines_of_context\n",
      "  File \"/software/ac18804/miniconda3/envs/ml_env/lib/python3.7/site-packages/IPython/core/ultratb.py\", line 1125, in structured_traceback\n",
      "    tb_offset)\n",
      "  File \"/software/ac18804/miniconda3/envs/ml_env/lib/python3.7/site-packages/IPython/core/ultratb.py\", line 1082, in format_exception_as_a_whole\n",
      "    last_unique, recursion_repeat = find_recursion(orig_etype, evalue, records)\n",
      "  File \"/software/ac18804/miniconda3/envs/ml_env/lib/python3.7/site-packages/IPython/core/ultratb.py\", line 382, in find_recursion\n",
      "    return len(records), 0\n",
      "TypeError: object of type 'NoneType' has no len()\n",
      "\n",
      "During handling of the above exception, another exception occurred:\n",
      "\n",
      "Traceback (most recent call last):\n",
      "  File \"/software/ac18804/miniconda3/envs/ml_env/lib/python3.7/site-packages/IPython/core/interactiveshell.py\", line 2064, in showtraceback\n",
      "    stb = value._render_traceback_()\n",
      "AttributeError: 'TypeError' object has no attribute '_render_traceback_'\n",
      "\n",
      "During handling of the above exception, another exception occurred:\n",
      "\n",
      "Traceback (most recent call last):\n",
      "  File \"/software/ac18804/miniconda3/envs/ml_env/lib/python3.7/site-packages/IPython/core/interactiveshell.py\", line 2947, in _run_cell\n",
      "    return runner(coro)\n",
      "  File \"/software/ac18804/miniconda3/envs/ml_env/lib/python3.7/site-packages/IPython/core/async_helpers.py\", line 68, in _pseudo_sync_runner\n",
      "    coro.send(None)\n",
      "  File \"/software/ac18804/miniconda3/envs/ml_env/lib/python3.7/site-packages/IPython/core/interactiveshell.py\", line 3173, in run_cell_async\n",
      "    interactivity=interactivity, compiler=compiler, result=result)\n",
      "  File \"/software/ac18804/miniconda3/envs/ml_env/lib/python3.7/site-packages/IPython/core/interactiveshell.py\", line 3383, in run_ast_nodes\n",
      "    self.showtraceback()\n",
      "  File \"/software/ac18804/miniconda3/envs/ml_env/lib/python3.7/site-packages/IPython/core/interactiveshell.py\", line 2067, in showtraceback\n",
      "    value, tb, tb_offset=tb_offset)\n",
      "  File \"/software/ac18804/miniconda3/envs/ml_env/lib/python3.7/site-packages/IPython/core/ultratb.py\", line 1368, in structured_traceback\n",
      "    self, etype, value, tb, tb_offset, number_of_lines_of_context)\n",
      "  File \"/software/ac18804/miniconda3/envs/ml_env/lib/python3.7/site-packages/IPython/core/ultratb.py\", line 1268, in structured_traceback\n",
      "    self, etype, value, tb, tb_offset, number_of_lines_of_context\n",
      "  File \"/software/ac18804/miniconda3/envs/ml_env/lib/python3.7/site-packages/IPython/core/ultratb.py\", line 1143, in structured_traceback\n",
      "    chained_exceptions_tb_offset)\n",
      "  File \"/software/ac18804/miniconda3/envs/ml_env/lib/python3.7/site-packages/IPython/core/ultratb.py\", line 1082, in format_exception_as_a_whole\n",
      "    last_unique, recursion_repeat = find_recursion(orig_etype, evalue, records)\n",
      "  File \"/software/ac18804/miniconda3/envs/ml_env/lib/python3.7/site-packages/IPython/core/ultratb.py\", line 382, in find_recursion\n",
      "    return len(records), 0\n",
      "TypeError: object of type 'NoneType' has no len()\n",
      "\n",
      "During handling of the above exception, another exception occurred:\n",
      "\n",
      "Traceback (most recent call last):\n",
      "  File \"/software/ac18804/miniconda3/envs/ml_env/lib/python3.7/site-packages/IPython/core/interactiveshell.py\", line 2064, in showtraceback\n",
      "    stb = value._render_traceback_()\n",
      "AttributeError: 'TypeError' object has no attribute '_render_traceback_'\n",
      "\n",
      "During handling of the above exception, another exception occurred:\n",
      "\n",
      "Traceback (most recent call last):\n",
      "  File \"/software/ac18804/miniconda3/envs/ml_env/lib/python3.7/site-packages/IPython/core/ultratb.py\", line 1101, in get_records\n",
      "    return _fixed_getinnerframes(etb, number_of_lines_of_context, tb_offset)\n",
      "  File \"/software/ac18804/miniconda3/envs/ml_env/lib/python3.7/site-packages/IPython/core/ultratb.py\", line 248, in wrapped\n",
      "    return f(*args, **kwargs)\n",
      "  File \"/software/ac18804/miniconda3/envs/ml_env/lib/python3.7/site-packages/IPython/core/ultratb.py\", line 281, in _fixed_getinnerframes\n",
      "    records = fix_frame_records_filenames(inspect.getinnerframes(etb, context))\n",
      "  File \"/software/ac18804/miniconda3/envs/ml_env/lib/python3.7/inspect.py\", line 1502, in getinnerframes\n",
      "    frameinfo = (tb.tb_frame,) + getframeinfo(tb, context)\n",
      "  File \"/software/ac18804/miniconda3/envs/ml_env/lib/python3.7/inspect.py\", line 1460, in getframeinfo\n",
      "    filename = getsourcefile(frame) or getfile(frame)\n",
      "  File \"/software/ac18804/miniconda3/envs/ml_env/lib/python3.7/inspect.py\", line 696, in getsourcefile\n",
      "    if getattr(getmodule(object, filename), '__loader__', None) is not None:\n",
      "  File \"/software/ac18804/miniconda3/envs/ml_env/lib/python3.7/inspect.py\", line 733, in getmodule\n",
      "    if ismodule(module) and hasattr(module, '__file__'):\n",
      "  File \"/software/ac18804/miniconda3/envs/ml_env/lib/python3.7/site-packages/tensorflow/__init__.py\", line 50, in __getattr__\n",
      "    module = self._load()\n",
      "  File \"/software/ac18804/miniconda3/envs/ml_env/lib/python3.7/site-packages/tensorflow/__init__.py\", line 44, in _load\n",
      "    module = _importlib.import_module(self.__name__)\n",
      "  File \"/software/ac18804/miniconda3/envs/ml_env/lib/python3.7/importlib/__init__.py\", line 127, in import_module\n",
      "    return _bootstrap._gcd_import(name[level:], package, level)\n",
      "  File \"<frozen importlib._bootstrap>\", line 1006, in _gcd_import\n",
      "  File \"<frozen importlib._bootstrap>\", line 983, in _find_and_load\n",
      "  File \"<frozen importlib._bootstrap>\", line 965, in _find_and_load_unlocked\n",
      "ModuleNotFoundError: No module named 'tensorflow_core.estimator'\n"
     ]
    }
   ],
   "source": [
    "import tensorflow as tf\n",
    "from tensorflow.keras import layers, models\n",
    "\n",
    "model = models.Sequential(\n",
    "    layers.LSTM(32, input_shape=(14, 8)),\n",
    "    layers.Dense(1, activation='sigmoid')\n",
    ")\n",
    "model.compile(loss='binary_crossentropy', optimizer='sgd', metrics=keras.metrics.BinaryAccuracy(name='accuracy'))\n",
    "print(model.summary)\n",
    "# print('Hello world!')"
   ]
  },
  {
   "cell_type": "code",
   "execution_count": 2,
   "metadata": {},
   "outputs": [
    {
     "name": "stdout",
     "output_type": "stream",
     "text": [
      "2.1.0\n"
     ]
    }
   ],
   "source": [
    "print(tf.__version__)"
   ]
  },
  {
   "cell_type": "code",
   "execution_count": 14,
   "metadata": {},
   "outputs": [
    {
     "data": {
      "text/plain": [
       "array([ 0.34737535, -0.93513631, -0.87114019, ..., -0.31020072,\n",
       "       -0.85554891,  3.55868584])"
      ]
     },
     "execution_count": 14,
     "metadata": {},
     "output_type": "execute_result"
    }
   ],
   "source": [
    "obj_train = full_data[0][2]\n",
    "obj_train[:, 0, 7]\n",
    "\n"
   ]
  },
  {
   "cell_type": "code",
   "execution_count": 5,
   "metadata": {},
   "outputs": [],
   "source": [
    "for i in range(14):\n",
    "    scaler = StandardScaler()\n",
    "    obj_train[:, i, :] = scaler.fit_transform(obj_train[:, i, :])"
   ]
  },
  {
   "cell_type": "code",
   "execution_count": null,
   "metadata": {},
   "outputs": [],
   "source": []
  },
  {
   "cell_type": "code",
   "execution_count": 20,
   "metadata": {},
   "outputs": [
    {
     "data": {
      "text/plain": [
       "Index(['dataset', 'entry', 'BiasedDPhi', 'DiJet_mass', 'HT',\n",
       "       'InputMet_InputJet_mindPhi', 'InputMet_phi', 'InputMet_pt', 'MHT_phi',\n",
       "       'MHT_pt', 'MinChi', 'MinOmegaHat', 'MinOmegaTilde', 'cleanedJet_area',\n",
       "       'cleanedJet_btagDeepB', 'cleanedJet_chHEF', 'cleanedJet_eta',\n",
       "       'cleanedJet_mass', 'cleanedJet_neHEF', 'cleanedJet_phi',\n",
       "       'cleanedJet_pt', 'hashed_filename', 'ncleanedBJet', 'ncleanedJet',\n",
       "       'weight_nominal', 'xs_weight'],\n",
       "      dtype='object')"
      ]
     },
     "execution_count": 20,
     "metadata": {},
     "output_type": "execute_result"
    }
   ],
   "source": [
    "import pandas as pd\n",
    "\n",
    "dataset = 'ttH125'\n",
    "data = pd.read_hdf(f'/storage/bk17414/ForStudents/2021_CMS_ML/ml_postproc/{dataset}/df_ml_inputs.hd5')\n",
    "data.columns\n",
    "# 8 x 14"
   ]
  },
  {
   "cell_type": "code",
   "execution_count": 18,
   "metadata": {},
   "outputs": [
    {
     "data": {
      "text/plain": [
       "array([[[0.        , 0.        ],\n",
       "        [0.        , 0.        ],\n",
       "        [0.        , 0.        ],\n",
       "        ...,\n",
       "        [0.        , 0.        ],\n",
       "        [0.        , 0.        ],\n",
       "        [0.        , 0.        ]],\n",
       "\n",
       "       [[0.        , 0.        ],\n",
       "        [0.        , 0.        ],\n",
       "        [0.        , 0.        ],\n",
       "        ...,\n",
       "        [0.        , 0.        ],\n",
       "        [0.        , 0.        ],\n",
       "        [0.        , 0.        ]],\n",
       "\n",
       "       [[0.02929688, 0.        ],\n",
       "        [0.        , 0.        ],\n",
       "        [0.        , 0.        ],\n",
       "        ...,\n",
       "        [0.        , 0.        ],\n",
       "        [0.        , 0.        ],\n",
       "        [0.        , 0.        ]],\n",
       "\n",
       "       ...,\n",
       "\n",
       "       [[0.        , 0.        ],\n",
       "        [0.        , 0.        ],\n",
       "        [0.        , 0.        ],\n",
       "        ...,\n",
       "        [0.        , 0.        ],\n",
       "        [0.        , 0.        ],\n",
       "        [0.        , 0.        ]],\n",
       "\n",
       "       [[0.01293945, 0.        ],\n",
       "        [0.        , 0.        ],\n",
       "        [0.        , 0.        ],\n",
       "        ...,\n",
       "        [0.        , 0.        ],\n",
       "        [0.        , 0.        ],\n",
       "        [0.        , 0.        ]],\n",
       "\n",
       "       [[0.        , 0.        ],\n",
       "        [0.        , 0.        ],\n",
       "        [0.        , 0.        ],\n",
       "        ...,\n",
       "        [0.        , 0.        ],\n",
       "        [0.        , 0.        ],\n",
       "        [0.        , 0.        ]]])"
      ]
     },
     "execution_count": 18,
     "metadata": {},
     "output_type": "execute_result"
    }
   ],
   "source": [
    "arr = np.zeros((len(data), 14, 2))\n",
    "arr[:, 0, 0] = data.iloc[:, 18].map(lambda x:x[2] if len(x) > 2 else 0)\n",
    "arr\n"
   ]
  },
  {
   "cell_type": "code",
   "execution_count": 3,
   "metadata": {},
   "outputs": [
    {
     "ename": "NameError",
     "evalue": "name 'data' is not defined",
     "output_type": "error",
     "traceback": [
      "\u001b[0;31m---------------------------------------------------------------------------\u001b[0m",
      "\u001b[0;31mNameError\u001b[0m                                 Traceback (most recent call last)",
      "\u001b[0;32m/tmp/ipykernel_642259/1257337884.py\u001b[0m in \u001b[0;36m<module>\u001b[0;34m\u001b[0m\n\u001b[1;32m      1\u001b[0m \u001b[0;32mfrom\u001b[0m \u001b[0msklearn\u001b[0m\u001b[0;34m.\u001b[0m\u001b[0mmodel_selection\u001b[0m \u001b[0;32mimport\u001b[0m \u001b[0mtrain_test_split\u001b[0m\u001b[0;34m\u001b[0m\u001b[0;34m\u001b[0m\u001b[0m\n\u001b[1;32m      2\u001b[0m \u001b[0;34m\u001b[0m\u001b[0m\n\u001b[0;32m----> 3\u001b[0;31m \u001b[0mX\u001b[0m\u001b[0;34m,\u001b[0m \u001b[0my\u001b[0m \u001b[0;34m=\u001b[0m \u001b[0mdata\u001b[0m\u001b[0;34m.\u001b[0m\u001b[0mdrop\u001b[0m\u001b[0;34m(\u001b[0m\u001b[0;34m'dataset'\u001b[0m\u001b[0;34m,\u001b[0m \u001b[0maxis\u001b[0m\u001b[0;34m=\u001b[0m\u001b[0;36m1\u001b[0m\u001b[0;34m)\u001b[0m\u001b[0;34m,\u001b[0m \u001b[0mdata\u001b[0m\u001b[0;34m[\u001b[0m\u001b[0;34m'dataset'\u001b[0m\u001b[0;34m]\u001b[0m\u001b[0;34m\u001b[0m\u001b[0;34m\u001b[0m\u001b[0m\n\u001b[0m\u001b[1;32m      4\u001b[0m \u001b[0mX_train\u001b[0m\u001b[0;34m,\u001b[0m \u001b[0mX_test\u001b[0m\u001b[0;34m,\u001b[0m \u001b[0my_train\u001b[0m\u001b[0;34m,\u001b[0m \u001b[0my_test\u001b[0m \u001b[0;34m=\u001b[0m \u001b[0mtrain_test_split\u001b[0m\u001b[0;34m(\u001b[0m\u001b[0mX\u001b[0m\u001b[0;34m,\u001b[0m \u001b[0my\u001b[0m\u001b[0;34m,\u001b[0m \u001b[0mtrain_size\u001b[0m\u001b[0;34m=\u001b[0m\u001b[0;36m0.8\u001b[0m\u001b[0;34m,\u001b[0m \u001b[0mstratify\u001b[0m\u001b[0;34m=\u001b[0m\u001b[0my\u001b[0m\u001b[0;34m,\u001b[0m \u001b[0mrandom_state\u001b[0m\u001b[0;34m=\u001b[0m\u001b[0;36m42\u001b[0m\u001b[0;34m)\u001b[0m\u001b[0;34m\u001b[0m\u001b[0;34m\u001b[0m\u001b[0m\n\u001b[1;32m      5\u001b[0m \u001b[0mX_train\u001b[0m\u001b[0;34m.\u001b[0m\u001b[0mshape\u001b[0m\u001b[0;34m\u001b[0m\u001b[0;34m\u001b[0m\u001b[0m\n",
      "\u001b[0;31mNameError\u001b[0m: name 'data' is not defined"
     ]
    }
   ],
   "source": [
    "from sklearn.model_selection import train_test_split\n",
    "\n",
    "X, y = data.drop('dataset', axis=1), data['dataset']\n",
    "X_train, X_test, y_train, y_test = train_test_split(X, y, train_size=0.8, stratify=y, random_state=42)\n",
    "X_train.shape"
   ]
  },
  {
   "cell_type": "code",
   "execution_count": null,
   "metadata": {},
   "outputs": [],
   "source": []
  },
  {
   "cell_type": "markdown",
   "metadata": {},
   "source": [
    "RNN - want sequence of vectors "
   ]
  },
  {
   "cell_type": "code",
   "execution_count": 25,
   "metadata": {},
   "outputs": [
    {
     "name": "stderr",
     "output_type": "stream",
     "text": [
      "/software/ac18804/miniconda3/envs/ml_env/lib/python3.7/site-packages/ipykernel_launcher.py:31: VisibleDeprecationWarning: Creating an ndarray from ragged nested sequences (which is a list-or-tuple of lists-or-tuples-or ndarrays with different lengths or shapes) is deprecated. If you meant to do this, you must specify 'dtype=object' when creating the ndarray\n"
     ]
    }
   ],
   "source": [
    "data, weights = preprocess(['entry', 'hashed_filename', 'weight_nominal', 'InputMet_phi', 'MHT_phi', 'xs_weight', 'cleanedJet_area', 'cleanedJet_eta',\n",
    "'cleanedJet_mass', 'cleanedJet_neHEF', 'cleanedJet_phi', 'cleanedJet_pt', 'cleanedJet_btagDeepB', 'cleanedJet_chHEF'])\n",
    "np.save('full_data_binary', data)\n",
    "np.save('full_data_xs_weights', weights)"
   ]
  }
 ],
 "metadata": {
  "interpreter": {
   "hash": "8a9bcf4578ca583988d8fd57bf5761e33ef08b8742bd2dbd7fdfe8318e87ce13"
  },
  "kernelspec": {
   "display_name": "Python 3.7.11 64-bit ('ml_env': conda)",
   "language": "python",
   "name": "python3"
  },
  "language_info": {
   "codemirror_mode": {
    "name": "ipython",
    "version": 3
   },
   "file_extension": ".py",
   "mimetype": "text/x-python",
   "name": "python",
   "nbconvert_exporter": "python",
   "pygments_lexer": "ipython3",
   "version": "3.7.11"
  },
  "orig_nbformat": 4
 },
 "nbformat": 4,
 "nbformat_minor": 2
}
