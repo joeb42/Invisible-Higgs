{
 "cells": [
  {
   "cell_type": "code",
   "execution_count": 1,
   "metadata": {},
   "outputs": [],
   "source": [
    "import pandas as pd\n",
    "\n",
    "data = pd.read_hdf('./data/full_data.hd5')"
   ]
  },
  {
   "cell_type": "code",
   "execution_count": 2,
   "metadata": {},
   "outputs": [
    {
     "data": {
      "text/plain": [
       "array([[[-5.13671875e-01,  1.56250000e+00,  1.19414330e+02,\n",
       "          9.78027344e-01],\n",
       "        [-1.28125000e+00, -8.07617188e-01,  9.70109711e+01,\n",
       "          3.34228516e-01],\n",
       "        [ 2.68798828e-01, -9.53369141e-02,  7.57926788e+01,\n",
       "          2.45819092e-02],\n",
       "        ...,\n",
       "        [ 0.00000000e+00,  0.00000000e+00,  0.00000000e+00,\n",
       "          0.00000000e+00],\n",
       "        [ 0.00000000e+00,  0.00000000e+00,  0.00000000e+00,\n",
       "          0.00000000e+00],\n",
       "        [ 0.00000000e+00,  0.00000000e+00,  0.00000000e+00,\n",
       "          0.00000000e+00]],\n",
       "\n",
       "       [[-4.22851562e-01, -2.24023438e+00,  2.24808548e+02,\n",
       "          1.05361938e-02],\n",
       "        [ 4.18457031e-01,  8.46679688e-01,  1.24097435e+02,\n",
       "          2.83813477e-02],\n",
       "        [ 1.92578125e+00, -1.40234375e+00,  9.66871109e+01,\n",
       "          3.70117188e-01],\n",
       "        ...,\n",
       "        [ 0.00000000e+00,  0.00000000e+00,  0.00000000e+00,\n",
       "          0.00000000e+00],\n",
       "        [ 0.00000000e+00,  0.00000000e+00,  0.00000000e+00,\n",
       "          0.00000000e+00],\n",
       "        [ 0.00000000e+00,  0.00000000e+00,  0.00000000e+00,\n",
       "          0.00000000e+00]],\n",
       "\n",
       "       [[ 4.27978516e-01, -2.75585938e+00,  2.13797592e+02,\n",
       "          9.97924805e-02],\n",
       "        [-1.84375000e+00,  9.89746094e-01,  2.00041718e+02,\n",
       "          3.52783203e-01],\n",
       "        [-1.63964844e+00,  1.45214844e+00,  1.18894234e+02,\n",
       "          1.19812012e-01],\n",
       "        ...,\n",
       "        [ 0.00000000e+00,  0.00000000e+00,  0.00000000e+00,\n",
       "          0.00000000e+00],\n",
       "        [ 0.00000000e+00,  0.00000000e+00,  0.00000000e+00,\n",
       "          0.00000000e+00],\n",
       "        [ 0.00000000e+00,  0.00000000e+00,  0.00000000e+00,\n",
       "          0.00000000e+00]],\n",
       "\n",
       "       ...,\n",
       "\n",
       "       [[ 1.89648438e+00,  7.62207031e-01,  9.49176941e+01,\n",
       "          1.55151367e-01],\n",
       "        [-1.69628906e+00,  1.24707031e+00,  9.35770493e+01,\n",
       "          2.33612061e-02],\n",
       "        [-7.19238281e-01,  2.12890625e+00,  6.71687393e+01,\n",
       "          3.90136719e-01],\n",
       "        ...,\n",
       "        [ 0.00000000e+00,  0.00000000e+00,  0.00000000e+00,\n",
       "          0.00000000e+00],\n",
       "        [ 0.00000000e+00,  0.00000000e+00,  0.00000000e+00,\n",
       "          0.00000000e+00],\n",
       "        [ 0.00000000e+00,  0.00000000e+00,  0.00000000e+00,\n",
       "          0.00000000e+00]],\n",
       "\n",
       "       [[-6.52832031e-01, -1.91113281e+00,  2.43224304e+02,\n",
       "          5.16052246e-02],\n",
       "        [ 1.56372070e-01,  2.48046875e+00,  1.39844467e+02,\n",
       "          9.99023438e-01],\n",
       "        [ 0.00000000e+00,  0.00000000e+00,  0.00000000e+00,\n",
       "          0.00000000e+00],\n",
       "        ...,\n",
       "        [ 0.00000000e+00,  0.00000000e+00,  0.00000000e+00,\n",
       "          0.00000000e+00],\n",
       "        [ 0.00000000e+00,  0.00000000e+00,  0.00000000e+00,\n",
       "          0.00000000e+00],\n",
       "        [ 0.00000000e+00,  0.00000000e+00,  0.00000000e+00,\n",
       "          0.00000000e+00]],\n",
       "\n",
       "       [[-1.95556641e-01, -9.95117188e-01,  1.28632874e+02,\n",
       "          4.01000977e-02],\n",
       "        [-1.23339844e+00,  2.06184387e-03,  1.24845306e+02,\n",
       "          8.13476562e-01],\n",
       "        [-2.15234375e+00, -5.07812500e-01,  4.63169250e+01,\n",
       "          1.84692383e-01],\n",
       "        ...,\n",
       "        [ 0.00000000e+00,  0.00000000e+00,  0.00000000e+00,\n",
       "          0.00000000e+00],\n",
       "        [ 0.00000000e+00,  0.00000000e+00,  0.00000000e+00,\n",
       "          0.00000000e+00],\n",
       "        [ 0.00000000e+00,  0.00000000e+00,  0.00000000e+00,\n",
       "          0.00000000e+00]]])"
      ]
     },
     "execution_count": 2,
     "metadata": {},
     "output_type": "execute_result"
    }
   ],
   "source": [
    "import numpy as np\n",
    "\n",
    "cols = ['cleanedJet_eta', 'cleanedJet_phi', 'cleanedJet_pt', 'cleanedJet_btagDeepB']\n",
    "jet_data = data.loc[:, cols]\n",
    "jet_data_arr = np.zeros((len(jet_data), 14, 4))\n",
    "for i in range(14):\n",
    "        for j, k in enumerate(cols):\n",
    "            jet_data_arr[:, i, j] = jet_data.loc[:, k].map(lambda x: x[i] if len(x) > i else 0)\n",
    "jet_data_arr\n"
   ]
  },
  {
   "cell_type": "code",
   "execution_count": 3,
   "metadata": {},
   "outputs": [],
   "source": [
    "labels = data['ttH125'].values"
   ]
  },
  {
   "cell_type": "code",
   "execution_count": 4,
   "metadata": {},
   "outputs": [],
   "source": [
    "import matplotlib.pyplot as plt\n",
    "\n",
    "# for i in range(14):\n",
    "#     for j, k in enumerate(cols):\n",
    "#         hist, bins, patches = plt.hist(jet_data_arr[:, i, j][(labels==1) & (jet_data_arr[:, i, j] != 0)], density=True, label=f\"jet_{j+1} {k} sg\", histtype='step', log=j==2)\n",
    "#         plt.hist(jet_data_arr[:, i, j][(labels==0) & (jet_data_arr[:, i, j] != 0) ], density=True, label=f\"jet_{j+1} {k} bg\", histtype='step', bins=bins, log=j==2)\n",
    "#         plt.legend()\n",
    "#         plt.show()"
   ]
  },
  {
   "cell_type": "code",
   "execution_count": 45,
   "metadata": {},
   "outputs": [],
   "source": [
    "# Eta-phi plane with resolution of 0.17 (stolen from VBF paper)\n",
    "\n",
    "\n",
    "\n",
    "grid_sg, grid_bg = np.zeros((59, 45)), np.zeros((59, 45))\n",
    "\n",
    "for i in range(14):\n",
    "    sg_etas = get_index(jet_data_arr[:,i,0][(labels==1) & (jet_data_arr[:, i, 2] != 0)], cat='eta')\n",
    "    bg_etas = get_index(jet_data_arr[:,i,0][(labels==0) & (jet_data_arr[:, i, 2] != 0)], cat='eta')\n",
    "    sg_phis = get_index(jet_data_arr[:,i,1][(labels==1) & (jet_data_arr[:, i, 2] != 0)], cat='phi')\n",
    "    bg_phis = get_index(jet_data_arr[:,i,1][(labels==0) & (jet_data_arr[:, i, 2] != 0)], cat='phi')\n",
    "    sg_pt = jet_data_arr[:, i, 2][(labels==1) & (jet_data_arr[:, i, 2] != 0)]\n",
    "    bg_pt = jet_data_arr[:, i, 2][(labels==0) & (jet_data_arr[:, i, 2] != 0)]\n",
    "    for eta, phi, pt in zip(sg_etas, sg_phis, sg_pt):\n",
    "        grid_sg[eta, phi] += pt\n",
    "\n",
    "    for eta, phi, pt in zip(bg_etas, bg_phis, bg_pt):\n",
    "        grid_bg[eta, phi] += pt\n",
    "\n",
    "    # += jet_data_arr[:, i, 2][(labels==1) & (jet_data_arr[:, 0, 2] != 0)]\n",
    "# for i in range(14):\n",
    "#     grid_sg[]\n",
    "# jet_data_arr[(labels==0) & (jet_data_arr[:, 0, 2] != 0)].shape\n",
    "\n",
    "# jet_data_arr[:,0,0].shap\n",
    "\n",
    "\n",
    "\n",
    "\n"
   ]
  },
  {
   "cell_type": "code",
   "execution_count": 55,
   "metadata": {},
   "outputs": [
    {
     "ename": "ValueError",
     "evalue": "BSR data must be 3-dimensional, got shape=()",
     "output_type": "error",
     "traceback": [
      "\u001b[0;31m---------------------------------------------------------------------------\u001b[0m",
      "\u001b[0;31mValueError\u001b[0m                                Traceback (most recent call last)",
      "\u001b[0;32m/tmp/ipykernel_1222456/2054672005.py\u001b[0m in \u001b[0;36m<module>\u001b[0;34m\u001b[0m\n\u001b[1;32m      1\u001b[0m \u001b[0;32mfrom\u001b[0m \u001b[0mscipy\u001b[0m\u001b[0;34m.\u001b[0m\u001b[0msparse\u001b[0m \u001b[0;32mimport\u001b[0m \u001b[0mbsr_matrix\u001b[0m\u001b[0;34m\u001b[0m\u001b[0;34m\u001b[0m\u001b[0m\n\u001b[1;32m      2\u001b[0m \u001b[0;34m\u001b[0m\u001b[0m\n\u001b[0;32m----> 3\u001b[0;31m \u001b[0mbsr_matrix\u001b[0m\u001b[0;34m(\u001b[0m\u001b[0;34m(\u001b[0m\u001b[0mint\u001b[0m\u001b[0;34m(\u001b[0m\u001b[0;36m1e4\u001b[0m\u001b[0;34m)\u001b[0m\u001b[0;34m,\u001b[0m \u001b[0;36m3\u001b[0m\u001b[0;34m,\u001b[0m \u001b[0;36m4\u001b[0m\u001b[0;34m)\u001b[0m\u001b[0;34m,\u001b[0m \u001b[0mdtype\u001b[0m\u001b[0;34m=\u001b[0m\u001b[0mnp\u001b[0m\u001b[0;34m.\u001b[0m\u001b[0mint8\u001b[0m\u001b[0;34m)\u001b[0m\u001b[0;34m.\u001b[0m\u001b[0mtoarray\u001b[0m\u001b[0;34m(\u001b[0m\u001b[0;34m)\u001b[0m\u001b[0;34m\u001b[0m\u001b[0;34m\u001b[0m\u001b[0m\n\u001b[0m",
      "\u001b[0;32m/software/ac18804/miniconda3/envs/gpu_env/lib/python3.7/site-packages/scipy/sparse/bsr.py\u001b[0m in \u001b[0;36m__init__\u001b[0;34m(self, arg1, shape, dtype, copy, blocksize)\u001b[0m\n\u001b[1;32m    180\u001b[0m                     raise ValueError(\n\u001b[1;32m    181\u001b[0m                         'BSR data must be 3-dimensional, got shape=%s' % (\n\u001b[0;32m--> 182\u001b[0;31m                             self.data.shape,))\n\u001b[0m\u001b[1;32m    183\u001b[0m                 \u001b[0;32mif\u001b[0m \u001b[0mblocksize\u001b[0m \u001b[0;32mis\u001b[0m \u001b[0;32mnot\u001b[0m \u001b[0;32mNone\u001b[0m\u001b[0;34m:\u001b[0m\u001b[0;34m\u001b[0m\u001b[0;34m\u001b[0m\u001b[0m\n\u001b[1;32m    184\u001b[0m                     \u001b[0;32mif\u001b[0m \u001b[0;32mnot\u001b[0m \u001b[0misshape\u001b[0m\u001b[0;34m(\u001b[0m\u001b[0mblocksize\u001b[0m\u001b[0;34m)\u001b[0m\u001b[0;34m:\u001b[0m\u001b[0;34m\u001b[0m\u001b[0;34m\u001b[0m\u001b[0m\n",
      "\u001b[0;31mValueError\u001b[0m: BSR data must be 3-dimensional, got shape=()"
     ]
    }
   ],
   "source": []
  },
  {
   "cell_type": "code",
   "execution_count": 50,
   "metadata": {},
   "outputs": [
    {
     "data": {
      "image/png": "[encoded data removed]",
      "text/plain": [
       "<Figure size 432x288 with 2 Axes>"
      ]
     },
     "metadata": {
      "needs_background": "light"
     },
     "output_type": "display_data"
    },
    {
     "data": {
      "image/png": "[encoded data removed]",
      "text/plain": [
       "<Figure size 432x288 with 2 Axes>"
      ]
     },
     "metadata": {
      "needs_background": "light"
     },
     "output_type": "display_data"
    }
   ],
   "source": [
    "plt.imshow(grid_sg, cmap='jet')\n",
    "plt.xlabel('eta')\n",
    "plt.ylabel('phi')\n",
    "plt.colorbar()\n",
    "plt.suptitle(\"ttH\")\n",
    "plt.show()\n",
    "\n",
    "plt.imshow(grid_bg, cmap='jet')\n",
    "plt.xlabel('eta')\n",
    "plt.ylabel('phi')\n",
    "plt.colorbar()\n",
    "plt.suptitle(\"all ttbar background\")\n",
    "plt.show()"
   ]
  },
  {
   "cell_type": "code",
   "execution_count": 69,
   "metadata": {},
   "outputs": [],
   "source": [
    "def get_index(val, cat, res=0.17):\n",
    "\n",
    "    if cat == 'phi':\n",
    "        val += np.pi\n",
    "        # val = np.maximum()\n",
    "        idx = np.minimum(val // res, 44).astype(int)\n",
    "    if cat == 'eta':\n",
    "        val += 5\n",
    "        idx = np.minimum(val // res, 58).astype(int)\n",
    "    return idx\n",
    "\n",
    "jet_image = np.zeros((len(jet_data_arr), 45, 59), dtype=np.half)\n",
    "\n",
    "for idx, event in enumerate(jet_data_arr):\n",
    "    for i in range(14):\n",
    "        eta = get_index(event[i,0], 'eta')\n",
    "        phi = get_index(event[i, 1], 'phi')\n",
    "        jet_image[idx, phi, eta] = event[i,2]\n",
    "\n"
   ]
  },
  {
   "cell_type": "code",
   "execution_count": 83,
   "metadata": {},
   "outputs": [],
   "source": [
    "from sklearn.model_selection import train_test_split\n",
    "\n",
    "X_train, X_test, y_train, y_test = train_test_split(jet_image, labels, stratify=labels, random_state=42, test_size=0.2)"
   ]
  },
  {
   "cell_type": "code",
   "execution_count": 77,
   "metadata": {},
   "outputs": [
    {
     "data": {
      "text/plain": [
       "(306729,)"
      ]
     },
     "execution_count": 77,
     "metadata": {},
     "output_type": "execute_result"
    }
   ],
   "source": [
    "y_train.shape"
   ]
  },
  {
   "cell_type": "code",
   "execution_count": 81,
   "metadata": {},
   "outputs": [],
   "source": [
    "import tensorflow as tf\n",
    "from tensorflow import keras\n",
    "from tensorflow.keras.layers import Conv2D, MaxPooling2D, Input, Dense, Flatten\n",
    "from tensorflow.keras.models import Sequential, Model\n",
    "\n",
    "inp = Input(shape=list(X_train.shape[1:])+[1])\n",
    "conv1 = Conv2D(100, (2,2), strides=4, activation='relu', padding=\"SAME\")(inp)\n",
    "mp1 = MaxPooling2D(pool_size=2)(conv1)\n",
    "flat = Flatten()(mp1)\n",
    "out = Dense(1, activation=\"sigmoid\")(flat)\n",
    "model = Model(inputs=inp, outputs=out)\n",
    "model.compile(loss=\"binary_crossentropy\", optimizer=\"Nadam\")"
   ]
  },
  {
   "cell_type": "code",
   "execution_count": 91,
   "metadata": {},
   "outputs": [],
   "source": [
    "from sklearn.utils import class_weight\n",
    "\n",
    "class_weights = class_weight.compute_class_weight(class_weight='balanced', classes=np.unique(y_train), y=y_train)"
   ]
  },
  {
   "cell_type": "code",
   "execution_count": 94,
   "metadata": {},
   "outputs": [],
   "source": [
    "class_weights = {i:j for i,j in enumerate(class_weights)}"
   ]
  },
  {
   "cell_type": "code",
   "execution_count": 95,
   "metadata": {},
   "outputs": [
    {
     "name": "stdout",
     "output_type": "stream",
     "text": [
      "Epoch 1/3\n",
      "5113/5113 [==============================] - 12s 2ms/step - loss: 0.6791 - val_loss: 0.6771\n",
      "Epoch 2/3\n",
      "5113/5113 [==============================] - 10s 2ms/step - loss: 0.6786 - val_loss: 0.6875\n",
      "Epoch 3/3\n",
      "5113/5113 [==============================] - 11s 2ms/step - loss: 0.6784 - val_loss: 0.6747\n"
     ]
    },
    {
     "data": {
      "text/plain": [
       "<tensorflow.python.keras.callbacks.History at 0x7f113f5a1490>"
      ]
     },
     "execution_count": 95,
     "metadata": {},
     "output_type": "execute_result"
    }
   ],
   "source": [
    "model.fit(X_train, y_train, validation_data=(X_test, y_test), epochs=3, batch_size=64, class_weight=class_weights)"
   ]
  },
  {
   "cell_type": "code",
   "execution_count": 96,
   "metadata": {},
   "outputs": [
    {
     "data": {
      "text/plain": [
       "array([0.41952497, 0.5403764 , 0.41952497, ..., 0.47297165, 0.41952497,\n",
       "       0.4865431 ], dtype=float32)"
      ]
     },
     "execution_count": 96,
     "metadata": {},
     "output_type": "execute_result"
    }
   ],
   "source": [
    "preds = model.predict(X_test)\n",
    "preds.reshape(preds.shape[0])"
   ]
  },
  {
   "cell_type": "code",
   "execution_count": 97,
   "metadata": {},
   "outputs": [
    {
     "data": {
      "image/png": "[encoded data removed]",
      "text/plain": [
       "<Figure size 432x288 with 1 Axes>"
      ]
     },
     "metadata": {
      "needs_background": "light"
     },
     "output_type": "display_data"
    }
   ],
   "source": [
    "hist, bins, patches = plt.hist(preds[y_test==1], label='sg', histtype='step', bins='auto', density=True)\n",
    "plt.hist(preds[y_test==0], label='bg', histtype='step', bins=bins, density=True)\n",
    "plt.legend()\n",
    "plt.show()\n"
   ]
  }
 ],
 "metadata": {
  "interpreter": {
   "hash": "c2e2ea0b952c66ceda51979103fdf8edfe29aa7679439dc547cc0d53770fa32e"
  },
  "kernelspec": {
   "display_name": "Python 3.7.11 ('gpu_env')",
   "language": "python",
   "name": "python3"
  },
  "language_info": {
   "codemirror_mode": {
    "name": "ipython",
    "version": 3
   },
   "file_extension": ".py",
   "mimetype": "text/x-python",
   "name": "python",
   "nbconvert_exporter": "python",
   "pygments_lexer": "ipython3",
   "version": "3.7.11"
  },
  "orig_nbformat": 4
 },
 "nbformat": 4,
 "nbformat_minor": 2
}
