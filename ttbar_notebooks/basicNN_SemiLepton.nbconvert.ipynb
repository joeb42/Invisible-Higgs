{
 "cells": [
  {
   "cell_type": "code",
   "execution_count": 1,
   "metadata": {
    "execution": {
     "iopub.execute_input": "2021-12-09T21:15:14.456605Z",
     "iopub.status.busy": "2021-12-09T21:15:14.455308Z",
     "iopub.status.idle": "2021-12-09T21:15:19.236410Z",
     "shell.execute_reply": "2021-12-09T21:15:19.237428Z"
    }
   },
   "outputs": [],
   "source": [
    "import tensorflow as tf    \n",
    "from tensorflow import keras\n",
    "import numpy as np"
   ]
  },
  {
   "cell_type": "code",
   "execution_count": 2,
   "metadata": {
    "execution": {
     "iopub.execute_input": "2021-12-09T21:15:19.484395Z",
     "iopub.status.busy": "2021-12-09T21:15:19.483084Z",
     "iopub.status.idle": "2021-12-09T21:15:20.354070Z",
     "shell.execute_reply": "2021-12-09T21:15:20.355099Z"
    }
   },
   "outputs": [
    {
     "name": "stderr",
     "output_type": "stream",
     "text": [
      "2021-12-09 21:15:19.248939: I tensorflow/stream_executor/platform/default/dso_loader.cc:44] Successfully opened dynamic library libcuda.so.1\n",
      "2021-12-09 21:15:19.432944: I tensorflow/core/common_runtime/gpu/gpu_device.cc:1618] Found device 0 with properties: \n",
      "name: Tesla T4 major: 7 minor: 5 memoryClockRate(GHz): 1.59\n",
      "pciBusID: 0000:3b:00.0\n",
      "2021-12-09 21:15:19.434310: I tensorflow/core/common_runtime/gpu/gpu_device.cc:1618] Found device 1 with properties: \n",
      "name: Tesla T4 major: 7 minor: 5 memoryClockRate(GHz): 1.59\n",
      "pciBusID: 0000:5e:00.0\n",
      "2021-12-09 21:15:19.435626: I tensorflow/core/common_runtime/gpu/gpu_device.cc:1618] Found device 2 with properties: \n",
      "name: Tesla T4 major: 7 minor: 5 memoryClockRate(GHz): 1.59\n",
      "pciBusID: 0000:5f:00.0\n",
      "2021-12-09 21:15:19.436883: I tensorflow/core/common_runtime/gpu/gpu_device.cc:1618] Found device 3 with properties: \n",
      "name: Tesla T4 major: 7 minor: 5 memoryClockRate(GHz): 1.59\n",
      "pciBusID: 0000:88:00.0\n",
      "2021-12-09 21:15:19.438128: I tensorflow/core/common_runtime/gpu/gpu_device.cc:1618] Found device 4 with properties: \n",
      "name: Tesla T4 major: 7 minor: 5 memoryClockRate(GHz): 1.59\n",
      "pciBusID: 0000:af:00.0\n",
      "2021-12-09 21:15:19.439366: I tensorflow/core/common_runtime/gpu/gpu_device.cc:1618] Found device 5 with properties: \n",
      "name: Tesla T4 major: 7 minor: 5 memoryClockRate(GHz): 1.59\n",
      "pciBusID: 0000:d8:00.0\n",
      "2021-12-09 21:15:19.440891: I tensorflow/stream_executor/platform/default/dso_loader.cc:44] Successfully opened dynamic library libcudart.so.10.0\n",
      "2021-12-09 21:15:19.444240: I tensorflow/stream_executor/platform/default/dso_loader.cc:44] Successfully opened dynamic library libcublas.so.10.0\n",
      "2021-12-09 21:15:19.447398: I tensorflow/stream_executor/platform/default/dso_loader.cc:44] Successfully opened dynamic library libcufft.so.10.0\n",
      "2021-12-09 21:15:19.448998: I tensorflow/stream_executor/platform/default/dso_loader.cc:44] Successfully opened dynamic library libcurand.so.10.0\n",
      "2021-12-09 21:15:19.452674: I tensorflow/stream_executor/platform/default/dso_loader.cc:44] Successfully opened dynamic library libcusolver.so.10.0\n",
      "2021-12-09 21:15:19.455691: I tensorflow/stream_executor/platform/default/dso_loader.cc:44] Successfully opened dynamic library libcusparse.so.10.0\n",
      "2021-12-09 21:15:19.462811: I tensorflow/stream_executor/platform/default/dso_loader.cc:44] Successfully opened dynamic library libcudnn.so.7\n",
      "2021-12-09 21:15:19.477154: I tensorflow/core/common_runtime/gpu/gpu_device.cc:1746] Adding visible gpu devices: 0, 1, 2, 3, 4, 5\n",
      "2021-12-09 21:15:19.481275: I tensorflow/core/platform/cpu_feature_guard.cc:142] Your CPU supports instructions that this TensorFlow binary was not compiled to use: SSE4.1 SSE4.2 AVX AVX2 AVX512F FMA\n",
      "2021-12-09 21:15:19.501854: I tensorflow/core/platform/profile_utils/cpu_utils.cc:94] CPU Frequency: 2200000000 Hz\n",
      "2021-12-09 21:15:19.507074: I tensorflow/compiler/xla/service/service.cc:168] XLA service 0x5616124748c0 executing computations on platform Host. Devices:\n",
      "2021-12-09 21:15:19.507104: I tensorflow/compiler/xla/service/service.cc:175]   StreamExecutor device (0): Host, Default Version\n"
     ]
    },
    {
     "name": "stdout",
     "output_type": "stream",
     "text": [
      "Num GPUs Available:  6\n"
     ]
    },
    {
     "name": "stderr",
     "output_type": "stream",
     "text": [
      "2021-12-09 21:15:20.284053: I tensorflow/core/common_runtime/gpu/gpu_device.cc:1618] Found device 0 with properties: \n",
      "name: Tesla T4 major: 7 minor: 5 memoryClockRate(GHz): 1.59\n",
      "pciBusID: 0000:3b:00.0\n",
      "2021-12-09 21:15:20.284972: I tensorflow/core/common_runtime/gpu/gpu_device.cc:1618] Found device 1 with properties: \n",
      "name: Tesla T4 major: 7 minor: 5 memoryClockRate(GHz): 1.59\n",
      "pciBusID: 0000:5e:00.0\n",
      "2021-12-09 21:15:20.285845: I tensorflow/core/common_runtime/gpu/gpu_device.cc:1618] Found device 2 with properties: \n",
      "name: Tesla T4 major: 7 minor: 5 memoryClockRate(GHz): 1.59\n",
      "pciBusID: 0000:5f:00.0\n",
      "2021-12-09 21:15:20.286771: I tensorflow/core/common_runtime/gpu/gpu_device.cc:1618] Found device 3 with properties: \n",
      "name: Tesla T4 major: 7 minor: 5 memoryClockRate(GHz): 1.59\n",
      "pciBusID: 0000:88:00.0\n",
      "2021-12-09 21:15:20.287690: I tensorflow/core/common_runtime/gpu/gpu_device.cc:1618] Found device 4 with properties: \n",
      "name: Tesla T4 major: 7 minor: 5 memoryClockRate(GHz): 1.59\n",
      "pciBusID: 0000:af:00.0\n",
      "2021-12-09 21:15:20.288627: I tensorflow/core/common_runtime/gpu/gpu_device.cc:1618] Found device 5 with properties: \n",
      "name: Tesla T4 major: 7 minor: 5 memoryClockRate(GHz): 1.59\n",
      "pciBusID: 0000:d8:00.0\n",
      "2021-12-09 21:15:20.288690: I tensorflow/stream_executor/platform/default/dso_loader.cc:44] Successfully opened dynamic library libcudart.so.10.0\n",
      "2021-12-09 21:15:20.288702: I tensorflow/stream_executor/platform/default/dso_loader.cc:44] Successfully opened dynamic library libcublas.so.10.0\n",
      "2021-12-09 21:15:20.288712: I tensorflow/stream_executor/platform/default/dso_loader.cc:44] Successfully opened dynamic library libcufft.so.10.0\n",
      "2021-12-09 21:15:20.288722: I tensorflow/stream_executor/platform/default/dso_loader.cc:44] Successfully opened dynamic library libcurand.so.10.0\n",
      "2021-12-09 21:15:20.288732: I tensorflow/stream_executor/platform/default/dso_loader.cc:44] Successfully opened dynamic library libcusolver.so.10.0\n",
      "2021-12-09 21:15:20.288742: I tensorflow/stream_executor/platform/default/dso_loader.cc:44] Successfully opened dynamic library libcusparse.so.10.0\n",
      "2021-12-09 21:15:20.288751: I tensorflow/stream_executor/platform/default/dso_loader.cc:44] Successfully opened dynamic library libcudnn.so.7\n",
      "2021-12-09 21:15:20.298240: I tensorflow/core/common_runtime/gpu/gpu_device.cc:1746] Adding visible gpu devices: 0, 1, 2, 3, 4, 5\n",
      "2021-12-09 21:15:20.298288: I tensorflow/stream_executor/platform/default/dso_loader.cc:44] Successfully opened dynamic library libcudart.so.10.0\n",
      "2021-12-09 21:15:20.303978: I tensorflow/core/common_runtime/gpu/gpu_device.cc:1159] Device interconnect StreamExecutor with strength 1 edge matrix:\n",
      "2021-12-09 21:15:20.303995: I tensorflow/core/common_runtime/gpu/gpu_device.cc:1165]      0 1 2 3 4 5 \n",
      "2021-12-09 21:15:20.304005: I tensorflow/core/common_runtime/gpu/gpu_device.cc:1178] 0:   N Y Y Y Y Y \n",
      "2021-12-09 21:15:20.304010: I tensorflow/core/common_runtime/gpu/gpu_device.cc:1178] 1:   Y N Y Y Y Y \n",
      "2021-12-09 21:15:20.304014: I tensorflow/core/common_runtime/gpu/gpu_device.cc:1178] 2:   Y Y N Y Y Y \n",
      "2021-12-09 21:15:20.304018: I tensorflow/core/common_runtime/gpu/gpu_device.cc:1178] 3:   Y Y Y N Y Y \n",
      "2021-12-09 21:15:20.304023: I tensorflow/core/common_runtime/gpu/gpu_device.cc:1178] 4:   Y Y Y Y N Y \n",
      "2021-12-09 21:15:20.304027: I tensorflow/core/common_runtime/gpu/gpu_device.cc:1178] 5:   Y Y Y Y Y N \n",
      "2021-12-09 21:15:20.310698: I tensorflow/core/common_runtime/gpu/gpu_device.cc:1304] Created TensorFlow device (/device:GPU:0 with 14049 MB memory) -> physical GPU (device: 0, name: Tesla T4, pci bus id: 0000:3b:00.0, compute capability: 7.5)\n",
      "2021-12-09 21:15:20.316000: I tensorflow/core/common_runtime/gpu/gpu_device.cc:1304] Created TensorFlow device (/device:GPU:1 with 14249 MB memory) -> physical GPU (device: 1, name: Tesla T4, pci bus id: 0000:5e:00.0, compute capability: 7.5)\n",
      "2021-12-09 21:15:20.320747: I tensorflow/core/common_runtime/gpu/gpu_device.cc:1304] Created TensorFlow device (/device:GPU:2 with 14249 MB memory) -> physical GPU (device: 2, name: Tesla T4, pci bus id: 0000:5f:00.0, compute capability: 7.5)\n",
      "2021-12-09 21:15:20.324769: I tensorflow/core/common_runtime/gpu/gpu_device.cc:1304] Created TensorFlow device (/device:GPU:3 with 14249 MB memory) -> physical GPU (device: 3, name: Tesla T4, pci bus id: 0000:88:00.0, compute capability: 7.5)\n",
      "2021-12-09 21:15:20.329164: I tensorflow/core/common_runtime/gpu/gpu_device.cc:1304] Created TensorFlow device (/device:GPU:4 with 14249 MB memory) -> physical GPU (device: 4, name: Tesla T4, pci bus id: 0000:af:00.0, compute capability: 7.5)\n",
      "2021-12-09 21:15:20.333379: I tensorflow/core/common_runtime/gpu/gpu_device.cc:1304] Created TensorFlow device (/device:GPU:5 with 14249 MB memory) -> physical GPU (device: 5, name: Tesla T4, pci bus id: 0000:d8:00.0, compute capability: 7.5)\n",
      "2021-12-09 21:15:20.338743: I tensorflow/compiler/xla/service/service.cc:168] XLA service 0x561614d0bd70 executing computations on platform CUDA. Devices:\n",
      "2021-12-09 21:15:20.338773: I tensorflow/compiler/xla/service/service.cc:175]   StreamExecutor device (0): Tesla T4, Compute Capability 7.5\n",
      "2021-12-09 21:15:20.338784: I tensorflow/compiler/xla/service/service.cc:175]   StreamExecutor device (1): Tesla T4, Compute Capability 7.5\n",
      "2021-12-09 21:15:20.338793: I tensorflow/compiler/xla/service/service.cc:175]   StreamExecutor device (2): Tesla T4, Compute Capability 7.5\n",
      "2021-12-09 21:15:20.338801: I tensorflow/compiler/xla/service/service.cc:175]   StreamExecutor device (3): Tesla T4, Compute Capability 7.5\n",
      "2021-12-09 21:15:20.338824: I tensorflow/compiler/xla/service/service.cc:175]   StreamExecutor device (4): Tesla T4, Compute Capability 7.5\n",
      "2021-12-09 21:15:20.338844: I tensorflow/compiler/xla/service/service.cc:175]   StreamExecutor device (5): Tesla T4, Compute Capability 7.5\n"
     ]
    }
   ],
   "source": [
    "all_devices = len(tf.config.experimental.list_physical_devices('GPU'))\n",
    "print(\"Num GPUs Available: \", all_devices)\n",
    "physical_devices=tf.config.experimental.list_physical_devices('GPU')\n",
    "gpus= tf.config.experimental.list_physical_devices('GPU')\n",
    "for i in range(0,all_devices):\n",
    "    tf.config.experimental.set_memory_growth(gpus[i], True)\n",
    "\n",
    "mirrored_strategy = tf.distribute.MirroredStrategy(devices=[f\"/GPU:{GPU_id}\" for GPU_id in range (0,6)])"
   ]
  },
  {
   "cell_type": "code",
   "execution_count": 3,
   "metadata": {
    "execution": {
     "iopub.execute_input": "2021-12-09T21:15:20.362902Z",
     "iopub.status.busy": "2021-12-09T21:15:20.361698Z",
     "iopub.status.idle": "2021-12-09T21:15:20.416777Z",
     "shell.execute_reply": "2021-12-09T21:15:20.417811Z"
    }
   },
   "outputs": [
    {
     "data": {
      "text/plain": [
       "(327177, 11)"
      ]
     },
     "execution_count": 3,
     "metadata": {},
     "output_type": "execute_result"
    }
   ],
   "source": [
    "X_train, X_test, y_train, y_test = np.load('full_data_binary.npy', allow_pickle=True)\n",
    "X_train.shape"
   ]
  },
  {
   "cell_type": "code",
   "execution_count": 4,
   "metadata": {
    "execution": {
     "iopub.execute_input": "2021-12-09T21:15:20.427038Z",
     "iopub.status.busy": "2021-12-09T21:15:20.425911Z",
     "iopub.status.idle": "2021-12-09T21:15:20.429520Z",
     "shell.execute_reply": "2021-12-09T21:15:20.428591Z"
    }
   },
   "outputs": [],
   "source": [
    "y_train, y_test = y_train.values, y_test.values"
   ]
  },
  {
   "cell_type": "code",
   "execution_count": 5,
   "metadata": {
    "execution": {
     "iopub.execute_input": "2021-12-09T21:15:20.437043Z",
     "iopub.status.busy": "2021-12-09T21:15:20.435986Z",
     "iopub.status.idle": "2021-12-09T21:15:20.439451Z",
     "shell.execute_reply": "2021-12-09T21:15:20.440299Z"
    }
   },
   "outputs": [
    {
     "name": "stdout",
     "output_type": "stream",
     "text": [
      "Total training samples:  327177 \n",
      "positives:  79444 \n",
      "negatives:  247733\n",
      "Postive weight:  2.0591674638739237 \n",
      "Negative weight:  0.660341981084474\n"
     ]
    }
   ],
   "source": [
    "# Imbalanced dataset so want to adjusts weights of signal and background training examples\n",
    "tot = len(y_train)\n",
    "pos = np.sum(y_train == 1)\n",
    "neg = tot - pos\n",
    "print(f'Total training samples:  {tot} \\npositives:  {pos} \\nnegatives:  {neg}')\n",
    "\n",
    "# weight positives more than negatives\n",
    "weight_for_0 = (1 / neg) * (tot / 2.0)\n",
    "weight_for_1 = (1 / pos) * (tot / 2.0)\n",
    "\n",
    "class_weight = {0: weight_for_0, 1: weight_for_1}\n",
    "print(f'Postive weight:  {weight_for_1} \\nNegative weight:  {weight_for_0}')"
   ]
  },
  {
   "cell_type": "code",
   "execution_count": 6,
   "metadata": {
    "execution": {
     "iopub.execute_input": "2021-12-09T21:15:20.449810Z",
     "iopub.status.busy": "2021-12-09T21:15:20.448838Z",
     "iopub.status.idle": "2021-12-09T21:15:22.230089Z",
     "shell.execute_reply": "2021-12-09T21:15:22.228972Z"
    }
   },
   "outputs": [
    {
     "name": "stderr",
     "output_type": "stream",
     "text": [
      "2021-12-09 21:15:21.375118: I tensorflow/core/common_runtime/gpu/gpu_device.cc:1618] Found device 0 with properties: \n",
      "name: Tesla T4 major: 7 minor: 5 memoryClockRate(GHz): 1.59\n",
      "pciBusID: 0000:3b:00.0\n",
      "2021-12-09 21:15:21.376712: I tensorflow/core/common_runtime/gpu/gpu_device.cc:1618] Found device 1 with properties: \n",
      "name: Tesla T4 major: 7 minor: 5 memoryClockRate(GHz): 1.59\n",
      "pciBusID: 0000:5e:00.0\n",
      "2021-12-09 21:15:21.378188: I tensorflow/core/common_runtime/gpu/gpu_device.cc:1618] Found device 2 with properties: \n",
      "name: Tesla T4 major: 7 minor: 5 memoryClockRate(GHz): 1.59\n",
      "pciBusID: 0000:5f:00.0\n",
      "2021-12-09 21:15:21.379646: I tensorflow/core/common_runtime/gpu/gpu_device.cc:1618] Found device 3 with properties: \n",
      "name: Tesla T4 major: 7 minor: 5 memoryClockRate(GHz): 1.59\n",
      "pciBusID: 0000:88:00.0\n",
      "2021-12-09 21:15:21.382158: I tensorflow/core/common_runtime/gpu/gpu_device.cc:1618] Found device 4 with properties: \n",
      "name: Tesla T4 major: 7 minor: 5 memoryClockRate(GHz): 1.59\n",
      "pciBusID: 0000:af:00.0\n",
      "2021-12-09 21:15:21.383632: I tensorflow/core/common_runtime/gpu/gpu_device.cc:1618] Found device 5 with properties: \n",
      "name: Tesla T4 major: 7 minor: 5 memoryClockRate(GHz): 1.59\n",
      "pciBusID: 0000:d8:00.0\n",
      "2021-12-09 21:15:21.383691: I tensorflow/stream_executor/platform/default/dso_loader.cc:44] Successfully opened dynamic library libcudart.so.10.0\n",
      "2021-12-09 21:15:21.383715: I tensorflow/stream_executor/platform/default/dso_loader.cc:44] Successfully opened dynamic library libcublas.so.10.0\n",
      "2021-12-09 21:15:21.383742: I tensorflow/stream_executor/platform/default/dso_loader.cc:44] Successfully opened dynamic library libcufft.so.10.0\n",
      "2021-12-09 21:15:21.383774: I tensorflow/stream_executor/platform/default/dso_loader.cc:44] Successfully opened dynamic library libcurand.so.10.0\n",
      "2021-12-09 21:15:21.383793: I tensorflow/stream_executor/platform/default/dso_loader.cc:44] Successfully opened dynamic library libcusolver.so.10.0\n",
      "2021-12-09 21:15:21.383824: I tensorflow/stream_executor/platform/default/dso_loader.cc:44] Successfully opened dynamic library libcusparse.so.10.0\n",
      "2021-12-09 21:15:21.383867: I tensorflow/stream_executor/platform/default/dso_loader.cc:44] Successfully opened dynamic library libcudnn.so.7\n",
      "2021-12-09 21:15:21.400592: I tensorflow/core/common_runtime/gpu/gpu_device.cc:1746] Adding visible gpu devices: 0, 1, 2, 3, 4, 5\n",
      "2021-12-09 21:15:21.401105: I tensorflow/core/common_runtime/gpu/gpu_device.cc:1159] Device interconnect StreamExecutor with strength 1 edge matrix:\n",
      "2021-12-09 21:15:21.401121: I tensorflow/core/common_runtime/gpu/gpu_device.cc:1165]      0 1 2 3 4 5 \n",
      "2021-12-09 21:15:21.401131: I tensorflow/core/common_runtime/gpu/gpu_device.cc:1178] 0:   N Y Y Y Y Y \n",
      "2021-12-09 21:15:21.401139: I tensorflow/core/common_runtime/gpu/gpu_device.cc:1178] 1:   Y N Y Y Y Y \n",
      "2021-12-09 21:15:21.401147: I tensorflow/core/common_runtime/gpu/gpu_device.cc:1178] 2:   Y Y N Y Y Y \n",
      "2021-12-09 21:15:21.401154: I tensorflow/core/common_runtime/gpu/gpu_device.cc:1178] 3:   Y Y Y N Y Y \n",
      "2021-12-09 21:15:21.401162: I tensorflow/core/common_runtime/gpu/gpu_device.cc:1178] 4:   Y Y Y Y N Y \n",
      "2021-12-09 21:15:21.401170: I tensorflow/core/common_runtime/gpu/gpu_device.cc:1178] 5:   Y Y Y Y Y N \n",
      "2021-12-09 21:15:21.410764: I tensorflow/core/common_runtime/gpu/gpu_device.cc:1304] Created TensorFlow device (/job:localhost/replica:0/task:0/device:GPU:0 with 14049 MB memory) -> physical GPU (device: 0, name: Tesla T4, pci bus id: 0000:3b:00.0, compute capability: 7.5)\n",
      "2021-12-09 21:15:21.412109: I tensorflow/core/common_runtime/gpu/gpu_device.cc:1304] Created TensorFlow device (/job:localhost/replica:0/task:0/device:GPU:1 with 14249 MB memory) -> physical GPU (device: 1, name: Tesla T4, pci bus id: 0000:5e:00.0, compute capability: 7.5)\n",
      "2021-12-09 21:15:21.413442: I tensorflow/core/common_runtime/gpu/gpu_device.cc:1304] Created TensorFlow device (/job:localhost/replica:0/task:0/device:GPU:2 with 14249 MB memory) -> physical GPU (device: 2, name: Tesla T4, pci bus id: 0000:5f:00.0, compute capability: 7.5)\n",
      "2021-12-09 21:15:21.414792: I tensorflow/core/common_runtime/gpu/gpu_device.cc:1304] Created TensorFlow device (/job:localhost/replica:0/task:0/device:GPU:3 with 14249 MB memory) -> physical GPU (device: 3, name: Tesla T4, pci bus id: 0000:88:00.0, compute capability: 7.5)\n",
      "2021-12-09 21:15:21.416147: I tensorflow/core/common_runtime/gpu/gpu_device.cc:1304] Created TensorFlow device (/job:localhost/replica:0/task:0/device:GPU:4 with 14249 MB memory) -> physical GPU (device: 4, name: Tesla T4, pci bus id: 0000:af:00.0, compute capability: 7.5)\n",
      "2021-12-09 21:15:21.417492: I tensorflow/core/common_runtime/gpu/gpu_device.cc:1304] Created TensorFlow device (/job:localhost/replica:0/task:0/device:GPU:5 with 14249 MB memory) -> physical GPU (device: 5, name: Tesla T4, pci bus id: 0000:d8:00.0, compute capability: 7.5)\n"
     ]
    }
   ],
   "source": [
    "import keras_tuner as kt\n",
    "\n",
    "def build_model(hp):\n",
    "    model = keras.models.Sequential([\n",
    "                                   keras.layers.Flatten(input_shape=(11,))\n",
    "  ])\n",
    "    for _ in range(hp.Int('layers', 2, 5)):\n",
    "        model.add(keras.layers.Dense(hp.Int('units', min_value=100, max_value=500, step=100)))\n",
    "        if hp.Boolean(\"dropout\"):\n",
    "            model.add(keras.layers.Dropout(rate=0.2))\n",
    "    \n",
    "    model.add(keras.layers.Dense(1, activation='sigmoid'))\n",
    "    model.compile(loss='binary_crossentropy', optimizer=hp.Choice('optimizer', ['Adam', 'Nadam']), metrics=[keras.metrics.BinaryAccuracy(name='accuracy'), keras.metrics.Precision(name='precision'),\n",
    "    keras.metrics.Recall(name='recall')])\n",
    "    return model\n",
    "\n",
    "tuner = kt.RandomSearch(build_model, objective='val_loss', max_trials=20, overwrite=True)\n",
    "\n"
   ]
  },
  {
   "cell_type": "code",
   "execution_count": 7,
   "metadata": {
    "execution": {
     "iopub.execute_input": "2021-12-09T21:15:22.236692Z",
     "iopub.status.busy": "2021-12-09T21:15:22.235462Z",
     "iopub.status.idle": "2021-12-10T00:17:41.364294Z",
     "shell.execute_reply": "2021-12-10T00:17:41.363299Z"
    }
   },
   "outputs": [
    {
     "name": "stdout",
     "output_type": "stream",
     "text": [
      "Trial 20 Complete [00h 10m 53s]\n",
      "val_loss: 0.5520776534183982\n",
      "\n",
      "Best val_loss So Far: 0.5509150295270977\n",
      "Total elapsed time: 03h 02m 19s\n",
      "INFO:tensorflow:Oracle triggered exit\n"
     ]
    }
   ],
   "source": [
    "tuner.search(X_train, y_train, epochs=10,  validation_data=(X_test,y_test), workers=all_devices, class_weight=class_weight)"
   ]
  },
  {
   "cell_type": "code",
   "execution_count": 8,
   "metadata": {
    "execution": {
     "iopub.execute_input": "2021-12-10T00:17:41.375111Z",
     "iopub.status.busy": "2021-12-10T00:17:41.373762Z",
     "iopub.status.idle": "2021-12-10T00:17:41.378223Z",
     "shell.execute_reply": "2021-12-10T00:17:41.379023Z"
    }
   },
   "outputs": [
    {
     "data": {
      "text/plain": [
       "{'layers': 3, 'units': 400, 'dropout': False, 'optimizer': 'Adam'}"
      ]
     },
     "execution_count": 8,
     "metadata": {},
     "output_type": "execute_result"
    }
   ],
   "source": [
    "bestHP = tuner.get_best_hyperparameters(num_trials=1)[0]\n",
    "bestHP.values"
   ]
  },
  {
   "cell_type": "code",
   "execution_count": 9,
   "metadata": {
    "execution": {
     "iopub.execute_input": "2021-12-10T00:17:41.390809Z",
     "iopub.status.busy": "2021-12-10T00:17:41.388221Z",
     "iopub.status.idle": "2021-12-10T00:17:42.214350Z",
     "shell.execute_reply": "2021-12-10T00:17:42.213156Z"
    }
   },
   "outputs": [],
   "source": [
    "best_model = build_model(bestHP)\n",
    "best_model.save('Event_best_model_1_epochs.h5')"
   ]
  },
  {
   "cell_type": "code",
   "execution_count": 10,
   "metadata": {
    "execution": {
     "iopub.execute_input": "2021-12-10T00:17:42.225632Z",
     "iopub.status.busy": "2021-12-10T00:17:42.224199Z",
     "iopub.status.idle": "2021-12-10T00:17:42.227724Z",
     "shell.execute_reply": "2021-12-10T00:17:42.228666Z"
    }
   },
   "outputs": [],
   "source": [
    "# Set up tensorboard stuff\n",
    "import os\n",
    "import time\n",
    "\n",
    "\n",
    "def get_run_logdir():\n",
    "    \"\"\"Create filename for log with date and time\"\"\" \n",
    "    root_logdir = os.path.join(os.curdir, 'my_logs')\n",
    "    run_id = time.strftime(\"run_%Y_%m_%d-%H_%M_%S\") \n",
    "    return os.path.join(root_logdir, run_id)\n",
    "\n",
    "tensorboard_cb = keras.callbacks.TensorBoard(get_run_logdir())"
   ]
  },
  {
   "cell_type": "code",
   "execution_count": 11,
   "metadata": {
    "execution": {
     "iopub.execute_input": "2021-12-10T00:17:42.273796Z",
     "iopub.status.busy": "2021-12-10T00:17:42.253298Z",
     "iopub.status.idle": "2021-12-10T00:29:06.228578Z",
     "shell.execute_reply": "2021-12-10T00:29:06.227361Z"
    }
   },
   "outputs": [
    {
     "name": "stdout",
     "output_type": "stream",
     "text": [
      "Train on 327177 samples, validate on 81795 samples\n",
      "Epoch 1/20\n",
      "WARNING:tensorflow:Method (on_train_batch_end) is slow compared to the batch update (1.333114). Check your callbacks.\n",
      "    32/327177 [..............................] - ETA: 6:07:23 - loss: 0.8707 - accuracy: 0.4688 - precision: 0.3889 - recall: 0.5385"
     ]
    },
    {
     "name": "stderr",
     "output_type": "stream",
     "text": [
      "2021-12-10 00:17:44.780783: I tensorflow/core/profiler/lib/profiler_session.cc:184] Profiler session started.\n",
      "2021-12-10 00:17:45.400004: I tensorflow/stream_executor/platform/default/dso_loader.cc:44] Successfully opened dynamic library libcupti.so.10.0\n",
      "2021-12-10 00:17:46.136924: I tensorflow/core/platform/default/device_tracer.cc:588] Collecting 122 kernel records, 19 memcpy records.\n"
     ]
    },
    {
     "name": "stdout",
     "output_type": "stream",
     "text": [
      "WARNING:tensorflow:Method (on_train_batch_end) is slow compared to the batch update (0.815975). Check your callbacks.\n",
      "    64/327177 [..............................] - ETA: 3:30:37 - loss: 0.7745 - accuracy: 0.5781 - precision: 0.4706 - recall: 0.6400WARNING:tensorflow:Method (on_train_batch_end) is slow compared to the batch update (0.298837). Check your callbacks.\n",
      "WARNING:tensorflow:Method (on_train_batch_end) is slow compared to the batch update (0.149442). Check your callbacks.\n",
      "327177/327177 [==============================] - 48s 146us/sample - loss: 0.5556 - accuracy: 0.7240 - precision: 0.4566 - recall: 0.7171 - val_loss: 0.5559 - val_accuracy: 0.7298 - val_precision: 0.4631 - val_recall: 0.7088\n",
      "Epoch 2/20\n",
      "327177/327177 [==============================] - 43s 131us/sample - loss: 0.5532 - accuracy: 0.7255 - precision: 0.4584 - recall: 0.7187 - val_loss: 0.5575 - val_accuracy: 0.7193 - val_precision: 0.4517 - val_recall: 0.7304\n",
      "Epoch 3/20\n",
      "327177/327177 [==============================] - 46s 141us/sample - loss: 0.5530 - accuracy: 0.7254 - precision: 0.4583 - recall: 0.7195 - val_loss: 0.5527 - val_accuracy: 0.7340 - val_precision: 0.4682 - val_recall: 0.7032\n",
      "Epoch 4/20\n",
      "327177/327177 [==============================] - 44s 133us/sample - loss: 0.5527 - accuracy: 0.7253 - precision: 0.4582 - recall: 0.7182 - val_loss: 0.5514 - val_accuracy: 0.7267 - val_precision: 0.4597 - val_recall: 0.7167\n",
      "Epoch 5/20\n",
      "327177/327177 [==============================] - 43s 132us/sample - loss: 0.5524 - accuracy: 0.7261 - precision: 0.4591 - recall: 0.7187 - val_loss: 0.5526 - val_accuracy: 0.7187 - val_precision: 0.4514 - val_recall: 0.7355\n",
      "Epoch 6/20\n",
      "327177/327177 [==============================] - 44s 135us/sample - loss: 0.5523 - accuracy: 0.7254 - precision: 0.4583 - recall: 0.7190 - val_loss: 0.5512 - val_accuracy: 0.7294 - val_precision: 0.4629 - val_recall: 0.7156\n",
      "Epoch 7/20\n",
      "327177/327177 [==============================] - 46s 140us/sample - loss: 0.5523 - accuracy: 0.7256 - precision: 0.4585 - recall: 0.7186 - val_loss: 0.5522 - val_accuracy: 0.7269 - val_precision: 0.4598 - val_recall: 0.7132\n",
      "Epoch 8/20\n",
      "327177/327177 [==============================] - 46s 140us/sample - loss: 0.5522 - accuracy: 0.7258 - precision: 0.4588 - recall: 0.7181 - val_loss: 0.5521 - val_accuracy: 0.7220 - val_precision: 0.4547 - val_recall: 0.7273\n",
      "Epoch 9/20\n",
      "327177/327177 [==============================] - 47s 144us/sample - loss: 0.5522 - accuracy: 0.7258 - precision: 0.4588 - recall: 0.7190 - val_loss: 0.5519 - val_accuracy: 0.7354 - val_precision: 0.4698 - val_recall: 0.6991\n",
      "Epoch 10/20\n",
      "327177/327177 [==============================] - 46s 141us/sample - loss: 0.5523 - accuracy: 0.7260 - precision: 0.4589 - recall: 0.7184 - val_loss: 0.5510 - val_accuracy: 0.7246 - val_precision: 0.4575 - val_recall: 0.7216\n",
      "Epoch 11/20\n",
      "327177/327177 [==============================] - 48s 145us/sample - loss: 0.5521 - accuracy: 0.7257 - precision: 0.4587 - recall: 0.7190 - val_loss: 0.5518 - val_accuracy: 0.7348 - val_precision: 0.4691 - val_recall: 0.7015\n",
      "Epoch 12/20\n",
      "327177/327177 [==============================] - 46s 141us/sample - loss: 0.5521 - accuracy: 0.7264 - precision: 0.4595 - recall: 0.7191 - val_loss: 0.5520 - val_accuracy: 0.7268 - val_precision: 0.4597 - val_recall: 0.7150\n",
      "Epoch 13/20\n",
      "327177/327177 [==============================] - 45s 137us/sample - loss: 0.5521 - accuracy: 0.7257 - precision: 0.4586 - recall: 0.7180 - val_loss: 0.5515 - val_accuracy: 0.7288 - val_precision: 0.4623 - val_recall: 0.7171\n",
      "Epoch 14/20\n",
      "327177/327177 [==============================] - 46s 142us/sample - loss: 0.5520 - accuracy: 0.7261 - precision: 0.4591 - recall: 0.7185 - val_loss: 0.5581 - val_accuracy: 0.7028 - val_precision: 0.4355 - val_recall: 0.7565\n",
      "Epoch 15/20\n",
      "327177/327177 [==============================] - 45s 136us/sample - loss: 0.5520 - accuracy: 0.7261 - precision: 0.4591 - recall: 0.7187 - val_loss: 0.5526 - val_accuracy: 0.7242 - val_precision: 0.4571 - val_recall: 0.7252\n"
     ]
    }
   ],
   "source": [
    "history = best_model.fit(X_train, y_train, epochs=20, validation_data=[X_test, y_test], class_weight=class_weight, callbacks=[keras.callbacks.EarlyStopping(patience=5),tensorboard_cb])\n",
    "best_model.save('Event_best_model_20_epochs.h5')"
   ]
  },
  {
   "cell_type": "code",
   "execution_count": null,
   "metadata": {},
   "outputs": [],
   "source": [
    "from tensorflow import keras\n",
    "\n",
    "tuned_model = keras.models.load_model(\"Event_best_model_20_epochs.h5\")\n",
    "# Get predictions for test set\n",
    "y_pred = tuned_model.predict()"
   ]
  },
  {
   "cell_type": "code",
   "execution_count": 12,
   "metadata": {
    "execution": {
     "iopub.execute_input": "2021-12-10T00:29:06.235789Z",
     "iopub.status.busy": "2021-12-10T00:29:06.234615Z",
     "iopub.status.idle": "2021-12-10T00:29:06.237992Z",
     "shell.execute_reply": "2021-12-10T00:29:06.237067Z"
    }
   },
   "outputs": [],
   "source": [
    "# class Model:\n",
    "\n",
    "#     def __init__(self, data_path='SL_Higgs_input_data.npy', model):\n",
    "\n",
    "#         data = np.load(data_path)\n",
    "#         self.X_train, self.X_test, self.y_train, self.y_test = data\n",
    "#         self.model = model\n",
    "#         tot = len(self.y_train)\n",
    "#         pos = np.sum(self.y_train == 1)\n",
    "#         neg = tot - pos\n",
    "#         weight_for_0 = (1 / neg) * (tot / 2.0)\n",
    "#         weight_for_1 = (1 / pos) * (tot / 2.0)\n",
    "#         self.weights = {0: weight_for_0, 1: weight_for_1}\n",
    "        \n",
    "    \n",
    "#     def fit(self, epochs=50):\n",
    "#         self.history = self.model.fit()\n",
    "\n",
    "        \n",
    "\n",
    "\n"
   ]
  },
  {
   "cell_type": "code",
   "execution_count": 13,
   "metadata": {
    "execution": {
     "iopub.execute_input": "2021-12-10T00:29:06.242897Z",
     "iopub.status.busy": "2021-12-10T00:29:06.241735Z",
     "iopub.status.idle": "2021-12-10T00:29:06.245083Z",
     "shell.execute_reply": "2021-12-10T00:29:06.244178Z"
    }
   },
   "outputs": [],
   "source": [
    "# Compile model with PR metrics as well as accuracy \n",
    "# model.compile(loss='binary_crossentropy', optimizer='Nadam', metrics=[keras.metrics.BinaryAccuracy(name='accuracy'),\n",
    "#       keras.metrics.Precision(name='precision'),\n",
    "#       keras.metrics.Recall(name='recall')])"
   ]
  },
  {
   "cell_type": "code",
   "execution_count": 14,
   "metadata": {
    "execution": {
     "iopub.execute_input": "2021-12-10T00:29:06.250185Z",
     "iopub.status.busy": "2021-12-10T00:29:06.249033Z",
     "iopub.status.idle": "2021-12-10T00:29:06.251376Z",
     "shell.execute_reply": "2021-12-10T00:29:06.252284Z"
    }
   },
   "outputs": [],
   "source": [
    "# # Set up tensorboard stuff\n",
    "# import os\n",
    "# import time\n",
    "\n",
    "\n",
    "# def get_run_logdir():\n",
    "#     \"\"\"Create filename for log with date and time\"\"\" \n",
    "#     root_logdir = os.path.join(os.curdir, 'my_logs')\n",
    "#     run_id = time.strftime(\"run_%Y_%m_%d-%H_%M_%S\") \n",
    "#     return os.path.join(root_logdir, run_id)\n",
    "\n",
    "# tensorboard_cb = keras.callbacks.TensorBoard(get_run_logdir())"
   ]
  },
  {
   "cell_type": "code",
   "execution_count": 15,
   "metadata": {
    "execution": {
     "iopub.execute_input": "2021-12-10T00:29:06.256980Z",
     "iopub.status.busy": "2021-12-10T00:29:06.255930Z",
     "iopub.status.idle": "2021-12-10T00:29:06.258079Z",
     "shell.execute_reply": "2021-12-10T00:29:06.258924Z"
    }
   },
   "outputs": [],
   "source": [
    "# fit model for 20 epochs\n",
    "\n",
    "# history = model.fit(X_train_scaled, y_train, epochs=20, validation_data=(X_test_scaled, y_test), callbacks=[tensorboard_cb], class_weight=class_weight)"
   ]
  },
  {
   "cell_type": "code",
   "execution_count": 16,
   "metadata": {
    "execution": {
     "iopub.execute_input": "2021-12-10T00:29:06.263602Z",
     "iopub.status.busy": "2021-12-10T00:29:06.262575Z",
     "iopub.status.idle": "2021-12-10T00:29:06.264619Z",
     "shell.execute_reply": "2021-12-10T00:29:06.265403Z"
    }
   },
   "outputs": [],
   "source": [
    "# from sklearn.metrics import roc_curve\n",
    "\n",
    "# y_pred = model.predict(X_test_scaled).ravel()\n",
    "# fpr, tpr, thresholds = roc_curve(y_test, y_pred)"
   ]
  },
  {
   "cell_type": "code",
   "execution_count": 17,
   "metadata": {
    "execution": {
     "iopub.execute_input": "2021-12-10T00:29:06.269867Z",
     "iopub.status.busy": "2021-12-10T00:29:06.268907Z",
     "iopub.status.idle": "2021-12-10T00:29:06.270880Z",
     "shell.execute_reply": "2021-12-10T00:29:06.271653Z"
    }
   },
   "outputs": [],
   "source": [
    "# import matplotlib.pyplot as plt\n",
    "\n",
    "# plt.plot(fpr, tpr)\n",
    "# plt.plot(np.linspace(0,1,100), np.linspace(0,1,100), linestyle='dashed', linewidth=0.5, color='k')\n",
    "# plt.xlabel('fpr')\n",
    "# plt.ylabel('tpr')\n",
    "# plt.savefig('ROC_basic_model.png', dpi=300)\n",
    "# plt.show()"
   ]
  },
  {
   "cell_type": "code",
   "execution_count": 18,
   "metadata": {
    "execution": {
     "iopub.execute_input": "2021-12-10T00:29:06.276634Z",
     "iopub.status.busy": "2021-12-10T00:29:06.275659Z",
     "iopub.status.idle": "2021-12-10T00:29:06.277660Z",
     "shell.execute_reply": "2021-12-10T00:29:06.278445Z"
    }
   },
   "outputs": [],
   "source": [
    "# from tensorflow.keras.wrappers.scikit_learn import KerasClassifier\n",
    "# from sklearn.model_selection import RandomizedSearchCV\n",
    "\n",
    "# def build_model(units, layers):\n",
    "#   model = keras.models.Sequential([\n",
    "#                                    keras.layers.Flatten(input_shape=(11,))\n",
    "#   ])\n",
    "#   for _ in range(layers):\n",
    "#     model.add(keras.layers.Dense(units, activation='selu', kernel_initializer='lecun_normal'))\n",
    "#   model.add(keras.layers.Dense(1, activation='sigmoid'))\n",
    "#   model.compile(loss='binary_crossentropy', optimizer='Nadam', metrics=[keras.metrics.BinaryAccuracy(name='accuracy'),\n",
    "#       keras.metrics.Precision(name='precision'),\n",
    "#       keras.metrics.Recall(name='recall')])\n",
    "#   return model\n",
    "\n",
    "\n",
    "# model = KerasClassifier(build_fn=build_model)\n",
    "# param_distribs = {'units':[50,100,200,300], 'layers':[1, 2, 3, 4, 5]}\n",
    "# rnd_search_cv = RandomizedSearchCV(model, param_distribs, n_iter=2, cv=2)"
   ]
  },
  {
   "cell_type": "code",
   "execution_count": 19,
   "metadata": {
    "execution": {
     "iopub.execute_input": "2021-12-10T00:29:06.283241Z",
     "iopub.status.busy": "2021-12-10T00:29:06.282279Z",
     "iopub.status.idle": "2021-12-10T00:29:06.284254Z",
     "shell.execute_reply": "2021-12-10T00:29:06.285039Z"
    }
   },
   "outputs": [],
   "source": [
    "# rnd_search_cv.fit(X_train, y_train, epochs=2, validation_data=[X_test, y_test], class_weight=class_weight, callbacks=[keras.callbacks.EarlyStopping(patience=10)])"
   ]
  },
  {
   "cell_type": "code",
   "execution_count": 20,
   "metadata": {
    "execution": {
     "iopub.execute_input": "2021-12-10T00:29:06.289377Z",
     "iopub.status.busy": "2021-12-10T00:29:06.288484Z",
     "iopub.status.idle": "2021-12-10T00:29:06.290315Z",
     "shell.execute_reply": "2021-12-10T00:29:06.291041Z"
    }
   },
   "outputs": [],
   "source": [
    "# best_params = rnd_search_cv.best_params_\n",
    "# model = rnd_search_cv.best_estimator_.model\n",
    "# model.save('cv_event_level_best_model')"
   ]
  },
  {
   "cell_type": "code",
   "execution_count": 21,
   "metadata": {
    "execution": {
     "iopub.execute_input": "2021-12-10T00:29:06.295423Z",
     "iopub.status.busy": "2021-12-10T00:29:06.294516Z",
     "iopub.status.idle": "2021-12-10T00:29:06.296365Z",
     "shell.execute_reply": "2021-12-10T00:29:06.297084Z"
    }
   },
   "outputs": [],
   "source": [
    "# model = keras.models.Sequential(([\n",
    "#     keras.layers.Flatten(input_shape=(11,)),\n",
    "#     keras.layers.Dense(300, activation='selu', kernel_initializer='lecun_normal'),\n",
    "#     keras.layers.Dense(300, activation='selu', kernel_initializer='lecun_normal'),\n",
    "#     keras.layers.Dense(300, activation='selu', kernel_initializer='lecun_normal'),\n",
    "#     keras.layers.Dense(300, activation='selu', kernel_initializer='lecun_normal'),\n",
    "#     keras.layers.Dense(1, activation='sigmoid')\n",
    "# ]))\n",
    "\n",
    "# model.summary()"
   ]
  },
  {
   "cell_type": "code",
   "execution_count": 22,
   "metadata": {
    "execution": {
     "iopub.execute_input": "2021-12-10T00:29:06.301439Z",
     "iopub.status.busy": "2021-12-10T00:29:06.300534Z",
     "iopub.status.idle": "2021-12-10T00:29:06.302384Z",
     "shell.execute_reply": "2021-12-10T00:29:06.303115Z"
    }
   },
   "outputs": [],
   "source": [
    "# # Compile model with PR metrics as well as accuracy \n",
    "# model.compile(loss='binary_crossentropy', optimizer='Nadam', metrics=[keras.metrics.BinaryAccuracy(name='accuracy'),\n",
    "#       keras.metrics.Precision(name='precision'),\n",
    "      # keras.metrics.Recall(name='recall')])"
   ]
  },
  {
   "cell_type": "code",
   "execution_count": 23,
   "metadata": {
    "execution": {
     "iopub.execute_input": "2021-12-10T00:29:06.307557Z",
     "iopub.status.busy": "2021-12-10T00:29:06.306660Z",
     "iopub.status.idle": "2021-12-10T00:29:06.308517Z",
     "shell.execute_reply": "2021-12-10T00:29:06.309256Z"
    }
   },
   "outputs": [],
   "source": [
    "#  Save best model\n",
    "# checkpoint_cb = keras.callbacks.ModelCheckpoint(\"second_model.h5\", save_best_only=True)\n",
    "\n",
    "# history = model.fit(X_train, y_train, epochs=20, validation_data=(X_test, y_test), class_weight=class_weight, batch_size=32)"
   ]
  },
  {
   "cell_type": "code",
   "execution_count": 24,
   "metadata": {
    "execution": {
     "iopub.execute_input": "2021-12-10T00:29:06.313455Z",
     "iopub.status.busy": "2021-12-10T00:29:06.312567Z",
     "iopub.status.idle": "2021-12-10T00:29:06.315218Z",
     "shell.execute_reply": "2021-12-10T00:29:06.314475Z"
    }
   },
   "outputs": [],
   "source": [
    "# complex_model = keras.models.load_model('second_model.h5')\n",
    "# complex_model.fit(X_train_scaled, y_train, epochs=10, validation_data=(X_test_scaled, y_test), callbacks=[tensorboard_cb, checkpoint_cb], class_weight=class_weight)"
   ]
  }
 ],
 "metadata": {
  "interpreter": {
   "hash": "8a9bcf4578ca583988d8fd57bf5761e33ef08b8742bd2dbd7fdfe8318e87ce13"
  },
  "kernelspec": {
   "display_name": "Python 3.7.11 64-bit ('ml_env': conda)",
   "name": "python3"
  },
  "language_info": {
   "codemirror_mode": {
    "name": "ipython",
    "version": 3
   },
   "file_extension": ".py",
   "mimetype": "text/x-python",
   "name": "python",
   "nbconvert_exporter": "python",
   "pygments_lexer": "ipython3",
   "version": "3.7.11"
  }
 },
 "nbformat": 4,
 "nbformat_minor": 2
}
