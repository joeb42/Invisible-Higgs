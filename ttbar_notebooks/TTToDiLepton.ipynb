{
 "cells": [
  {
   "cell_type": "code",
   "execution_count": 2,
   "metadata": {},
   "outputs": [],
   "source": [
    "import pandas as pd\n",
    "\n",
    "background = pd.read_hdf('/storage/bk17414/ForStudents/2021_CMS_ML/ml_postproc/TTToSemiLeptonic/df_ml_inputs.hd5')\n",
    "bg_dl = pd.read_hdf('/storage/bk17414/ForStudents/2021_CMS_ML/ml_postproc/TTTo2L2Nu/df_ml_inputs.hd5')\n",
    "signal = pd.read_hdf('/storage/bk17414/ForStudents/2021_CMS_ML/ml_postproc/ttH125/df_ml_inputs.hd5')"
   ]
  },
  {
   "cell_type": "code",
   "execution_count": 2,
   "metadata": {},
   "outputs": [
    {
     "data": {
      "text/plain": [
       "(296226, 26)"
      ]
     },
     "execution_count": 2,
     "metadata": {},
     "output_type": "execute_result"
    }
   ],
   "source": [
    "background.shape"
   ]
  },
  {
   "cell_type": "code",
   "execution_count": 5,
   "metadata": {},
   "outputs": [
    {
     "name": "stdout",
     "output_type": "stream",
     "text": [
      "(99305, 26) (296226, 26)\n"
     ]
    }
   ],
   "source": [
    "print(signal.shape, background.shape)"
   ]
  },
  {
   "cell_type": "code",
   "execution_count": 2,
   "metadata": {},
   "outputs": [
    {
     "data": {
      "text/plain": [
       "dataset                       object\n",
       "entry                          int64\n",
       "BiasedDPhi                   float32\n",
       "DiJet_mass                   float64\n",
       "HT                           float32\n",
       "InputMet_InputJet_mindPhi    float32\n",
       "InputMet_phi                 float32\n",
       "InputMet_pt                  float32\n",
       "MHT_phi                      float32\n",
       "MHT_pt                       float32\n",
       "MinChi                       float32\n",
       "MinOmegaHat                  float32\n",
       "MinOmegaTilde                float32\n",
       "cleanedJet_area               object\n",
       "cleanedJet_btagDeepB          object\n",
       "cleanedJet_chHEF              object\n",
       "cleanedJet_eta                object\n",
       "cleanedJet_mass               object\n",
       "cleanedJet_neHEF              object\n",
       "cleanedJet_phi                object\n",
       "cleanedJet_pt                 object\n",
       "hashed_filename                int64\n",
       "ncleanedBJet                   int64\n",
       "ncleanedJet                    int64\n",
       "weight_nominal               float64\n",
       "xs_weight                    float32\n",
       "dtype: object"
      ]
     },
     "execution_count": 2,
     "metadata": {},
     "output_type": "execute_result"
    }
   ],
   "source": [
    "background.dtypes"
   ]
  },
  {
   "cell_type": "code",
   "execution_count": 6,
   "metadata": {},
   "outputs": [
    {
     "data": {
      "text/html": [
       "<div>\n",
       "<style scoped>\n",
       "    .dataframe tbody tr th:only-of-type {\n",
       "        vertical-align: middle;\n",
       "    }\n",
       "\n",
       "    .dataframe tbody tr th {\n",
       "        vertical-align: top;\n",
       "    }\n",
       "\n",
       "    .dataframe thead th {\n",
       "        text-align: right;\n",
       "    }\n",
       "</style>\n",
       "<table border=\"1\" class=\"dataframe\">\n",
       "  <thead>\n",
       "    <tr style=\"text-align: right;\">\n",
       "      <th></th>\n",
       "      <th>entry</th>\n",
       "      <th>BiasedDPhi</th>\n",
       "      <th>DiJet_mass</th>\n",
       "      <th>HT</th>\n",
       "      <th>InputMet_InputJet_mindPhi</th>\n",
       "      <th>InputMet_phi</th>\n",
       "      <th>InputMet_pt</th>\n",
       "      <th>MHT_phi</th>\n",
       "      <th>MHT_pt</th>\n",
       "      <th>MinChi</th>\n",
       "      <th>MinOmegaHat</th>\n",
       "      <th>MinOmegaTilde</th>\n",
       "      <th>hashed_filename</th>\n",
       "      <th>ncleanedBJet</th>\n",
       "      <th>ncleanedJet</th>\n",
       "      <th>weight_nominal</th>\n",
       "      <th>xs_weight</th>\n",
       "    </tr>\n",
       "  </thead>\n",
       "  <tbody>\n",
       "    <tr>\n",
       "      <th>count</th>\n",
       "      <td>296226.000000</td>\n",
       "      <td>296226.000000</td>\n",
       "      <td>296226.000000</td>\n",
       "      <td>296226.000000</td>\n",
       "      <td>296226.000000</td>\n",
       "      <td>296226.000000</td>\n",
       "      <td>296226.000000</td>\n",
       "      <td>296226.000000</td>\n",
       "      <td>296226.000000</td>\n",
       "      <td>296226.000000</td>\n",
       "      <td>296226.000000</td>\n",
       "      <td>296226.000000</td>\n",
       "      <td>2.962260e+05</td>\n",
       "      <td>296226.000000</td>\n",
       "      <td>296226.000000</td>\n",
       "      <td>2.962260e+05</td>\n",
       "      <td>2.962260e+05</td>\n",
       "    </tr>\n",
       "    <tr>\n",
       "      <th>mean</th>\n",
       "      <td>92951.407172</td>\n",
       "      <td>-2.082972</td>\n",
       "      <td>189.994803</td>\n",
       "      <td>411.199158</td>\n",
       "      <td>1.701542</td>\n",
       "      <td>0.087231</td>\n",
       "      <td>260.051788</td>\n",
       "      <td>0.069527</td>\n",
       "      <td>257.736481</td>\n",
       "      <td>1.314173</td>\n",
       "      <td>0.963767</td>\n",
       "      <td>0.621359</td>\n",
       "      <td>4.295569e+17</td>\n",
       "      <td>0.618086</td>\n",
       "      <td>4.080479</td>\n",
       "      <td>9.232667e-07</td>\n",
       "      <td>1.038804e-06</td>\n",
       "    </tr>\n",
       "    <tr>\n",
       "      <th>std</th>\n",
       "      <td>62271.061283</td>\n",
       "      <td>1.309803</td>\n",
       "      <td>179.191426</td>\n",
       "      <td>183.834808</td>\n",
       "      <td>0.764130</td>\n",
       "      <td>1.880911</td>\n",
       "      <td>53.887779</td>\n",
       "      <td>1.870690</td>\n",
       "      <td>53.870792</td>\n",
       "      <td>0.295536</td>\n",
       "      <td>0.149914</td>\n",
       "      <td>0.197530</td>\n",
       "      <td>5.453756e+18</td>\n",
       "      <td>0.753819</td>\n",
       "      <td>1.650790</td>\n",
       "      <td>3.908443e-07</td>\n",
       "      <td>2.116667e-07</td>\n",
       "    </tr>\n",
       "    <tr>\n",
       "      <th>min</th>\n",
       "      <td>0.000000</td>\n",
       "      <td>-3.141593</td>\n",
       "      <td>27.644081</td>\n",
       "      <td>200.061829</td>\n",
       "      <td>0.500000</td>\n",
       "      <td>-3.140625</td>\n",
       "      <td>200.125000</td>\n",
       "      <td>-3.141585</td>\n",
       "      <td>200.000061</td>\n",
       "      <td>0.300033</td>\n",
       "      <td>0.300035</td>\n",
       "      <td>0.300001</td>\n",
       "      <td>-9.221051e+18</td>\n",
       "      <td>0.000000</td>\n",
       "      <td>2.000000</td>\n",
       "      <td>-1.820544e-06</td>\n",
       "      <td>-1.058815e-06</td>\n",
       "    </tr>\n",
       "    <tr>\n",
       "      <th>25%</th>\n",
       "      <td>39796.250000</td>\n",
       "      <td>-2.864249</td>\n",
       "      <td>87.537170</td>\n",
       "      <td>275.300850</td>\n",
       "      <td>1.008789</td>\n",
       "      <td>-1.620117</td>\n",
       "      <td>222.375000</td>\n",
       "      <td>-1.616565</td>\n",
       "      <td>220.924965</td>\n",
       "      <td>1.148067</td>\n",
       "      <td>0.912461</td>\n",
       "      <td>0.457105</td>\n",
       "      <td>-4.257454e+18</td>\n",
       "      <td>0.000000</td>\n",
       "      <td>3.000000</td>\n",
       "      <td>7.779592e-07</td>\n",
       "      <td>1.058815e-06</td>\n",
       "    </tr>\n",
       "    <tr>\n",
       "      <th>50%</th>\n",
       "      <td>85704.000000</td>\n",
       "      <td>-2.534171</td>\n",
       "      <td>122.782036</td>\n",
       "      <td>365.062683</td>\n",
       "      <td>1.661133</td>\n",
       "      <td>0.205505</td>\n",
       "      <td>245.375000</td>\n",
       "      <td>0.163394</td>\n",
       "      <td>242.867928</td>\n",
       "      <td>1.391450</td>\n",
       "      <td>0.986136</td>\n",
       "      <td>0.609009</td>\n",
       "      <td>2.149730e+17</td>\n",
       "      <td>0.000000</td>\n",
       "      <td>4.000000</td>\n",
       "      <td>1.030452e-06</td>\n",
       "      <td>1.058815e-06</td>\n",
       "    </tr>\n",
       "    <tr>\n",
       "      <th>75%</th>\n",
       "      <td>137484.500000</td>\n",
       "      <td>-2.047076</td>\n",
       "      <td>216.680945</td>\n",
       "      <td>489.996063</td>\n",
       "      <td>2.417969</td>\n",
       "      <td>1.765625</td>\n",
       "      <td>281.500000</td>\n",
       "      <td>1.733451</td>\n",
       "      <td>277.334793</td>\n",
       "      <td>1.570796</td>\n",
       "      <td>1.059410</td>\n",
       "      <td>0.761826</td>\n",
       "      <td>5.218202e+18</td>\n",
       "      <td>1.000000</td>\n",
       "      <td>5.000000</td>\n",
       "      <td>1.181785e-06</td>\n",
       "      <td>1.058815e-06</td>\n",
       "    </tr>\n",
       "    <tr>\n",
       "      <th>max</th>\n",
       "      <td>243617.000000</td>\n",
       "      <td>3.141592</td>\n",
       "      <td>3487.231218</td>\n",
       "      <td>2717.738770</td>\n",
       "      <td>3.138672</td>\n",
       "      <td>3.140625</td>\n",
       "      <td>1181.000000</td>\n",
       "      <td>3.141591</td>\n",
       "      <td>1233.786499</td>\n",
       "      <td>1.570796</td>\n",
       "      <td>1.331220</td>\n",
       "      <td>1.268593</td>\n",
       "      <td>9.179812e+18</td>\n",
       "      <td>6.000000</td>\n",
       "      <td>13.000000</td>\n",
       "      <td>3.463412e-06</td>\n",
       "      <td>1.058815e-06</td>\n",
       "    </tr>\n",
       "  </tbody>\n",
       "</table>\n",
       "</div>"
      ],
      "text/plain": [
       "               entry     BiasedDPhi     DiJet_mass             HT  \\\n",
       "count  296226.000000  296226.000000  296226.000000  296226.000000   \n",
       "mean    92951.407172      -2.082972     189.994803     411.199158   \n",
       "std     62271.061283       1.309803     179.191426     183.834808   \n",
       "min         0.000000      -3.141593      27.644081     200.061829   \n",
       "25%     39796.250000      -2.864249      87.537170     275.300850   \n",
       "50%     85704.000000      -2.534171     122.782036     365.062683   \n",
       "75%    137484.500000      -2.047076     216.680945     489.996063   \n",
       "max    243617.000000       3.141592    3487.231218    2717.738770   \n",
       "\n",
       "       InputMet_InputJet_mindPhi   InputMet_phi    InputMet_pt        MHT_phi  \\\n",
       "count              296226.000000  296226.000000  296226.000000  296226.000000   \n",
       "mean                    1.701542       0.087231     260.051788       0.069527   \n",
       "std                     0.764130       1.880911      53.887779       1.870690   \n",
       "min                     0.500000      -3.140625     200.125000      -3.141585   \n",
       "25%                     1.008789      -1.620117     222.375000      -1.616565   \n",
       "50%                     1.661133       0.205505     245.375000       0.163394   \n",
       "75%                     2.417969       1.765625     281.500000       1.733451   \n",
       "max                     3.138672       3.140625    1181.000000       3.141591   \n",
       "\n",
       "              MHT_pt         MinChi    MinOmegaHat  MinOmegaTilde  \\\n",
       "count  296226.000000  296226.000000  296226.000000  296226.000000   \n",
       "mean      257.736481       1.314173       0.963767       0.621359   \n",
       "std        53.870792       0.295536       0.149914       0.197530   \n",
       "min       200.000061       0.300033       0.300035       0.300001   \n",
       "25%       220.924965       1.148067       0.912461       0.457105   \n",
       "50%       242.867928       1.391450       0.986136       0.609009   \n",
       "75%       277.334793       1.570796       1.059410       0.761826   \n",
       "max      1233.786499       1.570796       1.331220       1.268593   \n",
       "\n",
       "       hashed_filename   ncleanedBJet    ncleanedJet  weight_nominal  \\\n",
       "count     2.962260e+05  296226.000000  296226.000000    2.962260e+05   \n",
       "mean      4.295569e+17       0.618086       4.080479    9.232667e-07   \n",
       "std       5.453756e+18       0.753819       1.650790    3.908443e-07   \n",
       "min      -9.221051e+18       0.000000       2.000000   -1.820544e-06   \n",
       "25%      -4.257454e+18       0.000000       3.000000    7.779592e-07   \n",
       "50%       2.149730e+17       0.000000       4.000000    1.030452e-06   \n",
       "75%       5.218202e+18       1.000000       5.000000    1.181785e-06   \n",
       "max       9.179812e+18       6.000000      13.000000    3.463412e-06   \n",
       "\n",
       "          xs_weight  \n",
       "count  2.962260e+05  \n",
       "mean   1.038804e-06  \n",
       "std    2.116667e-07  \n",
       "min   -1.058815e-06  \n",
       "25%    1.058815e-06  \n",
       "50%    1.058815e-06  \n",
       "75%    1.058815e-06  \n",
       "max    1.058815e-06  "
      ]
     },
     "execution_count": 6,
     "metadata": {},
     "output_type": "execute_result"
    }
   ],
   "source": [
    "background.describe()"
   ]
  },
  {
   "cell_type": "code",
   "execution_count": 7,
   "metadata": {},
   "outputs": [
    {
     "data": {
      "text/html": [
       "<div>\n",
       "<style scoped>\n",
       "    .dataframe tbody tr th:only-of-type {\n",
       "        vertical-align: middle;\n",
       "    }\n",
       "\n",
       "    .dataframe tbody tr th {\n",
       "        vertical-align: top;\n",
       "    }\n",
       "\n",
       "    .dataframe thead th {\n",
       "        text-align: right;\n",
       "    }\n",
       "</style>\n",
       "<table border=\"1\" class=\"dataframe\">\n",
       "  <thead>\n",
       "    <tr style=\"text-align: right;\">\n",
       "      <th></th>\n",
       "      <th>entry</th>\n",
       "      <th>BiasedDPhi</th>\n",
       "      <th>DiJet_mass</th>\n",
       "      <th>HT</th>\n",
       "      <th>InputMet_InputJet_mindPhi</th>\n",
       "      <th>InputMet_phi</th>\n",
       "      <th>InputMet_pt</th>\n",
       "      <th>MHT_phi</th>\n",
       "      <th>MHT_pt</th>\n",
       "      <th>MinChi</th>\n",
       "      <th>MinOmegaHat</th>\n",
       "      <th>MinOmegaTilde</th>\n",
       "      <th>hashed_filename</th>\n",
       "      <th>ncleanedBJet</th>\n",
       "      <th>ncleanedJet</th>\n",
       "      <th>weight_nominal</th>\n",
       "      <th>xs_weight</th>\n",
       "    </tr>\n",
       "  </thead>\n",
       "  <tbody>\n",
       "    <tr>\n",
       "      <th>count</th>\n",
       "      <td>99305.000000</td>\n",
       "      <td>99305.000000</td>\n",
       "      <td>99305.000000</td>\n",
       "      <td>99305.000000</td>\n",
       "      <td>99305.000000</td>\n",
       "      <td>99305.000000</td>\n",
       "      <td>99305.000000</td>\n",
       "      <td>99305.000000</td>\n",
       "      <td>99305.000000</td>\n",
       "      <td>99305.000000</td>\n",
       "      <td>99305.000000</td>\n",
       "      <td>99305.000000</td>\n",
       "      <td>9.930500e+04</td>\n",
       "      <td>99305.000000</td>\n",
       "      <td>99305.000000</td>\n",
       "      <td>9.930500e+04</td>\n",
       "      <td>9.930500e+04</td>\n",
       "    </tr>\n",
       "    <tr>\n",
       "      <th>mean</th>\n",
       "      <td>224916.118101</td>\n",
       "      <td>-2.013133</td>\n",
       "      <td>276.102911</td>\n",
       "      <td>595.611145</td>\n",
       "      <td>1.481941</td>\n",
       "      <td>0.050528</td>\n",
       "      <td>312.108765</td>\n",
       "      <td>0.036438</td>\n",
       "      <td>306.268494</td>\n",
       "      <td>1.184600</td>\n",
       "      <td>0.945211</td>\n",
       "      <td>0.692126</td>\n",
       "      <td>-2.635733e+18</td>\n",
       "      <td>1.125996</td>\n",
       "      <td>5.477378</td>\n",
       "      <td>7.490782e-08</td>\n",
       "      <td>8.361978e-08</td>\n",
       "    </tr>\n",
       "    <tr>\n",
       "      <th>std</th>\n",
       "      <td>203702.911040</td>\n",
       "      <td>1.290046</td>\n",
       "      <td>233.640239</td>\n",
       "      <td>244.669312</td>\n",
       "      <td>0.564056</td>\n",
       "      <td>1.861192</td>\n",
       "      <td>102.245644</td>\n",
       "      <td>1.851667</td>\n",
       "      <td>101.343079</td>\n",
       "      <td>0.297677</td>\n",
       "      <td>0.187214</td>\n",
       "      <td>0.218529</td>\n",
       "      <td>4.344522e+18</td>\n",
       "      <td>0.859756</td>\n",
       "      <td>1.464239</td>\n",
       "      <td>3.513824e-08</td>\n",
       "      <td>2.388833e-08</td>\n",
       "    </tr>\n",
       "    <tr>\n",
       "      <th>min</th>\n",
       "      <td>1.000000</td>\n",
       "      <td>-3.141577</td>\n",
       "      <td>28.944315</td>\n",
       "      <td>200.932556</td>\n",
       "      <td>0.500000</td>\n",
       "      <td>-3.140625</td>\n",
       "      <td>200.125000</td>\n",
       "      <td>-3.141528</td>\n",
       "      <td>200.000763</td>\n",
       "      <td>0.300012</td>\n",
       "      <td>0.300012</td>\n",
       "      <td>0.300012</td>\n",
       "      <td>-9.036850e+18</td>\n",
       "      <td>0.000000</td>\n",
       "      <td>2.000000</td>\n",
       "      <td>-1.380340e-07</td>\n",
       "      <td>-8.695861e-08</td>\n",
       "    </tr>\n",
       "    <tr>\n",
       "      <th>25%</th>\n",
       "      <td>46597.000000</td>\n",
       "      <td>-2.875098</td>\n",
       "      <td>113.372581</td>\n",
       "      <td>431.464996</td>\n",
       "      <td>1.044922</td>\n",
       "      <td>-1.614258</td>\n",
       "      <td>240.625000</td>\n",
       "      <td>-1.606921</td>\n",
       "      <td>236.469910</td>\n",
       "      <td>0.999709</td>\n",
       "      <td>0.846790</td>\n",
       "      <td>0.513942</td>\n",
       "      <td>-5.503036e+18</td>\n",
       "      <td>0.000000</td>\n",
       "      <td>5.000000</td>\n",
       "      <td>6.367883e-08</td>\n",
       "      <td>8.695861e-08</td>\n",
       "    </tr>\n",
       "    <tr>\n",
       "      <th>50%</th>\n",
       "      <td>153294.000000</td>\n",
       "      <td>-2.515048</td>\n",
       "      <td>195.501692</td>\n",
       "      <td>545.427917</td>\n",
       "      <td>1.453125</td>\n",
       "      <td>0.108643</td>\n",
       "      <td>283.750000</td>\n",
       "      <td>0.073190</td>\n",
       "      <td>276.102661</td>\n",
       "      <td>1.230073</td>\n",
       "      <td>0.977809</td>\n",
       "      <td>0.690728</td>\n",
       "      <td>-3.400294e+18</td>\n",
       "      <td>1.000000</td>\n",
       "      <td>5.000000</td>\n",
       "      <td>8.450886e-08</td>\n",
       "      <td>8.695861e-08</td>\n",
       "    </tr>\n",
       "    <tr>\n",
       "      <th>75%</th>\n",
       "      <td>381785.000000</td>\n",
       "      <td>-1.806475</td>\n",
       "      <td>367.713479</td>\n",
       "      <td>704.802795</td>\n",
       "      <td>1.859375</td>\n",
       "      <td>1.704102</td>\n",
       "      <td>352.500000</td>\n",
       "      <td>1.676434</td>\n",
       "      <td>344.002594</td>\n",
       "      <td>1.410222</td>\n",
       "      <td>1.079807</td>\n",
       "      <td>0.861159</td>\n",
       "      <td>1.332654e+18</td>\n",
       "      <td>2.000000</td>\n",
       "      <td>6.000000</td>\n",
       "      <td>9.711431e-08</td>\n",
       "      <td>8.695861e-08</td>\n",
       "    </tr>\n",
       "    <tr>\n",
       "      <th>max</th>\n",
       "      <td>718782.000000</td>\n",
       "      <td>3.141592</td>\n",
       "      <td>4355.463268</td>\n",
       "      <td>3576.994873</td>\n",
       "      <td>3.134766</td>\n",
       "      <td>3.140625</td>\n",
       "      <td>1692.000000</td>\n",
       "      <td>3.141580</td>\n",
       "      <td>1646.788086</td>\n",
       "      <td>1.570796</td>\n",
       "      <td>1.363153</td>\n",
       "      <td>1.326372</td>\n",
       "      <td>9.115226e+18</td>\n",
       "      <td>6.000000</td>\n",
       "      <td>14.000000</td>\n",
       "      <td>2.562390e-07</td>\n",
       "      <td>8.695861e-08</td>\n",
       "    </tr>\n",
       "  </tbody>\n",
       "</table>\n",
       "</div>"
      ],
      "text/plain": [
       "               entry    BiasedDPhi    DiJet_mass            HT  \\\n",
       "count   99305.000000  99305.000000  99305.000000  99305.000000   \n",
       "mean   224916.118101     -2.013133    276.102911    595.611145   \n",
       "std    203702.911040      1.290046    233.640239    244.669312   \n",
       "min         1.000000     -3.141577     28.944315    200.932556   \n",
       "25%     46597.000000     -2.875098    113.372581    431.464996   \n",
       "50%    153294.000000     -2.515048    195.501692    545.427917   \n",
       "75%    381785.000000     -1.806475    367.713479    704.802795   \n",
       "max    718782.000000      3.141592   4355.463268   3576.994873   \n",
       "\n",
       "       InputMet_InputJet_mindPhi  InputMet_phi   InputMet_pt       MHT_phi  \\\n",
       "count               99305.000000  99305.000000  99305.000000  99305.000000   \n",
       "mean                    1.481941      0.050528    312.108765      0.036438   \n",
       "std                     0.564056      1.861192    102.245644      1.851667   \n",
       "min                     0.500000     -3.140625    200.125000     -3.141528   \n",
       "25%                     1.044922     -1.614258    240.625000     -1.606921   \n",
       "50%                     1.453125      0.108643    283.750000      0.073190   \n",
       "75%                     1.859375      1.704102    352.500000      1.676434   \n",
       "max                     3.134766      3.140625   1692.000000      3.141580   \n",
       "\n",
       "             MHT_pt        MinChi   MinOmegaHat  MinOmegaTilde  \\\n",
       "count  99305.000000  99305.000000  99305.000000   99305.000000   \n",
       "mean     306.268494      1.184600      0.945211       0.692126   \n",
       "std      101.343079      0.297677      0.187214       0.218529   \n",
       "min      200.000763      0.300012      0.300012       0.300012   \n",
       "25%      236.469910      0.999709      0.846790       0.513942   \n",
       "50%      276.102661      1.230073      0.977809       0.690728   \n",
       "75%      344.002594      1.410222      1.079807       0.861159   \n",
       "max     1646.788086      1.570796      1.363153       1.326372   \n",
       "\n",
       "       hashed_filename  ncleanedBJet   ncleanedJet  weight_nominal  \\\n",
       "count     9.930500e+04  99305.000000  99305.000000    9.930500e+04   \n",
       "mean     -2.635733e+18      1.125996      5.477378    7.490782e-08   \n",
       "std       4.344522e+18      0.859756      1.464239    3.513824e-08   \n",
       "min      -9.036850e+18      0.000000      2.000000   -1.380340e-07   \n",
       "25%      -5.503036e+18      0.000000      5.000000    6.367883e-08   \n",
       "50%      -3.400294e+18      1.000000      5.000000    8.450886e-08   \n",
       "75%       1.332654e+18      2.000000      6.000000    9.711431e-08   \n",
       "max       9.115226e+18      6.000000     14.000000    2.562390e-07   \n",
       "\n",
       "          xs_weight  \n",
       "count  9.930500e+04  \n",
       "mean   8.361978e-08  \n",
       "std    2.388833e-08  \n",
       "min   -8.695861e-08  \n",
       "25%    8.695861e-08  \n",
       "50%    8.695861e-08  \n",
       "75%    8.695861e-08  \n",
       "max    8.695861e-08  "
      ]
     },
     "execution_count": 7,
     "metadata": {},
     "output_type": "execute_result"
    }
   ],
   "source": [
    "signal.describe()"
   ]
  },
  {
   "cell_type": "code",
   "execution_count": 6,
   "metadata": {},
   "outputs": [
    {
     "name": "stdout",
     "output_type": "stream",
     "text": [
      "{1.0588148597889813e-06, 1.0377443686593324e-06, -1.0482267498446163e-06, -1.0588148597889813e-06, 1.0482267498446163e-06, 6.202287039513976e-08, 1.0577409739198629e-06, -1.0377443686593324e-06, 7.791955454194976e-07, 1.0273670341121033e-06}\n"
     ]
    }
   ],
   "source": [
    "print(set(background['xs_weight']))"
   ]
  },
  {
   "cell_type": "code",
   "execution_count": 2,
   "metadata": {},
   "outputs": [
    {
     "data": {
      "text/plain": [
       " 1.058815e-06    283627\n",
       " 1.048227e-06      9441\n",
       "-1.058815e-06      2897\n",
       " 1.037744e-06       153\n",
       "-1.048227e-06       103\n",
       " 6.202287e-08         1\n",
       " 1.057741e-06         1\n",
       "-1.037744e-06         1\n",
       " 7.791955e-07         1\n",
       " 1.027367e-06         1\n",
       "Name: xs_weight, dtype: int64"
      ]
     },
     "execution_count": 2,
     "metadata": {},
     "output_type": "execute_result"
    }
   ],
   "source": [
    "background['xs_weight'].value_counts()"
   ]
  },
  {
   "cell_type": "code",
   "execution_count": 9,
   "metadata": {},
   "outputs": [
    {
     "data": {
      "text/plain": [
       " 8.695861e-08    97393\n",
       "-8.695861e-08     1912\n",
       "Name: xs_weight, dtype: int64"
      ]
     },
     "execution_count": 9,
     "metadata": {},
     "output_type": "execute_result"
    }
   ],
   "source": [
    "signal['xs_weight'].value_counts()"
   ]
  },
  {
   "cell_type": "code",
   "execution_count": 3,
   "metadata": {},
   "outputs": [
    {
     "data": {
      "text/plain": [
       "count    9.930500e+04\n",
       "mean     7.490782e-08\n",
       "std      3.513824e-08\n",
       "min     -1.380340e-07\n",
       "25%      6.367883e-08\n",
       "50%      8.450886e-08\n",
       "75%      9.711431e-08\n",
       "max      2.562390e-07\n",
       "Name: weight_nominal, dtype: float64"
      ]
     },
     "execution_count": 3,
     "metadata": {},
     "output_type": "execute_result"
    }
   ],
   "source": [
    "signal['weight_nominal'].describe()"
   ]
  },
  {
   "cell_type": "code",
   "execution_count": 14,
   "metadata": {},
   "outputs": [
    {
     "name": "stdout",
     "output_type": "stream",
     "text": [
      "[2.72303060e-03 9.75648493e-04 2.04665750e-04 4.85384036e-05\n",
      " 1.37704222e-05 4.25046139e-06 1.30061437e-06 4.96110635e-07\n",
      " 1.07267112e-07 1.07267216e-07]\n",
      "[ 200.06183  451.82953  703.5972   955.3649  1207.1326  1458.9003\n",
      " 1710.668   1962.4357  2214.2034  2465.9712  2717.7388 ]\n"
     ]
    },
    {
     "data": {
      "image/png": "[encoded data removed]",
      "text/plain": [
       "<Figure size 432x288 with 1 Axes>"
      ]
     },
     "metadata": {
      "needs_background": "light"
     },
     "output_type": "display_data"
    }
   ],
   "source": [
    "hist, bins, patches = plt.hist(background['HT'], density=True, log=True, histtype='step')\n",
    "plt.hist(signal['HT'], bins=bins, density=True, log=True, histtype='step')\n",
    "print(f'{hist}\\n{bins}')"
   ]
  },
  {
   "cell_type": "code",
   "execution_count": 12,
   "metadata": {},
   "outputs": [
    {
     "name": "stdout",
     "output_type": "stream",
     "text": [
      "0.9999999999999999\n",
      "0.9999999999999999\n"
     ]
    }
   ],
   "source": [
    "import numpy as np\n",
    "\n",
    "edges = (bins[1:] - bins[:-1])\n",
    "norm_bg = np.sum(edges * hist[0])\n",
    "norm_signal = np.sum(edges * hist[1])\n",
    "print(norm_bg)\n",
    "print(norm_signal)\n"
   ]
  },
  {
   "cell_type": "code",
   "execution_count": 33,
   "metadata": {},
   "outputs": [
    {
     "data": {
      "image/png": "[encoded data removed]",
      "text/plain": [
       "<Figure size 432x288 with 1 Axes>"
      ]
     },
     "metadata": {
      "needs_background": "light"
     },
     "output_type": "display_data"
    }
   ],
   "source": [
    "hist_bg, bins = np.histogram(background['HT'], bins=10)\n",
    "hist_signal, bins = np.histogram(signal['HT'], bins=10)\n",
    "# Normalise using dataset size imbalance\n",
    "hist_signal_normed = hist_signal / (len(background['HT'] + len(signal['HT'])))\n",
    "hist_bg_normed = hist_bg / (len(background['HT'] + len(signal['HT'])))\n",
    "\n",
    "plt.step(np.concatenate((bins, [bins[-1]])), np.concatenate(([0], hist_bg_normed, [0])), linewidth=1)\n",
    "plt.step(np.concatenate((bins, [bins[-1]])), np.concatenate(([0], hist_signal_normed, [0])), linewidth=1)\n",
    "plt.yscale('log')\n",
    "plt.show()\n"
   ]
  },
  {
   "cell_type": "code",
   "execution_count": 38,
   "metadata": {},
   "outputs": [],
   "source": [
    "def normed_plot_attrib(attrib, units, log=False, filename=None, loc=0, norm='dataset', bins=10):\n",
    "    \"\"\" Plot hists normalised to either dataset imbalance or physics imbalance\n",
    "    \"\"\"\n",
    "    # # Update this with physics weightings\n",
    "    # norms = {'dataset': (len(signal) + len(background))}\n",
    "    hist_bg, bins = np.histogram(background[attrib], bins=bins, weights=background['xs_weight'])\n",
    "    hist_signal, bins = np.histogram(signal[attrib], bins=bins, weights=signal['xs_weight'])\n",
    "    # # Normalise hist values\n",
    "    # hist_bg_normed = hist_bg / norms[norm]\n",
    "    # hist_signal_normed = hist_signal / norms[norm]\n",
    "    # Get values in form to make nice histogram\n",
    "    x_vals = np.concatenate((bins, [bins[-1]]))\n",
    "    y_bg = np.concatenate(([0], hist_bg, [0]))\n",
    "    y_signal = np.concatenate(([0], hist_signal, [0]))\n",
    "    # Plot histograms\n",
    "    plt.step(x_vals, y_bg, linewidth=1, label='SL background')\n",
    "    plt.step(x_vals, y_signal, linewidth=1, label='Signal')\n",
    "    plt.xlabel(f'{attrib} ({units})')\n",
    "    if log:\n",
    "        plt.yscale('log')\n",
    "    plt.legend(loc=loc, frameon=False)\n",
    "    if filename is not None:\n",
    "        plt.savefig('../histograms/'+filename, dpi=300)\n",
    "    plt.show()\n",
    "    "
   ]
  },
  {
   "cell_type": "code",
   "execution_count": 39,
   "metadata": {},
   "outputs": [
    {
     "data": {
      "image/png": "[encoded data removed]",
      "text/plain": [
       "<Figure size 432x288 with 1 Axes>"
      ]
     },
     "metadata": {
      "needs_background": "light"
     },
     "output_type": "display_data"
    }
   ],
   "source": [
    "normed_plot_attrib('HT', 'GeV', log=True)"
   ]
  },
  {
   "cell_type": "code",
   "execution_count": null,
   "metadata": {},
   "outputs": [],
   "source": []
  },
  {
   "cell_type": "code",
   "execution_count": 3,
   "metadata": {},
   "outputs": [],
   "source": [
    "import matplotlib.pyplot as plt\n",
    "\n",
    "def plot_attribute(attrib, units, log=False, filename=None, loc=0, weights=None, bins=10):\n",
    "    \"\"\"Plot histogram of attribute for both signal and background data\n",
    "    This normalises each histogram individually so does not reflect imbalances in either the datasets or the physics\n",
    "     \"\"\"\n",
    "    if weights is not None:\n",
    "        weightings = [background[weights].values, signal[weights].values]\n",
    "        # print(weightings.shape)\n",
    "    plt.hist([background[attrib], signal[attrib]], bins=bins, label=['Semi-leptonic background', 'signal'], log=log, histtype='step',\n",
    "     weights=weightings)\n",
    "    plt.xlabel(f'{attrib} ({units})')\n",
    "    plt.ylabel(f'{\"Weighted \" if weights is not None else \"\"}Frequency Density{f\" ({weights})\" if weights is not None else \"\"}')\n",
    "    plt.legend(loc=loc, frameon=False)\n",
    "    if filename is not None:\n",
    "        plt.savefig('../histograms/'+filename, dpi=300)\n",
    "    plt.show()"
   ]
  },
  {
   "cell_type": "code",
   "execution_count": 10,
   "metadata": {},
   "outputs": [],
   "source": [
    "def plot_attribute_dl(attrib, units, log=False, filename=None, loc=0, weights=None, bins=10):\n",
    "    \"\"\"Plot histogram of attribute for both signal and background data\n",
    "    This normalises each histogram individually so does not reflect imbalances in either the datasets or the physics\n",
    "     \"\"\"\n",
    "    if weights is not None:\n",
    "        weightings = [bg_dl[weights].values, signal[weights].values]\n",
    "        density = False\n",
    "    else:\n",
    "        weightings = None\n",
    "        density = True\n",
    "    plt.hist([bg_dl[attrib], signal[attrib]], bins=bins, label=['Di-leptonic background', 'signal'], log=log, histtype='step',\n",
    "     weights=weightings, density=density)\n",
    "    plt.xlabel(f'{attrib} ({units})')\n",
    "    plt.ylabel(f'{\"Weighted \" if weights is not None else \"\"}Frequency Density{f\" ({weights})\" if weights is not None else \"\"}')\n",
    "    plt.legend(loc=loc, frameon=False)\n",
    "    if filename is not None:\n",
    "        plt.savefig('../histograms/'+filename, dpi=300)\n",
    "    plt.show()"
   ]
  },
  {
   "cell_type": "code",
   "execution_count": 11,
   "metadata": {},
   "outputs": [
    {
     "data": {
      "image/png": "[encoded data removed]",
      "text/plain": [
       "<Figure size 432x288 with 1 Axes>"
      ]
     },
     "metadata": {
      "needs_background": "light"
     },
     "output_type": "display_data"
    }
   ],
   "source": [
    "plot_attribute_dl('ncleanedJet', 'count', bins=range(11), loc='upper left')"
   ]
  },
  {
   "cell_type": "code",
   "execution_count": 86,
   "metadata": {},
   "outputs": [
    {
     "data": {
      "text/plain": [
       "(296226,)"
      ]
     },
     "execution_count": 86,
     "metadata": {},
     "output_type": "execute_result"
    }
   ],
   "source": [
    "weights = 'xs_weight'\n",
    "background[weights].shape\n",
    "# weightings = np.array(([background[weights].to_numpy(), signal[weights].to_numpy()]))\n",
    "# weightings.shape"
   ]
  },
  {
   "cell_type": "code",
   "execution_count": 74,
   "metadata": {},
   "outputs": [
    {
     "data": {
      "text/plain": [
       "dtype('float64')"
      ]
     },
     "execution_count": 74,
     "metadata": {},
     "output_type": "execute_result"
    }
   ],
   "source": [
    "arr = np.array((np.zeros(10), np.zeros(10)))\n",
    "arr.dtype"
   ]
  },
  {
   "cell_type": "code",
   "execution_count": 97,
   "metadata": {},
   "outputs": [
    {
     "data": {
      "image/png": "[encoded data removed]",
      "text/plain": [
       "<Figure size 432x288 with 1 Axes>"
      ]
     },
     "metadata": {
      "needs_background": "light"
     },
     "output_type": "display_data"
    },
    {
     "data": {
      "image/png": "[encoded data removed]",
      "text/plain": [
       "<Figure size 432x288 with 1 Axes>"
      ]
     },
     "metadata": {
      "needs_background": "light"
     },
     "output_type": "display_data"
    },
    {
     "data": {
      "image/png": "[encoded data removed]",
      "text/plain": [
       "<Figure size 432x288 with 1 Axes>"
      ]
     },
     "metadata": {
      "needs_background": "light"
     },
     "output_type": "display_data"
    },
    {
     "data": {
      "image/png": "[encoded data removed]",
      "text/plain": [
       "<Figure size 432x288 with 1 Axes>"
      ]
     },
     "metadata": {
      "needs_background": "light"
     },
     "output_type": "display_data"
    },
    {
     "data": {
      "image/png": "[encoded data removed]",
      "text/plain": [
       "<Figure size 432x288 with 1 Axes>"
      ]
     },
     "metadata": {
      "needs_background": "light"
     },
     "output_type": "display_data"
    },
    {
     "data": {
      "image/png": "[encoded data removed]",
      "text/plain": [
       "<Figure size 432x288 with 1 Axes>"
      ]
     },
     "metadata": {
      "needs_background": "light"
     },
     "output_type": "display_data"
    },
    {
     "data": {
      "image/png": "[encoded data removed]",
      "text/plain": [
       "<Figure size 432x288 with 1 Axes>"
      ]
     },
     "metadata": {
      "needs_background": "light"
     },
     "output_type": "display_data"
    },
    {
     "data": {
      "image/png": "[encoded data removed]",
      "text/plain": [
       "<Figure size 432x288 with 1 Axes>"
      ]
     },
     "metadata": {
      "needs_background": "light"
     },
     "output_type": "display_data"
    },
    {
     "data": {
      "image/png": "[encoded data removed]",
      "text/plain": [
       "<Figure size 432x288 with 1 Axes>"
      ]
     },
     "metadata": {
      "needs_background": "light"
     },
     "output_type": "display_data"
    },
    {
     "data": {
      "image/png": "[encoded data removed]",
      "text/plain": [
       "<Figure size 432x288 with 1 Axes>"
      ]
     },
     "metadata": {
      "needs_background": "light"
     },
     "output_type": "display_data"
    },
    {
     "data": {
      "image/png": "[encoded data removed]",
      "text/plain": [
       "<Figure size 432x288 with 1 Axes>"
      ]
     },
     "metadata": {
      "needs_background": "light"
     },
     "output_type": "display_data"
    }
   ],
   "source": [
    "ext = '_xsWeighted_hist.png'\n",
    "\n",
    "plot_attribute('MHT_pt', 'GeV', log=True, filename='MHT_pt'+ext, weights='xs_weight')\n",
    "plot_attribute('HT', 'GeV', log=True, filename='HT'+ext, weights='xs_weight')\n",
    "plot_attribute('InputMet_pt', 'GeV', log=True, filename='InputMet_pt'+ext, weights='xs_weight')\n",
    "plot_attribute('MHT_phi', 'rad', loc='center', filename='MHT_phi'+ext, weights='xs_weight')\n",
    "plot_attribute('InputMet_InputJet_mindPhi', 'rad', loc='lower center', filename='InputMet_InputJet_mindPhi'+ext, weights='xs_weight')\n",
    "plot_attribute('BiasedDPhi', 'rad', filename='BiasedDPhi'+ext, weights='xs_weight')\n",
    "plot_attribute('MinChi', 'rad', loc='upper left', filename='MinChi'+ext, weights='xs_weight')\n",
    "plot_attribute('MinOmegaHat', 'rad', loc='upper left', filename='MinOmegaHat'+ext, weights='xs_weight')\n",
    "plot_attribute('MinOmegaTilde', 'rad', loc=(0.15,0.05), filename='MinOmegaTilde'+ext, weights='xs_weight')\n",
    "plot_attribute('ncleanedJet', 'count', filename='ncleanedJet'+ext, bins=range(2,11), weights='xs_weight')\n",
    "plot_attribute('ncleanedBJet', 'count',filename='ncleanedBJet'+ext, bins=range(5), weights='xs_weight')"
   ]
  },
  {
   "cell_type": "code",
   "execution_count": 99,
   "metadata": {},
   "outputs": [
    {
     "data": {
      "image/png": "[encoded data removed]",
      "text/plain": [
       "<Figure size 432x288 with 1 Axes>"
      ]
     },
     "metadata": {
      "needs_background": "light"
     },
     "output_type": "display_data"
    },
    {
     "data": {
      "image/png": "[encoded data removed]",
      "text/plain": [
       "<Figure size 432x288 with 1 Axes>"
      ]
     },
     "metadata": {
      "needs_background": "light"
     },
     "output_type": "display_data"
    },
    {
     "data": {
      "image/png": "[encoded data removed]",
      "text/plain": [
       "<Figure size 432x288 with 1 Axes>"
      ]
     },
     "metadata": {
      "needs_background": "light"
     },
     "output_type": "display_data"
    },
    {
     "data": {
      "image/png": "[encoded data removed]",
      "text/plain": [
       "<Figure size 432x288 with 1 Axes>"
      ]
     },
     "metadata": {
      "needs_background": "light"
     },
     "output_type": "display_data"
    },
    {
     "data": {
      "image/png": "[encoded data removed]",
      "text/plain": [
       "<Figure size 432x288 with 1 Axes>"
      ]
     },
     "metadata": {
      "needs_background": "light"
     },
     "output_type": "display_data"
    },
    {
     "data": {
      "image/png": "[encoded data removed]",
      "text/plain": [
       "<Figure size 432x288 with 1 Axes>"
      ]
     },
     "metadata": {
      "needs_background": "light"
     },
     "output_type": "display_data"
    },
    {
     "data": {
      "image/png": "[encoded data removed]",
      "text/plain": [
       "<Figure size 432x288 with 1 Axes>"
      ]
     },
     "metadata": {
      "needs_background": "light"
     },
     "output_type": "display_data"
    },
    {
     "data": {
      "image/png": "[encoded data removed]",
      "text/plain": [
       "<Figure size 432x288 with 1 Axes>"
      ]
     },
     "metadata": {
      "needs_background": "light"
     },
     "output_type": "display_data"
    },
    {
     "data": {
      "image/png": "[encoded data removed]",
      "text/plain": [
       "<Figure size 432x288 with 1 Axes>"
      ]
     },
     "metadata": {
      "needs_background": "light"
     },
     "output_type": "display_data"
    },
    {
     "data": {
      "image/png": "[encoded data removed]",
      "text/plain": [
       "<Figure size 432x288 with 1 Axes>"
      ]
     },
     "metadata": {
      "needs_background": "light"
     },
     "output_type": "display_data"
    },
    {
     "data": {
      "image/png": "[encoded data removed]",
      "text/plain": [
       "<Figure size 432x288 with 1 Axes>"
      ]
     },
     "metadata": {
      "needs_background": "light"
     },
     "output_type": "display_data"
    }
   ],
   "source": [
    "ext = '_nominalWeighted_hist.png'\n",
    "\n",
    "plot_attribute('MHT_pt', 'GeV', log=True, filename='MHT_pt'+ext, weights='weight_nominal')\n",
    "plot_attribute('HT', 'GeV', log=True, filename='HT'+ext, weights='weight_nominal')\n",
    "plot_attribute('InputMet_pt', 'GeV', log=True, filename='InputMet_pt'+ext, weights='weight_nominal')\n",
    "plot_attribute('MHT_phi', 'rad', loc='center', filename='MHT_phi'+ext, weights='weight_nominal')\n",
    "plot_attribute('InputMet_InputJet_mindPhi', 'rad', loc='lower center', filename='InputMet_InputJet_mindPhi'+ext, weights='weight_nominal')\n",
    "plot_attribute('BiasedDPhi', 'rad', filename='BiasedDPhi'+ext, weights='weight_nominal')\n",
    "plot_attribute('MinChi', 'rad', loc='upper left', filename='MinChi'+ext, weights='weight_nominal')\n",
    "plot_attribute('MinOmegaHat', 'rad', loc='upper left', filename='MinOmegaHat'+ext, weights='weight_nominal')\n",
    "plot_attribute('MinOmegaTilde', 'rad', loc=(0.15,0.05), filename='MinOmegaTilde'+ext, weights='weight_nominal')\n",
    "plot_attribute('ncleanedJet', 'count', filename='ncleanedJet'+ext, bins=range(2,11), weights='weight_nominal')\n",
    "plot_attribute('ncleanedBJet', 'count',filename='ncleanedBJet'+ext, bins=range(5), weights='weight_nominal')"
   ]
  },
  {
   "cell_type": "code",
   "execution_count": 4,
   "metadata": {},
   "outputs": [
    {
     "data": {
      "image/png": "[encoded data removed]",
      "text/plain": [
       "<Figure size 432x288 with 1 Axes>"
      ]
     },
     "metadata": {
      "needs_background": "light"
     },
     "output_type": "display_data"
    }
   ],
   "source": [
    "plot_attribute('InputMet_phi', 'rad', filename='InputMet_phi_hist.png', loc='lower center')"
   ]
  },
  {
   "cell_type": "code",
   "execution_count": 10,
   "metadata": {},
   "outputs": [
    {
     "data": {
      "text/html": [
       "<div>\n",
       "<style scoped>\n",
       "    .dataframe tbody tr th:only-of-type {\n",
       "        vertical-align: middle;\n",
       "    }\n",
       "\n",
       "    .dataframe tbody tr th {\n",
       "        vertical-align: top;\n",
       "    }\n",
       "\n",
       "    .dataframe thead th {\n",
       "        text-align: right;\n",
       "    }\n",
       "</style>\n",
       "<table border=\"1\" class=\"dataframe\">\n",
       "  <thead>\n",
       "    <tr style=\"text-align: right;\">\n",
       "      <th></th>\n",
       "      <th>BiasedDPhi</th>\n",
       "      <th>DiJet_mass</th>\n",
       "      <th>HT</th>\n",
       "      <th>InputMet_InputJet_mindPhi</th>\n",
       "      <th>InputMet_phi</th>\n",
       "      <th>InputMet_pt</th>\n",
       "      <th>MHT_phi</th>\n",
       "      <th>MHT_pt</th>\n",
       "      <th>MinChi</th>\n",
       "      <th>MinOmegaHat</th>\n",
       "      <th>MinOmegaTilde</th>\n",
       "      <th>ncleanedBJet</th>\n",
       "      <th>ncleanedJet</th>\n",
       "      <th>weight_nominal</th>\n",
       "      <th>xs_weight</th>\n",
       "    </tr>\n",
       "  </thead>\n",
       "  <tbody>\n",
       "    <tr>\n",
       "      <th>BiasedDPhi</th>\n",
       "      <td>1.000000</td>\n",
       "      <td>0.130434</td>\n",
       "      <td>0.065453</td>\n",
       "      <td>-0.046307</td>\n",
       "      <td>-0.009211</td>\n",
       "      <td>-0.067823</td>\n",
       "      <td>-0.008907</td>\n",
       "      <td>-0.070671</td>\n",
       "      <td>-0.051095</td>\n",
       "      <td>-0.138890</td>\n",
       "      <td>-0.077628</td>\n",
       "      <td>-0.012167</td>\n",
       "      <td>-0.025686</td>\n",
       "      <td>0.004883</td>\n",
       "      <td>0.005381</td>\n",
       "    </tr>\n",
       "    <tr>\n",
       "      <th>DiJet_mass</th>\n",
       "      <td>0.130434</td>\n",
       "      <td>1.000000</td>\n",
       "      <td>0.631275</td>\n",
       "      <td>-0.309851</td>\n",
       "      <td>-0.001636</td>\n",
       "      <td>0.033568</td>\n",
       "      <td>-0.002175</td>\n",
       "      <td>0.049576</td>\n",
       "      <td>-0.527534</td>\n",
       "      <td>-0.518521</td>\n",
       "      <td>-0.124408</td>\n",
       "      <td>0.148645</td>\n",
       "      <td>0.349116</td>\n",
       "      <td>-0.039150</td>\n",
       "      <td>0.004112</td>\n",
       "    </tr>\n",
       "    <tr>\n",
       "      <th>HT</th>\n",
       "      <td>0.065453</td>\n",
       "      <td>0.631275</td>\n",
       "      <td>1.000000</td>\n",
       "      <td>-0.563862</td>\n",
       "      <td>-0.004311</td>\n",
       "      <td>0.337796</td>\n",
       "      <td>-0.005292</td>\n",
       "      <td>0.389949</td>\n",
       "      <td>-0.772220</td>\n",
       "      <td>-0.548423</td>\n",
       "      <td>-0.097409</td>\n",
       "      <td>0.360766</td>\n",
       "      <td>0.731224</td>\n",
       "      <td>-0.068989</td>\n",
       "      <td>-0.006374</td>\n",
       "    </tr>\n",
       "    <tr>\n",
       "      <th>InputMet_InputJet_mindPhi</th>\n",
       "      <td>-0.046307</td>\n",
       "      <td>-0.309851</td>\n",
       "      <td>-0.563862</td>\n",
       "      <td>1.000000</td>\n",
       "      <td>-0.002110</td>\n",
       "      <td>-0.000622</td>\n",
       "      <td>-0.001078</td>\n",
       "      <td>-0.020675</td>\n",
       "      <td>0.665602</td>\n",
       "      <td>0.341497</td>\n",
       "      <td>0.107862</td>\n",
       "      <td>-0.205681</td>\n",
       "      <td>-0.634342</td>\n",
       "      <td>0.039612</td>\n",
       "      <td>-0.000485</td>\n",
       "    </tr>\n",
       "    <tr>\n",
       "      <th>InputMet_phi</th>\n",
       "      <td>-0.009211</td>\n",
       "      <td>-0.001636</td>\n",
       "      <td>-0.004311</td>\n",
       "      <td>-0.002110</td>\n",
       "      <td>1.000000</td>\n",
       "      <td>0.011478</td>\n",
       "      <td>0.874637</td>\n",
       "      <td>-0.011779</td>\n",
       "      <td>-0.001237</td>\n",
       "      <td>-0.002279</td>\n",
       "      <td>-0.003338</td>\n",
       "      <td>0.001774</td>\n",
       "      <td>-0.003488</td>\n",
       "      <td>-0.012681</td>\n",
       "      <td>0.001333</td>\n",
       "    </tr>\n",
       "    <tr>\n",
       "      <th>InputMet_pt</th>\n",
       "      <td>-0.067823</td>\n",
       "      <td>0.033568</td>\n",
       "      <td>0.337796</td>\n",
       "      <td>-0.000622</td>\n",
       "      <td>0.011478</td>\n",
       "      <td>1.000000</td>\n",
       "      <td>0.010187</td>\n",
       "      <td>0.848546</td>\n",
       "      <td>0.001426</td>\n",
       "      <td>0.044191</td>\n",
       "      <td>0.034594</td>\n",
       "      <td>0.087688</td>\n",
       "      <td>0.129245</td>\n",
       "      <td>-0.082645</td>\n",
       "      <td>-0.028401</td>\n",
       "    </tr>\n",
       "    <tr>\n",
       "      <th>MHT_phi</th>\n",
       "      <td>-0.008907</td>\n",
       "      <td>-0.002175</td>\n",
       "      <td>-0.005292</td>\n",
       "      <td>-0.001078</td>\n",
       "      <td>0.874637</td>\n",
       "      <td>0.010187</td>\n",
       "      <td>1.000000</td>\n",
       "      <td>-0.010640</td>\n",
       "      <td>0.001067</td>\n",
       "      <td>-0.000529</td>\n",
       "      <td>-0.002761</td>\n",
       "      <td>-0.001055</td>\n",
       "      <td>-0.004327</td>\n",
       "      <td>-0.009936</td>\n",
       "      <td>0.001458</td>\n",
       "    </tr>\n",
       "    <tr>\n",
       "      <th>MHT_pt</th>\n",
       "      <td>-0.070671</td>\n",
       "      <td>0.049576</td>\n",
       "      <td>0.389949</td>\n",
       "      <td>-0.020675</td>\n",
       "      <td>-0.011779</td>\n",
       "      <td>0.848546</td>\n",
       "      <td>-0.010640</td>\n",
       "      <td>1.000000</td>\n",
       "      <td>0.012414</td>\n",
       "      <td>0.076747</td>\n",
       "      <td>0.063395</td>\n",
       "      <td>0.098729</td>\n",
       "      <td>0.159633</td>\n",
       "      <td>-0.042962</td>\n",
       "      <td>-0.028898</td>\n",
       "    </tr>\n",
       "    <tr>\n",
       "      <th>MinChi</th>\n",
       "      <td>-0.051095</td>\n",
       "      <td>-0.527534</td>\n",
       "      <td>-0.772220</td>\n",
       "      <td>0.665602</td>\n",
       "      <td>-0.001237</td>\n",
       "      <td>0.001426</td>\n",
       "      <td>0.001067</td>\n",
       "      <td>0.012414</td>\n",
       "      <td>1.000000</td>\n",
       "      <td>0.713297</td>\n",
       "      <td>0.191530</td>\n",
       "      <td>-0.323777</td>\n",
       "      <td>-0.682566</td>\n",
       "      <td>0.054979</td>\n",
       "      <td>-0.001377</td>\n",
       "    </tr>\n",
       "    <tr>\n",
       "      <th>MinOmegaHat</th>\n",
       "      <td>-0.138890</td>\n",
       "      <td>-0.518521</td>\n",
       "      <td>-0.548423</td>\n",
       "      <td>0.341497</td>\n",
       "      <td>-0.002279</td>\n",
       "      <td>0.044191</td>\n",
       "      <td>-0.000529</td>\n",
       "      <td>0.076747</td>\n",
       "      <td>0.713297</td>\n",
       "      <td>1.000000</td>\n",
       "      <td>0.656860</td>\n",
       "      <td>-0.150287</td>\n",
       "      <td>-0.218755</td>\n",
       "      <td>0.036861</td>\n",
       "      <td>-0.001881</td>\n",
       "    </tr>\n",
       "    <tr>\n",
       "      <th>MinOmegaTilde</th>\n",
       "      <td>-0.077628</td>\n",
       "      <td>-0.124408</td>\n",
       "      <td>-0.097409</td>\n",
       "      <td>0.107862</td>\n",
       "      <td>-0.003338</td>\n",
       "      <td>0.034594</td>\n",
       "      <td>-0.002761</td>\n",
       "      <td>0.063395</td>\n",
       "      <td>0.191530</td>\n",
       "      <td>0.656860</td>\n",
       "      <td>1.000000</td>\n",
       "      <td>0.018192</td>\n",
       "      <td>0.206711</td>\n",
       "      <td>0.011809</td>\n",
       "      <td>0.002805</td>\n",
       "    </tr>\n",
       "    <tr>\n",
       "      <th>ncleanedBJet</th>\n",
       "      <td>-0.012167</td>\n",
       "      <td>0.148645</td>\n",
       "      <td>0.360766</td>\n",
       "      <td>-0.205681</td>\n",
       "      <td>0.001774</td>\n",
       "      <td>0.087688</td>\n",
       "      <td>-0.001055</td>\n",
       "      <td>0.098729</td>\n",
       "      <td>-0.323777</td>\n",
       "      <td>-0.150287</td>\n",
       "      <td>0.018192</td>\n",
       "      <td>1.000000</td>\n",
       "      <td>0.385061</td>\n",
       "      <td>-0.125896</td>\n",
       "      <td>-0.005596</td>\n",
       "    </tr>\n",
       "    <tr>\n",
       "      <th>ncleanedJet</th>\n",
       "      <td>-0.025686</td>\n",
       "      <td>0.349116</td>\n",
       "      <td>0.731224</td>\n",
       "      <td>-0.634342</td>\n",
       "      <td>-0.003488</td>\n",
       "      <td>0.129245</td>\n",
       "      <td>-0.004327</td>\n",
       "      <td>0.159633</td>\n",
       "      <td>-0.682566</td>\n",
       "      <td>-0.218755</td>\n",
       "      <td>0.206711</td>\n",
       "      <td>0.385061</td>\n",
       "      <td>1.000000</td>\n",
       "      <td>-0.043937</td>\n",
       "      <td>0.002646</td>\n",
       "    </tr>\n",
       "    <tr>\n",
       "      <th>weight_nominal</th>\n",
       "      <td>0.004883</td>\n",
       "      <td>-0.039150</td>\n",
       "      <td>-0.068989</td>\n",
       "      <td>0.039612</td>\n",
       "      <td>-0.012681</td>\n",
       "      <td>-0.082645</td>\n",
       "      <td>-0.009936</td>\n",
       "      <td>-0.042962</td>\n",
       "      <td>0.054979</td>\n",
       "      <td>0.036861</td>\n",
       "      <td>0.011809</td>\n",
       "      <td>-0.125896</td>\n",
       "      <td>-0.043937</td>\n",
       "      <td>1.000000</td>\n",
       "      <td>0.481183</td>\n",
       "    </tr>\n",
       "    <tr>\n",
       "      <th>xs_weight</th>\n",
       "      <td>0.005381</td>\n",
       "      <td>0.004112</td>\n",
       "      <td>-0.006374</td>\n",
       "      <td>-0.000485</td>\n",
       "      <td>0.001333</td>\n",
       "      <td>-0.028401</td>\n",
       "      <td>0.001458</td>\n",
       "      <td>-0.028898</td>\n",
       "      <td>-0.001377</td>\n",
       "      <td>-0.001881</td>\n",
       "      <td>0.002805</td>\n",
       "      <td>-0.005596</td>\n",
       "      <td>0.002646</td>\n",
       "      <td>0.481183</td>\n",
       "      <td>1.000000</td>\n",
       "    </tr>\n",
       "  </tbody>\n",
       "</table>\n",
       "</div>"
      ],
      "text/plain": [
       "                           BiasedDPhi  DiJet_mass        HT  \\\n",
       "BiasedDPhi                   1.000000    0.130434  0.065453   \n",
       "DiJet_mass                   0.130434    1.000000  0.631275   \n",
       "HT                           0.065453    0.631275  1.000000   \n",
       "InputMet_InputJet_mindPhi   -0.046307   -0.309851 -0.563862   \n",
       "InputMet_phi                -0.009211   -0.001636 -0.004311   \n",
       "InputMet_pt                 -0.067823    0.033568  0.337796   \n",
       "MHT_phi                     -0.008907   -0.002175 -0.005292   \n",
       "MHT_pt                      -0.070671    0.049576  0.389949   \n",
       "MinChi                      -0.051095   -0.527534 -0.772220   \n",
       "MinOmegaHat                 -0.138890   -0.518521 -0.548423   \n",
       "MinOmegaTilde               -0.077628   -0.124408 -0.097409   \n",
       "ncleanedBJet                -0.012167    0.148645  0.360766   \n",
       "ncleanedJet                 -0.025686    0.349116  0.731224   \n",
       "weight_nominal               0.004883   -0.039150 -0.068989   \n",
       "xs_weight                    0.005381    0.004112 -0.006374   \n",
       "\n",
       "                           InputMet_InputJet_mindPhi  InputMet_phi  \\\n",
       "BiasedDPhi                                 -0.046307     -0.009211   \n",
       "DiJet_mass                                 -0.309851     -0.001636   \n",
       "HT                                         -0.563862     -0.004311   \n",
       "InputMet_InputJet_mindPhi                   1.000000     -0.002110   \n",
       "InputMet_phi                               -0.002110      1.000000   \n",
       "InputMet_pt                                -0.000622      0.011478   \n",
       "MHT_phi                                    -0.001078      0.874637   \n",
       "MHT_pt                                     -0.020675     -0.011779   \n",
       "MinChi                                      0.665602     -0.001237   \n",
       "MinOmegaHat                                 0.341497     -0.002279   \n",
       "MinOmegaTilde                               0.107862     -0.003338   \n",
       "ncleanedBJet                               -0.205681      0.001774   \n",
       "ncleanedJet                                -0.634342     -0.003488   \n",
       "weight_nominal                              0.039612     -0.012681   \n",
       "xs_weight                                  -0.000485      0.001333   \n",
       "\n",
       "                           InputMet_pt   MHT_phi    MHT_pt    MinChi  \\\n",
       "BiasedDPhi                   -0.067823 -0.008907 -0.070671 -0.051095   \n",
       "DiJet_mass                    0.033568 -0.002175  0.049576 -0.527534   \n",
       "HT                            0.337796 -0.005292  0.389949 -0.772220   \n",
       "InputMet_InputJet_mindPhi    -0.000622 -0.001078 -0.020675  0.665602   \n",
       "InputMet_phi                  0.011478  0.874637 -0.011779 -0.001237   \n",
       "InputMet_pt                   1.000000  0.010187  0.848546  0.001426   \n",
       "MHT_phi                       0.010187  1.000000 -0.010640  0.001067   \n",
       "MHT_pt                        0.848546 -0.010640  1.000000  0.012414   \n",
       "MinChi                        0.001426  0.001067  0.012414  1.000000   \n",
       "MinOmegaHat                   0.044191 -0.000529  0.076747  0.713297   \n",
       "MinOmegaTilde                 0.034594 -0.002761  0.063395  0.191530   \n",
       "ncleanedBJet                  0.087688 -0.001055  0.098729 -0.323777   \n",
       "ncleanedJet                   0.129245 -0.004327  0.159633 -0.682566   \n",
       "weight_nominal               -0.082645 -0.009936 -0.042962  0.054979   \n",
       "xs_weight                    -0.028401  0.001458 -0.028898 -0.001377   \n",
       "\n",
       "                           MinOmegaHat  MinOmegaTilde  ncleanedBJet  \\\n",
       "BiasedDPhi                   -0.138890      -0.077628     -0.012167   \n",
       "DiJet_mass                   -0.518521      -0.124408      0.148645   \n",
       "HT                           -0.548423      -0.097409      0.360766   \n",
       "InputMet_InputJet_mindPhi     0.341497       0.107862     -0.205681   \n",
       "InputMet_phi                 -0.002279      -0.003338      0.001774   \n",
       "InputMet_pt                   0.044191       0.034594      0.087688   \n",
       "MHT_phi                      -0.000529      -0.002761     -0.001055   \n",
       "MHT_pt                        0.076747       0.063395      0.098729   \n",
       "MinChi                        0.713297       0.191530     -0.323777   \n",
       "MinOmegaHat                   1.000000       0.656860     -0.150287   \n",
       "MinOmegaTilde                 0.656860       1.000000      0.018192   \n",
       "ncleanedBJet                 -0.150287       0.018192      1.000000   \n",
       "ncleanedJet                  -0.218755       0.206711      0.385061   \n",
       "weight_nominal                0.036861       0.011809     -0.125896   \n",
       "xs_weight                    -0.001881       0.002805     -0.005596   \n",
       "\n",
       "                           ncleanedJet  weight_nominal  xs_weight  \n",
       "BiasedDPhi                   -0.025686        0.004883   0.005381  \n",
       "DiJet_mass                    0.349116       -0.039150   0.004112  \n",
       "HT                            0.731224       -0.068989  -0.006374  \n",
       "InputMet_InputJet_mindPhi    -0.634342        0.039612  -0.000485  \n",
       "InputMet_phi                 -0.003488       -0.012681   0.001333  \n",
       "InputMet_pt                   0.129245       -0.082645  -0.028401  \n",
       "MHT_phi                      -0.004327       -0.009936   0.001458  \n",
       "MHT_pt                        0.159633       -0.042962  -0.028898  \n",
       "MinChi                       -0.682566        0.054979  -0.001377  \n",
       "MinOmegaHat                  -0.218755        0.036861  -0.001881  \n",
       "MinOmegaTilde                 0.206711        0.011809   0.002805  \n",
       "ncleanedBJet                  0.385061       -0.125896  -0.005596  \n",
       "ncleanedJet                   1.000000       -0.043937   0.002646  \n",
       "weight_nominal               -0.043937        1.000000   0.481183  \n",
       "xs_weight                     0.002646        0.481183   1.000000  "
      ]
     },
     "execution_count": 10,
     "metadata": {},
     "output_type": "execute_result"
    }
   ],
   "source": [
    "correlations = background.drop(['entry', 'hashed_filename'], axis=1).corr()\n",
    "correlations"
   ]
  },
  {
   "cell_type": "code",
   "execution_count": 11,
   "metadata": {},
   "outputs": [
    {
     "data": {
      "text/plain": [
       "<AxesSubplot:>"
      ]
     },
     "execution_count": 11,
     "metadata": {},
     "output_type": "execute_result"
    },
    {
     "data": {
      "image/png": "[encoded data removed]",
      "text/plain": [
       "<Figure size 432x288 with 2 Axes>"
      ]
     },
     "metadata": {
      "needs_background": "light"
     },
     "output_type": "display_data"
    }
   ],
   "source": [
    "import seaborn as sns\n",
    "\n",
    "sns.heatmap(correlations, xticklabels=correlations.columns, yticklabels=correlations.columns, vmin=-1)\n",
    "# plt.savefig('Correlations_heatmap.png', dpi=300, bbox_inches=\"tight\")"
   ]
  },
  {
   "cell_type": "code",
   "execution_count": 12,
   "metadata": {},
   "outputs": [
    {
     "data": {
      "text/plain": [
       "<AxesSubplot:xlabel='MHT_pt', ylabel='InputMet_pt'>"
      ]
     },
     "execution_count": 12,
     "metadata": {},
     "output_type": "execute_result"
    },
    {
     "data": {
      "image/png": "[encoded data removed]",
      "text/plain": [
       "<Figure size 432x288 with 1 Axes>"
      ]
     },
     "metadata": {
      "needs_background": "light"
     },
     "output_type": "display_data"
    }
   ],
   "source": [
    "background.plot(x='MHT_pt', y='InputMet_pt', kind='scatter', s=0.1)"
   ]
  },
  {
   "cell_type": "code",
   "execution_count": 13,
   "metadata": {},
   "outputs": [
    {
     "data": {
      "text/html": [
       "<div>\n",
       "<style scoped>\n",
       "    .dataframe tbody tr th:only-of-type {\n",
       "        vertical-align: middle;\n",
       "    }\n",
       "\n",
       "    .dataframe tbody tr th {\n",
       "        vertical-align: top;\n",
       "    }\n",
       "\n",
       "    .dataframe thead th {\n",
       "        text-align: right;\n",
       "    }\n",
       "</style>\n",
       "<table border=\"1\" class=\"dataframe\">\n",
       "  <thead>\n",
       "    <tr style=\"text-align: right;\">\n",
       "      <th></th>\n",
       "      <th>BiasedDPhi</th>\n",
       "      <th>DiJet_mass</th>\n",
       "      <th>HT</th>\n",
       "      <th>InputMet_InputJet_mindPhi</th>\n",
       "      <th>InputMet_phi</th>\n",
       "      <th>InputMet_pt</th>\n",
       "      <th>MHT_phi</th>\n",
       "      <th>MHT_pt</th>\n",
       "      <th>MinChi</th>\n",
       "      <th>MinOmegaHat</th>\n",
       "      <th>MinOmegaTilde</th>\n",
       "      <th>ncleanedBJet</th>\n",
       "      <th>ncleanedJet</th>\n",
       "      <th>weight_nominal</th>\n",
       "      <th>xs_weight</th>\n",
       "    </tr>\n",
       "  </thead>\n",
       "  <tbody>\n",
       "    <tr>\n",
       "      <th>BiasedDPhi</th>\n",
       "      <td>1.000000</td>\n",
       "      <td>0.160052</td>\n",
       "      <td>0.098366</td>\n",
       "      <td>-0.056969</td>\n",
       "      <td>-0.004713</td>\n",
       "      <td>-0.086949</td>\n",
       "      <td>-0.004621</td>\n",
       "      <td>-0.088282</td>\n",
       "      <td>-0.108363</td>\n",
       "      <td>-0.180485</td>\n",
       "      <td>-0.123304</td>\n",
       "      <td>-0.023063</td>\n",
       "      <td>-0.065539</td>\n",
       "      <td>-0.005311</td>\n",
       "      <td>-0.014859</td>\n",
       "    </tr>\n",
       "    <tr>\n",
       "      <th>DiJet_mass</th>\n",
       "      <td>0.160052</td>\n",
       "      <td>1.000000</td>\n",
       "      <td>0.674029</td>\n",
       "      <td>-0.231780</td>\n",
       "      <td>-0.003144</td>\n",
       "      <td>0.095571</td>\n",
       "      <td>-0.000152</td>\n",
       "      <td>0.099424</td>\n",
       "      <td>-0.506146</td>\n",
       "      <td>-0.564014</td>\n",
       "      <td>-0.278043</td>\n",
       "      <td>0.083763</td>\n",
       "      <td>0.205214</td>\n",
       "      <td>-0.064939</td>\n",
       "      <td>-0.061854</td>\n",
       "    </tr>\n",
       "    <tr>\n",
       "      <th>HT</th>\n",
       "      <td>0.098366</td>\n",
       "      <td>0.674029</td>\n",
       "      <td>1.000000</td>\n",
       "      <td>-0.346641</td>\n",
       "      <td>-0.007279</td>\n",
       "      <td>0.413875</td>\n",
       "      <td>-0.005087</td>\n",
       "      <td>0.442168</td>\n",
       "      <td>-0.577126</td>\n",
       "      <td>-0.526405</td>\n",
       "      <td>-0.259297</td>\n",
       "      <td>0.250764</td>\n",
       "      <td>0.558854</td>\n",
       "      <td>-0.090004</td>\n",
       "      <td>-0.087858</td>\n",
       "    </tr>\n",
       "    <tr>\n",
       "      <th>InputMet_InputJet_mindPhi</th>\n",
       "      <td>-0.056969</td>\n",
       "      <td>-0.231780</td>\n",
       "      <td>-0.346641</td>\n",
       "      <td>1.000000</td>\n",
       "      <td>-0.005089</td>\n",
       "      <td>0.156974</td>\n",
       "      <td>-0.003023</td>\n",
       "      <td>0.145977</td>\n",
       "      <td>0.519862</td>\n",
       "      <td>0.399541</td>\n",
       "      <td>0.389604</td>\n",
       "      <td>-0.097190</td>\n",
       "      <td>-0.327470</td>\n",
       "      <td>0.022685</td>\n",
       "      <td>0.016813</td>\n",
       "    </tr>\n",
       "    <tr>\n",
       "      <th>InputMet_phi</th>\n",
       "      <td>-0.004713</td>\n",
       "      <td>-0.003144</td>\n",
       "      <td>-0.007279</td>\n",
       "      <td>-0.005089</td>\n",
       "      <td>1.000000</td>\n",
       "      <td>0.002266</td>\n",
       "      <td>0.891893</td>\n",
       "      <td>-0.013160</td>\n",
       "      <td>-0.005046</td>\n",
       "      <td>-0.002333</td>\n",
       "      <td>-0.001091</td>\n",
       "      <td>-0.005272</td>\n",
       "      <td>-0.000662</td>\n",
       "      <td>-0.005395</td>\n",
       "      <td>-0.000860</td>\n",
       "    </tr>\n",
       "    <tr>\n",
       "      <th>InputMet_pt</th>\n",
       "      <td>-0.086949</td>\n",
       "      <td>0.095571</td>\n",
       "      <td>0.413875</td>\n",
       "      <td>0.156974</td>\n",
       "      <td>0.002266</td>\n",
       "      <td>1.000000</td>\n",
       "      <td>0.003662</td>\n",
       "      <td>0.939306</td>\n",
       "      <td>0.225812</td>\n",
       "      <td>0.164084</td>\n",
       "      <td>0.089369</td>\n",
       "      <td>0.092746</td>\n",
       "      <td>0.115458</td>\n",
       "      <td>-0.077806</td>\n",
       "      <td>-0.071419</td>\n",
       "    </tr>\n",
       "    <tr>\n",
       "      <th>MHT_phi</th>\n",
       "      <td>-0.004621</td>\n",
       "      <td>-0.000152</td>\n",
       "      <td>-0.005087</td>\n",
       "      <td>-0.003023</td>\n",
       "      <td>0.891893</td>\n",
       "      <td>0.003662</td>\n",
       "      <td>1.000000</td>\n",
       "      <td>-0.011693</td>\n",
       "      <td>-0.005438</td>\n",
       "      <td>-0.004640</td>\n",
       "      <td>-0.001915</td>\n",
       "      <td>-0.004032</td>\n",
       "      <td>0.002614</td>\n",
       "      <td>-0.005315</td>\n",
       "      <td>-0.001787</td>\n",
       "    </tr>\n",
       "    <tr>\n",
       "      <th>MHT_pt</th>\n",
       "      <td>-0.088282</td>\n",
       "      <td>0.099424</td>\n",
       "      <td>0.442168</td>\n",
       "      <td>0.145977</td>\n",
       "      <td>-0.013160</td>\n",
       "      <td>0.939306</td>\n",
       "      <td>-0.011693</td>\n",
       "      <td>1.000000</td>\n",
       "      <td>0.239823</td>\n",
       "      <td>0.185267</td>\n",
       "      <td>0.108673</td>\n",
       "      <td>0.107386</td>\n",
       "      <td>0.139282</td>\n",
       "      <td>-0.059759</td>\n",
       "      <td>-0.072974</td>\n",
       "    </tr>\n",
       "    <tr>\n",
       "      <th>MinChi</th>\n",
       "      <td>-0.108363</td>\n",
       "      <td>-0.506146</td>\n",
       "      <td>-0.577126</td>\n",
       "      <td>0.519862</td>\n",
       "      <td>-0.005046</td>\n",
       "      <td>0.225812</td>\n",
       "      <td>-0.005438</td>\n",
       "      <td>0.239823</td>\n",
       "      <td>1.000000</td>\n",
       "      <td>0.823317</td>\n",
       "      <td>0.458833</td>\n",
       "      <td>-0.174130</td>\n",
       "      <td>-0.419367</td>\n",
       "      <td>0.051167</td>\n",
       "      <td>0.037284</td>\n",
       "    </tr>\n",
       "    <tr>\n",
       "      <th>MinOmegaHat</th>\n",
       "      <td>-0.180485</td>\n",
       "      <td>-0.564014</td>\n",
       "      <td>-0.526405</td>\n",
       "      <td>0.399541</td>\n",
       "      <td>-0.002333</td>\n",
       "      <td>0.164084</td>\n",
       "      <td>-0.004640</td>\n",
       "      <td>0.185267</td>\n",
       "      <td>0.823317</td>\n",
       "      <td>1.000000</td>\n",
       "      <td>0.730443</td>\n",
       "      <td>-0.040094</td>\n",
       "      <td>-0.145231</td>\n",
       "      <td>0.045608</td>\n",
       "      <td>0.045851</td>\n",
       "    </tr>\n",
       "    <tr>\n",
       "      <th>MinOmegaTilde</th>\n",
       "      <td>-0.123304</td>\n",
       "      <td>-0.278043</td>\n",
       "      <td>-0.259297</td>\n",
       "      <td>0.389604</td>\n",
       "      <td>-0.001091</td>\n",
       "      <td>0.089369</td>\n",
       "      <td>-0.001915</td>\n",
       "      <td>0.108673</td>\n",
       "      <td>0.458833</td>\n",
       "      <td>0.730443</td>\n",
       "      <td>1.000000</td>\n",
       "      <td>0.081283</td>\n",
       "      <td>0.105519</td>\n",
       "      <td>0.022464</td>\n",
       "      <td>0.032925</td>\n",
       "    </tr>\n",
       "    <tr>\n",
       "      <th>ncleanedBJet</th>\n",
       "      <td>-0.023063</td>\n",
       "      <td>0.083763</td>\n",
       "      <td>0.250764</td>\n",
       "      <td>-0.097190</td>\n",
       "      <td>-0.005272</td>\n",
       "      <td>0.092746</td>\n",
       "      <td>-0.004032</td>\n",
       "      <td>0.107386</td>\n",
       "      <td>-0.174130</td>\n",
       "      <td>-0.040094</td>\n",
       "      <td>0.081283</td>\n",
       "      <td>1.000000</td>\n",
       "      <td>0.361156</td>\n",
       "      <td>-0.122623</td>\n",
       "      <td>-0.016203</td>\n",
       "    </tr>\n",
       "    <tr>\n",
       "      <th>ncleanedJet</th>\n",
       "      <td>-0.065539</td>\n",
       "      <td>0.205214</td>\n",
       "      <td>0.558854</td>\n",
       "      <td>-0.327470</td>\n",
       "      <td>-0.000662</td>\n",
       "      <td>0.115458</td>\n",
       "      <td>0.002614</td>\n",
       "      <td>0.139282</td>\n",
       "      <td>-0.419367</td>\n",
       "      <td>-0.145231</td>\n",
       "      <td>0.105519</td>\n",
       "      <td>0.361156</td>\n",
       "      <td>1.000000</td>\n",
       "      <td>-0.036427</td>\n",
       "      <td>-0.013375</td>\n",
       "    </tr>\n",
       "    <tr>\n",
       "      <th>weight_nominal</th>\n",
       "      <td>-0.005311</td>\n",
       "      <td>-0.064939</td>\n",
       "      <td>-0.090004</td>\n",
       "      <td>0.022685</td>\n",
       "      <td>-0.005395</td>\n",
       "      <td>-0.077806</td>\n",
       "      <td>-0.005315</td>\n",
       "      <td>-0.059759</td>\n",
       "      <td>0.051167</td>\n",
       "      <td>0.045608</td>\n",
       "      <td>0.022464</td>\n",
       "      <td>-0.122623</td>\n",
       "      <td>-0.036427</td>\n",
       "      <td>1.000000</td>\n",
       "      <td>0.603177</td>\n",
       "    </tr>\n",
       "    <tr>\n",
       "      <th>xs_weight</th>\n",
       "      <td>-0.014859</td>\n",
       "      <td>-0.061854</td>\n",
       "      <td>-0.087858</td>\n",
       "      <td>0.016813</td>\n",
       "      <td>-0.000860</td>\n",
       "      <td>-0.071419</td>\n",
       "      <td>-0.001787</td>\n",
       "      <td>-0.072974</td>\n",
       "      <td>0.037284</td>\n",
       "      <td>0.045851</td>\n",
       "      <td>0.032925</td>\n",
       "      <td>-0.016203</td>\n",
       "      <td>-0.013375</td>\n",
       "      <td>0.603177</td>\n",
       "      <td>1.000000</td>\n",
       "    </tr>\n",
       "  </tbody>\n",
       "</table>\n",
       "</div>"
      ],
      "text/plain": [
       "                           BiasedDPhi  DiJet_mass        HT  \\\n",
       "BiasedDPhi                   1.000000    0.160052  0.098366   \n",
       "DiJet_mass                   0.160052    1.000000  0.674029   \n",
       "HT                           0.098366    0.674029  1.000000   \n",
       "InputMet_InputJet_mindPhi   -0.056969   -0.231780 -0.346641   \n",
       "InputMet_phi                -0.004713   -0.003144 -0.007279   \n",
       "InputMet_pt                 -0.086949    0.095571  0.413875   \n",
       "MHT_phi                     -0.004621   -0.000152 -0.005087   \n",
       "MHT_pt                      -0.088282    0.099424  0.442168   \n",
       "MinChi                      -0.108363   -0.506146 -0.577126   \n",
       "MinOmegaHat                 -0.180485   -0.564014 -0.526405   \n",
       "MinOmegaTilde               -0.123304   -0.278043 -0.259297   \n",
       "ncleanedBJet                -0.023063    0.083763  0.250764   \n",
       "ncleanedJet                 -0.065539    0.205214  0.558854   \n",
       "weight_nominal              -0.005311   -0.064939 -0.090004   \n",
       "xs_weight                   -0.014859   -0.061854 -0.087858   \n",
       "\n",
       "                           InputMet_InputJet_mindPhi  InputMet_phi  \\\n",
       "BiasedDPhi                                 -0.056969     -0.004713   \n",
       "DiJet_mass                                 -0.231780     -0.003144   \n",
       "HT                                         -0.346641     -0.007279   \n",
       "InputMet_InputJet_mindPhi                   1.000000     -0.005089   \n",
       "InputMet_phi                               -0.005089      1.000000   \n",
       "InputMet_pt                                 0.156974      0.002266   \n",
       "MHT_phi                                    -0.003023      0.891893   \n",
       "MHT_pt                                      0.145977     -0.013160   \n",
       "MinChi                                      0.519862     -0.005046   \n",
       "MinOmegaHat                                 0.399541     -0.002333   \n",
       "MinOmegaTilde                               0.389604     -0.001091   \n",
       "ncleanedBJet                               -0.097190     -0.005272   \n",
       "ncleanedJet                                -0.327470     -0.000662   \n",
       "weight_nominal                              0.022685     -0.005395   \n",
       "xs_weight                                   0.016813     -0.000860   \n",
       "\n",
       "                           InputMet_pt   MHT_phi    MHT_pt    MinChi  \\\n",
       "BiasedDPhi                   -0.086949 -0.004621 -0.088282 -0.108363   \n",
       "DiJet_mass                    0.095571 -0.000152  0.099424 -0.506146   \n",
       "HT                            0.413875 -0.005087  0.442168 -0.577126   \n",
       "InputMet_InputJet_mindPhi     0.156974 -0.003023  0.145977  0.519862   \n",
       "InputMet_phi                  0.002266  0.891893 -0.013160 -0.005046   \n",
       "InputMet_pt                   1.000000  0.003662  0.939306  0.225812   \n",
       "MHT_phi                       0.003662  1.000000 -0.011693 -0.005438   \n",
       "MHT_pt                        0.939306 -0.011693  1.000000  0.239823   \n",
       "MinChi                        0.225812 -0.005438  0.239823  1.000000   \n",
       "MinOmegaHat                   0.164084 -0.004640  0.185267  0.823317   \n",
       "MinOmegaTilde                 0.089369 -0.001915  0.108673  0.458833   \n",
       "ncleanedBJet                  0.092746 -0.004032  0.107386 -0.174130   \n",
       "ncleanedJet                   0.115458  0.002614  0.139282 -0.419367   \n",
       "weight_nominal               -0.077806 -0.005315 -0.059759  0.051167   \n",
       "xs_weight                    -0.071419 -0.001787 -0.072974  0.037284   \n",
       "\n",
       "                           MinOmegaHat  MinOmegaTilde  ncleanedBJet  \\\n",
       "BiasedDPhi                   -0.180485      -0.123304     -0.023063   \n",
       "DiJet_mass                   -0.564014      -0.278043      0.083763   \n",
       "HT                           -0.526405      -0.259297      0.250764   \n",
       "InputMet_InputJet_mindPhi     0.399541       0.389604     -0.097190   \n",
       "InputMet_phi                 -0.002333      -0.001091     -0.005272   \n",
       "InputMet_pt                   0.164084       0.089369      0.092746   \n",
       "MHT_phi                      -0.004640      -0.001915     -0.004032   \n",
       "MHT_pt                        0.185267       0.108673      0.107386   \n",
       "MinChi                        0.823317       0.458833     -0.174130   \n",
       "MinOmegaHat                   1.000000       0.730443     -0.040094   \n",
       "MinOmegaTilde                 0.730443       1.000000      0.081283   \n",
       "ncleanedBJet                 -0.040094       0.081283      1.000000   \n",
       "ncleanedJet                  -0.145231       0.105519      0.361156   \n",
       "weight_nominal                0.045608       0.022464     -0.122623   \n",
       "xs_weight                     0.045851       0.032925     -0.016203   \n",
       "\n",
       "                           ncleanedJet  weight_nominal  xs_weight  \n",
       "BiasedDPhi                   -0.065539       -0.005311  -0.014859  \n",
       "DiJet_mass                    0.205214       -0.064939  -0.061854  \n",
       "HT                            0.558854       -0.090004  -0.087858  \n",
       "InputMet_InputJet_mindPhi    -0.327470        0.022685   0.016813  \n",
       "InputMet_phi                 -0.000662       -0.005395  -0.000860  \n",
       "InputMet_pt                   0.115458       -0.077806  -0.071419  \n",
       "MHT_phi                       0.002614       -0.005315  -0.001787  \n",
       "MHT_pt                        0.139282       -0.059759  -0.072974  \n",
       "MinChi                       -0.419367        0.051167   0.037284  \n",
       "MinOmegaHat                  -0.145231        0.045608   0.045851  \n",
       "MinOmegaTilde                 0.105519        0.022464   0.032925  \n",
       "ncleanedBJet                  0.361156       -0.122623  -0.016203  \n",
       "ncleanedJet                   1.000000       -0.036427  -0.013375  \n",
       "weight_nominal               -0.036427        1.000000   0.603177  \n",
       "xs_weight                    -0.013375        0.603177   1.000000  "
      ]
     },
     "execution_count": 13,
     "metadata": {},
     "output_type": "execute_result"
    }
   ],
   "source": [
    "signal_corrs = signal.drop(['entry', 'hashed_filename'], axis=1).corr()\n",
    "signal_corrs"
   ]
  },
  {
   "cell_type": "code",
   "execution_count": 2,
   "metadata": {},
   "outputs": [],
   "source": [
    "# labels\n",
    "\n",
    "background['signal'] = 0.0\n",
    "signal['signal'] = 1.0"
   ]
  },
  {
   "cell_type": "code",
   "execution_count": 3,
   "metadata": {},
   "outputs": [
    {
     "data": {
      "text/html": [
       "<div>\n",
       "<style scoped>\n",
       "    .dataframe tbody tr th:only-of-type {\n",
       "        vertical-align: middle;\n",
       "    }\n",
       "\n",
       "    .dataframe tbody tr th {\n",
       "        vertical-align: top;\n",
       "    }\n",
       "\n",
       "    .dataframe thead th {\n",
       "        text-align: right;\n",
       "    }\n",
       "</style>\n",
       "<table border=\"1\" class=\"dataframe\">\n",
       "  <thead>\n",
       "    <tr style=\"text-align: right;\">\n",
       "      <th></th>\n",
       "      <th>dataset</th>\n",
       "      <th>entry</th>\n",
       "      <th>BiasedDPhi</th>\n",
       "      <th>DiJet_mass</th>\n",
       "      <th>HT</th>\n",
       "      <th>InputMet_InputJet_mindPhi</th>\n",
       "      <th>InputMet_phi</th>\n",
       "      <th>InputMet_pt</th>\n",
       "      <th>MHT_phi</th>\n",
       "      <th>MHT_pt</th>\n",
       "      <th>...</th>\n",
       "      <th>cleanedJet_mass</th>\n",
       "      <th>cleanedJet_neHEF</th>\n",
       "      <th>cleanedJet_phi</th>\n",
       "      <th>cleanedJet_pt</th>\n",
       "      <th>hashed_filename</th>\n",
       "      <th>ncleanedBJet</th>\n",
       "      <th>ncleanedJet</th>\n",
       "      <th>weight_nominal</th>\n",
       "      <th>xs_weight</th>\n",
       "      <th>signal</th>\n",
       "    </tr>\n",
       "  </thead>\n",
       "  <tbody>\n",
       "    <tr>\n",
       "      <th>0</th>\n",
       "      <td>TTToSemiLeptonic</td>\n",
       "      <td>46</td>\n",
       "      <td>-2.162490</td>\n",
       "      <td>129.015341</td>\n",
       "      <td>466.076111</td>\n",
       "      <td>1.818359</td>\n",
       "      <td>2.597656</td>\n",
       "      <td>308.250</td>\n",
       "      <td>2.504940</td>\n",
       "      <td>339.473511</td>\n",
       "      <td>...</td>\n",
       "      <td>[24.203125, 17.90625, 12.1015625, 7.8515625, 7...</td>\n",
       "      <td>[0.013671875, 0.09667969, 0.171875, 0.12890625...</td>\n",
       "      <td>[-0.5839844, -1.3388672, 0.30273438, 0.7788086...</td>\n",
       "      <td>[158.16063, 141.62325, 66.15963, 60.8369, 39.2...</td>\n",
       "      <td>-1128102262536627217</td>\n",
       "      <td>1</td>\n",
       "      <td>5</td>\n",
       "      <td>1.372626e-06</td>\n",
       "      <td>1.058815e-06</td>\n",
       "      <td>0.0</td>\n",
       "    </tr>\n",
       "    <tr>\n",
       "      <th>1</th>\n",
       "      <td>TTToSemiLeptonic</td>\n",
       "      <td>173</td>\n",
       "      <td>-2.422232</td>\n",
       "      <td>82.354687</td>\n",
       "      <td>314.990326</td>\n",
       "      <td>1.387695</td>\n",
       "      <td>2.214844</td>\n",
       "      <td>234.625</td>\n",
       "      <td>2.208970</td>\n",
       "      <td>254.779602</td>\n",
       "      <td>...</td>\n",
       "      <td>[16.625, 8.75, 9.2578125, 4.9609375]</td>\n",
       "      <td>[0.064453125, 0.010131836, 0.15625, 0.029052734]</td>\n",
       "      <td>[-0.70703125, -0.4921875, -1.4736328, -2.6796875]</td>\n",
       "      <td>[117.50915, 96.34649, 68.59821, 32.53648]</td>\n",
       "      <td>-1128102262536627217</td>\n",
       "      <td>0</td>\n",
       "      <td>4</td>\n",
       "      <td>1.299825e-06</td>\n",
       "      <td>1.058815e-06</td>\n",
       "      <td>0.0</td>\n",
       "    </tr>\n",
       "    <tr>\n",
       "      <th>2</th>\n",
       "      <td>TTToSemiLeptonic</td>\n",
       "      <td>422</td>\n",
       "      <td>-2.619020</td>\n",
       "      <td>205.322909</td>\n",
       "      <td>704.391113</td>\n",
       "      <td>2.003906</td>\n",
       "      <td>1.114258</td>\n",
       "      <td>281.250</td>\n",
       "      <td>1.223088</td>\n",
       "      <td>319.017120</td>\n",
       "      <td>...</td>\n",
       "      <td>[18.3125, 28.359375, 24.375, 15.5, 12.875, 6.8...</td>\n",
       "      <td>[0.1796875, 0.061035156, 0.024902344, 0.122070...</td>\n",
       "      <td>[-0.8901367, -2.2441406, -1.7099609, -1.620117...</td>\n",
       "      <td>[168.69464, 125.064186, 118.458534, 93.086205,...</td>\n",
       "      <td>-1128102262536627217</td>\n",
       "      <td>1</td>\n",
       "      <td>8</td>\n",
       "      <td>1.128268e-06</td>\n",
       "      <td>1.058815e-06</td>\n",
       "      <td>0.0</td>\n",
       "    </tr>\n",
       "    <tr>\n",
       "      <th>3</th>\n",
       "      <td>TTToSemiLeptonic</td>\n",
       "      <td>566</td>\n",
       "      <td>-2.588248</td>\n",
       "      <td>92.049317</td>\n",
       "      <td>236.107727</td>\n",
       "      <td>2.830078</td>\n",
       "      <td>2.808594</td>\n",
       "      <td>211.125</td>\n",
       "      <td>2.717564</td>\n",
       "      <td>227.468781</td>\n",
       "      <td>...</td>\n",
       "      <td>[17.125, 16.875]</td>\n",
       "      <td>[0.091796875, 0.27734375]</td>\n",
       "      <td>[-0.6459961, -0.09265137]</td>\n",
       "      <td>[140.82028, 95.287445]</td>\n",
       "      <td>-1128102262536627217</td>\n",
       "      <td>0</td>\n",
       "      <td>2</td>\n",
       "      <td>1.001174e-06</td>\n",
       "      <td>1.058815e-06</td>\n",
       "      <td>0.0</td>\n",
       "    </tr>\n",
       "    <tr>\n",
       "      <th>4</th>\n",
       "      <td>TTToSemiLeptonic</td>\n",
       "      <td>643</td>\n",
       "      <td>-2.404833</td>\n",
       "      <td>263.855078</td>\n",
       "      <td>465.201355</td>\n",
       "      <td>1.373047</td>\n",
       "      <td>1.194336</td>\n",
       "      <td>244.500</td>\n",
       "      <td>1.124761</td>\n",
       "      <td>209.110886</td>\n",
       "      <td>...</td>\n",
       "      <td>[17.921875, 14.2265625, 10.421875, 11.8359375,...</td>\n",
       "      <td>[0.059570312, 0.08300781, 0.09082031, 0.0, 0.1...</td>\n",
       "      <td>[-1.5351562, -0.71191406, -2.4707031, 2.566406...</td>\n",
       "      <td>[161.023, 88.179504, 86.872795, 83.19698, 45.9...</td>\n",
       "      <td>-1128102262536627217</td>\n",
       "      <td>1</td>\n",
       "      <td>5</td>\n",
       "      <td>4.717875e-08</td>\n",
       "      <td>1.037744e-06</td>\n",
       "      <td>0.0</td>\n",
       "    </tr>\n",
       "    <tr>\n",
       "      <th>...</th>\n",
       "      <td>...</td>\n",
       "      <td>...</td>\n",
       "      <td>...</td>\n",
       "      <td>...</td>\n",
       "      <td>...</td>\n",
       "      <td>...</td>\n",
       "      <td>...</td>\n",
       "      <td>...</td>\n",
       "      <td>...</td>\n",
       "      <td>...</td>\n",
       "      <td>...</td>\n",
       "      <td>...</td>\n",
       "      <td>...</td>\n",
       "      <td>...</td>\n",
       "      <td>...</td>\n",
       "      <td>...</td>\n",
       "      <td>...</td>\n",
       "      <td>...</td>\n",
       "      <td>...</td>\n",
       "      <td>...</td>\n",
       "      <td>...</td>\n",
       "    </tr>\n",
       "    <tr>\n",
       "      <th>395526</th>\n",
       "      <td>ttH125</td>\n",
       "      <td>57188</td>\n",
       "      <td>-1.053801</td>\n",
       "      <td>288.878804</td>\n",
       "      <td>538.161011</td>\n",
       "      <td>0.558594</td>\n",
       "      <td>-0.535156</td>\n",
       "      <td>319.500</td>\n",
       "      <td>-0.598651</td>\n",
       "      <td>321.282104</td>\n",
       "      <td>...</td>\n",
       "      <td>[61.03125, 10.21875, 11.9375, 10.6171875]</td>\n",
       "      <td>[0.19921875, 0.31640625, 0.041503906, 0.08203125]</td>\n",
       "      <td>[2.9472656, 0.83251953, 1.4785156, 0.023406982]</td>\n",
       "      <td>[367.24014, 67.60956, 59.352955, 43.958344]</td>\n",
       "      <td>-3195821744940508925</td>\n",
       "      <td>0</td>\n",
       "      <td>4</td>\n",
       "      <td>8.931933e-08</td>\n",
       "      <td>8.695861e-08</td>\n",
       "      <td>1.0</td>\n",
       "    </tr>\n",
       "    <tr>\n",
       "      <th>395527</th>\n",
       "      <td>ttH125</td>\n",
       "      <td>57263</td>\n",
       "      <td>-3.078279</td>\n",
       "      <td>170.132749</td>\n",
       "      <td>854.645752</td>\n",
       "      <td>1.125000</td>\n",
       "      <td>-0.444824</td>\n",
       "      <td>639.500</td>\n",
       "      <td>-0.307134</td>\n",
       "      <td>737.930847</td>\n",
       "      <td>...</td>\n",
       "      <td>[34.625, 42.59375, 13.9453125, 8.984375, 11.89...</td>\n",
       "      <td>[0.10644531, 0.19921875, 0.024902344, 0.079101...</td>\n",
       "      <td>[2.5097656, 2.9355469, 2.890625, 3.0898438, -1...</td>\n",
       "      <td>[357.2846, 267.9881, 83.35675, 78.241455, 67.7...</td>\n",
       "      <td>-3195821744940508925</td>\n",
       "      <td>0</td>\n",
       "      <td>5</td>\n",
       "      <td>3.332064e-08</td>\n",
       "      <td>8.695861e-08</td>\n",
       "      <td>1.0</td>\n",
       "    </tr>\n",
       "    <tr>\n",
       "      <th>395528</th>\n",
       "      <td>ttH125</td>\n",
       "      <td>57324</td>\n",
       "      <td>-2.065787</td>\n",
       "      <td>129.292086</td>\n",
       "      <td>244.557846</td>\n",
       "      <td>2.433594</td>\n",
       "      <td>2.652344</td>\n",
       "      <td>259.750</td>\n",
       "      <td>2.574131</td>\n",
       "      <td>210.912643</td>\n",
       "      <td>...</td>\n",
       "      <td>[15.1328125, 15.9609375]</td>\n",
       "      <td>[0.064453125, 0.080078125]</td>\n",
       "      <td>[-0.12145996, -1.1972656]</td>\n",
       "      <td>[141.16875, 103.3891]</td>\n",
       "      <td>-3195821744940508925</td>\n",
       "      <td>1</td>\n",
       "      <td>2</td>\n",
       "      <td>9.855283e-08</td>\n",
       "      <td>8.695861e-08</td>\n",
       "      <td>1.0</td>\n",
       "    </tr>\n",
       "    <tr>\n",
       "      <th>395529</th>\n",
       "      <td>ttH125</td>\n",
       "      <td>57467</td>\n",
       "      <td>0.770838</td>\n",
       "      <td>271.667337</td>\n",
       "      <td>525.788696</td>\n",
       "      <td>1.009766</td>\n",
       "      <td>0.736328</td>\n",
       "      <td>210.500</td>\n",
       "      <td>0.749469</td>\n",
       "      <td>226.901993</td>\n",
       "      <td>...</td>\n",
       "      <td>[18.3125, 18.5, 16.90625, 10.90625, 5.8359375]</td>\n",
       "      <td>[0.0703125, 0.4609375, 0.012939453, 0.01635742...</td>\n",
       "      <td>[-1.5292969, 2.703125, -1.5820312, 1.7470703, ...</td>\n",
       "      <td>[160.7482, 154.11227, 104.92712, 73.21738, 32....</td>\n",
       "      <td>-3195821744940508925</td>\n",
       "      <td>1</td>\n",
       "      <td>5</td>\n",
       "      <td>1.087151e-07</td>\n",
       "      <td>8.695861e-08</td>\n",
       "      <td>1.0</td>\n",
       "    </tr>\n",
       "    <tr>\n",
       "      <th>395530</th>\n",
       "      <td>ttH125</td>\n",
       "      <td>57538</td>\n",
       "      <td>-1.210900</td>\n",
       "      <td>154.172600</td>\n",
       "      <td>715.310547</td>\n",
       "      <td>1.314453</td>\n",
       "      <td>1.164062</td>\n",
       "      <td>255.750</td>\n",
       "      <td>0.884615</td>\n",
       "      <td>216.732864</td>\n",
       "      <td>...</td>\n",
       "      <td>[26.984375, 14.515625, 24.734375, 15.3125, 20....</td>\n",
       "      <td>[0.0, 0.038085938, 0.0, 0.018798828, 0.0]</td>\n",
       "      <td>[-3.0292969, 2.4785156, -0.8017578, -0.4660644...</td>\n",
       "      <td>[212.15216, 152.44356, 147.17903, 125.04064, 7...</td>\n",
       "      <td>-3195821744940508925</td>\n",
       "      <td>2</td>\n",
       "      <td>5</td>\n",
       "      <td>8.700578e-08</td>\n",
       "      <td>8.695861e-08</td>\n",
       "      <td>1.0</td>\n",
       "    </tr>\n",
       "  </tbody>\n",
       "</table>\n",
       "<p>395531 rows × 27 columns</p>\n",
       "</div>"
      ],
      "text/plain": [
       "                 dataset  entry  BiasedDPhi  DiJet_mass          HT  \\\n",
       "0       TTToSemiLeptonic     46   -2.162490  129.015341  466.076111   \n",
       "1       TTToSemiLeptonic    173   -2.422232   82.354687  314.990326   \n",
       "2       TTToSemiLeptonic    422   -2.619020  205.322909  704.391113   \n",
       "3       TTToSemiLeptonic    566   -2.588248   92.049317  236.107727   \n",
       "4       TTToSemiLeptonic    643   -2.404833  263.855078  465.201355   \n",
       "...                  ...    ...         ...         ...         ...   \n",
       "395526            ttH125  57188   -1.053801  288.878804  538.161011   \n",
       "395527            ttH125  57263   -3.078279  170.132749  854.645752   \n",
       "395528            ttH125  57324   -2.065787  129.292086  244.557846   \n",
       "395529            ttH125  57467    0.770838  271.667337  525.788696   \n",
       "395530            ttH125  57538   -1.210900  154.172600  715.310547   \n",
       "\n",
       "        InputMet_InputJet_mindPhi  InputMet_phi  InputMet_pt   MHT_phi  \\\n",
       "0                        1.818359      2.597656      308.250  2.504940   \n",
       "1                        1.387695      2.214844      234.625  2.208970   \n",
       "2                        2.003906      1.114258      281.250  1.223088   \n",
       "3                        2.830078      2.808594      211.125  2.717564   \n",
       "4                        1.373047      1.194336      244.500  1.124761   \n",
       "...                           ...           ...          ...       ...   \n",
       "395526                   0.558594     -0.535156      319.500 -0.598651   \n",
       "395527                   1.125000     -0.444824      639.500 -0.307134   \n",
       "395528                   2.433594      2.652344      259.750  2.574131   \n",
       "395529                   1.009766      0.736328      210.500  0.749469   \n",
       "395530                   1.314453      1.164062      255.750  0.884615   \n",
       "\n",
       "            MHT_pt  ...                                    cleanedJet_mass  \\\n",
       "0       339.473511  ...  [24.203125, 17.90625, 12.1015625, 7.8515625, 7...   \n",
       "1       254.779602  ...               [16.625, 8.75, 9.2578125, 4.9609375]   \n",
       "2       319.017120  ...  [18.3125, 28.359375, 24.375, 15.5, 12.875, 6.8...   \n",
       "3       227.468781  ...                                   [17.125, 16.875]   \n",
       "4       209.110886  ...  [17.921875, 14.2265625, 10.421875, 11.8359375,...   \n",
       "...            ...  ...                                                ...   \n",
       "395526  321.282104  ...          [61.03125, 10.21875, 11.9375, 10.6171875]   \n",
       "395527  737.930847  ...  [34.625, 42.59375, 13.9453125, 8.984375, 11.89...   \n",
       "395528  210.912643  ...                           [15.1328125, 15.9609375]   \n",
       "395529  226.901993  ...     [18.3125, 18.5, 16.90625, 10.90625, 5.8359375]   \n",
       "395530  216.732864  ...  [26.984375, 14.515625, 24.734375, 15.3125, 20....   \n",
       "\n",
       "                                         cleanedJet_neHEF  \\\n",
       "0       [0.013671875, 0.09667969, 0.171875, 0.12890625...   \n",
       "1        [0.064453125, 0.010131836, 0.15625, 0.029052734]   \n",
       "2       [0.1796875, 0.061035156, 0.024902344, 0.122070...   \n",
       "3                               [0.091796875, 0.27734375]   \n",
       "4       [0.059570312, 0.08300781, 0.09082031, 0.0, 0.1...   \n",
       "...                                                   ...   \n",
       "395526  [0.19921875, 0.31640625, 0.041503906, 0.08203125]   \n",
       "395527  [0.10644531, 0.19921875, 0.024902344, 0.079101...   \n",
       "395528                         [0.064453125, 0.080078125]   \n",
       "395529  [0.0703125, 0.4609375, 0.012939453, 0.01635742...   \n",
       "395530          [0.0, 0.038085938, 0.0, 0.018798828, 0.0]   \n",
       "\n",
       "                                           cleanedJet_phi  \\\n",
       "0       [-0.5839844, -1.3388672, 0.30273438, 0.7788086...   \n",
       "1       [-0.70703125, -0.4921875, -1.4736328, -2.6796875]   \n",
       "2       [-0.8901367, -2.2441406, -1.7099609, -1.620117...   \n",
       "3                               [-0.6459961, -0.09265137]   \n",
       "4       [-1.5351562, -0.71191406, -2.4707031, 2.566406...   \n",
       "...                                                   ...   \n",
       "395526    [2.9472656, 0.83251953, 1.4785156, 0.023406982]   \n",
       "395527  [2.5097656, 2.9355469, 2.890625, 3.0898438, -1...   \n",
       "395528                          [-0.12145996, -1.1972656]   \n",
       "395529  [-1.5292969, 2.703125, -1.5820312, 1.7470703, ...   \n",
       "395530  [-3.0292969, 2.4785156, -0.8017578, -0.4660644...   \n",
       "\n",
       "                                            cleanedJet_pt  \\\n",
       "0       [158.16063, 141.62325, 66.15963, 60.8369, 39.2...   \n",
       "1               [117.50915, 96.34649, 68.59821, 32.53648]   \n",
       "2       [168.69464, 125.064186, 118.458534, 93.086205,...   \n",
       "3                                  [140.82028, 95.287445]   \n",
       "4       [161.023, 88.179504, 86.872795, 83.19698, 45.9...   \n",
       "...                                                   ...   \n",
       "395526        [367.24014, 67.60956, 59.352955, 43.958344]   \n",
       "395527  [357.2846, 267.9881, 83.35675, 78.241455, 67.7...   \n",
       "395528                              [141.16875, 103.3891]   \n",
       "395529  [160.7482, 154.11227, 104.92712, 73.21738, 32....   \n",
       "395530  [212.15216, 152.44356, 147.17903, 125.04064, 7...   \n",
       "\n",
       "            hashed_filename ncleanedBJet ncleanedJet weight_nominal  \\\n",
       "0      -1128102262536627217            1           5   1.372626e-06   \n",
       "1      -1128102262536627217            0           4   1.299825e-06   \n",
       "2      -1128102262536627217            1           8   1.128268e-06   \n",
       "3      -1128102262536627217            0           2   1.001174e-06   \n",
       "4      -1128102262536627217            1           5   4.717875e-08   \n",
       "...                     ...          ...         ...            ...   \n",
       "395526 -3195821744940508925            0           4   8.931933e-08   \n",
       "395527 -3195821744940508925            0           5   3.332064e-08   \n",
       "395528 -3195821744940508925            1           2   9.855283e-08   \n",
       "395529 -3195821744940508925            1           5   1.087151e-07   \n",
       "395530 -3195821744940508925            2           5   8.700578e-08   \n",
       "\n",
       "           xs_weight signal  \n",
       "0       1.058815e-06    0.0  \n",
       "1       1.058815e-06    0.0  \n",
       "2       1.058815e-06    0.0  \n",
       "3       1.058815e-06    0.0  \n",
       "4       1.037744e-06    0.0  \n",
       "...              ...    ...  \n",
       "395526  8.695861e-08    1.0  \n",
       "395527  8.695861e-08    1.0  \n",
       "395528  8.695861e-08    1.0  \n",
       "395529  8.695861e-08    1.0  \n",
       "395530  8.695861e-08    1.0  \n",
       "\n",
       "[395531 rows x 27 columns]"
      ]
     },
     "execution_count": 3,
     "metadata": {},
     "output_type": "execute_result"
    }
   ],
   "source": [
    "data = pd.concat([background, signal], ignore_index=True)\n",
    "data"
   ]
  },
  {
   "cell_type": "code",
   "execution_count": 4,
   "metadata": {},
   "outputs": [
    {
     "name": "stdout",
     "output_type": "stream",
     "text": [
      "   ncleanedBJet  ncleanedJet  DiJet_mass          HT      MHT_pt   MHT_phi  \\\n",
      "0             1            5  129.015341  466.076111  339.473511  2.504940   \n",
      "1             0            4   82.354687  314.990326  254.779602  2.208970   \n",
      "2             1            8  205.322909  704.391113  319.017120  1.223088   \n",
      "3             0            2   92.049317  236.107727  227.468781  2.717564   \n",
      "4             1            5  263.855078  465.201355  209.110886  1.124761   \n",
      "\n",
      "   InputMet_pt  InputMet_phi  InputMet_InputJet_mindPhi  BiasedDPhi    MinChi  \\\n",
      "0      308.250      2.597656                   1.818359   -2.162490  1.546004   \n",
      "1      234.625      2.214844                   1.387695   -2.422232  1.441802   \n",
      "2      281.250      1.114258                   2.003906   -2.619020  1.147112   \n",
      "3      211.125      2.808594                   2.830078   -2.588248  1.570796   \n",
      "4      244.500      1.194336                   1.373047   -2.404833  1.189254   \n",
      "\n",
      "   MinOmegaHat  MinOmegaTilde  \n",
      "0     1.134799       0.854612  \n",
      "1     1.138652       0.881872  \n",
      "2     1.084379       1.017666  \n",
      "3     1.016469       0.594889  \n",
      "4     0.914595       0.555173  \n",
      "0         0.0\n",
      "1         0.0\n",
      "2         0.0\n",
      "3         0.0\n",
      "4         0.0\n",
      "         ... \n",
      "395526    1.0\n",
      "395527    1.0\n",
      "395528    1.0\n",
      "395529    1.0\n",
      "395530    1.0\n",
      "Name: signal, Length: 395531, dtype: float64\n"
     ]
    }
   ],
   "source": [
    "columns = ['ncleanedBJet', 'ncleanedJet', 'DiJet_mass', 'HT', 'MHT_pt', 'MHT_phi', 'InputMet_pt', 'InputMet_phi', \n",
    "'InputMet_InputJet_mindPhi', 'BiasedDPhi', 'MinChi', 'MinOmegaHat', 'MinOmegaTilde']\n",
    "X, y = data[columns], data['signal']\n",
    "print(X.head())\n",
    "print(y)"
   ]
  },
  {
   "cell_type": "code",
   "execution_count": 5,
   "metadata": {},
   "outputs": [],
   "source": [
    "# Split into train and validation sets keeping ratios of signal to background the same in each set\n",
    "from sklearn.model_selection import train_test_split\n",
    "\n",
    "X_train, X_test, y_train, y_test = train_test_split(X, y, test_size=0.2, train_size=0.8, stratify=y, random_state=42)"
   ]
  },
  {
   "cell_type": "code",
   "execution_count": 6,
   "metadata": {},
   "outputs": [],
   "source": [
    "X_train = X_train.to_numpy()\n",
    "X_test = X_test.to_numpy()\n",
    "y_train = y_train.to_numpy()\n",
    "y_test = y_test.to_numpy()"
   ]
  },
  {
   "cell_type": "code",
   "execution_count": 7,
   "metadata": {},
   "outputs": [
    {
     "name": "stdout",
     "output_type": "stream",
     "text": [
      "True\n"
     ]
    }
   ],
   "source": [
    "# Check stratification\n",
    "import numpy as np\n",
    "\n",
    "print(np.sum(y_train)/0.8 == np.sum(y_test)/0.2)"
   ]
  },
  {
   "cell_type": "code",
   "execution_count": 7,
   "metadata": {},
   "outputs": [
    {
     "data": {
      "text/plain": [
       "(316424, 13)"
      ]
     },
     "execution_count": 7,
     "metadata": {},
     "output_type": "execute_result"
    }
   ],
   "source": [
    "X_train.shape"
   ]
  },
  {
   "cell_type": "code",
   "execution_count": 8,
   "metadata": {},
   "outputs": [
    {
     "name": "stdout",
     "output_type": "stream",
     "text": [
      "Model: \"sequential\"\n",
      "_________________________________________________________________\n",
      "Layer (type)                 Output Shape              Param #   \n",
      "=================================================================\n",
      "flatten (Flatten)            (None, 13)                0         \n",
      "_________________________________________________________________\n",
      "batch_normalization (BatchNo (None, 13)                52        \n",
      "_________________________________________________________________\n",
      "dense (Dense)                (None, 300)               4200      \n",
      "_________________________________________________________________\n",
      "batch_normalization_1 (Batch (None, 300)               1200      \n",
      "_________________________________________________________________\n",
      "dense_1 (Dense)              (None, 100)               30100     \n",
      "_________________________________________________________________\n",
      "batch_normalization_2 (Batch (None, 100)               400       \n",
      "_________________________________________________________________\n",
      "dense_2 (Dense)              (None, 1)                 101       \n",
      "=================================================================\n",
      "Total params: 36,053\n",
      "Trainable params: 35,227\n",
      "Non-trainable params: 826\n",
      "_________________________________________________________________\n"
     ]
    },
    {
     "name": "stderr",
     "output_type": "stream",
     "text": [
      "2021-11-04 17:47:58.491809: I tensorflow/compiler/jit/xla_cpu_device.cc:41] Not creating XLA devices, tf_xla_enable_xla_devices not set\n",
      "2021-11-04 17:47:58.492130: I tensorflow/core/platform/cpu_feature_guard.cc:142] This TensorFlow binary is optimized with oneAPI Deep Neural Network Library (oneDNN) to use the following CPU instructions in performance-critical operations:  SSE4.1 SSE4.2\n",
      "To enable them in other operations, rebuild TensorFlow with the appropriate compiler flags.\n",
      "2021-11-04 17:47:58.498549: I tensorflow/core/common_runtime/process_util.cc:146] Creating new thread pool with default inter op setting: 2. Tune using inter_op_parallelism_threads for best performance.\n"
     ]
    }
   ],
   "source": [
    "# Create first basic mode with 'pyramid' like structure\n",
    "from tensorflow import keras\n",
    "\n",
    "model = keras.models.Sequential([\n",
    "    keras.layers.Flatten(input_shape=(13,1)),\n",
    "    keras.layers.BatchNormalization(),\n",
    "    keras.layers.Dense(300, activation='relu'),\n",
    "    keras.layers.BatchNormalization(),\n",
    "    keras.layers.Dense(100, activation='relu'),\n",
    "    keras.layers.BatchNormalization(),\n",
    "    keras.layers.Dense(1, activation='sigmoid')\n",
    "])   \n",
    "model.summary()"
   ]
  },
  {
   "cell_type": "code",
   "execution_count": 9,
   "metadata": {},
   "outputs": [
    {
     "name": "stdout",
     "output_type": "stream",
     "text": [
      "[name: \"/device:CPU:0\"\n",
      "device_type: \"CPU\"\n",
      "memory_limit: 268435456\n",
      "locality {\n",
      "}\n",
      "incarnation: 10530552816255237466\n",
      "]\n"
     ]
    }
   ],
   "source": [
    "from tensorflow.python.client import device_lib\n",
    "print(device_lib.list_local_devices())"
   ]
  },
  {
   "cell_type": "code",
   "execution_count": 9,
   "metadata": {},
   "outputs": [
    {
     "name": "stdout",
     "output_type": "stream",
     "text": [
      "Total training samples:  316424 \n",
      " positives:  79444 \n",
      " negatives:  236980\n",
      "Postive weight:  1.991490861487337 \n",
      "Negative weight:  0.6676175204658622\n"
     ]
    }
   ],
   "source": [
    "# Imbalanced dataset so want to adjusts weights of signal and background training examples\n",
    "tot = len(y_train)\n",
    "pos = np.sum(y_train == 1)\n",
    "neg = tot - pos\n",
    "print(f'Total training samples:  {tot} \\n positives:  {pos} \\n negatives:  {neg}')\n",
    "\n",
    "# weight positives more than negatives\n",
    "weight_for_0 = (1 / neg) * (tot / 2.0)\n",
    "weight_for_1 = (1 / pos) * (tot / 2.0)\n",
    "\n",
    "class_weight = {0: weight_for_0, 1: weight_for_1}\n",
    "print(f'Postive weight:  {weight_for_1} \\nNegative weight:  {weight_for_0}')\n"
   ]
  },
  {
   "cell_type": "code",
   "execution_count": 10,
   "metadata": {},
   "outputs": [],
   "source": [
    "# Compile model with PR metrics as well as accuracy \n",
    "model.compile(loss='binary_crossentropy', optimizer='Adam', metrics=[keras.metrics.BinaryAccuracy(name='accuracy'),\n",
    "      keras.metrics.Precision(name='precision'),\n",
    "      keras.metrics.Recall(name='recall')])"
   ]
  },
  {
   "cell_type": "code",
   "execution_count": 11,
   "metadata": {},
   "outputs": [
    {
     "name": "stderr",
     "output_type": "stream",
     "text": [
      "2021-11-04 17:56:55.306223: I tensorflow/core/profiler/lib/profiler_session.cc:136] Profiler session initializing.\n",
      "2021-11-04 17:56:55.306266: I tensorflow/core/profiler/lib/profiler_session.cc:155] Profiler session started.\n",
      "2021-11-04 17:56:55.306352: I tensorflow/core/profiler/lib/profiler_session.cc:172] Profiler session tear down.\n",
      "2021-11-04 17:56:55.397354: I tensorflow/compiler/mlir/mlir_graph_optimization_pass.cc:116] None of the MLIR optimization passes are enabled (registered 2)\n",
      "2021-11-04 17:56:55.410823: I tensorflow/core/platform/profile_utils/cpu_utils.cc:112] CPU Frequency: 2394015000 Hz\n"
     ]
    },
    {
     "name": "stdout",
     "output_type": "stream",
     "text": [
      "Epoch 1/20\n",
      "   9/9889 [..............................] - ETA: 6:27 - loss: 0.6643 - accuracy: 0.6083 - precision: 0.3209 - recall: 0.6742 "
     ]
    },
    {
     "name": "stderr",
     "output_type": "stream",
     "text": [
      "2021-11-04 17:56:58.180922: I tensorflow/core/profiler/lib/profiler_session.cc:136] Profiler session initializing.\n",
      "2021-11-04 17:56:58.188329: I tensorflow/core/profiler/lib/profiler_session.cc:155] Profiler session started.\n",
      "2021-11-04 17:56:58.207996: I tensorflow/core/profiler/lib/profiler_session.cc:71] Profiler session collecting data.\n",
      "2021-11-04 17:56:58.215887: I tensorflow/core/profiler/lib/profiler_session.cc:172] Profiler session tear down.\n",
      "2021-11-04 17:56:58.234573: I tensorflow/core/profiler/rpc/client/save_profile.cc:137] Creating directory: ./my_logs/run_2021_11_04-17_56_55/train/plugins/profile/2021_11_04_17_56_58\n",
      "2021-11-04 17:56:58.243727: I tensorflow/core/profiler/rpc/client/save_profile.cc:143] Dumped gzipped tool data for trace.json.gz to ./my_logs/run_2021_11_04-17_56_55/train/plugins/profile/2021_11_04_17_56_58/sc01.dice.priv.trace.json.gz\n",
      "2021-11-04 17:56:58.263414: I tensorflow/core/profiler/rpc/client/save_profile.cc:137] Creating directory: ./my_logs/run_2021_11_04-17_56_55/train/plugins/profile/2021_11_04_17_56_58\n",
      "2021-11-04 17:56:58.270740: I tensorflow/core/profiler/rpc/client/save_profile.cc:143] Dumped gzipped tool data for memory_profile.json.gz to ./my_logs/run_2021_11_04-17_56_55/train/plugins/profile/2021_11_04_17_56_58/sc01.dice.priv.memory_profile.json.gz\n",
      "2021-11-04 17:56:58.281787: I tensorflow/core/profiler/rpc/client/capture_profile.cc:251] Creating directory: ./my_logs/run_2021_11_04-17_56_55/train/plugins/profile/2021_11_04_17_56_58Dumped tool data for xplane.pb to ./my_logs/run_2021_11_04-17_56_55/train/plugins/profile/2021_11_04_17_56_58/sc01.dice.priv.xplane.pb\n",
      "Dumped tool data for overview_page.pb to ./my_logs/run_2021_11_04-17_56_55/train/plugins/profile/2021_11_04_17_56_58/sc01.dice.priv.overview_page.pb\n",
      "Dumped tool data for input_pipeline.pb to ./my_logs/run_2021_11_04-17_56_55/train/plugins/profile/2021_11_04_17_56_58/sc01.dice.priv.input_pipeline.pb\n",
      "Dumped tool data for tensorflow_stats.pb to ./my_logs/run_2021_11_04-17_56_55/train/plugins/profile/2021_11_04_17_56_58/sc01.dice.priv.tensorflow_stats.pb\n",
      "Dumped tool data for kernel_stats.pb to ./my_logs/run_2021_11_04-17_56_55/train/plugins/profile/2021_11_04_17_56_58/sc01.dice.priv.kernel_stats.pb\n",
      "\n"
     ]
    },
    {
     "name": "stdout",
     "output_type": "stream",
     "text": [
      "9889/9889 [==============================] - 128s 13ms/step - loss: 0.5545 - accuracy: 0.7142 - precision: 0.4586 - recall: 0.7351 - val_loss: 0.5327 - val_accuracy: 0.7360 - val_precision: 0.4832 - val_recall: 0.7396\n",
      "Epoch 2/20\n",
      "9889/9889 [==============================] - 122s 12ms/step - loss: 0.5374 - accuracy: 0.7257 - precision: 0.4698 - recall: 0.7378 - val_loss: 0.5149 - val_accuracy: 0.7514 - val_precision: 0.5034 - val_recall: 0.7211\n",
      "Epoch 3/20\n",
      "9889/9889 [==============================] - 135s 14ms/step - loss: 0.5320 - accuracy: 0.7318 - precision: 0.4782 - recall: 0.7389 - val_loss: 0.5342 - val_accuracy: 0.7301 - val_precision: 0.4764 - val_recall: 0.7596\n",
      "Epoch 4/20\n",
      "9889/9889 [==============================] - 128s 13ms/step - loss: 0.5301 - accuracy: 0.7318 - precision: 0.4776 - recall: 0.7402 - val_loss: 0.5305 - val_accuracy: 0.7293 - val_precision: 0.4757 - val_recall: 0.7661\n",
      "Epoch 5/20\n",
      "7840/9889 [======================>.......] - ETA: 26s - loss: 0.5301 - accuracy: 0.7295 - precision: 0.4742 - recall: 0.7415"
     ]
    },
    {
     "ename": "KeyboardInterrupt",
     "evalue": "",
     "output_type": "error",
     "traceback": [
      "\u001b[0;31m---------------------------------------------------------------------------\u001b[0m",
      "\u001b[0;31mKeyboardInterrupt\u001b[0m                         Traceback (most recent call last)",
      "\u001b[0;32m/tmp/ipykernel_906762/1972001175.py\u001b[0m in \u001b[0;36m<module>\u001b[0;34m\u001b[0m\n\u001b[1;32m     16\u001b[0m \u001b[0mcheckpoint_cb\u001b[0m \u001b[0;34m=\u001b[0m \u001b[0mkeras\u001b[0m\u001b[0;34m.\u001b[0m\u001b[0mcallbacks\u001b[0m\u001b[0;34m.\u001b[0m\u001b[0mModelCheckpoint\u001b[0m\u001b[0;34m(\u001b[0m\u001b[0;34m\"first_model.h5\"\u001b[0m\u001b[0;34m,\u001b[0m \u001b[0msave_best_only\u001b[0m\u001b[0;34m=\u001b[0m\u001b[0;32mTrue\u001b[0m\u001b[0;34m)\u001b[0m\u001b[0;34m\u001b[0m\u001b[0;34m\u001b[0m\u001b[0m\n\u001b[1;32m     17\u001b[0m \u001b[0;34m\u001b[0m\u001b[0m\n\u001b[0;32m---> 18\u001b[0;31m \u001b[0mhistory\u001b[0m \u001b[0;34m=\u001b[0m \u001b[0mmodel\u001b[0m\u001b[0;34m.\u001b[0m\u001b[0mfit\u001b[0m\u001b[0;34m(\u001b[0m\u001b[0mX_train\u001b[0m\u001b[0;34m,\u001b[0m \u001b[0my_train\u001b[0m\u001b[0;34m,\u001b[0m \u001b[0mepochs\u001b[0m\u001b[0;34m=\u001b[0m\u001b[0;36m20\u001b[0m\u001b[0;34m,\u001b[0m \u001b[0mvalidation_data\u001b[0m\u001b[0;34m=\u001b[0m\u001b[0;34m(\u001b[0m\u001b[0mX_test\u001b[0m\u001b[0;34m,\u001b[0m \u001b[0my_test\u001b[0m\u001b[0;34m)\u001b[0m\u001b[0;34m,\u001b[0m \u001b[0mcallbacks\u001b[0m\u001b[0;34m=\u001b[0m\u001b[0;34m[\u001b[0m\u001b[0mtensorboard_cb\u001b[0m\u001b[0;34m,\u001b[0m \u001b[0mlr_schedueler\u001b[0m\u001b[0;34m,\u001b[0m \u001b[0mcheckpoint_cb\u001b[0m\u001b[0;34m]\u001b[0m\u001b[0;34m,\u001b[0m \u001b[0mclass_weight\u001b[0m\u001b[0;34m=\u001b[0m\u001b[0mclass_weight\u001b[0m\u001b[0;34m)\u001b[0m\u001b[0;34m\u001b[0m\u001b[0;34m\u001b[0m\u001b[0m\n\u001b[0m",
      "\u001b[0;32m/software/ac18804/miniconda3/envs/ml_env/lib/python3.7/site-packages/tensorflow/python/keras/engine/training.py\u001b[0m in \u001b[0;36mfit\u001b[0;34m(self, x, y, batch_size, epochs, verbose, callbacks, validation_split, validation_data, shuffle, class_weight, sample_weight, initial_epoch, steps_per_epoch, validation_steps, validation_batch_size, validation_freq, max_queue_size, workers, use_multiprocessing)\u001b[0m\n\u001b[1;32m   1098\u001b[0m                 _r=1):\n\u001b[1;32m   1099\u001b[0m               \u001b[0mcallbacks\u001b[0m\u001b[0;34m.\u001b[0m\u001b[0mon_train_batch_begin\u001b[0m\u001b[0;34m(\u001b[0m\u001b[0mstep\u001b[0m\u001b[0;34m)\u001b[0m\u001b[0;34m\u001b[0m\u001b[0;34m\u001b[0m\u001b[0m\n\u001b[0;32m-> 1100\u001b[0;31m               \u001b[0mtmp_logs\u001b[0m \u001b[0;34m=\u001b[0m \u001b[0mself\u001b[0m\u001b[0;34m.\u001b[0m\u001b[0mtrain_function\u001b[0m\u001b[0;34m(\u001b[0m\u001b[0miterator\u001b[0m\u001b[0;34m)\u001b[0m\u001b[0;34m\u001b[0m\u001b[0;34m\u001b[0m\u001b[0m\n\u001b[0m\u001b[1;32m   1101\u001b[0m               \u001b[0;32mif\u001b[0m \u001b[0mdata_handler\u001b[0m\u001b[0;34m.\u001b[0m\u001b[0mshould_sync\u001b[0m\u001b[0;34m:\u001b[0m\u001b[0;34m\u001b[0m\u001b[0;34m\u001b[0m\u001b[0m\n\u001b[1;32m   1102\u001b[0m                 \u001b[0mcontext\u001b[0m\u001b[0;34m.\u001b[0m\u001b[0masync_wait\u001b[0m\u001b[0;34m(\u001b[0m\u001b[0;34m)\u001b[0m\u001b[0;34m\u001b[0m\u001b[0;34m\u001b[0m\u001b[0m\n",
      "\u001b[0;32m/software/ac18804/miniconda3/envs/ml_env/lib/python3.7/site-packages/tensorflow/python/eager/def_function.py\u001b[0m in \u001b[0;36m__call__\u001b[0;34m(self, *args, **kwds)\u001b[0m\n\u001b[1;32m    826\u001b[0m     \u001b[0mtracing_count\u001b[0m \u001b[0;34m=\u001b[0m \u001b[0mself\u001b[0m\u001b[0;34m.\u001b[0m\u001b[0mexperimental_get_tracing_count\u001b[0m\u001b[0;34m(\u001b[0m\u001b[0;34m)\u001b[0m\u001b[0;34m\u001b[0m\u001b[0;34m\u001b[0m\u001b[0m\n\u001b[1;32m    827\u001b[0m     \u001b[0;32mwith\u001b[0m \u001b[0mtrace\u001b[0m\u001b[0;34m.\u001b[0m\u001b[0mTrace\u001b[0m\u001b[0;34m(\u001b[0m\u001b[0mself\u001b[0m\u001b[0;34m.\u001b[0m\u001b[0m_name\u001b[0m\u001b[0;34m)\u001b[0m \u001b[0;32mas\u001b[0m \u001b[0mtm\u001b[0m\u001b[0;34m:\u001b[0m\u001b[0;34m\u001b[0m\u001b[0;34m\u001b[0m\u001b[0m\n\u001b[0;32m--> 828\u001b[0;31m       \u001b[0mresult\u001b[0m \u001b[0;34m=\u001b[0m \u001b[0mself\u001b[0m\u001b[0;34m.\u001b[0m\u001b[0m_call\u001b[0m\u001b[0;34m(\u001b[0m\u001b[0;34m*\u001b[0m\u001b[0margs\u001b[0m\u001b[0;34m,\u001b[0m \u001b[0;34m**\u001b[0m\u001b[0mkwds\u001b[0m\u001b[0;34m)\u001b[0m\u001b[0;34m\u001b[0m\u001b[0;34m\u001b[0m\u001b[0m\n\u001b[0m\u001b[1;32m    829\u001b[0m       \u001b[0mcompiler\u001b[0m \u001b[0;34m=\u001b[0m \u001b[0;34m\"xla\"\u001b[0m \u001b[0;32mif\u001b[0m \u001b[0mself\u001b[0m\u001b[0;34m.\u001b[0m\u001b[0m_experimental_compile\u001b[0m \u001b[0;32melse\u001b[0m \u001b[0;34m\"nonXla\"\u001b[0m\u001b[0;34m\u001b[0m\u001b[0;34m\u001b[0m\u001b[0m\n\u001b[1;32m    830\u001b[0m       \u001b[0mnew_tracing_count\u001b[0m \u001b[0;34m=\u001b[0m \u001b[0mself\u001b[0m\u001b[0;34m.\u001b[0m\u001b[0mexperimental_get_tracing_count\u001b[0m\u001b[0;34m(\u001b[0m\u001b[0;34m)\u001b[0m\u001b[0;34m\u001b[0m\u001b[0;34m\u001b[0m\u001b[0m\n",
      "\u001b[0;32m/software/ac18804/miniconda3/envs/ml_env/lib/python3.7/site-packages/tensorflow/python/eager/def_function.py\u001b[0m in \u001b[0;36m_call\u001b[0;34m(self, *args, **kwds)\u001b[0m\n\u001b[1;32m    853\u001b[0m       \u001b[0;31m# In this case we have created variables on the first call, so we run the\u001b[0m\u001b[0;34m\u001b[0m\u001b[0;34m\u001b[0m\u001b[0;34m\u001b[0m\u001b[0m\n\u001b[1;32m    854\u001b[0m       \u001b[0;31m# defunned version which is guaranteed to never create variables.\u001b[0m\u001b[0;34m\u001b[0m\u001b[0;34m\u001b[0m\u001b[0;34m\u001b[0m\u001b[0m\n\u001b[0;32m--> 855\u001b[0;31m       \u001b[0;32mreturn\u001b[0m \u001b[0mself\u001b[0m\u001b[0;34m.\u001b[0m\u001b[0m_stateless_fn\u001b[0m\u001b[0;34m(\u001b[0m\u001b[0;34m*\u001b[0m\u001b[0margs\u001b[0m\u001b[0;34m,\u001b[0m \u001b[0;34m**\u001b[0m\u001b[0mkwds\u001b[0m\u001b[0;34m)\u001b[0m  \u001b[0;31m# pylint: disable=not-callable\u001b[0m\u001b[0;34m\u001b[0m\u001b[0;34m\u001b[0m\u001b[0m\n\u001b[0m\u001b[1;32m    856\u001b[0m     \u001b[0;32melif\u001b[0m \u001b[0mself\u001b[0m\u001b[0;34m.\u001b[0m\u001b[0m_stateful_fn\u001b[0m \u001b[0;32mis\u001b[0m \u001b[0;32mnot\u001b[0m \u001b[0;32mNone\u001b[0m\u001b[0;34m:\u001b[0m\u001b[0;34m\u001b[0m\u001b[0;34m\u001b[0m\u001b[0m\n\u001b[1;32m    857\u001b[0m       \u001b[0;31m# Release the lock early so that multiple threads can perform the call\u001b[0m\u001b[0;34m\u001b[0m\u001b[0;34m\u001b[0m\u001b[0;34m\u001b[0m\u001b[0m\n",
      "\u001b[0;32m/software/ac18804/miniconda3/envs/ml_env/lib/python3.7/site-packages/tensorflow/python/eager/function.py\u001b[0m in \u001b[0;36m__call__\u001b[0;34m(self, *args, **kwargs)\u001b[0m\n\u001b[1;32m   2941\u001b[0m        filtered_flat_args) = self._maybe_define_function(args, kwargs)\n\u001b[1;32m   2942\u001b[0m     return graph_function._call_flat(\n\u001b[0;32m-> 2943\u001b[0;31m         filtered_flat_args, captured_inputs=graph_function.captured_inputs)  # pylint: disable=protected-access\n\u001b[0m\u001b[1;32m   2944\u001b[0m \u001b[0;34m\u001b[0m\u001b[0m\n\u001b[1;32m   2945\u001b[0m   \u001b[0;34m@\u001b[0m\u001b[0mproperty\u001b[0m\u001b[0;34m\u001b[0m\u001b[0;34m\u001b[0m\u001b[0m\n",
      "\u001b[0;32m/software/ac18804/miniconda3/envs/ml_env/lib/python3.7/site-packages/tensorflow/python/eager/function.py\u001b[0m in \u001b[0;36m_call_flat\u001b[0;34m(self, args, captured_inputs, cancellation_manager)\u001b[0m\n\u001b[1;32m   1917\u001b[0m       \u001b[0;31m# No tape is watching; skip to running the function.\u001b[0m\u001b[0;34m\u001b[0m\u001b[0;34m\u001b[0m\u001b[0;34m\u001b[0m\u001b[0m\n\u001b[1;32m   1918\u001b[0m       return self._build_call_outputs(self._inference_function.call(\n\u001b[0;32m-> 1919\u001b[0;31m           ctx, args, cancellation_manager=cancellation_manager))\n\u001b[0m\u001b[1;32m   1920\u001b[0m     forward_backward = self._select_forward_and_backward_functions(\n\u001b[1;32m   1921\u001b[0m         \u001b[0margs\u001b[0m\u001b[0;34m,\u001b[0m\u001b[0;34m\u001b[0m\u001b[0;34m\u001b[0m\u001b[0m\n",
      "\u001b[0;32m/software/ac18804/miniconda3/envs/ml_env/lib/python3.7/site-packages/tensorflow/python/eager/function.py\u001b[0m in \u001b[0;36mcall\u001b[0;34m(self, ctx, args, cancellation_manager)\u001b[0m\n\u001b[1;32m    558\u001b[0m               \u001b[0minputs\u001b[0m\u001b[0;34m=\u001b[0m\u001b[0margs\u001b[0m\u001b[0;34m,\u001b[0m\u001b[0;34m\u001b[0m\u001b[0;34m\u001b[0m\u001b[0m\n\u001b[1;32m    559\u001b[0m               \u001b[0mattrs\u001b[0m\u001b[0;34m=\u001b[0m\u001b[0mattrs\u001b[0m\u001b[0;34m,\u001b[0m\u001b[0;34m\u001b[0m\u001b[0;34m\u001b[0m\u001b[0m\n\u001b[0;32m--> 560\u001b[0;31m               ctx=ctx)\n\u001b[0m\u001b[1;32m    561\u001b[0m         \u001b[0;32melse\u001b[0m\u001b[0;34m:\u001b[0m\u001b[0;34m\u001b[0m\u001b[0;34m\u001b[0m\u001b[0m\n\u001b[1;32m    562\u001b[0m           outputs = execute.execute_with_cancellation(\n",
      "\u001b[0;32m/software/ac18804/miniconda3/envs/ml_env/lib/python3.7/site-packages/tensorflow/python/eager/execute.py\u001b[0m in \u001b[0;36mquick_execute\u001b[0;34m(op_name, num_outputs, inputs, attrs, ctx, name)\u001b[0m\n\u001b[1;32m     58\u001b[0m     \u001b[0mctx\u001b[0m\u001b[0;34m.\u001b[0m\u001b[0mensure_initialized\u001b[0m\u001b[0;34m(\u001b[0m\u001b[0;34m)\u001b[0m\u001b[0;34m\u001b[0m\u001b[0;34m\u001b[0m\u001b[0m\n\u001b[1;32m     59\u001b[0m     tensors = pywrap_tfe.TFE_Py_Execute(ctx._handle, device_name, op_name,\n\u001b[0;32m---> 60\u001b[0;31m                                         inputs, attrs, num_outputs)\n\u001b[0m\u001b[1;32m     61\u001b[0m   \u001b[0;32mexcept\u001b[0m \u001b[0mcore\u001b[0m\u001b[0;34m.\u001b[0m\u001b[0m_NotOkStatusException\u001b[0m \u001b[0;32mas\u001b[0m \u001b[0me\u001b[0m\u001b[0;34m:\u001b[0m\u001b[0;34m\u001b[0m\u001b[0;34m\u001b[0m\u001b[0m\n\u001b[1;32m     62\u001b[0m     \u001b[0;32mif\u001b[0m \u001b[0mname\u001b[0m \u001b[0;32mis\u001b[0m \u001b[0;32mnot\u001b[0m \u001b[0;32mNone\u001b[0m\u001b[0;34m:\u001b[0m\u001b[0;34m\u001b[0m\u001b[0;34m\u001b[0m\u001b[0m\n",
      "\u001b[0;31mKeyboardInterrupt\u001b[0m: "
     ]
    }
   ],
   "source": [
    "# Set up tensorboard stuff\n",
    "import os\n",
    "import time\n",
    "\n",
    "\n",
    "def get_run_logdir():\n",
    "    \"\"\"Create filename for log with date and time\"\"\" \n",
    "    root_logdir = os.path.join(os.curdir, 'my_logs')\n",
    "    run_id = time.strftime(\"run_%Y_%m_%d-%H_%M_%S\") \n",
    "    return os.path.join(root_logdir, run_id)\n",
    "\n",
    "tensorboard_cb = keras.callbacks.TensorBoard(get_run_logdir())\n",
    "# Learning rate scheduler - decrease learning rate exponentially with each epoch for both quick convergence and to avoid 'overshooting'\n",
    "lr_schedueler = keras.callbacks.LearningRateScheduler(lambda epoch: 0.001 * 0.1**(epoch/10))\n",
    "# Save best model\n",
    "checkpoint_cb = keras.callbacks.ModelCheckpoint(\"first_model.h5\", save_best_only=True)\n",
    "\n",
    "history = model.fit(X_train, y_train, epochs=20, validation_data=(X_test, y_test), callbacks=[tensorboard_cb, lr_schedueler, checkpoint_cb], class_weight=class_weight)"
   ]
  },
  {
   "cell_type": "code",
   "execution_count": 12,
   "metadata": {},
   "outputs": [],
   "source": [
    "new_model = keras.models.Sequential([\n",
    "    keras.layers.Flatten(input_shape=(13,1)),\n",
    "    keras.layers.BatchNormalization(),\n",
    "    keras.layers.Dropout(rate=0.2),\n",
    "    keras.layers.Dense(500, activation='selu', kernel_initializer='lecun_normal'),\n",
    "    keras.layers.BatchNormalization(),\n",
    "    keras.layers.Dropout(rate=0.2),\n",
    "    keras.layers.Dense(200, activation='selu', kernel_initializer='lecun_normal'),\n",
    "    keras.layers.BatchNormalization(),\n",
    "    keras.layers.Dropout(rate=0.2),\n",
    "    keras.layers.Dense(200, activation='selu', kernel_initializer='lecun_normal'),\n",
    "    keras.layers.BatchNormalization(),\n",
    "    keras.layers.Dropout(rate=0.2),\n",
    "    keras.layers.Dense(200, activation='selu', kernel_initializer='lecun_normal'),\n",
    "    keras.layers.BatchNormalization(),\n",
    "    keras.layers.Dropout(rate=0.2),\n",
    "    keras.layers.Dense(200, activation='selu', kernel_initializer='lecun_normal'),\n",
    "    keras.layers.BatchNormalization(),\n",
    "    keras.layers.Dropout(rate=0.2),\n",
    "    keras.layers.Dense(200, activation='selu', kernel_initializer='lecun_normal'),\n",
    "    keras.layers.BatchNormalization(),\n",
    "    keras.layers.Dropout(rate=0.2),\n",
    "    keras.layers.Dense(200, activation='selu', kernel_initializer='lecun_normal'),\n",
    "    keras.layers.BatchNormalization(),\n",
    "    keras.layers.Dropout(rate=0.2),\n",
    "    keras.layers.Dense(200, activation='selu', kernel_initializer='lecun_normal'),\n",
    "    keras.layers.BatchNormalization(),\n",
    "    keras.layers.Dense(1, activation='sigmoid')\n",
    "])\n",
    "new_model.compile(loss='binary_crossentropy', optimizer='Nadam', metrics=[keras.metrics.BinaryAccuracy(name='accuracy'),\n",
    "      keras.metrics.Precision(name='precision'),\n",
    "      keras.metrics.Recall(name='recall')])"
   ]
  },
  {
   "cell_type": "code",
   "execution_count": 13,
   "metadata": {},
   "outputs": [
    {
     "name": "stderr",
     "output_type": "stream",
     "text": [
      "2021-11-01 18:16:41.522455: I tensorflow/core/profiler/lib/profiler_session.cc:136] Profiler session initializing.\n",
      "2021-11-01 18:16:41.522552: I tensorflow/core/profiler/lib/profiler_session.cc:155] Profiler session started.\n",
      "2021-11-01 18:16:41.544134: I tensorflow/core/profiler/lib/profiler_session.cc:172] Profiler session tear down.\n",
      "2021-11-01 18:16:42.092921: I tensorflow/compiler/mlir/mlir_graph_optimization_pass.cc:116] None of the MLIR optimization passes are enabled (registered 2)\n",
      "2021-11-01 18:16:42.126621: I tensorflow/core/platform/profile_utils/cpu_utils.cc:112] CPU Frequency: 2394015000 Hz\n"
     ]
    },
    {
     "name": "stdout",
     "output_type": "stream",
     "text": [
      "Epoch 1/20\n",
      "   2/9889 [..............................] - ETA: 56:31 - loss: 1.1460 - accuracy: 0.4609 - precision: 0.2969 - recall: 0.4452   "
     ]
    },
    {
     "name": "stderr",
     "output_type": "stream",
     "text": [
      "2021-11-01 18:16:54.813508: I tensorflow/core/profiler/lib/profiler_session.cc:136] Profiler session initializing.\n",
      "2021-11-01 18:16:54.813558: I tensorflow/core/profiler/lib/profiler_session.cc:155] Profiler session started.\n"
     ]
    },
    {
     "name": "stdout",
     "output_type": "stream",
     "text": [
      "   5/9889 [..............................] - ETA: 30:10 - loss: 0.9524 - accuracy: 0.5127 - precision: 0.3153 - recall: 0.5124"
     ]
    },
    {
     "name": "stderr",
     "output_type": "stream",
     "text": [
      "2021-11-01 18:16:54.854400: I tensorflow/core/profiler/lib/profiler_session.cc:71] Profiler session collecting data.\n",
      "2021-11-01 18:16:54.924438: I tensorflow/core/profiler/lib/profiler_session.cc:172] Profiler session tear down.\n",
      "2021-11-01 18:16:55.032293: I tensorflow/core/profiler/rpc/client/save_profile.cc:137] Creating directory: ./my_logs/run_2021_11_01-18_16_41/train/plugins/profile/2021_11_01_18_16_54\n",
      "2021-11-01 18:16:55.054600: I tensorflow/core/profiler/rpc/client/save_profile.cc:143] Dumped gzipped tool data for trace.json.gz to ./my_logs/run_2021_11_01-18_16_41/train/plugins/profile/2021_11_01_18_16_54/sc01.dice.priv.trace.json.gz\n",
      "2021-11-01 18:16:55.092592: I tensorflow/core/profiler/rpc/client/save_profile.cc:137] Creating directory: ./my_logs/run_2021_11_01-18_16_41/train/plugins/profile/2021_11_01_18_16_54\n",
      "2021-11-01 18:16:55.099236: I tensorflow/core/profiler/rpc/client/save_profile.cc:143] Dumped gzipped tool data for memory_profile.json.gz to ./my_logs/run_2021_11_01-18_16_41/train/plugins/profile/2021_11_01_18_16_54/sc01.dice.priv.memory_profile.json.gz\n",
      "2021-11-01 18:16:55.116935: I tensorflow/core/profiler/rpc/client/capture_profile.cc:251] Creating directory: ./my_logs/run_2021_11_01-18_16_41/train/plugins/profile/2021_11_01_18_16_54Dumped tool data for xplane.pb to ./my_logs/run_2021_11_01-18_16_41/train/plugins/profile/2021_11_01_18_16_54/sc01.dice.priv.xplane.pb\n",
      "Dumped tool data for overview_page.pb to ./my_logs/run_2021_11_01-18_16_41/train/plugins/profile/2021_11_01_18_16_54/sc01.dice.priv.overview_page.pb\n",
      "Dumped tool data for input_pipeline.pb to ./my_logs/run_2021_11_01-18_16_41/train/plugins/profile/2021_11_01_18_16_54/sc01.dice.priv.input_pipeline.pb\n",
      "Dumped tool data for tensorflow_stats.pb to ./my_logs/run_2021_11_01-18_16_41/train/plugins/profile/2021_11_01_18_16_54/sc01.dice.priv.tensorflow_stats.pb\n",
      "Dumped tool data for kernel_stats.pb to ./my_logs/run_2021_11_01-18_16_41/train/plugins/profile/2021_11_01_18_16_54/sc01.dice.priv.kernel_stats.pb\n",
      "\n"
     ]
    },
    {
     "name": "stdout",
     "output_type": "stream",
     "text": [
      "3276/9889 [========>.....................] - ETA: 30:16 - loss: 0.6023 - accuracy: 0.6798 - precision: 0.4211 - recall: 0.7173"
     ]
    },
    {
     "ename": "KeyboardInterrupt",
     "evalue": "",
     "output_type": "error",
     "traceback": [
      "\u001b[0;31m---------------------------------------------------------------------------\u001b[0m",
      "\u001b[0;31mKeyboardInterrupt\u001b[0m                         Traceback (most recent call last)",
      "\u001b[0;32m/tmp/ipykernel_354869/71866023.py\u001b[0m in \u001b[0;36m<module>\u001b[0;34m\u001b[0m\n\u001b[1;32m      2\u001b[0m \u001b[0mlr_schedueler\u001b[0m \u001b[0;34m=\u001b[0m \u001b[0mkeras\u001b[0m\u001b[0;34m.\u001b[0m\u001b[0mcallbacks\u001b[0m\u001b[0;34m.\u001b[0m\u001b[0mLearningRateScheduler\u001b[0m\u001b[0;34m(\u001b[0m\u001b[0;32mlambda\u001b[0m \u001b[0mepoch\u001b[0m\u001b[0;34m:\u001b[0m \u001b[0;36m0.001\u001b[0m \u001b[0;34m*\u001b[0m \u001b[0;36m0.1\u001b[0m\u001b[0;34m**\u001b[0m\u001b[0;34m(\u001b[0m\u001b[0mepoch\u001b[0m\u001b[0;34m/\u001b[0m\u001b[0;36m10\u001b[0m\u001b[0;34m)\u001b[0m\u001b[0;34m)\u001b[0m\u001b[0;34m\u001b[0m\u001b[0;34m\u001b[0m\u001b[0m\n\u001b[1;32m      3\u001b[0m \u001b[0mcheckpoint_cb\u001b[0m \u001b[0;34m=\u001b[0m \u001b[0mkeras\u001b[0m\u001b[0;34m.\u001b[0m\u001b[0mcallbacks\u001b[0m\u001b[0;34m.\u001b[0m\u001b[0mModelCheckpoint\u001b[0m\u001b[0;34m(\u001b[0m\u001b[0;34m\"keras_model.h5\"\u001b[0m\u001b[0;34m,\u001b[0m \u001b[0msave_best_only\u001b[0m\u001b[0;34m=\u001b[0m\u001b[0;32mTrue\u001b[0m\u001b[0;34m)\u001b[0m\u001b[0;34m\u001b[0m\u001b[0;34m\u001b[0m\u001b[0m\n\u001b[0;32m----> 4\u001b[0;31m \u001b[0mhistory\u001b[0m \u001b[0;34m=\u001b[0m \u001b[0mnew_model\u001b[0m\u001b[0;34m.\u001b[0m\u001b[0mfit\u001b[0m\u001b[0;34m(\u001b[0m\u001b[0mX_train\u001b[0m\u001b[0;34m,\u001b[0m \u001b[0my_train\u001b[0m\u001b[0;34m,\u001b[0m \u001b[0mepochs\u001b[0m\u001b[0;34m=\u001b[0m\u001b[0;36m20\u001b[0m\u001b[0;34m,\u001b[0m \u001b[0mvalidation_data\u001b[0m\u001b[0;34m=\u001b[0m\u001b[0;34m(\u001b[0m\u001b[0mX_test\u001b[0m\u001b[0;34m,\u001b[0m \u001b[0my_test\u001b[0m\u001b[0;34m)\u001b[0m\u001b[0;34m,\u001b[0m \u001b[0mcallbacks\u001b[0m\u001b[0;34m=\u001b[0m\u001b[0;34m[\u001b[0m\u001b[0mtensorboard_cb\u001b[0m\u001b[0;34m,\u001b[0m \u001b[0mlr_schedueler\u001b[0m\u001b[0;34m,\u001b[0m \u001b[0mcheckpoint_cb\u001b[0m\u001b[0;34m]\u001b[0m\u001b[0;34m,\u001b[0m \u001b[0mclass_weight\u001b[0m\u001b[0;34m=\u001b[0m\u001b[0mclass_weight\u001b[0m\u001b[0;34m)\u001b[0m\u001b[0;34m\u001b[0m\u001b[0;34m\u001b[0m\u001b[0m\n\u001b[0m",
      "\u001b[0;32m/software/ac18804/miniconda3/envs/ml_env/lib/python3.7/site-packages/tensorflow/python/keras/engine/training.py\u001b[0m in \u001b[0;36mfit\u001b[0;34m(self, x, y, batch_size, epochs, verbose, callbacks, validation_split, validation_data, shuffle, class_weight, sample_weight, initial_epoch, steps_per_epoch, validation_steps, validation_batch_size, validation_freq, max_queue_size, workers, use_multiprocessing)\u001b[0m\n\u001b[1;32m   1098\u001b[0m                 _r=1):\n\u001b[1;32m   1099\u001b[0m               \u001b[0mcallbacks\u001b[0m\u001b[0;34m.\u001b[0m\u001b[0mon_train_batch_begin\u001b[0m\u001b[0;34m(\u001b[0m\u001b[0mstep\u001b[0m\u001b[0;34m)\u001b[0m\u001b[0;34m\u001b[0m\u001b[0;34m\u001b[0m\u001b[0m\n\u001b[0;32m-> 1100\u001b[0;31m               \u001b[0mtmp_logs\u001b[0m \u001b[0;34m=\u001b[0m \u001b[0mself\u001b[0m\u001b[0;34m.\u001b[0m\u001b[0mtrain_function\u001b[0m\u001b[0;34m(\u001b[0m\u001b[0miterator\u001b[0m\u001b[0;34m)\u001b[0m\u001b[0;34m\u001b[0m\u001b[0;34m\u001b[0m\u001b[0m\n\u001b[0m\u001b[1;32m   1101\u001b[0m               \u001b[0;32mif\u001b[0m \u001b[0mdata_handler\u001b[0m\u001b[0;34m.\u001b[0m\u001b[0mshould_sync\u001b[0m\u001b[0;34m:\u001b[0m\u001b[0;34m\u001b[0m\u001b[0;34m\u001b[0m\u001b[0m\n\u001b[1;32m   1102\u001b[0m                 \u001b[0mcontext\u001b[0m\u001b[0;34m.\u001b[0m\u001b[0masync_wait\u001b[0m\u001b[0;34m(\u001b[0m\u001b[0;34m)\u001b[0m\u001b[0;34m\u001b[0m\u001b[0;34m\u001b[0m\u001b[0m\n",
      "\u001b[0;32m/software/ac18804/miniconda3/envs/ml_env/lib/python3.7/site-packages/tensorflow/python/eager/def_function.py\u001b[0m in \u001b[0;36m__call__\u001b[0;34m(self, *args, **kwds)\u001b[0m\n\u001b[1;32m    826\u001b[0m     \u001b[0mtracing_count\u001b[0m \u001b[0;34m=\u001b[0m \u001b[0mself\u001b[0m\u001b[0;34m.\u001b[0m\u001b[0mexperimental_get_tracing_count\u001b[0m\u001b[0;34m(\u001b[0m\u001b[0;34m)\u001b[0m\u001b[0;34m\u001b[0m\u001b[0;34m\u001b[0m\u001b[0m\n\u001b[1;32m    827\u001b[0m     \u001b[0;32mwith\u001b[0m \u001b[0mtrace\u001b[0m\u001b[0;34m.\u001b[0m\u001b[0mTrace\u001b[0m\u001b[0;34m(\u001b[0m\u001b[0mself\u001b[0m\u001b[0;34m.\u001b[0m\u001b[0m_name\u001b[0m\u001b[0;34m)\u001b[0m \u001b[0;32mas\u001b[0m \u001b[0mtm\u001b[0m\u001b[0;34m:\u001b[0m\u001b[0;34m\u001b[0m\u001b[0;34m\u001b[0m\u001b[0m\n\u001b[0;32m--> 828\u001b[0;31m       \u001b[0mresult\u001b[0m \u001b[0;34m=\u001b[0m \u001b[0mself\u001b[0m\u001b[0;34m.\u001b[0m\u001b[0m_call\u001b[0m\u001b[0;34m(\u001b[0m\u001b[0;34m*\u001b[0m\u001b[0margs\u001b[0m\u001b[0;34m,\u001b[0m \u001b[0;34m**\u001b[0m\u001b[0mkwds\u001b[0m\u001b[0;34m)\u001b[0m\u001b[0;34m\u001b[0m\u001b[0;34m\u001b[0m\u001b[0m\n\u001b[0m\u001b[1;32m    829\u001b[0m       \u001b[0mcompiler\u001b[0m \u001b[0;34m=\u001b[0m \u001b[0;34m\"xla\"\u001b[0m \u001b[0;32mif\u001b[0m \u001b[0mself\u001b[0m\u001b[0;34m.\u001b[0m\u001b[0m_experimental_compile\u001b[0m \u001b[0;32melse\u001b[0m \u001b[0;34m\"nonXla\"\u001b[0m\u001b[0;34m\u001b[0m\u001b[0;34m\u001b[0m\u001b[0m\n\u001b[1;32m    830\u001b[0m       \u001b[0mnew_tracing_count\u001b[0m \u001b[0;34m=\u001b[0m \u001b[0mself\u001b[0m\u001b[0;34m.\u001b[0m\u001b[0mexperimental_get_tracing_count\u001b[0m\u001b[0;34m(\u001b[0m\u001b[0;34m)\u001b[0m\u001b[0;34m\u001b[0m\u001b[0;34m\u001b[0m\u001b[0m\n",
      "\u001b[0;32m/software/ac18804/miniconda3/envs/ml_env/lib/python3.7/site-packages/tensorflow/python/eager/def_function.py\u001b[0m in \u001b[0;36m_call\u001b[0;34m(self, *args, **kwds)\u001b[0m\n\u001b[1;32m    853\u001b[0m       \u001b[0;31m# In this case we have created variables on the first call, so we run the\u001b[0m\u001b[0;34m\u001b[0m\u001b[0;34m\u001b[0m\u001b[0;34m\u001b[0m\u001b[0m\n\u001b[1;32m    854\u001b[0m       \u001b[0;31m# defunned version which is guaranteed to never create variables.\u001b[0m\u001b[0;34m\u001b[0m\u001b[0;34m\u001b[0m\u001b[0;34m\u001b[0m\u001b[0m\n\u001b[0;32m--> 855\u001b[0;31m       \u001b[0;32mreturn\u001b[0m \u001b[0mself\u001b[0m\u001b[0;34m.\u001b[0m\u001b[0m_stateless_fn\u001b[0m\u001b[0;34m(\u001b[0m\u001b[0;34m*\u001b[0m\u001b[0margs\u001b[0m\u001b[0;34m,\u001b[0m \u001b[0;34m**\u001b[0m\u001b[0mkwds\u001b[0m\u001b[0;34m)\u001b[0m  \u001b[0;31m# pylint: disable=not-callable\u001b[0m\u001b[0;34m\u001b[0m\u001b[0;34m\u001b[0m\u001b[0m\n\u001b[0m\u001b[1;32m    856\u001b[0m     \u001b[0;32melif\u001b[0m \u001b[0mself\u001b[0m\u001b[0;34m.\u001b[0m\u001b[0m_stateful_fn\u001b[0m \u001b[0;32mis\u001b[0m \u001b[0;32mnot\u001b[0m \u001b[0;32mNone\u001b[0m\u001b[0;34m:\u001b[0m\u001b[0;34m\u001b[0m\u001b[0;34m\u001b[0m\u001b[0m\n\u001b[1;32m    857\u001b[0m       \u001b[0;31m# Release the lock early so that multiple threads can perform the call\u001b[0m\u001b[0;34m\u001b[0m\u001b[0;34m\u001b[0m\u001b[0;34m\u001b[0m\u001b[0m\n",
      "\u001b[0;32m/software/ac18804/miniconda3/envs/ml_env/lib/python3.7/site-packages/tensorflow/python/eager/function.py\u001b[0m in \u001b[0;36m__call__\u001b[0;34m(self, *args, **kwargs)\u001b[0m\n\u001b[1;32m   2941\u001b[0m        filtered_flat_args) = self._maybe_define_function(args, kwargs)\n\u001b[1;32m   2942\u001b[0m     return graph_function._call_flat(\n\u001b[0;32m-> 2943\u001b[0;31m         filtered_flat_args, captured_inputs=graph_function.captured_inputs)  # pylint: disable=protected-access\n\u001b[0m\u001b[1;32m   2944\u001b[0m \u001b[0;34m\u001b[0m\u001b[0m\n\u001b[1;32m   2945\u001b[0m   \u001b[0;34m@\u001b[0m\u001b[0mproperty\u001b[0m\u001b[0;34m\u001b[0m\u001b[0;34m\u001b[0m\u001b[0m\n",
      "\u001b[0;32m/software/ac18804/miniconda3/envs/ml_env/lib/python3.7/site-packages/tensorflow/python/eager/function.py\u001b[0m in \u001b[0;36m_call_flat\u001b[0;34m(self, args, captured_inputs, cancellation_manager)\u001b[0m\n\u001b[1;32m   1917\u001b[0m       \u001b[0;31m# No tape is watching; skip to running the function.\u001b[0m\u001b[0;34m\u001b[0m\u001b[0;34m\u001b[0m\u001b[0;34m\u001b[0m\u001b[0m\n\u001b[1;32m   1918\u001b[0m       return self._build_call_outputs(self._inference_function.call(\n\u001b[0;32m-> 1919\u001b[0;31m           ctx, args, cancellation_manager=cancellation_manager))\n\u001b[0m\u001b[1;32m   1920\u001b[0m     forward_backward = self._select_forward_and_backward_functions(\n\u001b[1;32m   1921\u001b[0m         \u001b[0margs\u001b[0m\u001b[0;34m,\u001b[0m\u001b[0;34m\u001b[0m\u001b[0;34m\u001b[0m\u001b[0m\n",
      "\u001b[0;32m/software/ac18804/miniconda3/envs/ml_env/lib/python3.7/site-packages/tensorflow/python/eager/function.py\u001b[0m in \u001b[0;36mcall\u001b[0;34m(self, ctx, args, cancellation_manager)\u001b[0m\n\u001b[1;32m    558\u001b[0m               \u001b[0minputs\u001b[0m\u001b[0;34m=\u001b[0m\u001b[0margs\u001b[0m\u001b[0;34m,\u001b[0m\u001b[0;34m\u001b[0m\u001b[0;34m\u001b[0m\u001b[0m\n\u001b[1;32m    559\u001b[0m               \u001b[0mattrs\u001b[0m\u001b[0;34m=\u001b[0m\u001b[0mattrs\u001b[0m\u001b[0;34m,\u001b[0m\u001b[0;34m\u001b[0m\u001b[0;34m\u001b[0m\u001b[0m\n\u001b[0;32m--> 560\u001b[0;31m               ctx=ctx)\n\u001b[0m\u001b[1;32m    561\u001b[0m         \u001b[0;32melse\u001b[0m\u001b[0;34m:\u001b[0m\u001b[0;34m\u001b[0m\u001b[0;34m\u001b[0m\u001b[0m\n\u001b[1;32m    562\u001b[0m           outputs = execute.execute_with_cancellation(\n",
      "\u001b[0;32m/software/ac18804/miniconda3/envs/ml_env/lib/python3.7/site-packages/tensorflow/python/eager/execute.py\u001b[0m in \u001b[0;36mquick_execute\u001b[0;34m(op_name, num_outputs, inputs, attrs, ctx, name)\u001b[0m\n\u001b[1;32m     58\u001b[0m     \u001b[0mctx\u001b[0m\u001b[0;34m.\u001b[0m\u001b[0mensure_initialized\u001b[0m\u001b[0;34m(\u001b[0m\u001b[0;34m)\u001b[0m\u001b[0;34m\u001b[0m\u001b[0;34m\u001b[0m\u001b[0m\n\u001b[1;32m     59\u001b[0m     tensors = pywrap_tfe.TFE_Py_Execute(ctx._handle, device_name, op_name,\n\u001b[0;32m---> 60\u001b[0;31m                                         inputs, attrs, num_outputs)\n\u001b[0m\u001b[1;32m     61\u001b[0m   \u001b[0;32mexcept\u001b[0m \u001b[0mcore\u001b[0m\u001b[0;34m.\u001b[0m\u001b[0m_NotOkStatusException\u001b[0m \u001b[0;32mas\u001b[0m \u001b[0me\u001b[0m\u001b[0;34m:\u001b[0m\u001b[0;34m\u001b[0m\u001b[0;34m\u001b[0m\u001b[0m\n\u001b[1;32m     62\u001b[0m     \u001b[0;32mif\u001b[0m \u001b[0mname\u001b[0m \u001b[0;32mis\u001b[0m \u001b[0;32mnot\u001b[0m \u001b[0;32mNone\u001b[0m\u001b[0;34m:\u001b[0m\u001b[0;34m\u001b[0m\u001b[0;34m\u001b[0m\u001b[0m\n",
      "\u001b[0;31mKeyboardInterrupt\u001b[0m: "
     ]
    }
   ],
   "source": [
    "tensorboard_cb = keras.callbacks.TensorBoard(get_run_logdir())\n",
    "lr_schedueler = keras.callbacks.LearningRateScheduler(lambda epoch: 0.001 * 0.1**(epoch/10))\n",
    "checkpoint_cb = keras.callbacks.ModelCheckpoint(\"keras_model.h5\", save_best_only=True)\n",
    "history = new_model.fit(X_train, y_train, epochs=20, validation_data=(X_test, y_test), callbacks=[tensorboard_cb, lr_schedueler, checkpoint_cb], class_weight=class_weight)"
   ]
  }
 ],
 "metadata": {
  "interpreter": {
   "hash": "8a9bcf4578ca583988d8fd57bf5761e33ef08b8742bd2dbd7fdfe8318e87ce13"
  },
  "kernelspec": {
   "display_name": "Python 3.7.11 64-bit ('ml_env': conda)",
   "name": "python3"
  },
  "language_info": {
   "codemirror_mode": {
    "name": "ipython",
    "version": 3
   },
   "file_extension": ".py",
   "mimetype": "text/x-python",
   "name": "python",
   "nbconvert_exporter": "python",
   "pygments_lexer": "ipython3",
   "version": "3.7.11"
  },
  "orig_nbformat": 4
 },
 "nbformat": 4,
 "nbformat_minor": 2
}
