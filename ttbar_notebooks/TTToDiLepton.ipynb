{
 "cells": [
  {
   "cell_type": "code",
   "execution_count": 1,
   "metadata": {},
   "outputs": [],
   "source": [
    "import pandas as pd"
   ]
  },
  {
   "cell_type": "code",
   "execution_count": 2,
   "metadata": {},
   "outputs": [],
   "source": [
    "data = pd.read_hdf('/storage/bk17414/ForStudents/2021_CMS_ML/ml_postproc/TTToSemiLeptonic/df_ml_inputs.hd5')"
   ]
  },
  {
   "cell_type": "code",
   "execution_count": 3,
   "metadata": {},
   "outputs": [
    {
     "data": {
      "text/plain": [
       "dataset                       object\n",
       "entry                          int64\n",
       "BiasedDPhi                   float32\n",
       "DiJet_mass                   float64\n",
       "HT                           float32\n",
       "InputMet_InputJet_mindPhi    float32\n",
       "InputMet_phi                 float32\n",
       "InputMet_pt                  float32\n",
       "MHT_phi                      float32\n",
       "MHT_pt                       float32\n",
       "MinChi                       float32\n",
       "MinOmegaHat                  float32\n",
       "MinOmegaTilde                float32\n",
       "cleanedJet_area               object\n",
       "cleanedJet_btagDeepB          object\n",
       "cleanedJet_chHEF              object\n",
       "cleanedJet_eta                object\n",
       "cleanedJet_mass               object\n",
       "cleanedJet_neHEF              object\n",
       "cleanedJet_phi                object\n",
       "cleanedJet_pt                 object\n",
       "hashed_filename                int64\n",
       "ncleanedBJet                   int64\n",
       "ncleanedJet                    int64\n",
       "weight_nominal               float64\n",
       "xs_weight                    float32\n",
       "dtype: object"
      ]
     },
     "execution_count": 3,
     "metadata": {},
     "output_type": "execute_result"
    }
   ],
   "source": [
    "data.dtypes"
   ]
  },
  {
   "cell_type": "code",
   "execution_count": 11,
   "metadata": {},
   "outputs": [
    {
     "data": {
      "text/plain": [
       "count    296226.000000\n",
       "mean        189.994803\n",
       "std         179.191426\n",
       "min          27.644081\n",
       "25%          87.537170\n",
       "50%         122.782036\n",
       "75%         216.680945\n",
       "max        3487.231218\n",
       "Name: DiJet_mass, dtype: float64"
      ]
     },
     "execution_count": 11,
     "metadata": {},
     "output_type": "execute_result"
    }
   ],
   "source": [
    "data['DiJet_mass'].describe()"
   ]
  },
  {
   "cell_type": "code",
   "execution_count": 5,
   "metadata": {},
   "outputs": [
    {
     "data": {
      "text/plain": [
       "<AxesSubplot:ylabel='Frequency'>"
      ]
     },
     "execution_count": 5,
     "metadata": {},
     "output_type": "execute_result"
    },
    {
     "data": {
      "image/png": "[encoded data removed]",
      "text/plain": [
       "<Figure size 432x288 with 1 Axes>"
      ]
     },
     "metadata": {
      "needs_background": "light"
     },
     "output_type": "display_data"
    }
   ],
   "source": [
    "import matplotlib.pyplot as plt\n",
    "\n",
    "data['DiJet_mass'].plot(kind='hist', bins=100, density=True)"
   ]
  },
  {
   "cell_type": "code",
   "execution_count": 8,
   "metadata": {},
   "outputs": [
    {
     "data": {
      "text/plain": [
       "<AxesSubplot:ylabel='Frequency'>"
      ]
     },
     "execution_count": 8,
     "metadata": {},
     "output_type": "execute_result"
    },
    {
     "data": {
      "image/png": "[encoded data removed]",
      "text/plain": [
       "<Figure size 432x288 with 1 Axes>"
      ]
     },
     "metadata": {
      "needs_background": "light"
     },
     "output_type": "display_data"
    }
   ],
   "source": [
    "data['ncleanedJet'].plot(kind='hist', bins=12, density=True)"
   ]
  },
  {
   "cell_type": "code",
   "execution_count": 20,
   "metadata": {},
   "outputs": [
    {
     "data": {
      "text/plain": [
       "array([165.85985 , 106.98886 ,  38.026306], dtype=float32)"
      ]
     },
     "execution_count": 20,
     "metadata": {},
     "output_type": "execute_result"
    }
   ],
   "source": [
    "data['cleanedJet_pt'][11]\n"
   ]
  },
  {
   "cell_type": "code",
   "execution_count": 10,
   "metadata": {},
   "outputs": [
    {
     "name": "stdout",
     "output_type": "stream",
     "text": [
      "count    296226.000000\n",
      "mean        257.736481\n",
      "std          53.870792\n",
      "min         200.000061\n",
      "25%         220.924965\n",
      "50%         242.867928\n",
      "75%         277.334793\n",
      "max        1233.786499\n",
      "Name: MHT_pt, dtype: float64\n"
     ]
    },
    {
     "data": {
      "text/plain": [
       "<AxesSubplot:ylabel='Frequency'>"
      ]
     },
     "execution_count": 10,
     "metadata": {},
     "output_type": "execute_result"
    },
    {
     "data": {
      "image/png": "[encoded data removed]",
      "text/plain": [
       "<Figure size 432x288 with 1 Axes>"
      ]
     },
     "metadata": {
      "needs_background": "light"
     },
     "output_type": "display_data"
    }
   ],
   "source": [
    "import matplotlib.pyplot as plt\n",
    "\n",
    "print(data['MHT_pt'].describe())\n",
    "data['MHT_pt'].plot(kind='hist', bins=100, density=True)"
   ]
  },
  {
   "cell_type": "code",
   "execution_count": 6,
   "metadata": {},
   "outputs": [
    {
     "data": {
      "text/plain": [
       "count    296226.000000\n",
       "mean        260.051788\n",
       "std          53.887779\n",
       "min         200.125000\n",
       "25%         222.375000\n",
       "50%         245.375000\n",
       "75%         281.500000\n",
       "max        1181.000000\n",
       "Name: InputMet_pt, dtype: float64"
      ]
     },
     "execution_count": 6,
     "metadata": {},
     "output_type": "execute_result"
    },
    {
     "data": {
      "image/png": "[encoded data removed]",
      "text/plain": [
       "<Figure size 432x288 with 1 Axes>"
      ]
     },
     "metadata": {
      "needs_background": "light"
     },
     "output_type": "display_data"
    }
   ],
   "source": [
    "data['InputMet_pt'].plot(kind='hist', bins=100)\n",
    "data['InputMet_pt'].describe()"
   ]
  },
  {
   "cell_type": "code",
   "execution_count": 8,
   "metadata": {},
   "outputs": [
    {
     "data": {
      "text/html": [
       "<div>\n",
       "<style scoped>\n",
       "    .dataframe tbody tr th:only-of-type {\n",
       "        vertical-align: middle;\n",
       "    }\n",
       "\n",
       "    .dataframe tbody tr th {\n",
       "        vertical-align: top;\n",
       "    }\n",
       "\n",
       "    .dataframe thead th {\n",
       "        text-align: right;\n",
       "    }\n",
       "</style>\n",
       "<table border=\"1\" class=\"dataframe\">\n",
       "  <thead>\n",
       "    <tr style=\"text-align: right;\">\n",
       "      <th></th>\n",
       "      <th>entry</th>\n",
       "      <th>BiasedDPhi</th>\n",
       "      <th>DiJet_mass</th>\n",
       "      <th>HT</th>\n",
       "      <th>InputMet_InputJet_mindPhi</th>\n",
       "      <th>InputMet_phi</th>\n",
       "      <th>InputMet_pt</th>\n",
       "      <th>MHT_phi</th>\n",
       "      <th>MHT_pt</th>\n",
       "      <th>MinChi</th>\n",
       "      <th>MinOmegaHat</th>\n",
       "      <th>MinOmegaTilde</th>\n",
       "      <th>hashed_filename</th>\n",
       "      <th>ncleanedBJet</th>\n",
       "      <th>ncleanedJet</th>\n",
       "      <th>weight_nominal</th>\n",
       "      <th>xs_weight</th>\n",
       "    </tr>\n",
       "  </thead>\n",
       "  <tbody>\n",
       "    <tr>\n",
       "      <th>entry</th>\n",
       "      <td>1.000000</td>\n",
       "      <td>0.003213</td>\n",
       "      <td>0.002005</td>\n",
       "      <td>0.003174</td>\n",
       "      <td>-0.002726</td>\n",
       "      <td>0.000585</td>\n",
       "      <td>-0.000743</td>\n",
       "      <td>0.000766</td>\n",
       "      <td>-0.001181</td>\n",
       "      <td>-0.003927</td>\n",
       "      <td>-0.002425</td>\n",
       "      <td>-0.001350</td>\n",
       "      <td>0.016136</td>\n",
       "      <td>0.002558</td>\n",
       "      <td>0.003247</td>\n",
       "      <td>0.000713</td>\n",
       "      <td>-0.002326</td>\n",
       "    </tr>\n",
       "    <tr>\n",
       "      <th>BiasedDPhi</th>\n",
       "      <td>0.003213</td>\n",
       "      <td>1.000000</td>\n",
       "      <td>0.130434</td>\n",
       "      <td>0.065453</td>\n",
       "      <td>-0.046307</td>\n",
       "      <td>-0.009211</td>\n",
       "      <td>-0.067823</td>\n",
       "      <td>-0.008907</td>\n",
       "      <td>-0.070671</td>\n",
       "      <td>-0.051095</td>\n",
       "      <td>-0.138890</td>\n",
       "      <td>-0.077628</td>\n",
       "      <td>0.001673</td>\n",
       "      <td>-0.012167</td>\n",
       "      <td>-0.025686</td>\n",
       "      <td>0.004883</td>\n",
       "      <td>0.005381</td>\n",
       "    </tr>\n",
       "    <tr>\n",
       "      <th>DiJet_mass</th>\n",
       "      <td>0.002005</td>\n",
       "      <td>0.130434</td>\n",
       "      <td>1.000000</td>\n",
       "      <td>0.631275</td>\n",
       "      <td>-0.309851</td>\n",
       "      <td>-0.001636</td>\n",
       "      <td>0.033568</td>\n",
       "      <td>-0.002175</td>\n",
       "      <td>0.049576</td>\n",
       "      <td>-0.527534</td>\n",
       "      <td>-0.518521</td>\n",
       "      <td>-0.124408</td>\n",
       "      <td>0.000158</td>\n",
       "      <td>0.148645</td>\n",
       "      <td>0.349116</td>\n",
       "      <td>-0.039150</td>\n",
       "      <td>0.004112</td>\n",
       "    </tr>\n",
       "    <tr>\n",
       "      <th>HT</th>\n",
       "      <td>0.003174</td>\n",
       "      <td>0.065453</td>\n",
       "      <td>0.631275</td>\n",
       "      <td>1.000000</td>\n",
       "      <td>-0.563862</td>\n",
       "      <td>-0.004311</td>\n",
       "      <td>0.337796</td>\n",
       "      <td>-0.005292</td>\n",
       "      <td>0.389949</td>\n",
       "      <td>-0.772220</td>\n",
       "      <td>-0.548423</td>\n",
       "      <td>-0.097409</td>\n",
       "      <td>0.001482</td>\n",
       "      <td>0.360766</td>\n",
       "      <td>0.731224</td>\n",
       "      <td>-0.068989</td>\n",
       "      <td>-0.006374</td>\n",
       "    </tr>\n",
       "    <tr>\n",
       "      <th>InputMet_InputJet_mindPhi</th>\n",
       "      <td>-0.002726</td>\n",
       "      <td>-0.046307</td>\n",
       "      <td>-0.309851</td>\n",
       "      <td>-0.563862</td>\n",
       "      <td>1.000000</td>\n",
       "      <td>-0.002110</td>\n",
       "      <td>-0.000622</td>\n",
       "      <td>-0.001078</td>\n",
       "      <td>-0.020675</td>\n",
       "      <td>0.665602</td>\n",
       "      <td>0.341497</td>\n",
       "      <td>0.107862</td>\n",
       "      <td>-0.003283</td>\n",
       "      <td>-0.205681</td>\n",
       "      <td>-0.634342</td>\n",
       "      <td>0.039612</td>\n",
       "      <td>-0.000485</td>\n",
       "    </tr>\n",
       "    <tr>\n",
       "      <th>InputMet_phi</th>\n",
       "      <td>0.000585</td>\n",
       "      <td>-0.009211</td>\n",
       "      <td>-0.001636</td>\n",
       "      <td>-0.004311</td>\n",
       "      <td>-0.002110</td>\n",
       "      <td>1.000000</td>\n",
       "      <td>0.011478</td>\n",
       "      <td>0.874637</td>\n",
       "      <td>-0.011779</td>\n",
       "      <td>-0.001237</td>\n",
       "      <td>-0.002279</td>\n",
       "      <td>-0.003338</td>\n",
       "      <td>0.001055</td>\n",
       "      <td>0.001774</td>\n",
       "      <td>-0.003488</td>\n",
       "      <td>-0.012681</td>\n",
       "      <td>0.001333</td>\n",
       "    </tr>\n",
       "    <tr>\n",
       "      <th>InputMet_pt</th>\n",
       "      <td>-0.000743</td>\n",
       "      <td>-0.067823</td>\n",
       "      <td>0.033568</td>\n",
       "      <td>0.337796</td>\n",
       "      <td>-0.000622</td>\n",
       "      <td>0.011478</td>\n",
       "      <td>1.000000</td>\n",
       "      <td>0.010187</td>\n",
       "      <td>0.848546</td>\n",
       "      <td>0.001426</td>\n",
       "      <td>0.044191</td>\n",
       "      <td>0.034594</td>\n",
       "      <td>0.000894</td>\n",
       "      <td>0.087688</td>\n",
       "      <td>0.129245</td>\n",
       "      <td>-0.082645</td>\n",
       "      <td>-0.028401</td>\n",
       "    </tr>\n",
       "    <tr>\n",
       "      <th>MHT_phi</th>\n",
       "      <td>0.000766</td>\n",
       "      <td>-0.008907</td>\n",
       "      <td>-0.002175</td>\n",
       "      <td>-0.005292</td>\n",
       "      <td>-0.001078</td>\n",
       "      <td>0.874637</td>\n",
       "      <td>0.010187</td>\n",
       "      <td>1.000000</td>\n",
       "      <td>-0.010640</td>\n",
       "      <td>0.001067</td>\n",
       "      <td>-0.000529</td>\n",
       "      <td>-0.002761</td>\n",
       "      <td>0.000742</td>\n",
       "      <td>-0.001055</td>\n",
       "      <td>-0.004327</td>\n",
       "      <td>-0.009936</td>\n",
       "      <td>0.001458</td>\n",
       "    </tr>\n",
       "    <tr>\n",
       "      <th>MHT_pt</th>\n",
       "      <td>-0.001181</td>\n",
       "      <td>-0.070671</td>\n",
       "      <td>0.049576</td>\n",
       "      <td>0.389949</td>\n",
       "      <td>-0.020675</td>\n",
       "      <td>-0.011779</td>\n",
       "      <td>0.848546</td>\n",
       "      <td>-0.010640</td>\n",
       "      <td>1.000000</td>\n",
       "      <td>0.012414</td>\n",
       "      <td>0.076747</td>\n",
       "      <td>0.063395</td>\n",
       "      <td>0.000782</td>\n",
       "      <td>0.098729</td>\n",
       "      <td>0.159633</td>\n",
       "      <td>-0.042962</td>\n",
       "      <td>-0.028898</td>\n",
       "    </tr>\n",
       "    <tr>\n",
       "      <th>MinChi</th>\n",
       "      <td>-0.003927</td>\n",
       "      <td>-0.051095</td>\n",
       "      <td>-0.527534</td>\n",
       "      <td>-0.772220</td>\n",
       "      <td>0.665602</td>\n",
       "      <td>-0.001237</td>\n",
       "      <td>0.001426</td>\n",
       "      <td>0.001067</td>\n",
       "      <td>0.012414</td>\n",
       "      <td>1.000000</td>\n",
       "      <td>0.713297</td>\n",
       "      <td>0.191530</td>\n",
       "      <td>-0.001536</td>\n",
       "      <td>-0.323777</td>\n",
       "      <td>-0.682566</td>\n",
       "      <td>0.054979</td>\n",
       "      <td>-0.001377</td>\n",
       "    </tr>\n",
       "    <tr>\n",
       "      <th>MinOmegaHat</th>\n",
       "      <td>-0.002425</td>\n",
       "      <td>-0.138890</td>\n",
       "      <td>-0.518521</td>\n",
       "      <td>-0.548423</td>\n",
       "      <td>0.341497</td>\n",
       "      <td>-0.002279</td>\n",
       "      <td>0.044191</td>\n",
       "      <td>-0.000529</td>\n",
       "      <td>0.076747</td>\n",
       "      <td>0.713297</td>\n",
       "      <td>1.000000</td>\n",
       "      <td>0.656860</td>\n",
       "      <td>-0.001312</td>\n",
       "      <td>-0.150287</td>\n",
       "      <td>-0.218755</td>\n",
       "      <td>0.036861</td>\n",
       "      <td>-0.001881</td>\n",
       "    </tr>\n",
       "    <tr>\n",
       "      <th>MinOmegaTilde</th>\n",
       "      <td>-0.001350</td>\n",
       "      <td>-0.077628</td>\n",
       "      <td>-0.124408</td>\n",
       "      <td>-0.097409</td>\n",
       "      <td>0.107862</td>\n",
       "      <td>-0.003338</td>\n",
       "      <td>0.034594</td>\n",
       "      <td>-0.002761</td>\n",
       "      <td>0.063395</td>\n",
       "      <td>0.191530</td>\n",
       "      <td>0.656860</td>\n",
       "      <td>1.000000</td>\n",
       "      <td>-0.001371</td>\n",
       "      <td>0.018192</td>\n",
       "      <td>0.206711</td>\n",
       "      <td>0.011809</td>\n",
       "      <td>0.002805</td>\n",
       "    </tr>\n",
       "    <tr>\n",
       "      <th>hashed_filename</th>\n",
       "      <td>0.016136</td>\n",
       "      <td>0.001673</td>\n",
       "      <td>0.000158</td>\n",
       "      <td>0.001482</td>\n",
       "      <td>-0.003283</td>\n",
       "      <td>0.001055</td>\n",
       "      <td>0.000894</td>\n",
       "      <td>0.000742</td>\n",
       "      <td>0.000782</td>\n",
       "      <td>-0.001536</td>\n",
       "      <td>-0.001312</td>\n",
       "      <td>-0.001371</td>\n",
       "      <td>1.000000</td>\n",
       "      <td>-0.000543</td>\n",
       "      <td>0.000466</td>\n",
       "      <td>-0.002499</td>\n",
       "      <td>-0.002860</td>\n",
       "    </tr>\n",
       "    <tr>\n",
       "      <th>ncleanedBJet</th>\n",
       "      <td>0.002558</td>\n",
       "      <td>-0.012167</td>\n",
       "      <td>0.148645</td>\n",
       "      <td>0.360766</td>\n",
       "      <td>-0.205681</td>\n",
       "      <td>0.001774</td>\n",
       "      <td>0.087688</td>\n",
       "      <td>-0.001055</td>\n",
       "      <td>0.098729</td>\n",
       "      <td>-0.323777</td>\n",
       "      <td>-0.150287</td>\n",
       "      <td>0.018192</td>\n",
       "      <td>-0.000543</td>\n",
       "      <td>1.000000</td>\n",
       "      <td>0.385061</td>\n",
       "      <td>-0.125896</td>\n",
       "      <td>-0.005596</td>\n",
       "    </tr>\n",
       "    <tr>\n",
       "      <th>ncleanedJet</th>\n",
       "      <td>0.003247</td>\n",
       "      <td>-0.025686</td>\n",
       "      <td>0.349116</td>\n",
       "      <td>0.731224</td>\n",
       "      <td>-0.634342</td>\n",
       "      <td>-0.003488</td>\n",
       "      <td>0.129245</td>\n",
       "      <td>-0.004327</td>\n",
       "      <td>0.159633</td>\n",
       "      <td>-0.682566</td>\n",
       "      <td>-0.218755</td>\n",
       "      <td>0.206711</td>\n",
       "      <td>0.000466</td>\n",
       "      <td>0.385061</td>\n",
       "      <td>1.000000</td>\n",
       "      <td>-0.043937</td>\n",
       "      <td>0.002646</td>\n",
       "    </tr>\n",
       "    <tr>\n",
       "      <th>weight_nominal</th>\n",
       "      <td>0.000713</td>\n",
       "      <td>0.004883</td>\n",
       "      <td>-0.039150</td>\n",
       "      <td>-0.068989</td>\n",
       "      <td>0.039612</td>\n",
       "      <td>-0.012681</td>\n",
       "      <td>-0.082645</td>\n",
       "      <td>-0.009936</td>\n",
       "      <td>-0.042962</td>\n",
       "      <td>0.054979</td>\n",
       "      <td>0.036861</td>\n",
       "      <td>0.011809</td>\n",
       "      <td>-0.002499</td>\n",
       "      <td>-0.125896</td>\n",
       "      <td>-0.043937</td>\n",
       "      <td>1.000000</td>\n",
       "      <td>0.481183</td>\n",
       "    </tr>\n",
       "    <tr>\n",
       "      <th>xs_weight</th>\n",
       "      <td>-0.002326</td>\n",
       "      <td>0.005381</td>\n",
       "      <td>0.004112</td>\n",
       "      <td>-0.006374</td>\n",
       "      <td>-0.000485</td>\n",
       "      <td>0.001333</td>\n",
       "      <td>-0.028401</td>\n",
       "      <td>0.001458</td>\n",
       "      <td>-0.028898</td>\n",
       "      <td>-0.001377</td>\n",
       "      <td>-0.001881</td>\n",
       "      <td>0.002805</td>\n",
       "      <td>-0.002860</td>\n",
       "      <td>-0.005596</td>\n",
       "      <td>0.002646</td>\n",
       "      <td>0.481183</td>\n",
       "      <td>1.000000</td>\n",
       "    </tr>\n",
       "  </tbody>\n",
       "</table>\n",
       "</div>"
      ],
      "text/plain": [
       "                              entry  BiasedDPhi  DiJet_mass        HT  \\\n",
       "entry                      1.000000    0.003213    0.002005  0.003174   \n",
       "BiasedDPhi                 0.003213    1.000000    0.130434  0.065453   \n",
       "DiJet_mass                 0.002005    0.130434    1.000000  0.631275   \n",
       "HT                         0.003174    0.065453    0.631275  1.000000   \n",
       "InputMet_InputJet_mindPhi -0.002726   -0.046307   -0.309851 -0.563862   \n",
       "InputMet_phi               0.000585   -0.009211   -0.001636 -0.004311   \n",
       "InputMet_pt               -0.000743   -0.067823    0.033568  0.337796   \n",
       "MHT_phi                    0.000766   -0.008907   -0.002175 -0.005292   \n",
       "MHT_pt                    -0.001181   -0.070671    0.049576  0.389949   \n",
       "MinChi                    -0.003927   -0.051095   -0.527534 -0.772220   \n",
       "MinOmegaHat               -0.002425   -0.138890   -0.518521 -0.548423   \n",
       "MinOmegaTilde             -0.001350   -0.077628   -0.124408 -0.097409   \n",
       "hashed_filename            0.016136    0.001673    0.000158  0.001482   \n",
       "ncleanedBJet               0.002558   -0.012167    0.148645  0.360766   \n",
       "ncleanedJet                0.003247   -0.025686    0.349116  0.731224   \n",
       "weight_nominal             0.000713    0.004883   -0.039150 -0.068989   \n",
       "xs_weight                 -0.002326    0.005381    0.004112 -0.006374   \n",
       "\n",
       "                           InputMet_InputJet_mindPhi  InputMet_phi  \\\n",
       "entry                                      -0.002726      0.000585   \n",
       "BiasedDPhi                                 -0.046307     -0.009211   \n",
       "DiJet_mass                                 -0.309851     -0.001636   \n",
       "HT                                         -0.563862     -0.004311   \n",
       "InputMet_InputJet_mindPhi                   1.000000     -0.002110   \n",
       "InputMet_phi                               -0.002110      1.000000   \n",
       "InputMet_pt                                -0.000622      0.011478   \n",
       "MHT_phi                                    -0.001078      0.874637   \n",
       "MHT_pt                                     -0.020675     -0.011779   \n",
       "MinChi                                      0.665602     -0.001237   \n",
       "MinOmegaHat                                 0.341497     -0.002279   \n",
       "MinOmegaTilde                               0.107862     -0.003338   \n",
       "hashed_filename                            -0.003283      0.001055   \n",
       "ncleanedBJet                               -0.205681      0.001774   \n",
       "ncleanedJet                                -0.634342     -0.003488   \n",
       "weight_nominal                              0.039612     -0.012681   \n",
       "xs_weight                                  -0.000485      0.001333   \n",
       "\n",
       "                           InputMet_pt   MHT_phi    MHT_pt    MinChi  \\\n",
       "entry                        -0.000743  0.000766 -0.001181 -0.003927   \n",
       "BiasedDPhi                   -0.067823 -0.008907 -0.070671 -0.051095   \n",
       "DiJet_mass                    0.033568 -0.002175  0.049576 -0.527534   \n",
       "HT                            0.337796 -0.005292  0.389949 -0.772220   \n",
       "InputMet_InputJet_mindPhi    -0.000622 -0.001078 -0.020675  0.665602   \n",
       "InputMet_phi                  0.011478  0.874637 -0.011779 -0.001237   \n",
       "InputMet_pt                   1.000000  0.010187  0.848546  0.001426   \n",
       "MHT_phi                       0.010187  1.000000 -0.010640  0.001067   \n",
       "MHT_pt                        0.848546 -0.010640  1.000000  0.012414   \n",
       "MinChi                        0.001426  0.001067  0.012414  1.000000   \n",
       "MinOmegaHat                   0.044191 -0.000529  0.076747  0.713297   \n",
       "MinOmegaTilde                 0.034594 -0.002761  0.063395  0.191530   \n",
       "hashed_filename               0.000894  0.000742  0.000782 -0.001536   \n",
       "ncleanedBJet                  0.087688 -0.001055  0.098729 -0.323777   \n",
       "ncleanedJet                   0.129245 -0.004327  0.159633 -0.682566   \n",
       "weight_nominal               -0.082645 -0.009936 -0.042962  0.054979   \n",
       "xs_weight                    -0.028401  0.001458 -0.028898 -0.001377   \n",
       "\n",
       "                           MinOmegaHat  MinOmegaTilde  hashed_filename  \\\n",
       "entry                        -0.002425      -0.001350         0.016136   \n",
       "BiasedDPhi                   -0.138890      -0.077628         0.001673   \n",
       "DiJet_mass                   -0.518521      -0.124408         0.000158   \n",
       "HT                           -0.548423      -0.097409         0.001482   \n",
       "InputMet_InputJet_mindPhi     0.341497       0.107862        -0.003283   \n",
       "InputMet_phi                 -0.002279      -0.003338         0.001055   \n",
       "InputMet_pt                   0.044191       0.034594         0.000894   \n",
       "MHT_phi                      -0.000529      -0.002761         0.000742   \n",
       "MHT_pt                        0.076747       0.063395         0.000782   \n",
       "MinChi                        0.713297       0.191530        -0.001536   \n",
       "MinOmegaHat                   1.000000       0.656860        -0.001312   \n",
       "MinOmegaTilde                 0.656860       1.000000        -0.001371   \n",
       "hashed_filename              -0.001312      -0.001371         1.000000   \n",
       "ncleanedBJet                 -0.150287       0.018192        -0.000543   \n",
       "ncleanedJet                  -0.218755       0.206711         0.000466   \n",
       "weight_nominal                0.036861       0.011809        -0.002499   \n",
       "xs_weight                    -0.001881       0.002805        -0.002860   \n",
       "\n",
       "                           ncleanedBJet  ncleanedJet  weight_nominal  \\\n",
       "entry                          0.002558     0.003247        0.000713   \n",
       "BiasedDPhi                    -0.012167    -0.025686        0.004883   \n",
       "DiJet_mass                     0.148645     0.349116       -0.039150   \n",
       "HT                             0.360766     0.731224       -0.068989   \n",
       "InputMet_InputJet_mindPhi     -0.205681    -0.634342        0.039612   \n",
       "InputMet_phi                   0.001774    -0.003488       -0.012681   \n",
       "InputMet_pt                    0.087688     0.129245       -0.082645   \n",
       "MHT_phi                       -0.001055    -0.004327       -0.009936   \n",
       "MHT_pt                         0.098729     0.159633       -0.042962   \n",
       "MinChi                        -0.323777    -0.682566        0.054979   \n",
       "MinOmegaHat                   -0.150287    -0.218755        0.036861   \n",
       "MinOmegaTilde                  0.018192     0.206711        0.011809   \n",
       "hashed_filename               -0.000543     0.000466       -0.002499   \n",
       "ncleanedBJet                   1.000000     0.385061       -0.125896   \n",
       "ncleanedJet                    0.385061     1.000000       -0.043937   \n",
       "weight_nominal                -0.125896    -0.043937        1.000000   \n",
       "xs_weight                     -0.005596     0.002646        0.481183   \n",
       "\n",
       "                           xs_weight  \n",
       "entry                      -0.002326  \n",
       "BiasedDPhi                  0.005381  \n",
       "DiJet_mass                  0.004112  \n",
       "HT                         -0.006374  \n",
       "InputMet_InputJet_mindPhi  -0.000485  \n",
       "InputMet_phi                0.001333  \n",
       "InputMet_pt                -0.028401  \n",
       "MHT_phi                     0.001458  \n",
       "MHT_pt                     -0.028898  \n",
       "MinChi                     -0.001377  \n",
       "MinOmegaHat                -0.001881  \n",
       "MinOmegaTilde               0.002805  \n",
       "hashed_filename            -0.002860  \n",
       "ncleanedBJet               -0.005596  \n",
       "ncleanedJet                 0.002646  \n",
       "weight_nominal              0.481183  \n",
       "xs_weight                   1.000000  "
      ]
     },
     "execution_count": 8,
     "metadata": {},
     "output_type": "execute_result"
    }
   ],
   "source": [
    "correlations = data.corr()\n",
    "correlations"
   ]
  },
  {
   "cell_type": "code",
   "execution_count": 13,
   "metadata": {},
   "outputs": [
    {
     "data": {
      "image/png": "[encoded data removed]",
      "text/plain": [
       "<Figure size 432x288 with 2 Axes>"
      ]
     },
     "metadata": {
      "needs_background": "light"
     },
     "output_type": "display_data"
    }
   ],
   "source": [
    "import seaborn as sns\n",
    "\n",
    "sns.heatmap(correlations, xticklabels=correlations.columns, yticklabels=correlations.columns)\n",
    "plt.savefig('Correlations_heatmap.png', dpi=300, bbox_inches=\"tight\")"
   ]
  },
  {
   "cell_type": "code",
   "execution_count": null,
   "metadata": {},
   "outputs": [],
   "source": []
  }
 ],
 "metadata": {
  "interpreter": {
   "hash": "8a9bcf4578ca583988d8fd57bf5761e33ef08b8742bd2dbd7fdfe8318e87ce13"
  },
  "kernelspec": {
   "display_name": "Python 3.7.11 64-bit ('ml_env': conda)",
   "name": "python3"
  },
  "language_info": {
   "codemirror_mode": {
    "name": "ipython",
    "version": 3
   },
   "file_extension": ".py",
   "mimetype": "text/x-python",
   "name": "python",
   "nbconvert_exporter": "python",
   "pygments_lexer": "ipython3",
   "version": "3.7.11"
  },
  "orig_nbformat": 4
 },
 "nbformat": 4,
 "nbformat_minor": 2
}
