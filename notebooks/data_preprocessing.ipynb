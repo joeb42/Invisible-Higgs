{
 "cells": [
  {
   "cell_type": "code",
   "execution_count": 1,
   "metadata": {},
   "outputs": [],
   "source": [
    "import pandas as pd\n",
    "import numpy as np\n",
    "from sklearn.preprocessing import StandardScaler, RobustScaler\n",
    "from sklearn.model_selection import train_test_split\n",
    "import os\n",
    "\n",
    "def get_data(dataset):\n",
    "    \"\"\"Read hd5 data files to pandas df\"\"\"\n",
    "    path = f'/storage/bk17414/ForStudents/2021_CMS_ML/ml_postproc/{dataset}/df_ml_inputs.hd5'\n",
    "    return pd.read_hdf(path)\n",
    "\n",
    "def get_data_new(dataset):\n",
    "    \"\"\"Read hd5 data files to pandas df\"\"\"\n",
    "    path = f\"/scratch/ys20884/ml_vars/{dataset}/df_ml_inputs.hd5\"\n",
    "    return pd.read_hdf(path)\n",
    "\n",
    "def get_obj_features(data):\n",
    "    # Feature engineering\n",
    "    object_cols = ['cleanedJet_eta', 'cleanedJet_mass', 'cleanedJet_neHEF', 'cleanedJet_phi', 'cleanedJet_pt', 'cleanedJet_chHEF', 'cleanedJet_area']\n",
    "    # dict of names\n",
    "    names = {0:'Leading', 1:'Secondary', 2:'Third', 3:'Fourth'}\n",
    "    for col in object_cols:\n",
    "        for jet in range(4):\n",
    "            name = f'{names[jet]} {col}'\n",
    "            data[name] = data.apply(lambda x:x[col][jet] if jet < x['ncleanedJet'] else None, axis=1)\n",
    "    return data\n",
    "\n",
    "def preprocess(train_size=0.8, datasets=None, new=False):\n",
    "    # datasets = ['ttH125', 'TTToSemiLeptonic', 'TTToHadronic', 'TTTo2L2Nu']\n",
    "    if not datasets:\n",
    "        datasets = os.listdir('/storage/bk17414/ForStudents/2021_CMS_ML/ml_postproc/')\n",
    "    # Combine datasets\n",
    "    if new:\n",
    "        data = pd.concat([get_data_new(dataset) for dataset in datasets if dataset != \"test\"], ignore_index=True)\n",
    "    else:\n",
    "        data = pd.concat([get_data(dataset) for dataset in datasets if dataset != \"test\"], ignore_index=True)\n",
    "    # Combine QCD, W/Z jet backgrounds into single labels (i.e. ignore HT cut in label)\n",
    "    new_cols = {\"QCD\":\"QCD\", \"Jets\":\"VJets\", \"WminusH125\": \"VH125\", \"WplusH125\":\"VH125\", \"ZH125\":\"VH125\"}\n",
    "    for col in new_cols:\n",
    "        data['dataset'] = data.dataset.str.replace(r'(^.*' + col + r'.*$)', new_cols[col])\n",
    "    # Labels (make individual columns of ones and zeros for each category)\n",
    "    labels = pd.get_dummies(data['dataset'])\n",
    "    # data = data.join(labels)\n",
    "    # separate features from labels\n",
    "    X, y = data.drop(['weight_nominal', 'entry', 'hashed_filename', 'MHT_phi', 'InputMet_phi', 'dataset', 'BiasedDPhi'], axis=1), labels\n",
    "    # print(labels)\n",
    "    # Train test split\n",
    "    X_train, X_test, y_train, y_test = train_test_split(X, y, train_size=train_size, stratify=y, random_state=42)\n",
    "    weights = [X_train['xs_weight'], X_test['xs_weight']]\n",
    "    X_train, X_test = X_train.drop('xs_weight', axis=1), X_test.drop('xs_weight', axis=1)\n",
    "    # Save non scaled train and test for analysis\n",
    "    # X_train.to_hdf(\"./X_train_combined.hd5\", key=\"train\")\n",
    "    # X_test.to_hdf(\"./X_test_combined.hd5\", key=\"test\")\n",
    "    # Feature scaling for event level variables\n",
    "    X_train_event, X_test_event = X_train.select_dtypes(exclude=object), X_test.select_dtypes(exclude=object)\n",
    "    event_scaler = StandardScaler()\n",
    "    X_train_event_scaled = event_scaler.fit_transform(X_train_event)\n",
    "    X_test_event_scaled = event_scaler.transform(X_test_event)\n",
    "    print(\"scaled event\")\n",
    "    # Get object level data\n",
    "    X_train_obj, X_test_obj = get_object_data(X_train.select_dtypes(object), 14), get_object_data(X_test.select_dtypes(object), 14)\n",
    "    object_scaler = StandardScaler()\n",
    "    nz_train, nz_test = np.any(X_train_obj, -1), np.any(X_test_obj, -1)\n",
    "    X_train_obj[nz_train] = object_scaler.fit_transform(X_train_obj[nz_train])\n",
    "    X_test_obj[nz_test] = object_scaler.transform(X_test_obj[nz_test])\n",
    "    print(\"scaled object\")\n",
    "    np.nan_to_num(X_train_obj, copy=False, nan=0)\n",
    "    np.nan_to_num(X_test_obj, copy=False, nan=0)\n",
    "    return np.array([X_train_event_scaled, X_test_event_scaled, X_train_obj, X_test_obj, y_train, y_test]), weights\n",
    "\n",
    "def get_object_data(inp_data, max_jets):\n",
    "    num_samples = len(inp_data)\n",
    "    num_cols = len(inp_data.columns)\n",
    "    data = np.zeros((num_samples, max_jets, num_cols))\n",
    "    for i in range(max_jets):\n",
    "        for j in range(num_cols):\n",
    "            if j == 6 and i > 0:\n",
    "                data[:, i, j] = inp_data.iloc[:, j].map(lambda x: abs(x[i] - x[0]) if len(x) > i else np.nan)\n",
    "            else:\n",
    "                data[:, i, j] = inp_data.iloc[:, j].map(lambda x: x[i] if len(x) > i else np.nan)\n",
    "    return data\n",
    "\n",
    "def get_object_data_new(inp_data, max_jets):\n",
    "    num_samples = len(inp_data)\n",
    "    num_cols = 11\n",
    "    # regular jet collection\n",
    "    reg_cols = ['cleanedJet_area',\n",
    "       'cleanedJet_btagDeepB', 'cleanedJet_chHEF', 'cleanedJet_eta',\n",
    "       'cleanedJet_mass', 'cleanedJet_neHEF', 'cleanedJet_phi',\n",
    "       'cleanedJet_pt']\n",
    "    data = np.zeros((num_samples, max_jets+9, num_cols))\n",
    "    for i in range(max_jets):\n",
    "        for j, col in enumerate(reg_cols):\n",
    "            data[:, i, j] = inp_data.loc[:, col].map(lambda x: x[i] if len(x) > i else np.nan)\n",
    "    # b jets\n",
    "    bjet_cols = ['cleanedBJet_eta',\n",
    "       'cleanedBJet_phi', 'cleanedBJet_pt']\n",
    "    for i in range(3):\n",
    "        for j, col in enumerate(bjet_cols):\n",
    "            data[:, 14+i, j] = inp_data.loc[:, col].map(lambda x: x[i] if len(x) > i else np.nan)\n",
    "\n",
    "\n",
    "        \n",
    "    \n",
    "    \n"
   ]
  },
  {
   "cell_type": "code",
   "execution_count": 10,
   "metadata": {},
   "outputs": [
    {
     "ename": "AttributeError",
     "evalue": "'DataFrame' object has no attribute 'key'",
     "output_type": "error",
     "traceback": [
      "\u001b[0;31m---------------------------------------------------------------------------\u001b[0m",
      "\u001b[0;31mAttributeError\u001b[0m                            Traceback (most recent call last)",
      "\u001b[0;32m/tmp/ipykernel_2597290/3486319059.py\u001b[0m in \u001b[0;36m<module>\u001b[0;34m\u001b[0m\n\u001b[1;32m      1\u001b[0m \u001b[0mdf\u001b[0m \u001b[0;34m=\u001b[0m \u001b[0mget_data_new\u001b[0m\u001b[0;34m(\u001b[0m\u001b[0;34m\"ttH125\"\u001b[0m\u001b[0;34m)\u001b[0m\u001b[0;34m\u001b[0m\u001b[0;34m\u001b[0m\u001b[0m\n\u001b[0;32m----> 2\u001b[0;31m \u001b[0mdf\u001b[0m\u001b[0;34m.\u001b[0m\u001b[0mkey\u001b[0m\u001b[0;34m\u001b[0m\u001b[0;34m\u001b[0m\u001b[0m\n\u001b[0m",
      "\u001b[0;32m/software/ac18804/miniconda3/envs/gpu_env/lib/python3.7/site-packages/pandas/core/generic.py\u001b[0m in \u001b[0;36m__getattr__\u001b[0;34m(self, name)\u001b[0m\n\u001b[1;32m   5485\u001b[0m         ):\n\u001b[1;32m   5486\u001b[0m             \u001b[0;32mreturn\u001b[0m \u001b[0mself\u001b[0m\u001b[0;34m[\u001b[0m\u001b[0mname\u001b[0m\u001b[0;34m]\u001b[0m\u001b[0;34m\u001b[0m\u001b[0;34m\u001b[0m\u001b[0m\n\u001b[0;32m-> 5487\u001b[0;31m         \u001b[0;32mreturn\u001b[0m \u001b[0mobject\u001b[0m\u001b[0;34m.\u001b[0m\u001b[0m__getattribute__\u001b[0m\u001b[0;34m(\u001b[0m\u001b[0mself\u001b[0m\u001b[0;34m,\u001b[0m \u001b[0mname\u001b[0m\u001b[0;34m)\u001b[0m\u001b[0;34m\u001b[0m\u001b[0;34m\u001b[0m\u001b[0m\n\u001b[0m\u001b[1;32m   5488\u001b[0m \u001b[0;34m\u001b[0m\u001b[0m\n\u001b[1;32m   5489\u001b[0m     \u001b[0;32mdef\u001b[0m \u001b[0m__setattr__\u001b[0m\u001b[0;34m(\u001b[0m\u001b[0mself\u001b[0m\u001b[0;34m,\u001b[0m \u001b[0mname\u001b[0m\u001b[0;34m:\u001b[0m \u001b[0mstr\u001b[0m\u001b[0;34m,\u001b[0m \u001b[0mvalue\u001b[0m\u001b[0;34m)\u001b[0m \u001b[0;34m->\u001b[0m \u001b[0;32mNone\u001b[0m\u001b[0;34m:\u001b[0m\u001b[0;34m\u001b[0m\u001b[0;34m\u001b[0m\u001b[0m\n",
      "\u001b[0;31mAttributeError\u001b[0m: 'DataFrame' object has no attribute 'key'"
     ]
    }
   ],
   "source": [
    "df = get_data_new(\"ttH125\")"
   ]
  },
  {
   "cell_type": "code",
   "execution_count": 9,
   "metadata": {},
   "outputs": [
    {
     "data": {
      "text/plain": [
       "0         [0.4987793, 0.50878906, 0.5185547, 0.5185547, ...\n",
       "1         [0.4987793, 0.47875977, 0.48876953, 0.5288086,...\n",
       "2         [0.47875977, 0.47875977, 0.48876953, 0.5087890...\n",
       "3         [0.50878906, 0.50878906, 0.50878906, 0.5185547...\n",
       "4         [0.50878906, 0.46875, 0.5185547, 0.48876953, 0...\n",
       "                                ...                        \n",
       "881091                    [0.48876953, 0.50878906, 0.46875]\n",
       "881092                              [0.50878906, 0.5385742]\n",
       "881093    [0.5185547, 0.47875977, 0.48876953, 0.46875, 0...\n",
       "881094    [0.5185547, 0.4387207, 0.54833984, 0.4987793, ...\n",
       "881095    [0.5185547, 0.5288086, 0.47875977, 0.50878906,...\n",
       "Name: cleanedJet_area, Length: 881096, dtype: object"
      ]
     },
     "execution_count": 9,
     "metadata": {},
     "output_type": "execute_result"
    }
   ],
   "source": [
    "data.loc[:, 'cleanedJet_area']"
   ]
  },
  {
   "cell_type": "code",
   "execution_count": 10,
   "metadata": {},
   "outputs": [
    {
     "data": {
      "text/plain": [
       "7"
      ]
     },
     "execution_count": 10,
     "metadata": {},
     "output_type": "execute_result"
    }
   ],
   "source": [
    "data[\"ncleanedBJet\"].max()"
   ]
  },
  {
   "cell_type": "code",
   "execution_count": 22,
   "metadata": {},
   "outputs": [
    {
     "data": {
      "text/plain": [
       "Index(['dataset', 'entry', 'BiasedDPhi', 'DiJet_mass', 'HT',\n",
       "       'InputMet_InputJet_mindPhi', 'InputMet_phi', 'InputMet_pt', 'MHT_phi',\n",
       "       'MHT_pt', 'MinChi', 'MinOmegaHat', 'MinOmegaTilde',\n",
       "       'boostedObject_area', 'boostedObject_eta', 'boostedObject_mass',\n",
       "       'boostedObject_phi', 'boostedObject_pt', 'boostedTop_area',\n",
       "       'boostedTop_eta', 'boostedTop_mass', 'boostedTop_phi', 'boostedTop_pt',\n",
       "       'boostedTop_tag', 'boostedV_area', 'boostedV_eta', 'boostedV_mass',\n",
       "       'boostedV_phi', 'boostedV_pt', 'boostedV_tag', 'cleanedBJet_eta',\n",
       "       'cleanedBJet_phi', 'cleanedBJet_pt', 'cleanedJet_area',\n",
       "       'cleanedJet_btagDeepB', 'cleanedJet_chHEF', 'cleanedJet_eta',\n",
       "       'cleanedJet_mass', 'cleanedJet_neHEF', 'cleanedJet_phi',\n",
       "       'cleanedJet_pt', 'hashed_filename', 'ncleanedBJet', 'ncleanedJet',\n",
       "       'weight_nominal', 'xs_weight'],\n",
       "      dtype='object')"
      ]
     },
     "execution_count": 22,
     "metadata": {},
     "output_type": "execute_result"
    }
   ],
   "source": [
    "df.columns"
   ]
  },
  {
   "cell_type": "code",
   "execution_count": null,
   "metadata": {},
   "outputs": [],
   "source": [
    "df"
   ]
  },
  {
   "cell_type": "code",
   "execution_count": 2,
   "metadata": {},
   "outputs": [],
   "source": [
    "datasets = [\"ttH125\", \"TTToHadronic\", \"TTToSemiLeptonic\", \"TTTo2L2Nu\"]\n",
    "data = pd.concat([get_data_new(dataset) for dataset in datasets], ignore_index=True)"
   ]
  },
  {
   "cell_type": "code",
   "execution_count": 3,
   "metadata": {},
   "outputs": [],
   "source": [
    "data[\"nboosted\"] = data[\"boostedObject_pt\"].map(lambda x: len(x))"
   ]
  },
  {
   "cell_type": "code",
   "execution_count": 8,
   "metadata": {},
   "outputs": [
    {
     "data": {
      "text/plain": [
       "Index(['dataset', 'boostedObject_area', 'boostedObject_eta',\n",
       "       'boostedObject_mass', 'boostedObject_phi', 'boostedObject_pt',\n",
       "       'boostedTop_area', 'boostedTop_eta', 'boostedTop_mass',\n",
       "       'boostedTop_phi', 'boostedTop_pt', 'boostedTop_tag', 'boostedV_area',\n",
       "       'boostedV_eta', 'boostedV_mass', 'boostedV_phi', 'boostedV_pt',\n",
       "       'boostedV_tag', 'cleanedBJet_eta', 'cleanedBJet_phi', 'cleanedBJet_pt',\n",
       "       'cleanedJet_area', 'cleanedJet_btagDeepB', 'cleanedJet_chHEF',\n",
       "       'cleanedJet_eta', 'cleanedJet_mass', 'cleanedJet_neHEF',\n",
       "       'cleanedJet_phi', 'cleanedJet_pt'],\n",
       "      dtype='object')"
      ]
     },
     "execution_count": 8,
     "metadata": {},
     "output_type": "execute_result"
    }
   ],
   "source": [
    "data.select_dtypes(object).columns"
   ]
  },
  {
   "cell_type": "code",
   "execution_count": 6,
   "metadata": {},
   "outputs": [
    {
     "data": {
      "text/plain": [
       "<AxesSubplot:xlabel='nboosted', ylabel='Density'>"
      ]
     },
     "execution_count": 6,
     "metadata": {},
     "output_type": "execute_result"
    },
    {
     "data": {
      "image/png": "[encoded data removed]",
      "text/plain": [
       "<Figure size 432x288 with 1 Axes>"
      ]
     },
     "metadata": {
      "needs_background": "light"
     },
     "output_type": "display_data"
    }
   ],
   "source": [
    "import seaborn as sns\n",
    "\n",
    "sns.histplot(data, x=\"nboosted\", hue=\"dataset\", stat=\"density\", common_norm=False, element='step', fill=False, bins=range(4))"
   ]
  },
  {
   "cell_type": "code",
   "execution_count": 47,
   "metadata": {},
   "outputs": [
    {
     "data": {
      "text/plain": [
       "6          True\n",
       "8          True\n",
       "9          True\n",
       "14         True\n",
       "17        False\n",
       "          ...  \n",
       "881054     True\n",
       "881062     True\n",
       "881063    False\n",
       "881068    False\n",
       "881075     True\n",
       "Length: 282386, dtype: bool"
      ]
     },
     "execution_count": 47,
     "metadata": {},
     "output_type": "execute_result"
    }
   ],
   "source": [
    "# boosted_events = data['boostedObject_pt'].map(lambda x: len(x) > 0)\n",
    "data[boosted_events]['boostedObject_pt'].map(lambda x: x[0]) >= data[boosted_events][\"cleanedJet_pt\"].map(lambda x: max(x))"
   ]
  },
  {
   "cell_type": "code",
   "execution_count": 42,
   "metadata": {},
   "outputs": [
    {
     "data": {
      "text/plain": [
       "177858"
      ]
     },
     "execution_count": 42,
     "metadata": {},
     "output_type": "execute_result"
    }
   ],
   "source": [
    "len(data[(data[\"dataset\"] == \"ttH125\") & (len(data['boostedV_tag']) > 0)])"
   ]
  },
  {
   "cell_type": "code",
   "execution_count": 8,
   "metadata": {},
   "outputs": [],
   "source": [
    "data.loc[data[\"dataset\"] == \"ttH125\", \"dataset\"] = \"invisible higgs\"\n",
    "data.loc[data[\"dataset\"] == \"TTToHadronic\", \"dataset\"] = r\"$t\\bart$ fully hadronic\"\n",
    "data.loc[data[\"dataset\"] == \"TTToSemiLeptonic\", \"dataset\"] = r\"$t\\bart$ semi leptonic\"\n",
    "data.loc[data[\"dataset\"] == \"TTTo2L2Nu\", \"dataset\"] = r\"$t\\bart$ di leptonic\"\n"
   ]
  },
  {
   "cell_type": "code",
   "execution_count": 9,
   "metadata": {},
   "outputs": [
    {
     "data": {
      "text/plain": [
       "{'$t\\\\bart$ di leptonic',\n",
       " '$t\\\\bart$ fully hadronic',\n",
       " '$t\\\\bart$ semi leptonic',\n",
       " 'invisible higgs'}"
      ]
     },
     "execution_count": 9,
     "metadata": {},
     "output_type": "execute_result"
    }
   ],
   "source": [
    "set(data[\"dataset\"])"
   ]
  },
  {
   "cell_type": "code",
   "execution_count": 12,
   "metadata": {},
   "outputs": [
    {
     "name": "stderr",
     "output_type": "stream",
     "text": [
      "/software/ac18804/miniconda3/envs/gpu_env/lib/python3.7/site-packages/seaborn/distributions.py:385: UserWarning: `bins` cannot be 'auto' when using weights. Setting `bins=10`, but you will likely want to adjust.\n",
      "  warnings.warn(msg, UserWarning)\n"
     ]
    },
    {
     "data": {
      "image/png": "[encoded data removed]",
      "text/plain": [
       "<Figure size 432x288 with 1 Axes>"
      ]
     },
     "metadata": {
      "needs_background": "light"
     },
     "output_type": "display_data"
    }
   ],
   "source": [
    "import seaborn as sns\n",
    "import matplotlib.pyplot as plt\n",
    "\n",
    "data[\"xs_weight\"] *= 140e3\n",
    "fig, ax = plt.subplots()\n",
    "sns.histplot(data=data, x=\"InputMet_pt\", hue=\"dataset\", weights=\"xs_weight\", stat=\"count\", element=\"step\", log_scale=(False, True), fill=False, ax=ax)\n",
    "ax.set_ylabel(r\"Expected events (L=$140fb^{-1}$)\")\n",
    "ax.set_xlabel(r\"$p_{T}^{miss}$ (GeV)\")\n",
    "plt.savefig(\"../../pt_miss_140fb.png\", dpi=200)\n",
    "plt.show()"
   ]
  },
  {
   "cell_type": "code",
   "execution_count": 2,
   "metadata": {},
   "outputs": [
    {
     "data": {
      "text/html": [
       "<div>\n",
       "<style scoped>\n",
       "    .dataframe tbody tr th:only-of-type {\n",
       "        vertical-align: middle;\n",
       "    }\n",
       "\n",
       "    .dataframe tbody tr th {\n",
       "        vertical-align: top;\n",
       "    }\n",
       "\n",
       "    .dataframe thead th {\n",
       "        text-align: right;\n",
       "    }\n",
       "</style>\n",
       "<table border=\"1\" class=\"dataframe\">\n",
       "  <thead>\n",
       "    <tr style=\"text-align: right;\">\n",
       "      <th></th>\n",
       "      <th>entry</th>\n",
       "      <th>BiasedDPhi</th>\n",
       "      <th>DiJet_mass</th>\n",
       "      <th>HT</th>\n",
       "      <th>InputMet_InputJet_mindPhi</th>\n",
       "      <th>InputMet_phi</th>\n",
       "      <th>InputMet_pt</th>\n",
       "      <th>MHT_phi</th>\n",
       "      <th>MHT_pt</th>\n",
       "      <th>MinChi</th>\n",
       "      <th>MinOmegaHat</th>\n",
       "      <th>MinOmegaTilde</th>\n",
       "      <th>hashed_filename</th>\n",
       "      <th>ncleanedBJet</th>\n",
       "      <th>ncleanedJet</th>\n",
       "      <th>weight_nominal</th>\n",
       "      <th>xs_weight</th>\n",
       "    </tr>\n",
       "  </thead>\n",
       "  <tbody>\n",
       "    <tr>\n",
       "      <th>count</th>\n",
       "      <td>881096.000000</td>\n",
       "      <td>881096.000000</td>\n",
       "      <td>881096.000000</td>\n",
       "      <td>881096.000000</td>\n",
       "      <td>881096.000000</td>\n",
       "      <td>881096.000000</td>\n",
       "      <td>881096.000000</td>\n",
       "      <td>881096.000000</td>\n",
       "      <td>881096.000000</td>\n",
       "      <td>881096.000000</td>\n",
       "      <td>881096.000000</td>\n",
       "      <td>881096.000000</td>\n",
       "      <td>8.810960e+05</td>\n",
       "      <td>881096.000000</td>\n",
       "      <td>881096.000000</td>\n",
       "      <td>8.810960e+05</td>\n",
       "      <td>8.810960e+05</td>\n",
       "    </tr>\n",
       "    <tr>\n",
       "      <th>mean</th>\n",
       "      <td>118170.220773</td>\n",
       "      <td>2.082170</td>\n",
       "      <td>338.269213</td>\n",
       "      <td>607.474854</td>\n",
       "      <td>1.058414</td>\n",
       "      <td>0.080815</td>\n",
       "      <td>279.387329</td>\n",
       "      <td>0.061919</td>\n",
       "      <td>276.380859</td>\n",
       "      <td>0.906002</td>\n",
       "      <td>0.734593</td>\n",
       "      <td>0.426275</td>\n",
       "      <td>4.977714e+17</td>\n",
       "      <td>0.822242</td>\n",
       "      <td>4.853666</td>\n",
       "      <td>7.399070e-07</td>\n",
       "      <td>8.492590e-07</td>\n",
       "    </tr>\n",
       "    <tr>\n",
       "      <th>std</th>\n",
       "      <td>119837.453748</td>\n",
       "      <td>0.937513</td>\n",
       "      <td>339.781058</td>\n",
       "      <td>346.103760</td>\n",
       "      <td>0.868642</td>\n",
       "      <td>1.873260</td>\n",
       "      <td>79.347450</td>\n",
       "      <td>1.862924</td>\n",
       "      <td>79.468498</td>\n",
       "      <td>0.520865</td>\n",
       "      <td>0.323269</td>\n",
       "      <td>0.288845</td>\n",
       "      <td>5.327494e+18</td>\n",
       "      <td>0.826170</td>\n",
       "      <td>1.777551</td>\n",
       "      <td>4.938268e-07</td>\n",
       "      <td>4.425852e-07</td>\n",
       "    </tr>\n",
       "    <tr>\n",
       "      <th>min</th>\n",
       "      <td>0.000000</td>\n",
       "      <td>0.000008</td>\n",
       "      <td>27.644081</td>\n",
       "      <td>200.061829</td>\n",
       "      <td>0.000001</td>\n",
       "      <td>-3.140625</td>\n",
       "      <td>200.125000</td>\n",
       "      <td>-3.141585</td>\n",
       "      <td>200.000061</td>\n",
       "      <td>0.000000</td>\n",
       "      <td>0.000002</td>\n",
       "      <td>0.000000</td>\n",
       "      <td>-9.198122e+18</td>\n",
       "      <td>0.000000</td>\n",
       "      <td>2.000000</td>\n",
       "      <td>-2.009935e-06</td>\n",
       "      <td>-1.254117e-06</td>\n",
       "    </tr>\n",
       "    <tr>\n",
       "      <th>25%</th>\n",
       "      <td>38896.000000</td>\n",
       "      <td>1.553329</td>\n",
       "      <td>105.707034</td>\n",
       "      <td>369.394882</td>\n",
       "      <td>0.315186</td>\n",
       "      <td>-1.609375</td>\n",
       "      <td>227.750000</td>\n",
       "      <td>-1.608368</td>\n",
       "      <td>225.276047</td>\n",
       "      <td>0.426934</td>\n",
       "      <td>0.518977</td>\n",
       "      <td>0.173261</td>\n",
       "      <td>-4.369250e+18</td>\n",
       "      <td>0.000000</td>\n",
       "      <td>4.000000</td>\n",
       "      <td>1.110459e-07</td>\n",
       "      <td>1.058815e-06</td>\n",
       "    </tr>\n",
       "    <tr>\n",
       "      <th>50%</th>\n",
       "      <td>89957.000000</td>\n",
       "      <td>2.415030</td>\n",
       "      <td>200.386603</td>\n",
       "      <td>523.381226</td>\n",
       "      <td>0.799316</td>\n",
       "      <td>0.188721</td>\n",
       "      <td>256.500000</td>\n",
       "      <td>0.146790</td>\n",
       "      <td>252.258148</td>\n",
       "      <td>0.988325</td>\n",
       "      <td>0.829198</td>\n",
       "      <td>0.392568</td>\n",
       "      <td>1.366645e+18</td>\n",
       "      <td>1.000000</td>\n",
       "      <td>5.000000</td>\n",
       "      <td>8.846560e-07</td>\n",
       "      <td>1.058815e-06</td>\n",
       "    </tr>\n",
       "    <tr>\n",
       "      <th>75%</th>\n",
       "      <td>153912.250000</td>\n",
       "      <td>2.820553</td>\n",
       "      <td>461.542391</td>\n",
       "      <td>741.477646</td>\n",
       "      <td>1.692383</td>\n",
       "      <td>1.747070</td>\n",
       "      <td>304.250000</td>\n",
       "      <td>1.711677</td>\n",
       "      <td>299.830872</td>\n",
       "      <td>1.371972</td>\n",
       "      <td>0.987382</td>\n",
       "      <td>0.651022</td>\n",
       "      <td>5.159637e+18</td>\n",
       "      <td>1.000000</td>\n",
       "      <td>6.000000</td>\n",
       "      <td>1.141335e-06</td>\n",
       "      <td>1.058815e-06</td>\n",
       "    </tr>\n",
       "    <tr>\n",
       "      <th>max</th>\n",
       "      <td>718810.000000</td>\n",
       "      <td>3.141593</td>\n",
       "      <td>5541.055669</td>\n",
       "      <td>6236.224121</td>\n",
       "      <td>3.138672</td>\n",
       "      <td>3.140625</td>\n",
       "      <td>2298.000000</td>\n",
       "      <td>3.141591</td>\n",
       "      <td>2359.243408</td>\n",
       "      <td>1.570796</td>\n",
       "      <td>1.374490</td>\n",
       "      <td>1.345604</td>\n",
       "      <td>9.211051e+18</td>\n",
       "      <td>7.000000</td>\n",
       "      <td>16.000000</td>\n",
       "      <td>7.875088e-06</td>\n",
       "      <td>1.254117e-06</td>\n",
       "    </tr>\n",
       "  </tbody>\n",
       "</table>\n",
       "</div>"
      ],
      "text/plain": [
       "               entry     BiasedDPhi     DiJet_mass             HT  \\\n",
       "count  881096.000000  881096.000000  881096.000000  881096.000000   \n",
       "mean   118170.220773       2.082170     338.269213     607.474854   \n",
       "std    119837.453748       0.937513     339.781058     346.103760   \n",
       "min         0.000000       0.000008      27.644081     200.061829   \n",
       "25%     38896.000000       1.553329     105.707034     369.394882   \n",
       "50%     89957.000000       2.415030     200.386603     523.381226   \n",
       "75%    153912.250000       2.820553     461.542391     741.477646   \n",
       "max    718810.000000       3.141593    5541.055669    6236.224121   \n",
       "\n",
       "       InputMet_InputJet_mindPhi   InputMet_phi    InputMet_pt        MHT_phi  \\\n",
       "count              881096.000000  881096.000000  881096.000000  881096.000000   \n",
       "mean                    1.058414       0.080815     279.387329       0.061919   \n",
       "std                     0.868642       1.873260      79.347450       1.862924   \n",
       "min                     0.000001      -3.140625     200.125000      -3.141585   \n",
       "25%                     0.315186      -1.609375     227.750000      -1.608368   \n",
       "50%                     0.799316       0.188721     256.500000       0.146790   \n",
       "75%                     1.692383       1.747070     304.250000       1.711677   \n",
       "max                     3.138672       3.140625    2298.000000       3.141591   \n",
       "\n",
       "              MHT_pt         MinChi    MinOmegaHat  MinOmegaTilde  \\\n",
       "count  881096.000000  881096.000000  881096.000000  881096.000000   \n",
       "mean      276.380859       0.906002       0.734593       0.426275   \n",
       "std        79.468498       0.520865       0.323269       0.288845   \n",
       "min       200.000061       0.000000       0.000002       0.000000   \n",
       "25%       225.276047       0.426934       0.518977       0.173261   \n",
       "50%       252.258148       0.988325       0.829198       0.392568   \n",
       "75%       299.830872       1.371972       0.987382       0.651022   \n",
       "max      2359.243408       1.570796       1.374490       1.345604   \n",
       "\n",
       "       hashed_filename   ncleanedBJet    ncleanedJet  weight_nominal  \\\n",
       "count     8.810960e+05  881096.000000  881096.000000    8.810960e+05   \n",
       "mean      4.977714e+17       0.822242       4.853666    7.399070e-07   \n",
       "std       5.327494e+18       0.826170       1.777551    4.938268e-07   \n",
       "min      -9.198122e+18       0.000000       2.000000   -2.009935e-06   \n",
       "25%      -4.369250e+18       0.000000       4.000000    1.110459e-07   \n",
       "50%       1.366645e+18       1.000000       5.000000    8.846560e-07   \n",
       "75%       5.159637e+18       1.000000       6.000000    1.141335e-06   \n",
       "max       9.211051e+18       7.000000      16.000000    7.875088e-06   \n",
       "\n",
       "          xs_weight  \n",
       "count  8.810960e+05  \n",
       "mean   8.492590e-07  \n",
       "std    4.425852e-07  \n",
       "min   -1.254117e-06  \n",
       "25%    1.058815e-06  \n",
       "50%    1.058815e-06  \n",
       "75%    1.058815e-06  \n",
       "max    1.254117e-06  "
      ]
     },
     "execution_count": 2,
     "metadata": {},
     "output_type": "execute_result"
    }
   ],
   "source": [
    "import pandas as pd\n",
    "import os\n",
    "\n",
    "path = \"/scratch/ys20884/ml_vars/\"\n",
    "datasets = [\"ttH125\", \"TTToHadronic\", \"TTToSemiLeptonic\", \"TTTo2L2Nu\"]\n",
    "data = pd.concat([pd.read_hdf(path+dataset+\"/df_ml_inputs.hd5\") for dataset in datasets])\n",
    "data.describe()"
   ]
  },
  {
   "cell_type": "code",
   "execution_count": 3,
   "metadata": {},
   "outputs": [
    {
     "data": {
      "text/plain": [
       "TTToSemiLeptonic    651387\n",
       "ttH125              177858\n",
       "TTTo2L2Nu            39666\n",
       "TTToHadronic         12185\n",
       "Name: dataset, dtype: int64"
      ]
     },
     "execution_count": 3,
     "metadata": {},
     "output_type": "execute_result"
    }
   ],
   "source": [
    "data[\"dataset\"].value_counts()"
   ]
  },
  {
   "cell_type": "code",
   "execution_count": 4,
   "metadata": {},
   "outputs": [
    {
     "data": {
      "text/plain": [
       "TTToSemiLeptonic    296226\n",
       "ttH125               99305\n",
       "TTTo2L2Nu            13236\n",
       "TTToHadronic           205\n",
       "Name: dataset, dtype: int64"
      ]
     },
     "execution_count": 4,
     "metadata": {},
     "output_type": "execute_result"
    }
   ],
   "source": [
    "path = \"/storage/bk17414/ForStudents/2021_CMS_ML/ml_postproc/\"\n",
    "old_data = pd.concat([pd.read_hdf(path+dataset+\"/df_ml_inputs.hd5\") for dataset in datasets])\n",
    "old_data[\"dataset\"].value_counts()"
   ]
  },
  {
   "cell_type": "code",
   "execution_count": 3,
   "metadata": {},
   "outputs": [
    {
     "name": "stderr",
     "output_type": "stream",
     "text": [
      "/software/ac18804/miniconda3/envs/gpu_env/lib/python3.7/site-packages/ipykernel_launcher.py:32: FutureWarning: The default value of regex will change from True to False in a future version.\n"
     ]
    },
    {
     "name": "stdout",
     "output_type": "stream",
     "text": [
      "scaled event\n",
      "scaled object\n"
     ]
    },
    {
     "name": "stderr",
     "output_type": "stream",
     "text": [
      "/software/ac18804/miniconda3/envs/gpu_env/lib/python3.7/site-packages/ipykernel_launcher.py:61: VisibleDeprecationWarning: Creating an ndarray from ragged nested sequences (which is a list-or-tuple of lists-or-tuples-or ndarrays with different lengths or shapes) is deprecated. If you meant to do this, you must specify 'dtype=object' when creating the ndarray\n"
     ]
    }
   ],
   "source": [
    "combined_data = preprocess()"
   ]
  },
  {
   "cell_type": "code",
   "execution_count": 4,
   "metadata": {},
   "outputs": [
    {
     "name": "stderr",
     "output_type": "stream",
     "text": [
      "/software/ac18804/miniconda3/envs/gpu_env/lib/python3.7/site-packages/numpy/core/_asarray.py:136: VisibleDeprecationWarning: Creating an ndarray from ragged nested sequences (which is a list-or-tuple of lists-or-tuples-or ndarrays with different lengths or shapes) is deprecated. If you meant to do this, you must specify 'dtype=object' when creating the ndarray\n",
      "  return array(a, dtype, copy=False, order=order, subok=True)\n"
     ]
    }
   ],
   "source": [
    "np.save(\"./data/combined_data.npy\", combined_data[0])\n",
    "np.save(\"./data/combined_xs_weights.npy\", combined_data[1])"
   ]
  },
  {
   "cell_type": "code",
   "execution_count": 2,
   "metadata": {},
   "outputs": [
    {
     "name": "stderr",
     "output_type": "stream",
     "text": [
      "/software/ac18804/miniconda3/envs/gpu_env/lib/python3.7/site-packages/ipykernel_launcher.py:10: FutureWarning: The default value of regex will change from True to False in a future version.\n",
      "  # Remove the CWD from sys.path while we load stuff.\n"
     ]
    }
   ],
   "source": [
    "import pandas as pd\n",
    "import os\n",
    "\n",
    "datasets = os.listdir('/storage/bk17414/ForStudents/2021_CMS_ML/ml_postproc/')\n",
    "# Combine datasets\n",
    "data = pd.concat([get_data(dataset) for dataset in datasets if dataset != \"test\"], ignore_index=True)\n",
    "# Combine QCD, W/Z jet backgrounds into single labels (i.e. ignore HT cut in label)\n",
    "new_cols = [\"QCD\", \"WJets\", \"ZJets\"]\n",
    "for col in new_cols:\n",
    "    data['dataset'] = data.dataset.str.replace(r'(^.*' + col + r'.*$)', col)"
   ]
  },
  {
   "cell_type": "code",
   "execution_count": 4,
   "metadata": {},
   "outputs": [
    {
     "data": {
      "text/plain": [
       "Index(['dataset', 'entry', 'BiasedDPhi', 'DiJet_mass', 'HT',\n",
       "       'InputMet_InputJet_mindPhi', 'InputMet_phi', 'InputMet_pt', 'MHT_phi',\n",
       "       'MHT_pt', 'MinChi', 'MinOmegaHat', 'MinOmegaTilde', 'cleanedJet_area',\n",
       "       'cleanedJet_btagDeepB', 'cleanedJet_chHEF', 'cleanedJet_eta',\n",
       "       'cleanedJet_mass', 'cleanedJet_neHEF', 'cleanedJet_phi',\n",
       "       'cleanedJet_pt', 'hashed_filename', 'ncleanedBJet', 'ncleanedJet',\n",
       "       'weight_nominal', 'xs_weight'],\n",
       "      dtype='object')"
      ]
     },
     "execution_count": 4,
     "metadata": {},
     "output_type": "execute_result"
    }
   ],
   "source": [
    "data.columns"
   ]
  },
  {
   "cell_type": "code",
   "execution_count": 15,
   "metadata": {},
   "outputs": [
    {
     "data": {
      "text/plain": [
       "<AxesSubplot:xlabel='MinOmegaTilde', ylabel='Density'>"
      ]
     },
     "execution_count": 15,
     "metadata": {},
     "output_type": "execute_result"
    },
    {
     "data": {
      "image/png": "[encoded data removed]",
      "text/plain": [
       "<Figure size 432x288 with 1 Axes>"
      ]
     },
     "metadata": {
      "needs_background": "light"
     },
     "output_type": "display_data"
    }
   ],
   "source": [
    "import seaborn as sns\n",
    "\n",
    "sns.histplot(data=data.loc[(data[\"dataset\"] ==  \"WplusH125\") | (data[\"dataset\"] == \"WminusH125\")], x=\"MinOmegaTilde\", hue=\"dataset\", stat=\"density\", log_scale=(False,False), common_norm=False, bins=10, fill=False)"
   ]
  },
  {
   "cell_type": "code",
   "execution_count": 32,
   "metadata": {},
   "outputs": [
    {
     "data": {
      "text/plain": [
       "['.ipynb_checkpoints',\n",
       " 'data_preprocessing-jvsc-42272eda-b10c-4f4b-9cb5-071b65596c5e.ipynb',\n",
       " 'RNN_tuned_model',\n",
       " 'combined_model_tuning.py',\n",
       " 'basicNN_SemiLepton.ipynb',\n",
       " 'RNN_model',\n",
       " 'combined_analysis.ipynb',\n",
       " 'RNN_analysis.ipynb',\n",
       " 'untitled_project',\n",
       " 'kt_RNN_MLP_1_classes',\n",
       " 'first_RNN_stuff',\n",
       " 'models',\n",
       " 'CNN_play.ipynb',\n",
       " 'RNN_tuning.ipynb',\n",
       " 'plots',\n",
       " 'train_combined_nn.py',\n",
       " 'train_SimpleRNN.py',\n",
       " 'kt_RNN_MLP_4_classes',\n",
       " 'RNN_tuning.py',\n",
       " 'RNN_02',\n",
       " 'data_preprocessing.ipynb',\n",
       " 'RNN.ipynb',\n",
       " 'kt_RNN_MLP',\n",
       " 'data',\n",
       " 'tuning.sh']"
      ]
     },
     "execution_count": 32,
     "metadata": {},
     "output_type": "execute_result"
    }
   ],
   "source": [
    "os.listdir()"
   ]
  },
  {
   "cell_type": "code",
   "execution_count": 17,
   "metadata": {},
   "outputs": [
    {
     "ename": "TypeError",
     "evalue": "sub() missing 1 required positional argument: 'string'",
     "output_type": "error",
     "traceback": [
      "\u001b[0;31m---------------------------------------------------------------------------\u001b[0m",
      "\u001b[0;31mTypeError\u001b[0m                                 Traceback (most recent call last)",
      "\u001b[0;32m/tmp/ipykernel_2274701/2270489163.py\u001b[0m in \u001b[0;36m<module>\u001b[0;34m\u001b[0m\n\u001b[1;32m      4\u001b[0m \u001b[0ms_\u001b[0m \u001b[0;34m=\u001b[0m \u001b[0;34m\"QCD_HT1000to1500\"\u001b[0m\u001b[0;34m\u001b[0m\u001b[0;34m\u001b[0m\u001b[0m\n\u001b[1;32m      5\u001b[0m \u001b[0;34m\u001b[0m\u001b[0m\n\u001b[0;32m----> 6\u001b[0;31m \u001b[0mre\u001b[0m\u001b[0;34m.\u001b[0m\u001b[0msub\u001b[0m\u001b[0;34m(\u001b[0m\u001b[0ms\u001b[0m\u001b[0;34m,\u001b[0m \u001b[0ms_\u001b[0m\u001b[0;34m)\u001b[0m\u001b[0;34m\u001b[0m\u001b[0;34m\u001b[0m\u001b[0m\n\u001b[0m",
      "\u001b[0;31mTypeError\u001b[0m: sub() missing 1 required positional argument: 'string'"
     ]
    }
   ],
   "source": [
    "import re\n",
    "\n",
    "s = \"QCD\"\n",
    "s_ = \"QCD_HT1000to1500\"\n",
    "\n",
    "re.sub()"
   ]
  },
  {
   "cell_type": "code",
   "execution_count": 2,
   "metadata": {},
   "outputs": [
    {
     "name": "stderr",
     "output_type": "stream",
     "text": [
      "/software/ac18804/miniconda3/envs/gpu_env/lib/python3.7/site-packages/ipykernel_launcher.py:51: VisibleDeprecationWarning: Creating an ndarray from ragged nested sequences (which is a list-or-tuple of lists-or-tuples-or ndarrays with different lengths or shapes) is deprecated. If you meant to do this, you must specify 'dtype=object' when creating the ndarray\n",
      "/software/ac18804/miniconda3/envs/gpu_env/lib/python3.7/site-packages/numpy/core/_asarray.py:136: VisibleDeprecationWarning: Creating an ndarray from ragged nested sequences (which is a list-or-tuple of lists-or-tuples-or ndarrays with different lengths or shapes) is deprecated. If you meant to do this, you must specify 'dtype=object' when creating the ndarray\n",
      "  return array(a, dtype, copy=False, order=order, subok=True)\n"
     ]
    }
   ],
   "source": [
    "full_data = preprocess()\n",
    "\n",
    "# y_train, y_test = full_data[0][-2], full_data[0][-1]\n",
    "# print(f\"\"\"Training ratios:  {len(y_train[y_train['ttH125']==1])/len(y_train)}, {len(y_train[y_train['TTToHadronic']==1])/len(y_train)}, \n",
    "# {len(y_train[y_train['TTToSemiLeptonic']==1])/len(y_train)}, {len(y_train[y_train['TTTo2L2Nu']==1])/len(y_train)}\"\"\")\n",
    "# print(f\"\"\"Test ratios:  {len(y_test[y_test['ttH125']==1])/len(y_test)}, {len(y_test[y_test['TTToHadronic']==1])/len(y_test)}, \n",
    "# {len(y_test[y_test['TTToSemiLeptonic']==1])/len(y_test)}, {len(y_test[y_test['TTTo2L2Nu']==1])/len(y_test)}\"\"\")\n",
    "np.save(\"./data/full_data.npy\", full_data[0])\n",
    "np.save(\"./data/weights.npy\", full_data[1])"
   ]
  },
  {
   "cell_type": "code",
   "execution_count": 2,
   "metadata": {},
   "outputs": [],
   "source": [
    "new_sl = pd.read_hdf(\"/scratch/ys20884/ml_vars/ttBar/df_ml_inputs.hd5\")\n",
    "new_ttH = pd.read_hdf(\"/scratch/ys20884/ml_vars/ttH/df_ml_inputs.hd5\")"
   ]
  },
  {
   "cell_type": "code",
   "execution_count": 15,
   "metadata": {},
   "outputs": [
    {
     "data": {
      "image/png": "[encoded data removed]",
      "text/plain": [
       "<Figure size 432x288 with 1 Axes>"
      ]
     },
     "metadata": {
      "needs_background": "light"
     },
     "output_type": "display_data"
    }
   ],
   "source": [
    "import matplotlib.pyplot as plt\n",
    "\n",
    "plt.hist(new_sl['nFatJet'], label='sl', density=True, histtype='step', bins=range(6))\n",
    "plt.hist(new_ttH['nFatJet'], label='ttH', density=True, histtype='step', bins=range(6))\n",
    "plt.xlabel('nFatJet')\n",
    "plt.ylabel(\"frequency density\")\n",
    "plt.legend()\n",
    "plt.show()"
   ]
  },
  {
   "cell_type": "code",
   "execution_count": 14,
   "metadata": {},
   "outputs": [
    {
     "data": {
      "text/plain": [
       "count    395531.000000\n",
       "mean          0.953336\n",
       "std           0.689666\n",
       "min           0.000000\n",
       "25%           1.000000\n",
       "50%           1.000000\n",
       "75%           1.000000\n",
       "max           6.000000\n",
       "Name: nFatJet, dtype: float64"
      ]
     },
     "execution_count": 14,
     "metadata": {},
     "output_type": "execute_result"
    }
   ],
   "source": [
    "new_data = pd.concat([new_sl, new_ttH], axis=0)\n",
    "new_data['nFatJet'].describe()"
   ]
  },
  {
   "cell_type": "code",
   "execution_count": 9,
   "metadata": {},
   "outputs": [],
   "source": [
    "np.save(\"./full_data_feb15.npy\", full_data[0])\n",
    "# np.save(\"./weights.npy\", full_data[1])"
   ]
  },
  {
   "cell_type": "code",
   "execution_count": null,
   "metadata": {},
   "outputs": [],
   "source": []
  },
  {
   "cell_type": "code",
   "execution_count": 3,
   "metadata": {},
   "outputs": [],
   "source": [
    "datasets = ['ttH125', 'TTToSemiLeptonic', 'TTToHadronic', 'TTTo2L2Nu']\n",
    "data = pd.concat([get_data(dataset) for dataset in datasets], ignore_index=True)\n",
    "labels = pd.get_dummies(data['dataset'])\n",
    "data = data.join(labels)\n"
   ]
  },
  {
   "cell_type": "code",
   "execution_count": 6,
   "metadata": {},
   "outputs": [],
   "source": [
    "data = data.drop([\"hashed_filename\", \"entry\", \"weight_nominal\"], axis=1)"
   ]
  },
  {
   "cell_type": "code",
   "execution_count": 8,
   "metadata": {},
   "outputs": [
    {
     "name": "stderr",
     "output_type": "stream",
     "text": [
      "/software/ac18804/miniconda3/envs/gpu_env/lib/python3.7/site-packages/pandas/core/generic.py:2718: PerformanceWarning: \n",
      "your performance may suffer as PyTables will pickle object types that it cannot\n",
      "map directly to c-types [inferred_type->mixed,key->block0_values] [items->Index(['dataset', 'cleanedJet_area', 'cleanedJet_btagDeepB',\n",
      "       'cleanedJet_chHEF', 'cleanedJet_eta', 'cleanedJet_mass',\n",
      "       'cleanedJet_neHEF', 'cleanedJet_phi', 'cleanedJet_pt'],\n",
      "      dtype='object')]\n",
      "\n",
      "  encoding=encoding,\n"
     ]
    }
   ],
   "source": [
    "data.to_hdf(\"./data/full_data.hd5\", 'all')"
   ]
  },
  {
   "cell_type": "code",
   "execution_count": 3,
   "metadata": {},
   "outputs": [
    {
     "name": "stdout",
     "output_type": "stream",
     "text": [
      "ttH125: count = 99305\n",
      "TTToSemiLeptonic: count = 296226\n",
      "TTToHadronic: count = 205\n",
      "TTTo2L2Nu: count = 13236\n"
     ]
    }
   ],
   "source": [
    "for dataset in datasets:\n",
    "    print(f\"{dataset}: count = {data[dataset].sum()}\")"
   ]
  },
  {
   "cell_type": "code",
   "execution_count": 3,
   "metadata": {},
   "outputs": [
    {
     "data": {
      "text/plain": [
       "array([1, 2, 3, 1, 2, 3, 1, 2, 3, 1, 2, 3])"
      ]
     },
     "execution_count": 3,
     "metadata": {},
     "output_type": "execute_result"
    }
   ],
   "source": [
    "arr = np.array([1,2,3])\n",
    "np.tile(arr, 4)"
   ]
  },
  {
   "cell_type": "code",
   "execution_count": 5,
   "metadata": {},
   "outputs": [
    {
     "data": {
      "text/plain": [
       "<AxesSubplot:xlabel='BiasedDPhi', ylabel='Density'>"
      ]
     },
     "execution_count": 5,
     "metadata": {},
     "output_type": "execute_result"
    },
    {
     "data": {
      "image/png": "[encoded data removed]",
      "text/plain": [
       "<Figure size 432x288 with 1 Axes>"
      ]
     },
     "metadata": {
      "needs_background": "light"
     },
     "output_type": "display_data"
    }
   ],
   "source": [
    "import seaborn as sns\n",
    "\n",
    "data['BiasedDPhi'] = data[\"BiasedDPhi\"].map(lambda x: x+np.pi if x < 0 else x)\n",
    "sns.histplot(data, x=\"BiasedDPhi\", hue=\"dataset\", element=\"step\", stat=\"density\", common_norm=False, fill=False, bins=10)"
   ]
  },
  {
   "cell_type": "code",
   "execution_count": 29,
   "metadata": {},
   "outputs": [
    {
     "data": {
      "image/png": "[encoded data removed]",
      "text/plain": [
       "<Figure size 432x288 with 1 Axes>"
      ]
     },
     "metadata": {
      "needs_background": "light"
     },
     "output_type": "display_data"
    }
   ],
   "source": [
    "import matplotlib.pyplot as plt\n",
    "\n",
    "fig, ax = plt.subplots()\n",
    "sns.histplot(data, x=\"DiJet_mass\", hue=\"dataset\", element=\"step\", stat=\"density\", common_norm=False, fill=False, bins=10, log_scale=True, ax=ax)\n",
    "ax.set_ylabel(\"Frequency density (normed to 1)\")\n",
    "ax.set_xlabel(\"Dijet mass (GeV)\")\n",
    "plt.savefig(\"../../histograms/DiJet_mass_density.png\", dpi=200)\n",
    "plt.show()\n",
    "\n",
    "\n",
    "# sns.histplot(data, x=\"DiJet_mass\", hue=\"dataset\", element=\"step\", stat=\"count\", common_norm=False, fill=False)"
   ]
  },
  {
   "cell_type": "code",
   "execution_count": 14,
   "metadata": {},
   "outputs": [
    {
     "data": {
      "text/plain": [
       "count    408972.000000\n",
       "mean        213.928013\n",
       "std         199.403298\n",
       "min          27.644081\n",
       "25%          91.114721\n",
       "50%         133.625862\n",
       "75%         269.223494\n",
       "max        4355.463268\n",
       "Name: DiJet_mass, dtype: float64"
      ]
     },
     "execution_count": 14,
     "metadata": {},
     "output_type": "execute_result"
    }
   ],
   "source": [
    "data[\"DiJet_mass\"].describe()"
   ]
  },
  {
   "cell_type": "code",
   "execution_count": 12,
   "metadata": {},
   "outputs": [
    {
     "data": {
      "text/html": [
       "<div>\n",
       "<style scoped>\n",
       "    .dataframe tbody tr th:only-of-type {\n",
       "        vertical-align: middle;\n",
       "    }\n",
       "\n",
       "    .dataframe tbody tr th {\n",
       "        vertical-align: top;\n",
       "    }\n",
       "\n",
       "    .dataframe thead th {\n",
       "        text-align: right;\n",
       "    }\n",
       "</style>\n",
       "<table border=\"1\" class=\"dataframe\">\n",
       "  <thead>\n",
       "    <tr style=\"text-align: right;\">\n",
       "      <th></th>\n",
       "      <th>TTTo2L2Nu</th>\n",
       "      <th>TTToHadronic</th>\n",
       "      <th>TTToSemiLeptonic</th>\n",
       "      <th>ttH125</th>\n",
       "    </tr>\n",
       "  </thead>\n",
       "  <tbody>\n",
       "    <tr>\n",
       "      <th>130194</th>\n",
       "      <td>0</td>\n",
       "      <td>0</td>\n",
       "      <td>1</td>\n",
       "      <td>0</td>\n",
       "    </tr>\n",
       "    <tr>\n",
       "      <th>6136</th>\n",
       "      <td>0</td>\n",
       "      <td>0</td>\n",
       "      <td>0</td>\n",
       "      <td>1</td>\n",
       "    </tr>\n",
       "    <tr>\n",
       "      <th>168648</th>\n",
       "      <td>0</td>\n",
       "      <td>0</td>\n",
       "      <td>1</td>\n",
       "      <td>0</td>\n",
       "    </tr>\n",
       "    <tr>\n",
       "      <th>311994</th>\n",
       "      <td>0</td>\n",
       "      <td>0</td>\n",
       "      <td>1</td>\n",
       "      <td>0</td>\n",
       "    </tr>\n",
       "    <tr>\n",
       "      <th>29682</th>\n",
       "      <td>0</td>\n",
       "      <td>0</td>\n",
       "      <td>0</td>\n",
       "      <td>1</td>\n",
       "    </tr>\n",
       "    <tr>\n",
       "      <th>...</th>\n",
       "      <td>...</td>\n",
       "      <td>...</td>\n",
       "      <td>...</td>\n",
       "      <td>...</td>\n",
       "    </tr>\n",
       "    <tr>\n",
       "      <th>174931</th>\n",
       "      <td>0</td>\n",
       "      <td>0</td>\n",
       "      <td>1</td>\n",
       "      <td>0</td>\n",
       "    </tr>\n",
       "    <tr>\n",
       "      <th>175517</th>\n",
       "      <td>0</td>\n",
       "      <td>0</td>\n",
       "      <td>1</td>\n",
       "      <td>0</td>\n",
       "    </tr>\n",
       "    <tr>\n",
       "      <th>98871</th>\n",
       "      <td>0</td>\n",
       "      <td>0</td>\n",
       "      <td>0</td>\n",
       "      <td>1</td>\n",
       "    </tr>\n",
       "    <tr>\n",
       "      <th>122727</th>\n",
       "      <td>0</td>\n",
       "      <td>0</td>\n",
       "      <td>1</td>\n",
       "      <td>0</td>\n",
       "    </tr>\n",
       "    <tr>\n",
       "      <th>57415</th>\n",
       "      <td>0</td>\n",
       "      <td>0</td>\n",
       "      <td>0</td>\n",
       "      <td>1</td>\n",
       "    </tr>\n",
       "  </tbody>\n",
       "</table>\n",
       "<p>306729 rows × 4 columns</p>\n",
       "</div>"
      ],
      "text/plain": [
       "        TTTo2L2Nu  TTToHadronic  TTToSemiLeptonic  ttH125\n",
       "130194          0             0                 1       0\n",
       "6136            0             0                 0       1\n",
       "168648          0             0                 1       0\n",
       "311994          0             0                 1       0\n",
       "29682           0             0                 0       1\n",
       "...           ...           ...               ...     ...\n",
       "174931          0             0                 1       0\n",
       "175517          0             0                 1       0\n",
       "98871           0             0                 0       1\n",
       "122727          0             0                 1       0\n",
       "57415           0             0                 0       1\n",
       "\n",
       "[306729 rows x 4 columns]"
      ]
     },
     "execution_count": 12,
     "metadata": {},
     "output_type": "execute_result"
    }
   ],
   "source": [
    "train_labels, test_labels = train_test_split(labels, random_state=42, stratify=labels['ttH125'])\n",
    "train_labels"
   ]
  },
  {
   "cell_type": "code",
   "execution_count": 14,
   "metadata": {},
   "outputs": [
    {
     "data": {
      "text/plain": [
       "110193    0\n",
       "301732    0\n",
       "305801    0\n",
       "1769      1\n",
       "203489    0\n",
       "         ..\n",
       "174931    0\n",
       "175517    0\n",
       "24248     1\n",
       "122727    0\n",
       "78880     1\n",
       "Name: ttH125, Length: 327177, dtype: uint8"
      ]
     },
     "execution_count": 14,
     "metadata": {},
     "output_type": "execute_result"
    }
   ],
   "source": [
    "full_data[0][-2]"
   ]
  },
  {
   "cell_type": "code",
   "execution_count": 6,
   "metadata": {},
   "outputs": [
    {
     "data": {
      "text/plain": [
       "5.470653048352906"
      ]
     },
     "execution_count": 6,
     "metadata": {},
     "output_type": "execute_result"
    }
   ],
   "source": [
    "s/np.sqrt(b)"
   ]
  },
  {
   "cell_type": "code",
   "execution_count": 10,
   "metadata": {},
   "outputs": [
    {
     "name": "stderr",
     "output_type": "stream",
     "text": [
      "/software/ac18804/miniconda3/envs/gpu_env/lib/python3.7/site-packages/ipykernel_launcher.py:52: VisibleDeprecationWarning: Creating an ndarray from ragged nested sequences (which is a list-or-tuple of lists-or-tuples-or ndarrays with different lengths or shapes) is deprecated. If you meant to do this, you must specify 'dtype=object' when creating the ndarray\n"
     ]
    }
   ],
   "source": [
    "full_data = preprocess()"
   ]
  },
  {
   "cell_type": "code",
   "execution_count": 3,
   "metadata": {},
   "outputs": [
    {
     "name": "stdout",
     "output_type": "stream",
     "text": [
      "[0.30719006, 0.00022454452, 0.01506993]\n",
      "[296226, 205, 13236]\n"
     ]
    }
   ],
   "source": [
    "bg_datasets = ['TTToSemiLeptonic', 'TTToHadronic', 'TTTo2L2Nu']\n",
    "total_xs = []\n",
    "n_examples = []\n",
    "for bg in bg_datasets:\n",
    "    df = get_data(bg)\n",
    "    xs = df[\"xs_weight\"].sum()\n",
    "    total_xs.append(xs)\n",
    "    n_examples.append(len(df))\n",
    "print(total_xs)\n",
    "print(n_examples)\n"
   ]
  },
  {
   "cell_type": "code",
   "execution_count": 5,
   "metadata": {},
   "outputs": [
    {
     "name": "stdout",
     "output_type": "stream",
     "text": [
      "[0.9525729988784043, 0.0006962954709586545, 0.046730705650637]\n",
      "[0.9565953104463827, 0.000662001440256792, 0.04274268811336048]\n"
     ]
    }
   ],
   "source": [
    "xs_ratios = [total_xs[i]/sum(total_xs) for i in range(3)]\n",
    "n_ratios = [n_examples[i]/sum(n_examples) for i in range(3)]\n",
    "print(xs_ratios)\n",
    "print(n_ratios)\n"
   ]
  },
  {
   "cell_type": "code",
   "execution_count": null,
   "metadata": {},
   "outputs": [],
   "source": [
    "full_data[0]"
   ]
  },
  {
   "cell_type": "code",
   "execution_count": 7,
   "metadata": {},
   "outputs": [
    {
     "data": {
      "image/png": "[encoded data removed]",
      "text/plain": [
       "<Figure size 432x288 with 1 Axes>"
      ]
     },
     "metadata": {
      "needs_background": "light"
     },
     "output_type": "display_data"
    }
   ],
   "source": [
    "import matplotlib.pyplot as plt\n",
    "\n",
    "obj_data = full_data[0][2]\n",
    "\n",
    "#Leading Jet\n",
    "plt.hist(obj_data[:, 0, -1], log=True, label=\"Leading\")\n",
    "plt.hist(obj_data[:,1,-1], log=True, label=\"Second\")\n",
    "plt.legend()\n",
    "plt.show()"
   ]
  },
  {
   "cell_type": "code",
   "execution_count": 12,
   "metadata": {},
   "outputs": [
    {
     "data": {
      "image/png": "[encoded data removed]",
      "text/plain": [
       "<Figure size 432x288 with 1 Axes>"
      ]
     },
     "metadata": {
      "needs_background": "light"
     },
     "output_type": "display_data"
    }
   ],
   "source": [
    "import matplotlib.pyplot as plt\n",
    "\n",
    "obj_data = full_data[0][2]\n",
    "\n",
    "# Leading Jet\n",
    "plt.hist(obj_data[:, 0, -3], label=\"Leading\")\n",
    "plt.hist(obj_data[:,1,-3], label=\"Second\")\n",
    "plt.hist(obj_data[:, 2, -3], label=\"Third\")\n",
    "plt.legend()\n",
    "plt.show()"
   ]
  },
  {
   "cell_type": "code",
   "execution_count": 3,
   "metadata": {},
   "outputs": [],
   "source": [
    "from sklearn.linear_model import LogisticRegression\n",
    "\n",
    "X_train, X_test, y_train, y_test = full_data[0][0], full_data[0][1], full_data[0][-2], full_data[0][-1]\n",
    "clf = LogisticRegression(random_state=1).fit(X_train, y_train)\n"
   ]
  },
  {
   "cell_type": "code",
   "execution_count": 6,
   "metadata": {},
   "outputs": [
    {
     "data": {
      "text/plain": [
       "array([[0.91904858, 0.08095142],\n",
       "       [0.74095901, 0.25904099],\n",
       "       [0.81094039, 0.18905961],\n",
       "       ...,\n",
       "       [0.95004988, 0.04995012],\n",
       "       [0.69327869, 0.30672131],\n",
       "       [0.43327449, 0.56672551]])"
      ]
     },
     "execution_count": 6,
     "metadata": {},
     "output_type": "execute_result"
    }
   ],
   "source": [
    "scores = clf.predict_proba(X_test)\n",
    "scores"
   ]
  },
  {
   "cell_type": "code",
   "execution_count": 9,
   "metadata": {},
   "outputs": [],
   "source": [
    "from sklearn.metrics import roc_curve, roc_auc_score\n",
    "\n",
    "fpr, tpr, thresholds = roc_curve(y_test, scores[:,1])\n"
   ]
  },
  {
   "cell_type": "code",
   "execution_count": 11,
   "metadata": {},
   "outputs": [
    {
     "data": {
      "image/png": "[encoded data removed]",
      "text/plain": [
       "<Figure size 432x288 with 1 Axes>"
      ]
     },
     "metadata": {
      "needs_background": "light"
     },
     "output_type": "display_data"
    }
   ],
   "source": [
    "import matplotlib.pyplot as plt\n",
    "\n",
    "plt.plot(fpr, tpr)\n",
    "plt.plot(np.linspace(0,1,100), np.linspace(0, 1, 100), linestyle=\"dashed\", color=\"k\")\n",
    "plt.show()"
   ]
  },
  {
   "cell_type": "code",
   "execution_count": 13,
   "metadata": {},
   "outputs": [
    {
     "data": {
      "text/plain": [
       "0.7951071366216732"
      ]
     },
     "execution_count": 13,
     "metadata": {},
     "output_type": "execute_result"
    }
   ],
   "source": [
    "roc_auc_score(y_test, scores[:,1])"
   ]
  },
  {
   "cell_type": "code",
   "execution_count": null,
   "metadata": {},
   "outputs": [],
   "source": []
  },
  {
   "cell_type": "code",
   "execution_count": 3,
   "metadata": {},
   "outputs": [
    {
     "data": {
      "text/plain": [
       "Index(['dataset', 'entry', 'BiasedDPhi', 'DiJet_mass', 'HT',\n",
       "       'InputMet_InputJet_mindPhi', 'InputMet_phi', 'InputMet_pt', 'MHT_phi',\n",
       "       'MHT_pt', 'MinChi', 'MinOmegaHat', 'MinOmegaTilde', 'cleanedJet_area',\n",
       "       'cleanedJet_btagDeepB', 'cleanedJet_chHEF', 'cleanedJet_eta',\n",
       "       'cleanedJet_mass', 'cleanedJet_neHEF', 'cleanedJet_phi',\n",
       "       'cleanedJet_pt', 'hashed_filename', 'ncleanedBJet', 'ncleanedJet',\n",
       "       'weight_nominal', 'xs_weight'],\n",
       "      dtype='object')"
      ]
     },
     "execution_count": 3,
     "metadata": {},
     "output_type": "execute_result"
    }
   ],
   "source": [
    "datasets = ['ttH125', 'TTToSemiLeptonic', 'TTToHadronic', 'TTTo2L2Nu']\n",
    "data = pd.concat([get_data(dataset) for dataset in datasets], ignore_index=True)\n",
    "data.columns"
   ]
  },
  {
   "cell_type": "code",
   "execution_count": null,
   "metadata": {},
   "outputs": [],
   "source": [
    "np.save('full_data.npy', full_data[0])\n",
    "np.save('weights.npy', full_data[1])"
   ]
  },
  {
   "cell_type": "code",
   "execution_count": 1,
   "metadata": {},
   "outputs": [
    {
     "name": "stderr",
     "output_type": "stream",
     "text": [
      "2022-01-26 17:27:35.184367: I tensorflow/core/platform/cpu_feature_guard.cc:142] Your CPU supports instructions that this TensorFlow binary was not compiled to use: SSE4.1 SSE4.2 AVX AVX2 AVX512F FMA\n",
      "2022-01-26 17:27:35.231176: I tensorflow/core/platform/profile_utils/cpu_utils.cc:94] CPU Frequency: 2200000000 Hz\n",
      "2022-01-26 17:27:35.237870: I tensorflow/compiler/xla/service/service.cc:168] XLA service 0x560b0e1bf360 initialized for platform Host (this does not guarantee that XLA will be used). Devices:\n",
      "2022-01-26 17:27:35.237906: I tensorflow/compiler/xla/service/service.cc:176]   StreamExecutor device (0): Host, Default Version\n",
      "2022-01-26 17:27:35.240060: I tensorflow/core/common_runtime/process_util.cc:147] Creating new thread pool with default inter op setting: 2. Tune using inter_op_parallelism_threads for best performance.\n",
      "ERROR:root:Internal Python error in the inspect module.\n",
      "Below is the traceback from this internal error.\n",
      "\n",
      "ERROR:root:Internal Python error in the inspect module.\n",
      "Below is the traceback from this internal error.\n",
      "\n",
      "ERROR:root:Internal Python error in the inspect module.\n",
      "Below is the traceback from this internal error.\n",
      "\n"
     ]
    },
    {
     "name": "stdout",
     "output_type": "stream",
     "text": [
      "Traceback (most recent call last):\n",
      "  File \"/software/ac18804/miniconda3/envs/ml_env/lib/python3.7/site-packages/IPython/core/interactiveshell.py\", line 3444, in run_code\n",
      "    exec(code_obj, self.user_global_ns, self.user_ns)\n",
      "  File \"/tmp/ipykernel_103161/1877610519.py\", line 6, in <module>\n",
      "    layers.Dense(1, activation='sigmoid')\n",
      "  File \"/software/ac18804/miniconda3/envs/ml_env/lib/python3.7/site-packages/tensorflow_core/python/training/tracking/base.py\", line 457, in _method_wrapper\n",
      "    result = method(self, *args, **kwargs)\n",
      "  File \"/software/ac18804/miniconda3/envs/ml_env/lib/python3.7/site-packages/tensorflow_core/python/keras/engine/sequential.py\", line 116, in __init__\n",
      "    self.add(layer)\n",
      "  File \"/software/ac18804/miniconda3/envs/ml_env/lib/python3.7/site-packages/tensorflow_core/python/training/tracking/base.py\", line 457, in _method_wrapper\n",
      "    result = method(self, *args, **kwargs)\n",
      "  File \"/software/ac18804/miniconda3/envs/ml_env/lib/python3.7/site-packages/tensorflow_core/python/keras/engine/sequential.py\", line 185, in add\n",
      "    layer(x)\n",
      "  File \"/software/ac18804/miniconda3/envs/ml_env/lib/python3.7/site-packages/tensorflow_core/python/keras/layers/recurrent.py\", line 644, in __call__\n",
      "    return super(RNN, self).__call__(inputs, **kwargs)\n",
      "  File \"/software/ac18804/miniconda3/envs/ml_env/lib/python3.7/site-packages/tensorflow_core/python/keras/engine/base_layer.py\", line 773, in __call__\n",
      "    outputs = call_fn(cast_inputs, *args, **kwargs)\n",
      "  File \"/software/ac18804/miniconda3/envs/ml_env/lib/python3.7/site-packages/tensorflow_core/python/keras/layers/recurrent_v2.py\", line 1076, in call\n",
      "    inputs, initial_state, _ = self._process_inputs(inputs, initial_state, None)\n",
      "  File \"/software/ac18804/miniconda3/envs/ml_env/lib/python3.7/site-packages/tensorflow_core/python/keras/layers/recurrent.py\", line 836, in _process_inputs\n",
      "    initial_state = self.get_initial_state(inputs)\n",
      "  File \"/software/ac18804/miniconda3/envs/ml_env/lib/python3.7/site-packages/tensorflow_core/python/keras/layers/recurrent.py\", line 627, in get_initial_state\n",
      "    inputs=None, batch_size=batch_size, dtype=dtype)\n",
      "  File \"/software/ac18804/miniconda3/envs/ml_env/lib/python3.7/site-packages/tensorflow_core/python/keras/layers/recurrent.py\", line 2457, in get_initial_state\n",
      "    self, inputs, batch_size, dtype))\n",
      "  File \"/software/ac18804/miniconda3/envs/ml_env/lib/python3.7/site-packages/tensorflow_core/python/keras/layers/recurrent.py\", line 2895, in _generate_zero_filled_state_for_cell\n",
      "    return _generate_zero_filled_state(batch_size, cell.state_size, dtype)\n",
      "  File \"/software/ac18804/miniconda3/envs/ml_env/lib/python3.7/site-packages/tensorflow_core/python/keras/layers/recurrent.py\", line 2911, in _generate_zero_filled_state\n",
      "    return nest.map_structure(create_zeros, state_size)\n",
      "  File \"/software/ac18804/miniconda3/envs/ml_env/lib/python3.7/site-packages/tensorflow_core/python/util/nest.py\", line 568, in map_structure\n",
      "    structure[0], [func(*x) for x in entries],\n",
      "  File \"/software/ac18804/miniconda3/envs/ml_env/lib/python3.7/site-packages/tensorflow_core/python/util/nest.py\", line 568, in <listcomp>\n",
      "    structure[0], [func(*x) for x in entries],\n",
      "  File \"/software/ac18804/miniconda3/envs/ml_env/lib/python3.7/site-packages/tensorflow_core/python/keras/layers/recurrent.py\", line 2908, in create_zeros\n",
      "    return array_ops.zeros(init_state_size, dtype=dtype)\n",
      "  File \"/software/ac18804/miniconda3/envs/ml_env/lib/python3.7/site-packages/tensorflow_core/python/ops/array_ops.py\", line 2434, in zeros\n",
      "    output = _constant_if_small(zero, shape, dtype, name)\n",
      "  File \"/software/ac18804/miniconda3/envs/ml_env/lib/python3.7/site-packages/tensorflow_core/python/ops/array_ops.py\", line 2391, in _constant_if_small\n",
      "    if np.prod(shape) < 1000:\n",
      "  File \"<__array_function__ internals>\", line 6, in prod\n",
      "  File \"/software/ac18804/miniconda3/envs/ml_env/lib/python3.7/site-packages/numpy/core/fromnumeric.py\", line 3052, in prod\n",
      "    keepdims=keepdims, initial=initial, where=where)\n",
      "  File \"/software/ac18804/miniconda3/envs/ml_env/lib/python3.7/site-packages/numpy/core/fromnumeric.py\", line 86, in _wrapreduction\n",
      "    return ufunc.reduce(obj, axis, dtype, out, **passkwargs)\n",
      "  File \"/software/ac18804/miniconda3/envs/ml_env/lib/python3.7/site-packages/tensorflow_core/python/framework/ops.py\", line 728, in __array__\n",
      "    \" array.\".format(self.name))\n",
      "NotImplementedError: Cannot convert a symbolic Tensor (lstm/strided_slice:0) to a numpy array.\n",
      "\n",
      "During handling of the above exception, another exception occurred:\n",
      "\n",
      "Traceback (most recent call last):\n",
      "  File \"/software/ac18804/miniconda3/envs/ml_env/lib/python3.7/site-packages/IPython/core/interactiveshell.py\", line 2064, in showtraceback\n",
      "    stb = value._render_traceback_()\n",
      "AttributeError: 'NotImplementedError' object has no attribute '_render_traceback_'\n",
      "\n",
      "During handling of the above exception, another exception occurred:\n",
      "\n",
      "Traceback (most recent call last):\n",
      "  File \"/software/ac18804/miniconda3/envs/ml_env/lib/python3.7/site-packages/IPython/core/ultratb.py\", line 1101, in get_records\n",
      "    return _fixed_getinnerframes(etb, number_of_lines_of_context, tb_offset)\n",
      "  File \"/software/ac18804/miniconda3/envs/ml_env/lib/python3.7/site-packages/IPython/core/ultratb.py\", line 248, in wrapped\n",
      "    return f(*args, **kwargs)\n",
      "  File \"/software/ac18804/miniconda3/envs/ml_env/lib/python3.7/site-packages/IPython/core/ultratb.py\", line 281, in _fixed_getinnerframes\n",
      "    records = fix_frame_records_filenames(inspect.getinnerframes(etb, context))\n",
      "  File \"/software/ac18804/miniconda3/envs/ml_env/lib/python3.7/inspect.py\", line 1502, in getinnerframes\n",
      "    frameinfo = (tb.tb_frame,) + getframeinfo(tb, context)\n",
      "  File \"/software/ac18804/miniconda3/envs/ml_env/lib/python3.7/inspect.py\", line 1460, in getframeinfo\n",
      "    filename = getsourcefile(frame) or getfile(frame)\n",
      "  File \"/software/ac18804/miniconda3/envs/ml_env/lib/python3.7/inspect.py\", line 696, in getsourcefile\n",
      "    if getattr(getmodule(object, filename), '__loader__', None) is not None:\n",
      "  File \"/software/ac18804/miniconda3/envs/ml_env/lib/python3.7/inspect.py\", line 733, in getmodule\n",
      "    if ismodule(module) and hasattr(module, '__file__'):\n",
      "  File \"/software/ac18804/miniconda3/envs/ml_env/lib/python3.7/site-packages/tensorflow/__init__.py\", line 50, in __getattr__\n",
      "    module = self._load()\n",
      "  File \"/software/ac18804/miniconda3/envs/ml_env/lib/python3.7/site-packages/tensorflow/__init__.py\", line 44, in _load\n",
      "    module = _importlib.import_module(self.__name__)\n",
      "  File \"/software/ac18804/miniconda3/envs/ml_env/lib/python3.7/importlib/__init__.py\", line 127, in import_module\n",
      "    return _bootstrap._gcd_import(name[level:], package, level)\n",
      "  File \"<frozen importlib._bootstrap>\", line 1006, in _gcd_import\n",
      "  File \"<frozen importlib._bootstrap>\", line 983, in _find_and_load\n",
      "  File \"<frozen importlib._bootstrap>\", line 965, in _find_and_load_unlocked\n",
      "ModuleNotFoundError: No module named 'tensorflow_core.estimator'\n",
      "Traceback (most recent call last):\n",
      "  File \"/software/ac18804/miniconda3/envs/ml_env/lib/python3.7/site-packages/IPython/core/interactiveshell.py\", line 3444, in run_code\n",
      "    exec(code_obj, self.user_global_ns, self.user_ns)\n",
      "  File \"/tmp/ipykernel_103161/1877610519.py\", line 6, in <module>\n",
      "    layers.Dense(1, activation='sigmoid')\n",
      "  File \"/software/ac18804/miniconda3/envs/ml_env/lib/python3.7/site-packages/tensorflow_core/python/training/tracking/base.py\", line 457, in _method_wrapper\n",
      "    result = method(self, *args, **kwargs)\n",
      "  File \"/software/ac18804/miniconda3/envs/ml_env/lib/python3.7/site-packages/tensorflow_core/python/keras/engine/sequential.py\", line 116, in __init__\n",
      "    self.add(layer)\n",
      "  File \"/software/ac18804/miniconda3/envs/ml_env/lib/python3.7/site-packages/tensorflow_core/python/training/tracking/base.py\", line 457, in _method_wrapper\n",
      "    result = method(self, *args, **kwargs)\n",
      "  File \"/software/ac18804/miniconda3/envs/ml_env/lib/python3.7/site-packages/tensorflow_core/python/keras/engine/sequential.py\", line 185, in add\n",
      "    layer(x)\n",
      "  File \"/software/ac18804/miniconda3/envs/ml_env/lib/python3.7/site-packages/tensorflow_core/python/keras/layers/recurrent.py\", line 644, in __call__\n",
      "    return super(RNN, self).__call__(inputs, **kwargs)\n",
      "  File \"/software/ac18804/miniconda3/envs/ml_env/lib/python3.7/site-packages/tensorflow_core/python/keras/engine/base_layer.py\", line 773, in __call__\n",
      "    outputs = call_fn(cast_inputs, *args, **kwargs)\n",
      "  File \"/software/ac18804/miniconda3/envs/ml_env/lib/python3.7/site-packages/tensorflow_core/python/keras/layers/recurrent_v2.py\", line 1076, in call\n",
      "    inputs, initial_state, _ = self._process_inputs(inputs, initial_state, None)\n",
      "  File \"/software/ac18804/miniconda3/envs/ml_env/lib/python3.7/site-packages/tensorflow_core/python/keras/layers/recurrent.py\", line 836, in _process_inputs\n",
      "    initial_state = self.get_initial_state(inputs)\n",
      "  File \"/software/ac18804/miniconda3/envs/ml_env/lib/python3.7/site-packages/tensorflow_core/python/keras/layers/recurrent.py\", line 627, in get_initial_state\n",
      "    inputs=None, batch_size=batch_size, dtype=dtype)\n",
      "  File \"/software/ac18804/miniconda3/envs/ml_env/lib/python3.7/site-packages/tensorflow_core/python/keras/layers/recurrent.py\", line 2457, in get_initial_state\n",
      "    self, inputs, batch_size, dtype))\n",
      "  File \"/software/ac18804/miniconda3/envs/ml_env/lib/python3.7/site-packages/tensorflow_core/python/keras/layers/recurrent.py\", line 2895, in _generate_zero_filled_state_for_cell\n",
      "    return _generate_zero_filled_state(batch_size, cell.state_size, dtype)\n",
      "  File \"/software/ac18804/miniconda3/envs/ml_env/lib/python3.7/site-packages/tensorflow_core/python/keras/layers/recurrent.py\", line 2911, in _generate_zero_filled_state\n",
      "    return nest.map_structure(create_zeros, state_size)\n",
      "  File \"/software/ac18804/miniconda3/envs/ml_env/lib/python3.7/site-packages/tensorflow_core/python/util/nest.py\", line 568, in map_structure\n",
      "    structure[0], [func(*x) for x in entries],\n",
      "  File \"/software/ac18804/miniconda3/envs/ml_env/lib/python3.7/site-packages/tensorflow_core/python/util/nest.py\", line 568, in <listcomp>\n",
      "    structure[0], [func(*x) for x in entries],\n",
      "  File \"/software/ac18804/miniconda3/envs/ml_env/lib/python3.7/site-packages/tensorflow_core/python/keras/layers/recurrent.py\", line 2908, in create_zeros\n",
      "    return array_ops.zeros(init_state_size, dtype=dtype)\n",
      "  File \"/software/ac18804/miniconda3/envs/ml_env/lib/python3.7/site-packages/tensorflow_core/python/ops/array_ops.py\", line 2434, in zeros\n",
      "    output = _constant_if_small(zero, shape, dtype, name)\n",
      "  File \"/software/ac18804/miniconda3/envs/ml_env/lib/python3.7/site-packages/tensorflow_core/python/ops/array_ops.py\", line 2391, in _constant_if_small\n",
      "    if np.prod(shape) < 1000:\n",
      "  File \"<__array_function__ internals>\", line 6, in prod\n",
      "  File \"/software/ac18804/miniconda3/envs/ml_env/lib/python3.7/site-packages/numpy/core/fromnumeric.py\", line 3052, in prod\n",
      "    keepdims=keepdims, initial=initial, where=where)\n",
      "  File \"/software/ac18804/miniconda3/envs/ml_env/lib/python3.7/site-packages/numpy/core/fromnumeric.py\", line 86, in _wrapreduction\n",
      "    return ufunc.reduce(obj, axis, dtype, out, **passkwargs)\n",
      "  File \"/software/ac18804/miniconda3/envs/ml_env/lib/python3.7/site-packages/tensorflow_core/python/framework/ops.py\", line 728, in __array__\n",
      "    \" array.\".format(self.name))\n",
      "NotImplementedError: Cannot convert a symbolic Tensor (lstm/strided_slice:0) to a numpy array.\n",
      "\n",
      "During handling of the above exception, another exception occurred:\n",
      "\n",
      "Traceback (most recent call last):\n",
      "  File \"/software/ac18804/miniconda3/envs/ml_env/lib/python3.7/site-packages/IPython/core/interactiveshell.py\", line 2064, in showtraceback\n",
      "    stb = value._render_traceback_()\n",
      "AttributeError: 'NotImplementedError' object has no attribute '_render_traceback_'\n",
      "\n",
      "During handling of the above exception, another exception occurred:\n",
      "\n",
      "Traceback (most recent call last):\n",
      "  File \"/software/ac18804/miniconda3/envs/ml_env/lib/python3.7/site-packages/IPython/core/interactiveshell.py\", line 3364, in run_ast_nodes\n",
      "    if (await self.run_code(code, result,  async_=asy)):\n",
      "  File \"/software/ac18804/miniconda3/envs/ml_env/lib/python3.7/site-packages/IPython/core/interactiveshell.py\", line 3461, in run_code\n",
      "    self.showtraceback(running_compiled_code=True)\n",
      "  File \"/software/ac18804/miniconda3/envs/ml_env/lib/python3.7/site-packages/IPython/core/interactiveshell.py\", line 2067, in showtraceback\n",
      "    value, tb, tb_offset=tb_offset)\n",
      "  File \"/software/ac18804/miniconda3/envs/ml_env/lib/python3.7/site-packages/IPython/core/ultratb.py\", line 1368, in structured_traceback\n",
      "    self, etype, value, tb, tb_offset, number_of_lines_of_context)\n",
      "  File \"/software/ac18804/miniconda3/envs/ml_env/lib/python3.7/site-packages/IPython/core/ultratb.py\", line 1268, in structured_traceback\n",
      "    self, etype, value, tb, tb_offset, number_of_lines_of_context\n",
      "  File \"/software/ac18804/miniconda3/envs/ml_env/lib/python3.7/site-packages/IPython/core/ultratb.py\", line 1125, in structured_traceback\n",
      "    tb_offset)\n",
      "  File \"/software/ac18804/miniconda3/envs/ml_env/lib/python3.7/site-packages/IPython/core/ultratb.py\", line 1082, in format_exception_as_a_whole\n",
      "    last_unique, recursion_repeat = find_recursion(orig_etype, evalue, records)\n",
      "  File \"/software/ac18804/miniconda3/envs/ml_env/lib/python3.7/site-packages/IPython/core/ultratb.py\", line 382, in find_recursion\n",
      "    return len(records), 0\n",
      "TypeError: object of type 'NoneType' has no len()\n",
      "\n",
      "During handling of the above exception, another exception occurred:\n",
      "\n",
      "Traceback (most recent call last):\n",
      "  File \"/software/ac18804/miniconda3/envs/ml_env/lib/python3.7/site-packages/IPython/core/interactiveshell.py\", line 2064, in showtraceback\n",
      "    stb = value._render_traceback_()\n",
      "AttributeError: 'TypeError' object has no attribute '_render_traceback_'\n",
      "\n",
      "During handling of the above exception, another exception occurred:\n",
      "\n",
      "Traceback (most recent call last):\n",
      "  File \"/software/ac18804/miniconda3/envs/ml_env/lib/python3.7/site-packages/IPython/core/ultratb.py\", line 1101, in get_records\n",
      "    return _fixed_getinnerframes(etb, number_of_lines_of_context, tb_offset)\n",
      "  File \"/software/ac18804/miniconda3/envs/ml_env/lib/python3.7/site-packages/IPython/core/ultratb.py\", line 248, in wrapped\n",
      "    return f(*args, **kwargs)\n",
      "  File \"/software/ac18804/miniconda3/envs/ml_env/lib/python3.7/site-packages/IPython/core/ultratb.py\", line 281, in _fixed_getinnerframes\n",
      "    records = fix_frame_records_filenames(inspect.getinnerframes(etb, context))\n",
      "  File \"/software/ac18804/miniconda3/envs/ml_env/lib/python3.7/inspect.py\", line 1502, in getinnerframes\n",
      "    frameinfo = (tb.tb_frame,) + getframeinfo(tb, context)\n",
      "  File \"/software/ac18804/miniconda3/envs/ml_env/lib/python3.7/inspect.py\", line 1460, in getframeinfo\n",
      "    filename = getsourcefile(frame) or getfile(frame)\n",
      "  File \"/software/ac18804/miniconda3/envs/ml_env/lib/python3.7/inspect.py\", line 696, in getsourcefile\n",
      "    if getattr(getmodule(object, filename), '__loader__', None) is not None:\n",
      "  File \"/software/ac18804/miniconda3/envs/ml_env/lib/python3.7/inspect.py\", line 733, in getmodule\n",
      "    if ismodule(module) and hasattr(module, '__file__'):\n",
      "  File \"/software/ac18804/miniconda3/envs/ml_env/lib/python3.7/site-packages/tensorflow/__init__.py\", line 50, in __getattr__\n",
      "    module = self._load()\n",
      "  File \"/software/ac18804/miniconda3/envs/ml_env/lib/python3.7/site-packages/tensorflow/__init__.py\", line 44, in _load\n",
      "    module = _importlib.import_module(self.__name__)\n",
      "  File \"/software/ac18804/miniconda3/envs/ml_env/lib/python3.7/importlib/__init__.py\", line 127, in import_module\n",
      "    return _bootstrap._gcd_import(name[level:], package, level)\n",
      "  File \"<frozen importlib._bootstrap>\", line 1006, in _gcd_import\n",
      "  File \"<frozen importlib._bootstrap>\", line 983, in _find_and_load\n",
      "  File \"<frozen importlib._bootstrap>\", line 965, in _find_and_load_unlocked\n",
      "ModuleNotFoundError: No module named 'tensorflow_core.estimator'\n",
      "Traceback (most recent call last):\n",
      "  File \"/software/ac18804/miniconda3/envs/ml_env/lib/python3.7/site-packages/IPython/core/interactiveshell.py\", line 3444, in run_code\n",
      "    exec(code_obj, self.user_global_ns, self.user_ns)\n",
      "  File \"/tmp/ipykernel_103161/1877610519.py\", line 6, in <module>\n",
      "    layers.Dense(1, activation='sigmoid')\n",
      "  File \"/software/ac18804/miniconda3/envs/ml_env/lib/python3.7/site-packages/tensorflow_core/python/training/tracking/base.py\", line 457, in _method_wrapper\n",
      "    result = method(self, *args, **kwargs)\n",
      "  File \"/software/ac18804/miniconda3/envs/ml_env/lib/python3.7/site-packages/tensorflow_core/python/keras/engine/sequential.py\", line 116, in __init__\n",
      "    self.add(layer)\n",
      "  File \"/software/ac18804/miniconda3/envs/ml_env/lib/python3.7/site-packages/tensorflow_core/python/training/tracking/base.py\", line 457, in _method_wrapper\n",
      "    result = method(self, *args, **kwargs)\n",
      "  File \"/software/ac18804/miniconda3/envs/ml_env/lib/python3.7/site-packages/tensorflow_core/python/keras/engine/sequential.py\", line 185, in add\n",
      "    layer(x)\n",
      "  File \"/software/ac18804/miniconda3/envs/ml_env/lib/python3.7/site-packages/tensorflow_core/python/keras/layers/recurrent.py\", line 644, in __call__\n",
      "    return super(RNN, self).__call__(inputs, **kwargs)\n",
      "  File \"/software/ac18804/miniconda3/envs/ml_env/lib/python3.7/site-packages/tensorflow_core/python/keras/engine/base_layer.py\", line 773, in __call__\n",
      "    outputs = call_fn(cast_inputs, *args, **kwargs)\n",
      "  File \"/software/ac18804/miniconda3/envs/ml_env/lib/python3.7/site-packages/tensorflow_core/python/keras/layers/recurrent_v2.py\", line 1076, in call\n",
      "    inputs, initial_state, _ = self._process_inputs(inputs, initial_state, None)\n",
      "  File \"/software/ac18804/miniconda3/envs/ml_env/lib/python3.7/site-packages/tensorflow_core/python/keras/layers/recurrent.py\", line 836, in _process_inputs\n",
      "    initial_state = self.get_initial_state(inputs)\n",
      "  File \"/software/ac18804/miniconda3/envs/ml_env/lib/python3.7/site-packages/tensorflow_core/python/keras/layers/recurrent.py\", line 627, in get_initial_state\n",
      "    inputs=None, batch_size=batch_size, dtype=dtype)\n",
      "  File \"/software/ac18804/miniconda3/envs/ml_env/lib/python3.7/site-packages/tensorflow_core/python/keras/layers/recurrent.py\", line 2457, in get_initial_state\n",
      "    self, inputs, batch_size, dtype))\n",
      "  File \"/software/ac18804/miniconda3/envs/ml_env/lib/python3.7/site-packages/tensorflow_core/python/keras/layers/recurrent.py\", line 2895, in _generate_zero_filled_state_for_cell\n",
      "    return _generate_zero_filled_state(batch_size, cell.state_size, dtype)\n",
      "  File \"/software/ac18804/miniconda3/envs/ml_env/lib/python3.7/site-packages/tensorflow_core/python/keras/layers/recurrent.py\", line 2911, in _generate_zero_filled_state\n",
      "    return nest.map_structure(create_zeros, state_size)\n",
      "  File \"/software/ac18804/miniconda3/envs/ml_env/lib/python3.7/site-packages/tensorflow_core/python/util/nest.py\", line 568, in map_structure\n",
      "    structure[0], [func(*x) for x in entries],\n",
      "  File \"/software/ac18804/miniconda3/envs/ml_env/lib/python3.7/site-packages/tensorflow_core/python/util/nest.py\", line 568, in <listcomp>\n",
      "    structure[0], [func(*x) for x in entries],\n",
      "  File \"/software/ac18804/miniconda3/envs/ml_env/lib/python3.7/site-packages/tensorflow_core/python/keras/layers/recurrent.py\", line 2908, in create_zeros\n",
      "    return array_ops.zeros(init_state_size, dtype=dtype)\n",
      "  File \"/software/ac18804/miniconda3/envs/ml_env/lib/python3.7/site-packages/tensorflow_core/python/ops/array_ops.py\", line 2434, in zeros\n",
      "    output = _constant_if_small(zero, shape, dtype, name)\n",
      "  File \"/software/ac18804/miniconda3/envs/ml_env/lib/python3.7/site-packages/tensorflow_core/python/ops/array_ops.py\", line 2391, in _constant_if_small\n",
      "    if np.prod(shape) < 1000:\n",
      "  File \"<__array_function__ internals>\", line 6, in prod\n",
      "  File \"/software/ac18804/miniconda3/envs/ml_env/lib/python3.7/site-packages/numpy/core/fromnumeric.py\", line 3052, in prod\n",
      "    keepdims=keepdims, initial=initial, where=where)\n",
      "  File \"/software/ac18804/miniconda3/envs/ml_env/lib/python3.7/site-packages/numpy/core/fromnumeric.py\", line 86, in _wrapreduction\n",
      "    return ufunc.reduce(obj, axis, dtype, out, **passkwargs)\n",
      "  File \"/software/ac18804/miniconda3/envs/ml_env/lib/python3.7/site-packages/tensorflow_core/python/framework/ops.py\", line 728, in __array__\n",
      "    \" array.\".format(self.name))\n",
      "NotImplementedError: Cannot convert a symbolic Tensor (lstm/strided_slice:0) to a numpy array.\n",
      "\n",
      "During handling of the above exception, another exception occurred:\n",
      "\n",
      "Traceback (most recent call last):\n",
      "  File \"/software/ac18804/miniconda3/envs/ml_env/lib/python3.7/site-packages/IPython/core/interactiveshell.py\", line 2064, in showtraceback\n",
      "    stb = value._render_traceback_()\n",
      "AttributeError: 'NotImplementedError' object has no attribute '_render_traceback_'\n",
      "\n",
      "During handling of the above exception, another exception occurred:\n",
      "\n",
      "Traceback (most recent call last):\n",
      "  File \"/software/ac18804/miniconda3/envs/ml_env/lib/python3.7/site-packages/IPython/core/interactiveshell.py\", line 3364, in run_ast_nodes\n",
      "    if (await self.run_code(code, result,  async_=asy)):\n",
      "  File \"/software/ac18804/miniconda3/envs/ml_env/lib/python3.7/site-packages/IPython/core/interactiveshell.py\", line 3461, in run_code\n",
      "    self.showtraceback(running_compiled_code=True)\n",
      "  File \"/software/ac18804/miniconda3/envs/ml_env/lib/python3.7/site-packages/IPython/core/interactiveshell.py\", line 2067, in showtraceback\n",
      "    value, tb, tb_offset=tb_offset)\n",
      "  File \"/software/ac18804/miniconda3/envs/ml_env/lib/python3.7/site-packages/IPython/core/ultratb.py\", line 1368, in structured_traceback\n",
      "    self, etype, value, tb, tb_offset, number_of_lines_of_context)\n",
      "  File \"/software/ac18804/miniconda3/envs/ml_env/lib/python3.7/site-packages/IPython/core/ultratb.py\", line 1268, in structured_traceback\n",
      "    self, etype, value, tb, tb_offset, number_of_lines_of_context\n",
      "  File \"/software/ac18804/miniconda3/envs/ml_env/lib/python3.7/site-packages/IPython/core/ultratb.py\", line 1125, in structured_traceback\n",
      "    tb_offset)\n",
      "  File \"/software/ac18804/miniconda3/envs/ml_env/lib/python3.7/site-packages/IPython/core/ultratb.py\", line 1082, in format_exception_as_a_whole\n",
      "    last_unique, recursion_repeat = find_recursion(orig_etype, evalue, records)\n",
      "  File \"/software/ac18804/miniconda3/envs/ml_env/lib/python3.7/site-packages/IPython/core/ultratb.py\", line 382, in find_recursion\n",
      "    return len(records), 0\n",
      "TypeError: object of type 'NoneType' has no len()\n",
      "\n",
      "During handling of the above exception, another exception occurred:\n",
      "\n",
      "Traceback (most recent call last):\n",
      "  File \"/software/ac18804/miniconda3/envs/ml_env/lib/python3.7/site-packages/IPython/core/interactiveshell.py\", line 2064, in showtraceback\n",
      "    stb = value._render_traceback_()\n",
      "AttributeError: 'TypeError' object has no attribute '_render_traceback_'\n",
      "\n",
      "During handling of the above exception, another exception occurred:\n",
      "\n",
      "Traceback (most recent call last):\n",
      "  File \"/software/ac18804/miniconda3/envs/ml_env/lib/python3.7/site-packages/IPython/core/interactiveshell.py\", line 2947, in _run_cell\n",
      "    return runner(coro)\n",
      "  File \"/software/ac18804/miniconda3/envs/ml_env/lib/python3.7/site-packages/IPython/core/async_helpers.py\", line 68, in _pseudo_sync_runner\n",
      "    coro.send(None)\n",
      "  File \"/software/ac18804/miniconda3/envs/ml_env/lib/python3.7/site-packages/IPython/core/interactiveshell.py\", line 3173, in run_cell_async\n",
      "    interactivity=interactivity, compiler=compiler, result=result)\n",
      "  File \"/software/ac18804/miniconda3/envs/ml_env/lib/python3.7/site-packages/IPython/core/interactiveshell.py\", line 3383, in run_ast_nodes\n",
      "    self.showtraceback()\n",
      "  File \"/software/ac18804/miniconda3/envs/ml_env/lib/python3.7/site-packages/IPython/core/interactiveshell.py\", line 2067, in showtraceback\n",
      "    value, tb, tb_offset=tb_offset)\n",
      "  File \"/software/ac18804/miniconda3/envs/ml_env/lib/python3.7/site-packages/IPython/core/ultratb.py\", line 1368, in structured_traceback\n",
      "    self, etype, value, tb, tb_offset, number_of_lines_of_context)\n",
      "  File \"/software/ac18804/miniconda3/envs/ml_env/lib/python3.7/site-packages/IPython/core/ultratb.py\", line 1268, in structured_traceback\n",
      "    self, etype, value, tb, tb_offset, number_of_lines_of_context\n",
      "  File \"/software/ac18804/miniconda3/envs/ml_env/lib/python3.7/site-packages/IPython/core/ultratb.py\", line 1143, in structured_traceback\n",
      "    chained_exceptions_tb_offset)\n",
      "  File \"/software/ac18804/miniconda3/envs/ml_env/lib/python3.7/site-packages/IPython/core/ultratb.py\", line 1082, in format_exception_as_a_whole\n",
      "    last_unique, recursion_repeat = find_recursion(orig_etype, evalue, records)\n",
      "  File \"/software/ac18804/miniconda3/envs/ml_env/lib/python3.7/site-packages/IPython/core/ultratb.py\", line 382, in find_recursion\n",
      "    return len(records), 0\n",
      "TypeError: object of type 'NoneType' has no len()\n",
      "\n",
      "During handling of the above exception, another exception occurred:\n",
      "\n",
      "Traceback (most recent call last):\n",
      "  File \"/software/ac18804/miniconda3/envs/ml_env/lib/python3.7/site-packages/IPython/core/interactiveshell.py\", line 2064, in showtraceback\n",
      "    stb = value._render_traceback_()\n",
      "AttributeError: 'TypeError' object has no attribute '_render_traceback_'\n",
      "\n",
      "During handling of the above exception, another exception occurred:\n",
      "\n",
      "Traceback (most recent call last):\n",
      "  File \"/software/ac18804/miniconda3/envs/ml_env/lib/python3.7/site-packages/IPython/core/ultratb.py\", line 1101, in get_records\n",
      "    return _fixed_getinnerframes(etb, number_of_lines_of_context, tb_offset)\n",
      "  File \"/software/ac18804/miniconda3/envs/ml_env/lib/python3.7/site-packages/IPython/core/ultratb.py\", line 248, in wrapped\n",
      "    return f(*args, **kwargs)\n",
      "  File \"/software/ac18804/miniconda3/envs/ml_env/lib/python3.7/site-packages/IPython/core/ultratb.py\", line 281, in _fixed_getinnerframes\n",
      "    records = fix_frame_records_filenames(inspect.getinnerframes(etb, context))\n",
      "  File \"/software/ac18804/miniconda3/envs/ml_env/lib/python3.7/inspect.py\", line 1502, in getinnerframes\n",
      "    frameinfo = (tb.tb_frame,) + getframeinfo(tb, context)\n",
      "  File \"/software/ac18804/miniconda3/envs/ml_env/lib/python3.7/inspect.py\", line 1460, in getframeinfo\n",
      "    filename = getsourcefile(frame) or getfile(frame)\n",
      "  File \"/software/ac18804/miniconda3/envs/ml_env/lib/python3.7/inspect.py\", line 696, in getsourcefile\n",
      "    if getattr(getmodule(object, filename), '__loader__', None) is not None:\n",
      "  File \"/software/ac18804/miniconda3/envs/ml_env/lib/python3.7/inspect.py\", line 733, in getmodule\n",
      "    if ismodule(module) and hasattr(module, '__file__'):\n",
      "  File \"/software/ac18804/miniconda3/envs/ml_env/lib/python3.7/site-packages/tensorflow/__init__.py\", line 50, in __getattr__\n",
      "    module = self._load()\n",
      "  File \"/software/ac18804/miniconda3/envs/ml_env/lib/python3.7/site-packages/tensorflow/__init__.py\", line 44, in _load\n",
      "    module = _importlib.import_module(self.__name__)\n",
      "  File \"/software/ac18804/miniconda3/envs/ml_env/lib/python3.7/importlib/__init__.py\", line 127, in import_module\n",
      "    return _bootstrap._gcd_import(name[level:], package, level)\n",
      "  File \"<frozen importlib._bootstrap>\", line 1006, in _gcd_import\n",
      "  File \"<frozen importlib._bootstrap>\", line 983, in _find_and_load\n",
      "  File \"<frozen importlib._bootstrap>\", line 965, in _find_and_load_unlocked\n",
      "ModuleNotFoundError: No module named 'tensorflow_core.estimator'\n"
     ]
    }
   ],
   "source": [
    "import tensorflow as tf\n",
    "from tensorflow.keras import layers, models\n",
    "\n",
    "model = models.Sequential(\n",
    "    layers.LSTM(32, input_shape=(14, 8)),\n",
    "    layers.Dense(1, activation='sigmoid')\n",
    ")\n",
    "model.compile(loss='binary_crossentropy', optimizer='sgd', metrics=keras.metrics.BinaryAccuracy(name='accuracy'))\n",
    "print(model.summary)\n",
    "# print('Hello world!')"
   ]
  },
  {
   "cell_type": "code",
   "execution_count": 2,
   "metadata": {},
   "outputs": [
    {
     "name": "stdout",
     "output_type": "stream",
     "text": [
      "2.1.0\n"
     ]
    }
   ],
   "source": [
    "print(tf.__version__)"
   ]
  },
  {
   "cell_type": "code",
   "execution_count": 14,
   "metadata": {},
   "outputs": [
    {
     "data": {
      "text/plain": [
       "array([ 0.34737535, -0.93513631, -0.87114019, ..., -0.31020072,\n",
       "       -0.85554891,  3.55868584])"
      ]
     },
     "execution_count": 14,
     "metadata": {},
     "output_type": "execute_result"
    }
   ],
   "source": [
    "obj_train = full_data[0][2]\n",
    "obj_train[:, 0, 7]\n",
    "\n"
   ]
  },
  {
   "cell_type": "code",
   "execution_count": 5,
   "metadata": {},
   "outputs": [],
   "source": [
    "for i in range(14):\n",
    "    scaler = StandardScaler()\n",
    "    obj_train[:, i, :] = scaler.fit_transform(obj_train[:, i, :])"
   ]
  },
  {
   "cell_type": "code",
   "execution_count": null,
   "metadata": {},
   "outputs": [],
   "source": []
  },
  {
   "cell_type": "code",
   "execution_count": 20,
   "metadata": {},
   "outputs": [
    {
     "data": {
      "text/plain": [
       "Index(['dataset', 'entry', 'BiasedDPhi', 'DiJet_mass', 'HT',\n",
       "       'InputMet_InputJet_mindPhi', 'InputMet_phi', 'InputMet_pt', 'MHT_phi',\n",
       "       'MHT_pt', 'MinChi', 'MinOmegaHat', 'MinOmegaTilde', 'cleanedJet_area',\n",
       "       'cleanedJet_btagDeepB', 'cleanedJet_chHEF', 'cleanedJet_eta',\n",
       "       'cleanedJet_mass', 'cleanedJet_neHEF', 'cleanedJet_phi',\n",
       "       'cleanedJet_pt', 'hashed_filename', 'ncleanedBJet', 'ncleanedJet',\n",
       "       'weight_nominal', 'xs_weight'],\n",
       "      dtype='object')"
      ]
     },
     "execution_count": 20,
     "metadata": {},
     "output_type": "execute_result"
    }
   ],
   "source": [
    "import pandas as pd\n",
    "\n",
    "dataset = 'ttH125'\n",
    "data = pd.read_hdf(f'/storage/bk17414/ForStudents/2021_CMS_ML/ml_postproc/{dataset}/df_ml_inputs.hd5')\n",
    "data.columns\n",
    "# 8 x 14"
   ]
  },
  {
   "cell_type": "code",
   "execution_count": 18,
   "metadata": {},
   "outputs": [
    {
     "data": {
      "text/plain": [
       "array([[[0.        , 0.        ],\n",
       "        [0.        , 0.        ],\n",
       "        [0.        , 0.        ],\n",
       "        ...,\n",
       "        [0.        , 0.        ],\n",
       "        [0.        , 0.        ],\n",
       "        [0.        , 0.        ]],\n",
       "\n",
       "       [[0.        , 0.        ],\n",
       "        [0.        , 0.        ],\n",
       "        [0.        , 0.        ],\n",
       "        ...,\n",
       "        [0.        , 0.        ],\n",
       "        [0.        , 0.        ],\n",
       "        [0.        , 0.        ]],\n",
       "\n",
       "       [[0.02929688, 0.        ],\n",
       "        [0.        , 0.        ],\n",
       "        [0.        , 0.        ],\n",
       "        ...,\n",
       "        [0.        , 0.        ],\n",
       "        [0.        , 0.        ],\n",
       "        [0.        , 0.        ]],\n",
       "\n",
       "       ...,\n",
       "\n",
       "       [[0.        , 0.        ],\n",
       "        [0.        , 0.        ],\n",
       "        [0.        , 0.        ],\n",
       "        ...,\n",
       "        [0.        , 0.        ],\n",
       "        [0.        , 0.        ],\n",
       "        [0.        , 0.        ]],\n",
       "\n",
       "       [[0.01293945, 0.        ],\n",
       "        [0.        , 0.        ],\n",
       "        [0.        , 0.        ],\n",
       "        ...,\n",
       "        [0.        , 0.        ],\n",
       "        [0.        , 0.        ],\n",
       "        [0.        , 0.        ]],\n",
       "\n",
       "       [[0.        , 0.        ],\n",
       "        [0.        , 0.        ],\n",
       "        [0.        , 0.        ],\n",
       "        ...,\n",
       "        [0.        , 0.        ],\n",
       "        [0.        , 0.        ],\n",
       "        [0.        , 0.        ]]])"
      ]
     },
     "execution_count": 18,
     "metadata": {},
     "output_type": "execute_result"
    }
   ],
   "source": [
    "arr = np.zeros((len(data), 14, 2))\n",
    "arr[:, 0, 0] = data.iloc[:, 18].map(lambda x:x[2] if len(x) > 2 else 0)\n",
    "arr\n"
   ]
  },
  {
   "cell_type": "code",
   "execution_count": 3,
   "metadata": {},
   "outputs": [
    {
     "ename": "NameError",
     "evalue": "name 'data' is not defined",
     "output_type": "error",
     "traceback": [
      "\u001b[0;31m---------------------------------------------------------------------------\u001b[0m",
      "\u001b[0;31mNameError\u001b[0m                                 Traceback (most recent call last)",
      "\u001b[0;32m/tmp/ipykernel_642259/1257337884.py\u001b[0m in \u001b[0;36m<module>\u001b[0;34m\u001b[0m\n\u001b[1;32m      1\u001b[0m \u001b[0;32mfrom\u001b[0m \u001b[0msklearn\u001b[0m\u001b[0;34m.\u001b[0m\u001b[0mmodel_selection\u001b[0m \u001b[0;32mimport\u001b[0m \u001b[0mtrain_test_split\u001b[0m\u001b[0;34m\u001b[0m\u001b[0;34m\u001b[0m\u001b[0m\n\u001b[1;32m      2\u001b[0m \u001b[0;34m\u001b[0m\u001b[0m\n\u001b[0;32m----> 3\u001b[0;31m \u001b[0mX\u001b[0m\u001b[0;34m,\u001b[0m \u001b[0my\u001b[0m \u001b[0;34m=\u001b[0m \u001b[0mdata\u001b[0m\u001b[0;34m.\u001b[0m\u001b[0mdrop\u001b[0m\u001b[0;34m(\u001b[0m\u001b[0;34m'dataset'\u001b[0m\u001b[0;34m,\u001b[0m \u001b[0maxis\u001b[0m\u001b[0;34m=\u001b[0m\u001b[0;36m1\u001b[0m\u001b[0;34m)\u001b[0m\u001b[0;34m,\u001b[0m \u001b[0mdata\u001b[0m\u001b[0;34m[\u001b[0m\u001b[0;34m'dataset'\u001b[0m\u001b[0;34m]\u001b[0m\u001b[0;34m\u001b[0m\u001b[0;34m\u001b[0m\u001b[0m\n\u001b[0m\u001b[1;32m      4\u001b[0m \u001b[0mX_train\u001b[0m\u001b[0;34m,\u001b[0m \u001b[0mX_test\u001b[0m\u001b[0;34m,\u001b[0m \u001b[0my_train\u001b[0m\u001b[0;34m,\u001b[0m \u001b[0my_test\u001b[0m \u001b[0;34m=\u001b[0m \u001b[0mtrain_test_split\u001b[0m\u001b[0;34m(\u001b[0m\u001b[0mX\u001b[0m\u001b[0;34m,\u001b[0m \u001b[0my\u001b[0m\u001b[0;34m,\u001b[0m \u001b[0mtrain_size\u001b[0m\u001b[0;34m=\u001b[0m\u001b[0;36m0.8\u001b[0m\u001b[0;34m,\u001b[0m \u001b[0mstratify\u001b[0m\u001b[0;34m=\u001b[0m\u001b[0my\u001b[0m\u001b[0;34m,\u001b[0m \u001b[0mrandom_state\u001b[0m\u001b[0;34m=\u001b[0m\u001b[0;36m42\u001b[0m\u001b[0;34m)\u001b[0m\u001b[0;34m\u001b[0m\u001b[0;34m\u001b[0m\u001b[0m\n\u001b[1;32m      5\u001b[0m \u001b[0mX_train\u001b[0m\u001b[0;34m.\u001b[0m\u001b[0mshape\u001b[0m\u001b[0;34m\u001b[0m\u001b[0;34m\u001b[0m\u001b[0m\n",
      "\u001b[0;31mNameError\u001b[0m: name 'data' is not defined"
     ]
    }
   ],
   "source": [
    "from sklearn.model_selection import train_test_split\n",
    "\n",
    "X, y = data.drop('dataset', axis=1), data['dataset']\n",
    "X_train, X_test, y_train, y_test = train_test_split(X, y, train_size=0.8, stratify=y, random_state=42)\n",
    "X_train.shape"
   ]
  },
  {
   "cell_type": "code",
   "execution_count": null,
   "metadata": {},
   "outputs": [],
   "source": []
  },
  {
   "cell_type": "markdown",
   "metadata": {},
   "source": [
    "RNN - want sequence of vectors "
   ]
  },
  {
   "cell_type": "code",
   "execution_count": 25,
   "metadata": {},
   "outputs": [
    {
     "name": "stderr",
     "output_type": "stream",
     "text": [
      "/software/ac18804/miniconda3/envs/ml_env/lib/python3.7/site-packages/ipykernel_launcher.py:31: VisibleDeprecationWarning: Creating an ndarray from ragged nested sequences (which is a list-or-tuple of lists-or-tuples-or ndarrays with different lengths or shapes) is deprecated. If you meant to do this, you must specify 'dtype=object' when creating the ndarray\n"
     ]
    }
   ],
   "source": [
    "data, weights = preprocess(['entry', 'hashed_filename', 'weight_nominal', 'InputMet_phi', 'MHT_phi', 'xs_weight', 'cleanedJet_area', 'cleanedJet_eta',\n",
    "'cleanedJet_mass', 'cleanedJet_neHEF', 'cleanedJet_phi', 'cleanedJet_pt', 'cleanedJet_btagDeepB', 'cleanedJet_chHEF'])\n",
    "np.save('full_data_binary', data)\n",
    "np.save('full_data_xs_weights', weights)"
   ]
  }
 ],
 "metadata": {
  "interpreter": {
   "hash": "8a9bcf4578ca583988d8fd57bf5761e33ef08b8742bd2dbd7fdfe8318e87ce13"
  },
  "kernelspec": {
   "display_name": "Python 3.7.11 64-bit ('ml_env': conda)",
   "language": "python",
   "name": "python3"
  },
  "language_info": {
   "codemirror_mode": {
    "name": "ipython",
    "version": 3
   },
   "file_extension": ".py",
   "mimetype": "text/x-python",
   "name": "python",
   "nbconvert_exporter": "python",
   "pygments_lexer": "ipython3",
   "version": "3.7.11"
  },
  "orig_nbformat": 4
 },
 "nbformat": 4,
 "nbformat_minor": 2
}
